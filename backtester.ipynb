{
 "cells": [
  {
   "cell_type": "markdown",
   "id": "433a03ce",
   "metadata": {},
   "source": [
    "# Backtester"
   ]
  },
  {
   "cell_type": "markdown",
   "id": "2d438311",
   "metadata": {},
   "source": [
    "\n",
    "\n",
    "### Setup"
   ]
  },
  {
   "cell_type": "code",
   "execution_count": 162,
   "id": "1fd0ebe3",
   "metadata": {
    "ExecuteTime": {
     "end_time": "2022-02-04T17:44:30.496824Z",
     "start_time": "2022-02-04T17:44:30.446850Z"
    },
    "code_folding": [
     2
    ]
   },
   "outputs": [],
   "source": [
    "import logging\n",
    "from rich.logging import RichHandler\n",
    "logging.basicConfig(format=\"[u]%(funcName)s[/](): %(message)s\",\n",
    "                    datefmt=\"[%x %X]\",\n",
    "                    level=logging.DEBUG,\n",
    "                    force=True,\n",
    "                    handlers=[RichHandler(rich_tracebacks=True,\n",
    "                                          markup=True)])\n",
    "from secrets import *\n",
    "from settings import *\n",
    "from typing import Union\n",
    "from flatten_json import flatten\n",
    "from interpreter import interpret\n",
    "import json\n",
    "import pymt5adapter as mt5\n",
    "import pytz\n",
    "from datetime import datetime, timedelta\n",
    "import numpy as np\n",
    "import time\n",
    "import math\n",
    "import enum\n",
    "\n",
    "from rich.progress import (Progress, BarColumn,\n",
    "                           TimeRemainingColumn, SpinnerColumn)\n",
    "\n",
    "from rich.console import Console\n",
    "from rich import box\n",
    "from rich.table import Table, Column\n",
    "import plotly.express as px\n",
    "import pandas as pd\n",
    "pd.options.mode.chained_assignment = None  # default='warn'\n",
    "\n",
    "log = logging.getLogger()"
   ]
  },
  {
   "cell_type": "code",
   "execution_count": 2,
   "id": "6b8f32a0",
   "metadata": {
    "ExecuteTime": {
     "end_time": "2022-02-04T12:11:32.522151Z",
     "start_time": "2022-02-04T12:11:32.510158Z"
    }
   },
   "outputs": [],
   "source": [
    "mt5_log = logging.getLogger('mt5')\n",
    "mt5_log.setLevel(logging.WARNING)\n",
    "conn = mt5.connected(\n",
    "            path=TERMINAL_PATH,\n",
    "            portable=True,\n",
    "            server=server_mt5,\n",
    "            login=login_mt5,\n",
    "            password=password_mt5,\n",
    "            timeout=5000,\n",
    "            logger=mt5_log, # default is None\n",
    "            ensure_trade_enabled=False,  # default is False\n",
    "            enable_real_trading=True,  # default is False\n",
    "            raise_on_errors=True,  # default is False\n",
    "            return_as_dict=False, # default is False \n",
    "            return_as_native_python_objects=False )"
   ]
  },
  {
   "cell_type": "code",
   "execution_count": 3,
   "id": "fae279c3",
   "metadata": {
    "ExecuteTime": {
     "end_time": "2022-02-04T12:11:32.803977Z",
     "start_time": "2022-02-04T12:11:32.525149Z"
    }
   },
   "outputs": [],
   "source": [
    "FIRST_PARSE_TF = mt5.TIMEFRAME.M30\n",
    "SECOND_PARSE_TF = mt5.TIMEFRAME.M1"
   ]
  },
  {
   "cell_type": "markdown",
   "id": "483be8d0",
   "metadata": {},
   "source": [
    "## Signals Manipulation"
   ]
  },
  {
   "cell_type": "markdown",
   "id": "15db4d4a",
   "metadata": {},
   "source": [
    "### clean_json()"
   ]
  },
  {
   "cell_type": "code",
   "execution_count": 161,
   "id": "4135a77a",
   "metadata": {
    "ExecuteTime": {
     "end_time": "2022-02-04T17:19:44.170878Z",
     "start_time": "2022-02-04T17:19:44.150893Z"
    }
   },
   "outputs": [],
   "source": [
    "def clean_json(json_path, tz_localize=pytz.timezone('Europe/Rome')):\n",
    "    '''Takes in a messy json and cleans it to use it for backtesting'''\n",
    "    \n",
    "    with open(json_path, 'r', encoding=\"utf8\") as f:\n",
    "        data = json.loads(f.read())\n",
    "    \n",
    "    # use flatten module to unnest values\n",
    "    raw_data = [flatten(d) for d in data['messages']]\n",
    "    \n",
    "    # it's easier to manipulate with pandas\n",
    "    df = pd.DataFrame(raw_data)\n",
    "    \n",
    "    # merges different nesting-level texts\n",
    "    text_cols = df.columns.intersection([f'text_{i}' for i in range(0,100)] +\n",
    "                                        [f'text_{i}_text' for i in range(0,100)])\n",
    "    \n",
    "    df['agg_text'] = df.text.fillna('').str.cat(df[text_cols].fillna(''), sep=' ').str.strip()\n",
    "    \n",
    "    # keeps these cols and cleans the rest\n",
    "    necessary_cols=['id', 'date', 'agg_text']\n",
    "    clean_df = df[necessary_cols].copy()\n",
    "    \n",
    "    # drops empty rows\n",
    "    clean_df.drop(clean_df[clean_df['agg_text'].str.strip()==\"\"].index, inplace=True)\n",
    "    clean_df.rename(columns={'agg_text': 'text'}, inplace=True)\n",
    "    \n",
    "    # corrects timestamps\n",
    "    clean_df['date'] = pd.to_datetime(df['date']).dt.tz_localize(tz_localize)\n",
    "    \n",
    "    # resets index\n",
    "    clean_df.reset_index(inplace=True, drop=True)\n",
    "    \n",
    "    # the python dict is a bit faster to iterate over\n",
    "    return clean_df.to_dict(orient='index')"
   ]
  },
  {
   "cell_type": "markdown",
   "id": "738d100d",
   "metadata": {},
   "source": [
    "### Order()"
   ]
  },
  {
   "cell_type": "code",
   "execution_count": 198,
   "id": "d2dd82bc",
   "metadata": {
    "ExecuteTime": {
     "end_time": "2022-02-04T19:14:49.135850Z",
     "start_time": "2022-02-04T19:14:49.114860Z"
    }
   },
   "outputs": [],
   "source": [
    "class Order():\n",
    "    '''The Event class can be anything from a target (SL, TP, BE) \n",
    "    or a time-based event (a close signal, for example). The answer that\n",
    "    the Event class should help answer is \"is this something we need to \n",
    "    investigate?\" If the answer is yes, then you can use an Event to do so'''\n",
    "    def __init__(self,\n",
    "                 time: datetime,\n",
    "                 side: SIDE,\n",
    "                 type_: TYPE,\n",
    "                 price: float = None,\n",
    "                 status: STATUS = None,\n",
    "                 text: str = None):\n",
    "        \n",
    "        self.price = price\n",
    "        self.time = time\n",
    "        self.status = STATUS.PENDING if status is None else status\n",
    "        self.side = side\n",
    "        self.type_ = type_\n",
    "        self.text = text\n",
    "        \n",
    "class MarketOrder(Order):\n",
    "    def __init__(self,\n",
    "                 time: datetime,\n",
    "                 side: SIDE,\n",
    "                 price: float = None,\n",
    "                 text: str = None):\n",
    "        super().__init__(time, side, TYPE.MARKET, price=price, text=text)\n",
    "        \n",
    "class LimitOrder(Order):\n",
    "    def __init__(self,\n",
    "                 time: datetime,\n",
    "                 side: SIDE,\n",
    "                 price: float,\n",
    "                 text: str = None):\n",
    "        super().__init__(time, side, TYPE.LIMIT, price=price, text=text)\n",
    "        \n",
    "class StopOrder(Order):\n",
    "    def __init__(self,\n",
    "                 time: datetime,\n",
    "                 side: SIDE,\n",
    "                 price: float,\n",
    "                 text: str = None):\n",
    "        super().__init__(time, side, TYPE.STOP, price=price, text=text)"
   ]
  },
  {
   "cell_type": "markdown",
   "id": "13f9abeb",
   "metadata": {},
   "source": [
    "### Signal()"
   ]
  },
  {
   "cell_type": "code",
   "execution_count": 199,
   "id": "de17d6a7",
   "metadata": {
    "ExecuteTime": {
     "end_time": "2022-02-04T19:22:29.859461Z",
     "start_time": "2022-02-04T19:22:29.836477Z"
    }
   },
   "outputs": [],
   "source": [
    "class Signal():\n",
    "    \n",
    "    def __init__(self, \n",
    "                 time: datetime,\n",
    "                 text: str,\n",
    "                 side: SIDE,\n",
    "                 sl: float, # when it's initialized there can only be one\n",
    "                 entry: Union[None, float] = None, \n",
    "                 tp: Union[None, float, list] = None):\n",
    "        \n",
    "        self.time = time\n",
    "        self.text = text\n",
    "        self.side = side\n",
    "        # Side(-arg) will turn it into the opposite (buy->sell)\n",
    "        self.sl = [StopOrder(time, SIDE(-side), sl, text)]\n",
    "        \n",
    "        self.tp = []\n",
    "        if tp is not None:\n",
    "            try:\n",
    "                self.tp = [LimitOrder(time, SIDE(-side), x, text=text) for x in tp]\n",
    "            except TypeError:\n",
    "                self.tp = [LimitOrder(time, SIDE(-side), tp, text=text)]\n",
    "        \n",
    "        self.entry = MarketOrder(time, side, text=text)\n",
    "        if entry is not None:\n",
    "            self.entry = LimitOrder(time, side, entry, text=text)"
   ]
  },
  {
   "cell_type": "markdown",
   "id": "31fece3e",
   "metadata": {},
   "source": [
    "### Signals()"
   ]
  },
  {
   "cell_type": "code",
   "execution_count": null,
   "id": "0b68ff14",
   "metadata": {},
   "outputs": [],
   "source": [
    "class Signals():\n",
    "    \n",
    "    def __init__(self):\n",
    "        pass\n",
    "    \n",
    "    def from_json(self, path):\n",
    "        \n",
    "        msgs = clean_json(path)\n",
    "        signals = []\n",
    "        \n",
    "        for msg in msgs:\n",
    "            # calls the interpreter\n",
    "            parsed = interpreter.interpret(msg['text'], msg['date'])\n",
    "            # gets the flag\n",
    "            flag = parsed.get_flag()\n",
    "            if flag in ['limit', 'market']:\n",
    "                signals.append(Order())\n",
    "            \n",
    "            if flag == 'update-tp':\n",
    "                for i, r in enumerate(reversed(signals)):\n",
    "                    if i >= 10: break\n",
    "                    if r.get_flag() in ['limit', 'market']:\n",
    "                        signals[len(signals)-i-1].add_tp(parsed.tp)\n",
    "                        break\n",
    "\n",
    "            signals.append(parsed)\n",
    "\n",
    "        return pd.DataFrame([s.to_dict() for s in signals])"
   ]
  },
  {
   "cell_type": "markdown",
   "id": "b05de330",
   "metadata": {},
   "source": [
    "### get_signals()"
   ]
  },
  {
   "cell_type": "code",
   "execution_count": 6,
   "id": "40f8481c",
   "metadata": {
    "ExecuteTime": {
     "end_time": "2022-02-04T12:11:33.248394Z",
     "start_time": "2022-02-04T12:11:33.109792Z"
    }
   },
   "outputs": [],
   "source": [
    "# filter out no-data and incoherent signals\n",
    "def get_signals(signals_df,\n",
    "                n=slice(0,1e9),\n",
    "                override_tp=[],\n",
    "                override_be=None,\n",
    "                sl_coefficient=1,\n",
    "                ignore_close_signals=False):\n",
    "    \n",
    "    '''This function is responsible for the manipulation of the signals\n",
    "    :param override_tp: changes the list of tps parsed by the interpreter to a custom list (in R)\n",
    "    :param override_be: changes the be parsed by the interpreter to a custom be_set level (in R)\n",
    "    :param sl_coefficient: this will be multiplied by the sl to manipulate the sl parsed by the interpreter\n",
    "    :param ignore_close_signals: deletes the close_call column\n",
    "    Returns a dict'''\n",
    "    \n",
    "    log = logging.getLogger('signals_manipulation')\n",
    "    \n",
    "    log.debug(f'locals(): { {k:v for k, v in locals().items() if k!=\"signals_df\"} }')\n",
    "    values = signals_df.iloc[n].to_dict(orient='index').values()\n",
    "    \n",
    "    if not override_tp:\n",
    "        override_tp = []\n",
    "    if not override_be:\n",
    "        override_be = -1\n",
    "    \n",
    "    ret = []\n",
    "    for i, sig in enumerate(values):\n",
    "        \n",
    "        log.debug(f'manipulating signal n.{i}: {sig}')\n",
    "        \n",
    "        # since the tp and be are modified before the sl is modified,\n",
    "        # the resulting R will be enhanced. E.g.: override_tp=1,\n",
    "        # sl_coefficient=0.9, resulting_tp=(1 / 0.9)= 1.11 > 1\n",
    "        sl_delta = sl_coefficient * abs(sig['entry']-sig['sl'])\n",
    "        be_delta = override_be * abs(sig['entry']-sig['sl'])\n",
    "        \n",
    "        tps = []\n",
    "        for tp in override_tp:\n",
    "            if sig['side'] == 'buy':\n",
    "                tps.append(round(sig['entry'] + tp*abs(sig['entry']-sig['sl']), 5))\n",
    "            else: tps.append(round(sig['entry'] - tp*abs(sig['entry']-sig['sl']), 5))\n",
    "        \n",
    "        if sig['side'] == 'buy':\n",
    "            sl = sig['entry'] - sl_delta\n",
    "            be = sig['entry'] + be_delta\n",
    "        else: \n",
    "            sl = sig['entry'] + sl_delta\n",
    "            be = sig['entry'] - be_delta\n",
    "\n",
    "        sig['sl'] = sl\n",
    "        sig['tp'] = tps if tps else sig['tp']\n",
    "        \n",
    "        if override_be > 0:\n",
    "            sig['be'] = be\n",
    "        \n",
    "        log.debug(f'\\result signal n.{i}: tp={sig[\"tp\"]} sl={sig[\"sl\"]} '\\\n",
    "                  f'be={sig[\"be\"] if \"be\" in sig else \"none\"}')\n",
    "        \n",
    "        ret.append(sig)\n",
    "\n",
    "    return ret"
   ]
  },
  {
   "cell_type": "markdown",
   "id": "15834941",
   "metadata": {},
   "source": [
    "## Date Manipulation"
   ]
  },
  {
   "cell_type": "markdown",
   "id": "a6bd2d41",
   "metadata": {},
   "source": [
    "### localized_date_to_mt5()"
   ]
  },
  {
   "cell_type": "code",
   "execution_count": 7,
   "id": "197acbb7",
   "metadata": {
    "ExecuteTime": {
     "end_time": "2022-02-04T12:11:33.375317Z",
     "start_time": "2022-02-04T12:11:33.252393Z"
    }
   },
   "outputs": [],
   "source": [
    "def localized_date_to_mt5(date):\n",
    "    '''Converts a non-naive date to the format expected by mt5'''\n",
    "    \n",
    "    log = logging.getLogger('date_manipulation')\n",
    "    \n",
    "    # timezones\n",
    "    nytz = pytz.timezone('US/Eastern')\n",
    "    gmt2 = pytz.timezone('Etc/GMT-2')\n",
    "    gmt3 = pytz.timezone('Etc/GMT-3')\n",
    "    \n",
    "    # convert to nytz\n",
    "    nydate = date.astimezone(nytz)\n",
    "\n",
    "    log.debug(f'gmt2: {date.astimezone(gmt2)}')\n",
    "    log.debug(f'gmt3: {date.astimezone(gmt3)}')\n",
    "    log.debug(f'dst: {bool(nydate.dst())}')\n",
    "    \n",
    "    # if date is a Timestamp object, convert to datetime\n",
    "    if isinstance(date, pd.Timestamp):\n",
    "        date = date.to_pydatetime()\n",
    "\n",
    "    # check if it's dst, if it is, assign gmt3\n",
    "    if bool(nydate.dst()):\n",
    "        return date.astimezone(gmt3).replace(tzinfo=pytz.UTC)\n",
    "    else: return date.astimezone(gmt2).replace(tzinfo=pytz.UTC)"
   ]
  },
  {
   "cell_type": "markdown",
   "id": "4737f2ff",
   "metadata": {},
   "source": [
    "### mt5_date_to_utc()"
   ]
  },
  {
   "cell_type": "code",
   "execution_count": 118,
   "id": "50ff782a",
   "metadata": {
    "ExecuteTime": {
     "end_time": "2022-02-04T16:49:15.557450Z",
     "start_time": "2022-02-04T16:49:15.533463Z"
    }
   },
   "outputs": [],
   "source": [
    "def mt5_date_to_utc(data):\n",
    "    '''\n",
    "    Corrects the messy mt5 date policy: takes a naive datetime obj\n",
    "    as input and localizes it based on whether NY is in DST or not\n",
    "    '''\n",
    "    # we use New York timezone as MT5 changes their timezones\n",
    "    # according to the NYSE. We need to detect NY DST changes\n",
    "    nytz = pytz.timezone('US/Eastern')\n",
    "    \n",
    "    # this is REALLY counterintuitive (would expect GMT+2/+3) but here's the explanation\n",
    "    # https://stackoverflow.com/questions/54842491/printing-datetime-as-pytz-timezoneetc-gmt-5-yields-incorrect-result\n",
    "    gmt2 = pytz.timezone('Etc/GMT-2')\n",
    "    gmt3 = pytz.timezone('Etc/GMT-3')\n",
    "    \n",
    "    try:\n",
    "        \n",
    "        date = data\n",
    "        \n",
    "        # localize mt5 date to gmt2 (might be wrong, we don't know yet)\n",
    "        gmt2date = gmt2.localize(date)\n",
    "        gmt3date = gmt3.localize(date)\n",
    "        #log.debug(f'gmt2date: {gmt2date}')\n",
    "        #log.debug(f'gmt3date: {gmt3date}')\n",
    "        \n",
    "        # turn it into ny time\n",
    "        nydate = gmt2date.astimezone(nytz)\n",
    "        #log.debug(f'dst: {bool(nydate.dst())}')\n",
    "        \n",
    "        # check if it's dst, if it is, gmt2 is wrong, return utc\n",
    "        if bool(nydate.dst()):\n",
    "            return gmt3date.astimezone(pytz.utc)\n",
    "        \n",
    "        # if it's not, localize to gmt2 and then return utc\n",
    "        else: return gmt2date.astimezone(pytz.utc)\n",
    "        \n",
    "    except AttributeError:\n",
    "        \n",
    "        # iterates over bar/ticks and adjusts the dates\n",
    "        df = pd.DataFrame(data)\n",
    "        # if df is empty, return it\n",
    "        if df.shape[0] == 0:\n",
    "            return df\n",
    "        # convert time in seconds/ms into the datetime format\n",
    "        df['time'] = pd.to_datetime(df['time'], unit='s')\n",
    "        if 'time_msc' in df.columns:\n",
    "            df['time'] = pd.to_datetime(df['time_msc'], unit='ms')\n",
    "        # applies itself to column\n",
    "        df['time'] = df['time'].map(lambda d: mt5_date_to_utc(d))\n",
    "        \n",
    "        return df"
   ]
  },
  {
   "cell_type": "code",
   "execution_count": 9,
   "id": "4aa2905d",
   "metadata": {
    "ExecuteTime": {
     "end_time": "2022-02-04T12:11:33.946964Z",
     "start_time": "2022-02-04T12:11:33.491245Z"
    }
   },
   "outputs": [
    {
     "data": {
      "text/html": [
       "<pre style=\"white-space:pre;overflow-x:auto;line-height:normal;font-family:Menlo,'DejaVu Sans Mono',consolas,'Courier New',monospace\"><span style=\"color: #7fbfbf; text-decoration-color: #7fbfbf\">[02/04/22 13:11:33] </span><span style=\"color: #008000; text-decoration-color: #008000\">DEBUG   </span> <span style=\"color: #800080; text-decoration-color: #800080; font-weight: bold; text-decoration: underline\">localized_date_to_mt5</span><span style=\"font-weight: bold\">()</span>: gmt2: <span style=\"color: #008080; text-decoration-color: #008080; font-weight: bold\">2021</span>-<span style=\"color: #008080; text-decoration-color: #008080; font-weight: bold\">01</span>-<span style=\"color: #008080; text-decoration-color: #008080; font-weight: bold\">21</span>       <a href=\"file://C:\\Users\\Gabriele\\AppData\\Local\\Temp\\ipykernel_7000\\2920211480.py\"><span style=\"color: #7f7f7f; text-decoration-color: #7f7f7f\">2920211480.py</span></a><span style=\"color: #7f7f7f; text-decoration-color: #7f7f7f\">:</span><a href=\"file://C:\\Users\\Gabriele\\AppData\\Local\\Temp\\ipykernel_7000\\2920211480.py#14\"><span style=\"color: #7f7f7f; text-decoration-color: #7f7f7f\">14</span></a>\n",
       "<span style=\"color: #7fbfbf; text-decoration-color: #7fbfbf\">                    </span>         <span style=\"color: #00ff00; text-decoration-color: #00ff00; font-weight: bold\">23:50:00</span>+<span style=\"color: #00ff00; text-decoration-color: #00ff00; font-weight: bold\">02:00</span>                                  <span style=\"color: #7f7f7f; text-decoration-color: #7f7f7f\">                </span>\n",
       "</pre>\n"
      ],
      "text/plain": [
       "\u001b[2;36m[02/04/22 13:11:33]\u001b[0m\u001b[2;36m \u001b[0m\u001b[32mDEBUG   \u001b[0m \u001b[1;4;35mlocalized_date_to_mt5\u001b[0m\u001b[1m(\u001b[0m\u001b[1m)\u001b[0m: gmt2: \u001b[1;36m2021\u001b[0m-\u001b[1;36m01\u001b[0m-\u001b[1;36m21\u001b[0m       \u001b]8;id=91933;file://C:\\Users\\Gabriele\\AppData\\Local\\Temp\\ipykernel_7000\\2920211480.py\u001b\\\u001b[2m2920211480.py\u001b[0m\u001b]8;;\u001b\\\u001b[2m:\u001b[0m\u001b]8;id=259641;file://C:\\Users\\Gabriele\\AppData\\Local\\Temp\\ipykernel_7000\\2920211480.py#14\u001b\\\u001b[2m14\u001b[0m\u001b]8;;\u001b\\\n",
       "\u001b[2;36m                    \u001b[0m         \u001b[1;92m23:50:00\u001b[0m+\u001b[1;92m02:00\u001b[0m                                  \u001b[2m                \u001b[0m\n"
      ]
     },
     "metadata": {},
     "output_type": "display_data"
    },
    {
     "data": {
      "text/html": [
       "<pre style=\"white-space:pre;overflow-x:auto;line-height:normal;font-family:Menlo,'DejaVu Sans Mono',consolas,'Courier New',monospace\"><span style=\"color: #7fbfbf; text-decoration-color: #7fbfbf\">                    </span><span style=\"color: #008000; text-decoration-color: #008000\">DEBUG   </span> <span style=\"color: #800080; text-decoration-color: #800080; font-weight: bold; text-decoration: underline\">localized_date_to_mt5</span><span style=\"font-weight: bold\">()</span>: gmt3: <span style=\"color: #008080; text-decoration-color: #008080; font-weight: bold\">2021</span>-<span style=\"color: #008080; text-decoration-color: #008080; font-weight: bold\">01</span>-<span style=\"color: #008080; text-decoration-color: #008080; font-weight: bold\">22</span>       <a href=\"file://C:\\Users\\Gabriele\\AppData\\Local\\Temp\\ipykernel_7000\\2920211480.py\"><span style=\"color: #7f7f7f; text-decoration-color: #7f7f7f\">2920211480.py</span></a><span style=\"color: #7f7f7f; text-decoration-color: #7f7f7f\">:</span><a href=\"file://C:\\Users\\Gabriele\\AppData\\Local\\Temp\\ipykernel_7000\\2920211480.py#15\"><span style=\"color: #7f7f7f; text-decoration-color: #7f7f7f\">15</span></a>\n",
       "<span style=\"color: #7fbfbf; text-decoration-color: #7fbfbf\">                    </span>         <span style=\"color: #00ff00; text-decoration-color: #00ff00; font-weight: bold\">00:50:00</span>+<span style=\"color: #00ff00; text-decoration-color: #00ff00; font-weight: bold\">03:00</span>                                  <span style=\"color: #7f7f7f; text-decoration-color: #7f7f7f\">                </span>\n",
       "</pre>\n"
      ],
      "text/plain": [
       "\u001b[2;36m                   \u001b[0m\u001b[2;36m \u001b[0m\u001b[32mDEBUG   \u001b[0m \u001b[1;4;35mlocalized_date_to_mt5\u001b[0m\u001b[1m(\u001b[0m\u001b[1m)\u001b[0m: gmt3: \u001b[1;36m2021\u001b[0m-\u001b[1;36m01\u001b[0m-\u001b[1;36m22\u001b[0m       \u001b]8;id=59226;file://C:\\Users\\Gabriele\\AppData\\Local\\Temp\\ipykernel_7000\\2920211480.py\u001b\\\u001b[2m2920211480.py\u001b[0m\u001b]8;;\u001b\\\u001b[2m:\u001b[0m\u001b]8;id=509748;file://C:\\Users\\Gabriele\\AppData\\Local\\Temp\\ipykernel_7000\\2920211480.py#15\u001b\\\u001b[2m15\u001b[0m\u001b]8;;\u001b\\\n",
       "\u001b[2;36m                    \u001b[0m         \u001b[1;92m00:50:00\u001b[0m+\u001b[1;92m03:00\u001b[0m                                  \u001b[2m                \u001b[0m\n"
      ]
     },
     "metadata": {},
     "output_type": "display_data"
    },
    {
     "data": {
      "text/html": [
       "<pre style=\"white-space:pre;overflow-x:auto;line-height:normal;font-family:Menlo,'DejaVu Sans Mono',consolas,'Courier New',monospace\"><span style=\"color: #7fbfbf; text-decoration-color: #7fbfbf\">                    </span><span style=\"color: #008000; text-decoration-color: #008000\">DEBUG   </span> <span style=\"color: #800080; text-decoration-color: #800080; font-weight: bold; text-decoration: underline\">localized_date_to_mt5</span><span style=\"font-weight: bold\">()</span>: dst: <span style=\"color: #ff0000; text-decoration-color: #ff0000; font-style: italic\">False</span>             <a href=\"file://C:\\Users\\Gabriele\\AppData\\Local\\Temp\\ipykernel_7000\\2920211480.py\"><span style=\"color: #7f7f7f; text-decoration-color: #7f7f7f\">2920211480.py</span></a><span style=\"color: #7f7f7f; text-decoration-color: #7f7f7f\">:</span><a href=\"file://C:\\Users\\Gabriele\\AppData\\Local\\Temp\\ipykernel_7000\\2920211480.py#16\"><span style=\"color: #7f7f7f; text-decoration-color: #7f7f7f\">16</span></a>\n",
       "</pre>\n"
      ],
      "text/plain": [
       "\u001b[2;36m                   \u001b[0m\u001b[2;36m \u001b[0m\u001b[32mDEBUG   \u001b[0m \u001b[1;4;35mlocalized_date_to_mt5\u001b[0m\u001b[1m(\u001b[0m\u001b[1m)\u001b[0m: dst: \u001b[3;91mFalse\u001b[0m             \u001b]8;id=966448;file://C:\\Users\\Gabriele\\AppData\\Local\\Temp\\ipykernel_7000\\2920211480.py\u001b\\\u001b[2m2920211480.py\u001b[0m\u001b]8;;\u001b\\\u001b[2m:\u001b[0m\u001b]8;id=831730;file://C:\\Users\\Gabriele\\AppData\\Local\\Temp\\ipykernel_7000\\2920211480.py#16\u001b\\\u001b[2m16\u001b[0m\u001b]8;;\u001b\\\n"
      ]
     },
     "metadata": {},
     "output_type": "display_data"
    },
    {
     "name": "stdout",
     "output_type": "stream",
     "text": [
      "from_me_to_mt5: 2021-01-21 22:50:00+01:00 -> 2021-01-21 23:50:00+00:00\n",
      "from_mt5_to_utc: 2021-01-21 22:50:00 -> 2021-01-21 20:50:00+00:00\n"
     ]
    }
   ],
   "source": [
    "logging.getLogger('date_manipulation').setLevel(logging.DEBUG)\n",
    "date = datetime(2021, 1, 21, 22, 50)\n",
    "from_me_to_mt5 = pytz.timezone('Europe/Rome').localize(date)\n",
    "result1 = localized_date_to_mt5(from_me_to_mt5)\n",
    "from_mt5_to_me = mt5_date_to_utc(date)\n",
    "print(f'from_me_to_mt5: {from_me_to_mt5} -> {result1}')\n",
    "print(f'from_mt5_to_utc: {date} -> {from_mt5_to_me}')"
   ]
  },
  {
   "cell_type": "markdown",
   "id": "11fa406a",
   "metadata": {},
   "source": [
    "## Backtester Engine"
   ]
  },
  {
   "cell_type": "markdown",
   "id": "a4632ab3",
   "metadata": {},
   "source": [
    "### Target()"
   ]
  },
  {
   "cell_type": "code",
   "execution_count": 10,
   "id": "e37872ae",
   "metadata": {
    "ExecuteTime": {
     "end_time": "2022-02-04T12:11:33.977944Z",
     "start_time": "2022-02-04T12:11:33.952958Z"
    }
   },
   "outputs": [],
   "source": [
    "class Target():\n",
    "    '''This object is just a struct that we'll use to mantain consistency between the different requests'''\n",
    "    \n",
    "    def __init__(self,\n",
    "                 signal: dict, \n",
    "                 category: str,\n",
    "                 side : str,\n",
    "                 level: float):\n",
    "        \n",
    "        self.time = signal['time']\n",
    "        self.ticker = signal['ticker']\n",
    "        self.sl = signal['sl']\n",
    "        self.entry = signal['entry']\n",
    "        self.tp = signal['tp']\n",
    "        self.be = signal['be'] if 'be' in signal else None\n",
    "        self.category = category\n",
    "        self.side = side\n",
    "        self.level = level\n",
    "        self.date_set = None\n",
    "        self.activated = None\n",
    "        \n",
    "        if 'activated' in signal:\n",
    "            self.activated = signal['activated']\n",
    "    \n",
    "    def __str__(self):\n",
    "        return str(self.__class__) + \": \" + str(self.__dict__)\n",
    "    \n",
    "    def set_date(self, date: datetime):\n",
    "        self.date_set = date\n",
    "        \n",
    "    def date(self):\n",
    "        \n",
    "        if self.date_set:\n",
    "            return self.date_set\n",
    "        \n",
    "        # this is very important as it makes sure that if the entry time\n",
    "        # has been found, all of the other methods (mainly find_hit) will use\n",
    "        # the trade activation time as to check for validity, rather than\n",
    "        # the signal time\n",
    "        if self.activated:\n",
    "            return self.activated\n",
    "        \n",
    "        return self.time"
   ]
  },
  {
   "cell_type": "markdown",
   "id": "59c1586c",
   "metadata": {},
   "source": [
    "### copy_rates()"
   ]
  },
  {
   "cell_type": "code",
   "execution_count": 11,
   "id": "55aff0ea",
   "metadata": {
    "ExecuteTime": {
     "end_time": "2022-02-04T12:11:34.185814Z",
     "start_time": "2022-02-04T12:11:33.981942Z"
    }
   },
   "outputs": [],
   "source": [
    "def copy_rates(symbol: str,\n",
    "               timeframe=mt5.TIMEFRAME.H1,\n",
    "               datetime_from: datetime = None,\n",
    "               datetime_to: datetime = None,\n",
    "               start_pos: int = None,\n",
    "               count: int = None, \n",
    "               include_start = True,\n",
    "               include_end = True) -> pd.DataFrame:\n",
    "    \n",
    "    '''Generic function to use keywords to automatically call the correct copy rates function depending on the\n",
    "    keyword args passed in.\n",
    "    :param symbol: Financial instrument name, for example, \"EURUSD\".\n",
    "    :param timeframe: Timeframe the bars are requested for. Set by a value from the TIMEFRAME enumeration.\n",
    "    :param datetime_from: Date of opening of the first bar from the requested sample. Set by the 'datetime'\n",
    "        object or as a number of seconds elapsed since 1970.01.01.\n",
    "    :param datetime_to: Date, up to which the bars are requested. Set by the 'datetime' object or as a number\n",
    "        of seconds elapsed since 1970.01.01. Bars with the open time <= date_to are returned.\n",
    "    :param start_pos: Initial index of the bar the data are requested from. The numbering of bars goes from\n",
    "        present to past. Thus, the zero bar means the current one.\n",
    "    :param count: Number of bars to receive.\n",
    "    :include_start: Makes the result include the candle that cointain datetime_from\n",
    "    :include_end: Makes the result include the candle that cointain datetime_to\n",
    "    :return: Returns the dataframe generated by mt5_date_to_utc(), which is just the datetime adjusted \n",
    "        dataframed based on the nparray that is given by the original copy_rates functions. \n",
    "        Returns None in case of an error. The info on the error can be obtained using last_error().'''\n",
    "\n",
    "    cols = ['time', 'open', 'high', 'low', 'close']\n",
    "    cols_ticks = ['time', 'bid', 'ask']\n",
    "    \n",
    "    try:\n",
    "        for i in range(20):\n",
    "            \n",
    "            if datetime_from is not None:    \n",
    "                \n",
    "                # adjusts the date to feed to mt5\n",
    "                datetime_from_adj = localized_date_to_mt5(datetime_from).timestamp()\n",
    "\n",
    "                if count is not None:\n",
    "                    \n",
    "                    if timeframe == 'ticks':\n",
    "                        rates = mt5.copy_ticks_from(\n",
    "                            symbol, datetime_from_adj, count, mt5.COPY_TICKS_INFO)\n",
    "                    \n",
    "                    else: rates = mt5.copy_rates_from(\n",
    "                        symbol, timeframe, datetime_from_adj, count)\n",
    "\n",
    "                elif datetime_to is not None:\n",
    "                    \n",
    "                    if include_start == True:\n",
    "                        datetime_from -= timedelta(\n",
    "                            seconds = mt5.period_seconds(timeframe) if timeframe != 'ticks' else 0)\n",
    "                    \n",
    "                    if include_end == False: # default behaviour is inclusive\n",
    "                        datetime_to -= timedelta(\n",
    "                            seconds = mt5.period_seconds(timeframe) if timeframe != 'ticks' else 0)\n",
    "                        \n",
    "                    datetime_from_adj = localized_date_to_mt5(datetime_from).timestamp()\n",
    "                    \n",
    "                    # adjusts the date to feed to mt5\n",
    "                    datetime_to_adj = localized_date_to_mt5(datetime_to).timestamp()\n",
    "\n",
    "                    if timeframe == 'ticks':\n",
    "                        rates = mt5.copy_ticks_range(\n",
    "                            symbol, datetime_from_adj, datetime_to_adj, mt5.COPY_TICKS_INFO)\n",
    "                    \n",
    "                    else: rates = mt5.copy_rates_range(\n",
    "                        symbol, timeframe, datetime_from_adj, datetime_to_adj)\n",
    "            \n",
    "            if rates is None:\n",
    "            # there was an error, but pass for now\n",
    "                continue\n",
    "            \n",
    "            if len(rates) > 0:\n",
    "                break\n",
    "            time.sleep(0.1)\n",
    "\n",
    "        if rates is None:\n",
    "        # there was an error\n",
    "            raise ValueError(f'copy_rates() has returned None, mt5.last_error() = {mt5.last_error()}')\n",
    "            \n",
    "        candles = len(rates) if timeframe != 'ticks' else 0\n",
    "        ticks = len(rates) if timeframe == 'ticks' else 0\n",
    "        \n",
    "        # adjusts results and outputs\n",
    "        return ( mt5_date_to_utc(rates)[cols if timeframe != 'ticks' else cols_ticks], \n",
    "                 {'candles':candles, 'ticks':ticks} )\n",
    "\n",
    "        # only count is specified\n",
    "        if all(x is None for x in [datetime_from, datetime_to, start_pos]):\n",
    "            start_pos = 0\n",
    "\n",
    "        for i in range(20):\n",
    "            \n",
    "            if timeframe == 'ticks':\n",
    "                rates = [] # TODO\n",
    "                log.error('bare (nothing specified) copy_rates with timeframe \"ticks\" hasn\\'t been implemented yet')\n",
    "                break\n",
    "            else: rates = mt5.copy_rates_from_pos(symbol, timeframe, start_pos, count)\n",
    "        \n",
    "            if rates is None:\n",
    "            # there was an error, but pass for now\n",
    "                continue\n",
    "\n",
    "            if len(rates) > 0:\n",
    "                break\n",
    "            time.sleep(0.1)\n",
    "\n",
    "        if rates is None:\n",
    "        # there was an error\n",
    "            raise ValueError(f'copy_rates() has returned None, mt5.last_error() = {mt5.last_error()}')\n",
    "        \n",
    "        candles = len(rates) if timeframe != 'ticks' else 0\n",
    "        ticks = len(rates) if timeframe == 'ticks' else 0\n",
    "                \n",
    "        # adjusts results and outputs\n",
    "        return ( mt5_date_to_utc(rates)[cols if timeframe != 'ticks' else cols_ticks], \n",
    "                 {'candles':candles, 'ticks':ticks} )\n",
    "\n",
    "    \n",
    "    \n",
    "    except SystemError:\n",
    "        return None"
   ]
  },
  {
   "cell_type": "markdown",
   "id": "4e8cd345",
   "metadata": {},
   "source": [
    "**Test in order to check whether copy_rates is behaving as supposed**"
   ]
  },
  {
   "cell_type": "code",
   "execution_count": 12,
   "id": "f349c532",
   "metadata": {
    "ExecuteTime": {
     "end_time": "2022-02-04T12:11:34.519616Z",
     "start_time": "2022-02-04T12:11:34.188812Z"
    }
   },
   "outputs": [
    {
     "data": {
      "text/html": [
       "<div>\n",
       "<style scoped>\n",
       "    .dataframe tbody tr th:only-of-type {\n",
       "        vertical-align: middle;\n",
       "    }\n",
       "\n",
       "    .dataframe tbody tr th {\n",
       "        vertical-align: top;\n",
       "    }\n",
       "\n",
       "    .dataframe thead th {\n",
       "        text-align: right;\n",
       "    }\n",
       "</style>\n",
       "<table border=\"1\" class=\"dataframe\">\n",
       "  <thead>\n",
       "    <tr style=\"text-align: right;\">\n",
       "      <th></th>\n",
       "      <th>time</th>\n",
       "      <th>open</th>\n",
       "      <th>high</th>\n",
       "      <th>low</th>\n",
       "      <th>close</th>\n",
       "      <th>timeframe</th>\n",
       "      <th>dst</th>\n",
       "    </tr>\n",
       "  </thead>\n",
       "  <tbody>\n",
       "    <tr>\n",
       "      <th>0</th>\n",
       "      <td>2021-10-21 11:00:00+00:00</td>\n",
       "      <td>157.382</td>\n",
       "      <td>157.721</td>\n",
       "      <td>157.310</td>\n",
       "      <td>157.688</td>\n",
       "      <td>16385</td>\n",
       "      <td>1</td>\n",
       "    </tr>\n",
       "    <tr>\n",
       "      <th>1</th>\n",
       "      <td>2021-09-23 11:00:00+00:00</td>\n",
       "      <td>150.303</td>\n",
       "      <td>150.960</td>\n",
       "      <td>150.154</td>\n",
       "      <td>150.940</td>\n",
       "      <td>16385</td>\n",
       "      <td>1</td>\n",
       "    </tr>\n",
       "    <tr>\n",
       "      <th>2</th>\n",
       "      <td>2021-05-10 06:00:00+00:00</td>\n",
       "      <td>152.826</td>\n",
       "      <td>153.315</td>\n",
       "      <td>152.816</td>\n",
       "      <td>153.264</td>\n",
       "      <td>16385</td>\n",
       "      <td>1</td>\n",
       "    </tr>\n",
       "    <tr>\n",
       "      <th>3</th>\n",
       "      <td>2021-01-26 15:00:00+00:00</td>\n",
       "      <td>142.170</td>\n",
       "      <td>142.456</td>\n",
       "      <td>142.135</td>\n",
       "      <td>142.429</td>\n",
       "      <td>16385</td>\n",
       "      <td>0</td>\n",
       "    </tr>\n",
       "    <tr>\n",
       "      <th>4</th>\n",
       "      <td>2020-10-06 15:00:00+00:00</td>\n",
       "      <td>136.993</td>\n",
       "      <td>137.054</td>\n",
       "      <td>136.705</td>\n",
       "      <td>136.740</td>\n",
       "      <td>16385</td>\n",
       "      <td>1</td>\n",
       "    </tr>\n",
       "    <tr>\n",
       "      <th>5</th>\n",
       "      <td>2022-02-03 12:00:00+00:00</td>\n",
       "      <td>155.775</td>\n",
       "      <td>156.331</td>\n",
       "      <td>155.538</td>\n",
       "      <td>156.180</td>\n",
       "      <td>5</td>\n",
       "      <td>0</td>\n",
       "    </tr>\n",
       "  </tbody>\n",
       "</table>\n",
       "</div>"
      ],
      "text/plain": [
       "                       time     open     high      low    close  timeframe  \\\n",
       "0 2021-10-21 11:00:00+00:00  157.382  157.721  157.310  157.688      16385   \n",
       "1 2021-09-23 11:00:00+00:00  150.303  150.960  150.154  150.940      16385   \n",
       "2 2021-05-10 06:00:00+00:00  152.826  153.315  152.816  153.264      16385   \n",
       "3 2021-01-26 15:00:00+00:00  142.170  142.456  142.135  142.429      16385   \n",
       "4 2020-10-06 15:00:00+00:00  136.993  137.054  136.705  136.740      16385   \n",
       "5 2022-02-03 12:00:00+00:00  155.775  156.331  155.538  156.180          5   \n",
       "\n",
       "   dst  \n",
       "0    1  \n",
       "1    1  \n",
       "2    1  \n",
       "3    0  \n",
       "4    1  \n",
       "5    0  "
      ]
     },
     "execution_count": 12,
     "metadata": {},
     "output_type": "execute_result"
    }
   ],
   "source": [
    "loc = lambda date: pytz.utc.localize(date) \n",
    "\n",
    "check_time  = [loc(datetime(2021, 10, 21, 11)),\n",
    "               loc(datetime(2021, 9, 23, 11)),\n",
    "               loc(datetime(2021, 5, 10, 6)),\n",
    "               loc(datetime(2021, 1, 26, 15)),\n",
    "               loc(datetime(2020, 10, 6, 15)),\n",
    "               loc(datetime(2022, 2, 3, 12))]\n",
    "\n",
    "check_open  = [157.382, 150.303, 152.826, 142.170, 136.993, 155.775]\n",
    "check_high  = [157.721, 150.960, 153.315, 142.456, 137.054, 156.331]\n",
    "check_low   = [157.310, 150.154, 152.816, 142.135, 136.705, 155.538]\n",
    "check_close = [157.688, 150.940, 153.264, 142.429, 136.740, 156.180]\n",
    "\n",
    "H1 = mt5.TIMEFRAME.H1\n",
    "H4 = mt5.TIMEFRAME.H4\n",
    "M5 = mt5.TIMEFRAME.M5\n",
    "\n",
    "tf = [H1, H1, H1, H1, H1, M5]\n",
    "dst = [1, 1, 1, 0, 1, 0]\n",
    "\n",
    "frame = pd.DataFrame({'time': check_time,\n",
    "                      'open': check_open,\n",
    "                      'high': check_high,\n",
    "                      'low': check_low,\n",
    "                      'close': check_close,\n",
    "                      'timeframe': tf,\n",
    "                      'dst': dst})\n",
    "frame"
   ]
  },
  {
   "cell_type": "code",
   "execution_count": 13,
   "id": "7f141dcb",
   "metadata": {
    "ExecuteTime": {
     "end_time": "2022-02-04T12:11:35.870917Z",
     "start_time": "2022-02-04T12:11:34.525606Z"
    },
    "hide_input": false
   },
   "outputs": [
    {
     "data": {
      "text/html": [
       "<pre style=\"white-space:pre;overflow-x:auto;line-height:normal;font-family:Menlo,'DejaVu Sans Mono',consolas,'Courier New',monospace\"><span style=\"color: #7fbfbf; text-decoration-color: #7fbfbf\">[02/04/22 13:11:35] </span><span style=\"color: #008000; text-decoration-color: #008000\">DEBUG   </span> <span style=\"color: #800080; text-decoration-color: #800080; font-weight: bold; text-decoration: underline\">localized_date_to_mt5</span><span style=\"font-weight: bold\">()</span>: gmt2: <span style=\"color: #008080; text-decoration-color: #008080; font-weight: bold\">2021</span>-<span style=\"color: #008080; text-decoration-color: #008080; font-weight: bold\">10</span>-<span style=\"color: #008080; text-decoration-color: #008080; font-weight: bold\">21</span>       <a href=\"file://C:\\Users\\Gabriele\\AppData\\Local\\Temp\\ipykernel_7000\\2920211480.py\"><span style=\"color: #7f7f7f; text-decoration-color: #7f7f7f\">2920211480.py</span></a><span style=\"color: #7f7f7f; text-decoration-color: #7f7f7f\">:</span><a href=\"file://C:\\Users\\Gabriele\\AppData\\Local\\Temp\\ipykernel_7000\\2920211480.py#14\"><span style=\"color: #7f7f7f; text-decoration-color: #7f7f7f\">14</span></a>\n",
       "<span style=\"color: #7fbfbf; text-decoration-color: #7fbfbf\">                    </span>         <span style=\"color: #00ff00; text-decoration-color: #00ff00; font-weight: bold\">13:00:00</span>+<span style=\"color: #00ff00; text-decoration-color: #00ff00; font-weight: bold\">02:00</span>                                  <span style=\"color: #7f7f7f; text-decoration-color: #7f7f7f\">                </span>\n",
       "</pre>\n"
      ],
      "text/plain": [
       "\u001b[2;36m[02/04/22 13:11:35]\u001b[0m\u001b[2;36m \u001b[0m\u001b[32mDEBUG   \u001b[0m \u001b[1;4;35mlocalized_date_to_mt5\u001b[0m\u001b[1m(\u001b[0m\u001b[1m)\u001b[0m: gmt2: \u001b[1;36m2021\u001b[0m-\u001b[1;36m10\u001b[0m-\u001b[1;36m21\u001b[0m       \u001b]8;id=296686;file://C:\\Users\\Gabriele\\AppData\\Local\\Temp\\ipykernel_7000\\2920211480.py\u001b\\\u001b[2m2920211480.py\u001b[0m\u001b]8;;\u001b\\\u001b[2m:\u001b[0m\u001b]8;id=587131;file://C:\\Users\\Gabriele\\AppData\\Local\\Temp\\ipykernel_7000\\2920211480.py#14\u001b\\\u001b[2m14\u001b[0m\u001b]8;;\u001b\\\n",
       "\u001b[2;36m                    \u001b[0m         \u001b[1;92m13:00:00\u001b[0m+\u001b[1;92m02:00\u001b[0m                                  \u001b[2m                \u001b[0m\n"
      ]
     },
     "metadata": {},
     "output_type": "display_data"
    },
    {
     "data": {
      "text/html": [
       "<pre style=\"white-space:pre;overflow-x:auto;line-height:normal;font-family:Menlo,'DejaVu Sans Mono',consolas,'Courier New',monospace\"><span style=\"color: #7fbfbf; text-decoration-color: #7fbfbf\">                    </span><span style=\"color: #008000; text-decoration-color: #008000\">DEBUG   </span> <span style=\"color: #800080; text-decoration-color: #800080; font-weight: bold; text-decoration: underline\">localized_date_to_mt5</span><span style=\"font-weight: bold\">()</span>: gmt3: <span style=\"color: #008080; text-decoration-color: #008080; font-weight: bold\">2021</span>-<span style=\"color: #008080; text-decoration-color: #008080; font-weight: bold\">10</span>-<span style=\"color: #008080; text-decoration-color: #008080; font-weight: bold\">21</span>       <a href=\"file://C:\\Users\\Gabriele\\AppData\\Local\\Temp\\ipykernel_7000\\2920211480.py\"><span style=\"color: #7f7f7f; text-decoration-color: #7f7f7f\">2920211480.py</span></a><span style=\"color: #7f7f7f; text-decoration-color: #7f7f7f\">:</span><a href=\"file://C:\\Users\\Gabriele\\AppData\\Local\\Temp\\ipykernel_7000\\2920211480.py#15\"><span style=\"color: #7f7f7f; text-decoration-color: #7f7f7f\">15</span></a>\n",
       "<span style=\"color: #7fbfbf; text-decoration-color: #7fbfbf\">                    </span>         <span style=\"color: #00ff00; text-decoration-color: #00ff00; font-weight: bold\">14:00:00</span>+<span style=\"color: #00ff00; text-decoration-color: #00ff00; font-weight: bold\">03:00</span>                                  <span style=\"color: #7f7f7f; text-decoration-color: #7f7f7f\">                </span>\n",
       "</pre>\n"
      ],
      "text/plain": [
       "\u001b[2;36m                   \u001b[0m\u001b[2;36m \u001b[0m\u001b[32mDEBUG   \u001b[0m \u001b[1;4;35mlocalized_date_to_mt5\u001b[0m\u001b[1m(\u001b[0m\u001b[1m)\u001b[0m: gmt3: \u001b[1;36m2021\u001b[0m-\u001b[1;36m10\u001b[0m-\u001b[1;36m21\u001b[0m       \u001b]8;id=546680;file://C:\\Users\\Gabriele\\AppData\\Local\\Temp\\ipykernel_7000\\2920211480.py\u001b\\\u001b[2m2920211480.py\u001b[0m\u001b]8;;\u001b\\\u001b[2m:\u001b[0m\u001b]8;id=550916;file://C:\\Users\\Gabriele\\AppData\\Local\\Temp\\ipykernel_7000\\2920211480.py#15\u001b\\\u001b[2m15\u001b[0m\u001b]8;;\u001b\\\n",
       "\u001b[2;36m                    \u001b[0m         \u001b[1;92m14:00:00\u001b[0m+\u001b[1;92m03:00\u001b[0m                                  \u001b[2m                \u001b[0m\n"
      ]
     },
     "metadata": {},
     "output_type": "display_data"
    },
    {
     "data": {
      "text/html": [
       "<pre style=\"white-space:pre;overflow-x:auto;line-height:normal;font-family:Menlo,'DejaVu Sans Mono',consolas,'Courier New',monospace\"><span style=\"color: #7fbfbf; text-decoration-color: #7fbfbf\">                    </span><span style=\"color: #008000; text-decoration-color: #008000\">DEBUG   </span> <span style=\"color: #800080; text-decoration-color: #800080; font-weight: bold; text-decoration: underline\">localized_date_to_mt5</span><span style=\"font-weight: bold\">()</span>: dst: <span style=\"color: #00ff00; text-decoration-color: #00ff00; font-style: italic\">True</span>              <a href=\"file://C:\\Users\\Gabriele\\AppData\\Local\\Temp\\ipykernel_7000\\2920211480.py\"><span style=\"color: #7f7f7f; text-decoration-color: #7f7f7f\">2920211480.py</span></a><span style=\"color: #7f7f7f; text-decoration-color: #7f7f7f\">:</span><a href=\"file://C:\\Users\\Gabriele\\AppData\\Local\\Temp\\ipykernel_7000\\2920211480.py#16\"><span style=\"color: #7f7f7f; text-decoration-color: #7f7f7f\">16</span></a>\n",
       "</pre>\n"
      ],
      "text/plain": [
       "\u001b[2;36m                   \u001b[0m\u001b[2;36m \u001b[0m\u001b[32mDEBUG   \u001b[0m \u001b[1;4;35mlocalized_date_to_mt5\u001b[0m\u001b[1m(\u001b[0m\u001b[1m)\u001b[0m: dst: \u001b[3;92mTrue\u001b[0m              \u001b]8;id=517692;file://C:\\Users\\Gabriele\\AppData\\Local\\Temp\\ipykernel_7000\\2920211480.py\u001b\\\u001b[2m2920211480.py\u001b[0m\u001b]8;;\u001b\\\u001b[2m:\u001b[0m\u001b]8;id=334242;file://C:\\Users\\Gabriele\\AppData\\Local\\Temp\\ipykernel_7000\\2920211480.py#16\u001b\\\u001b[2m16\u001b[0m\u001b]8;;\u001b\\\n"
      ]
     },
     "metadata": {},
     "output_type": "display_data"
    },
    {
     "data": {
      "text/html": [
       "<pre style=\"white-space:pre;overflow-x:auto;line-height:normal;font-family:Menlo,'DejaVu Sans Mono',consolas,'Courier New',monospace\"><span style=\"color: #7fbfbf; text-decoration-color: #7fbfbf\">                    </span><span style=\"color: #008000; text-decoration-color: #008000\">DEBUG   </span> <span style=\"color: #800080; text-decoration-color: #800080; font-weight: bold; text-decoration: underline\">localized_date_to_mt5</span><span style=\"font-weight: bold\">()</span>: gmt2: <span style=\"color: #008080; text-decoration-color: #008080; font-weight: bold\">2021</span>-<span style=\"color: #008080; text-decoration-color: #008080; font-weight: bold\">10</span>-<span style=\"color: #008080; text-decoration-color: #008080; font-weight: bold\">21</span>       <a href=\"file://C:\\Users\\Gabriele\\AppData\\Local\\Temp\\ipykernel_7000\\2920211480.py\"><span style=\"color: #7f7f7f; text-decoration-color: #7f7f7f\">2920211480.py</span></a><span style=\"color: #7f7f7f; text-decoration-color: #7f7f7f\">:</span><a href=\"file://C:\\Users\\Gabriele\\AppData\\Local\\Temp\\ipykernel_7000\\2920211480.py#14\"><span style=\"color: #7f7f7f; text-decoration-color: #7f7f7f\">14</span></a>\n",
       "<span style=\"color: #7fbfbf; text-decoration-color: #7fbfbf\">                    </span>         <span style=\"color: #00ff00; text-decoration-color: #00ff00; font-weight: bold\">13:00:00</span>+<span style=\"color: #00ff00; text-decoration-color: #00ff00; font-weight: bold\">02:00</span>                                  <span style=\"color: #7f7f7f; text-decoration-color: #7f7f7f\">                </span>\n",
       "</pre>\n"
      ],
      "text/plain": [
       "\u001b[2;36m                   \u001b[0m\u001b[2;36m \u001b[0m\u001b[32mDEBUG   \u001b[0m \u001b[1;4;35mlocalized_date_to_mt5\u001b[0m\u001b[1m(\u001b[0m\u001b[1m)\u001b[0m: gmt2: \u001b[1;36m2021\u001b[0m-\u001b[1;36m10\u001b[0m-\u001b[1;36m21\u001b[0m       \u001b]8;id=228758;file://C:\\Users\\Gabriele\\AppData\\Local\\Temp\\ipykernel_7000\\2920211480.py\u001b\\\u001b[2m2920211480.py\u001b[0m\u001b]8;;\u001b\\\u001b[2m:\u001b[0m\u001b]8;id=632003;file://C:\\Users\\Gabriele\\AppData\\Local\\Temp\\ipykernel_7000\\2920211480.py#14\u001b\\\u001b[2m14\u001b[0m\u001b]8;;\u001b\\\n",
       "\u001b[2;36m                    \u001b[0m         \u001b[1;92m13:00:00\u001b[0m+\u001b[1;92m02:00\u001b[0m                                  \u001b[2m                \u001b[0m\n"
      ]
     },
     "metadata": {},
     "output_type": "display_data"
    },
    {
     "data": {
      "text/html": [
       "<pre style=\"white-space:pre;overflow-x:auto;line-height:normal;font-family:Menlo,'DejaVu Sans Mono',consolas,'Courier New',monospace\"><span style=\"color: #7fbfbf; text-decoration-color: #7fbfbf\">                    </span><span style=\"color: #008000; text-decoration-color: #008000\">DEBUG   </span> <span style=\"color: #800080; text-decoration-color: #800080; font-weight: bold; text-decoration: underline\">localized_date_to_mt5</span><span style=\"font-weight: bold\">()</span>: gmt3: <span style=\"color: #008080; text-decoration-color: #008080; font-weight: bold\">2021</span>-<span style=\"color: #008080; text-decoration-color: #008080; font-weight: bold\">10</span>-<span style=\"color: #008080; text-decoration-color: #008080; font-weight: bold\">21</span>       <a href=\"file://C:\\Users\\Gabriele\\AppData\\Local\\Temp\\ipykernel_7000\\2920211480.py\"><span style=\"color: #7f7f7f; text-decoration-color: #7f7f7f\">2920211480.py</span></a><span style=\"color: #7f7f7f; text-decoration-color: #7f7f7f\">:</span><a href=\"file://C:\\Users\\Gabriele\\AppData\\Local\\Temp\\ipykernel_7000\\2920211480.py#15\"><span style=\"color: #7f7f7f; text-decoration-color: #7f7f7f\">15</span></a>\n",
       "<span style=\"color: #7fbfbf; text-decoration-color: #7fbfbf\">                    </span>         <span style=\"color: #00ff00; text-decoration-color: #00ff00; font-weight: bold\">14:00:00</span>+<span style=\"color: #00ff00; text-decoration-color: #00ff00; font-weight: bold\">03:00</span>                                  <span style=\"color: #7f7f7f; text-decoration-color: #7f7f7f\">                </span>\n",
       "</pre>\n"
      ],
      "text/plain": [
       "\u001b[2;36m                   \u001b[0m\u001b[2;36m \u001b[0m\u001b[32mDEBUG   \u001b[0m \u001b[1;4;35mlocalized_date_to_mt5\u001b[0m\u001b[1m(\u001b[0m\u001b[1m)\u001b[0m: gmt3: \u001b[1;36m2021\u001b[0m-\u001b[1;36m10\u001b[0m-\u001b[1;36m21\u001b[0m       \u001b]8;id=285811;file://C:\\Users\\Gabriele\\AppData\\Local\\Temp\\ipykernel_7000\\2920211480.py\u001b\\\u001b[2m2920211480.py\u001b[0m\u001b]8;;\u001b\\\u001b[2m:\u001b[0m\u001b]8;id=79114;file://C:\\Users\\Gabriele\\AppData\\Local\\Temp\\ipykernel_7000\\2920211480.py#15\u001b\\\u001b[2m15\u001b[0m\u001b]8;;\u001b\\\n",
       "\u001b[2;36m                    \u001b[0m         \u001b[1;92m14:00:00\u001b[0m+\u001b[1;92m03:00\u001b[0m                                  \u001b[2m                \u001b[0m\n"
      ]
     },
     "metadata": {},
     "output_type": "display_data"
    },
    {
     "data": {
      "text/html": [
       "<pre style=\"white-space:pre;overflow-x:auto;line-height:normal;font-family:Menlo,'DejaVu Sans Mono',consolas,'Courier New',monospace\"><span style=\"color: #7fbfbf; text-decoration-color: #7fbfbf\">                    </span><span style=\"color: #008000; text-decoration-color: #008000\">DEBUG   </span> <span style=\"color: #800080; text-decoration-color: #800080; font-weight: bold; text-decoration: underline\">localized_date_to_mt5</span><span style=\"font-weight: bold\">()</span>: dst: <span style=\"color: #00ff00; text-decoration-color: #00ff00; font-style: italic\">True</span>              <a href=\"file://C:\\Users\\Gabriele\\AppData\\Local\\Temp\\ipykernel_7000\\2920211480.py\"><span style=\"color: #7f7f7f; text-decoration-color: #7f7f7f\">2920211480.py</span></a><span style=\"color: #7f7f7f; text-decoration-color: #7f7f7f\">:</span><a href=\"file://C:\\Users\\Gabriele\\AppData\\Local\\Temp\\ipykernel_7000\\2920211480.py#16\"><span style=\"color: #7f7f7f; text-decoration-color: #7f7f7f\">16</span></a>\n",
       "</pre>\n"
      ],
      "text/plain": [
       "\u001b[2;36m                   \u001b[0m\u001b[2;36m \u001b[0m\u001b[32mDEBUG   \u001b[0m \u001b[1;4;35mlocalized_date_to_mt5\u001b[0m\u001b[1m(\u001b[0m\u001b[1m)\u001b[0m: dst: \u001b[3;92mTrue\u001b[0m              \u001b]8;id=85564;file://C:\\Users\\Gabriele\\AppData\\Local\\Temp\\ipykernel_7000\\2920211480.py\u001b\\\u001b[2m2920211480.py\u001b[0m\u001b]8;;\u001b\\\u001b[2m:\u001b[0m\u001b]8;id=257900;file://C:\\Users\\Gabriele\\AppData\\Local\\Temp\\ipykernel_7000\\2920211480.py#16\u001b\\\u001b[2m16\u001b[0m\u001b]8;;\u001b\\\n"
      ]
     },
     "metadata": {},
     "output_type": "display_data"
    },
    {
     "data": {
      "text/html": [
       "<pre style=\"white-space:pre;overflow-x:auto;line-height:normal;font-family:Menlo,'DejaVu Sans Mono',consolas,'Courier New',monospace\"><span style=\"color: #7fbfbf; text-decoration-color: #7fbfbf\">                    </span><span style=\"color: #008000; text-decoration-color: #008000\">DEBUG   </span> <span style=\"color: #800080; text-decoration-color: #800080; font-weight: bold; text-decoration: underline\">localized_date_to_mt5</span><span style=\"font-weight: bold\">()</span>: gmt2: <span style=\"color: #008080; text-decoration-color: #008080; font-weight: bold\">2021</span>-<span style=\"color: #008080; text-decoration-color: #008080; font-weight: bold\">10</span>-<span style=\"color: #008080; text-decoration-color: #008080; font-weight: bold\">21</span>       <a href=\"file://C:\\Users\\Gabriele\\AppData\\Local\\Temp\\ipykernel_7000\\2920211480.py\"><span style=\"color: #7f7f7f; text-decoration-color: #7f7f7f\">2920211480.py</span></a><span style=\"color: #7f7f7f; text-decoration-color: #7f7f7f\">:</span><a href=\"file://C:\\Users\\Gabriele\\AppData\\Local\\Temp\\ipykernel_7000\\2920211480.py#14\"><span style=\"color: #7f7f7f; text-decoration-color: #7f7f7f\">14</span></a>\n",
       "<span style=\"color: #7fbfbf; text-decoration-color: #7fbfbf\">                    </span>         <span style=\"color: #00ff00; text-decoration-color: #00ff00; font-weight: bold\">13:59:00</span>+<span style=\"color: #00ff00; text-decoration-color: #00ff00; font-weight: bold\">02:00</span>                                  <span style=\"color: #7f7f7f; text-decoration-color: #7f7f7f\">                </span>\n",
       "</pre>\n"
      ],
      "text/plain": [
       "\u001b[2;36m                   \u001b[0m\u001b[2;36m \u001b[0m\u001b[32mDEBUG   \u001b[0m \u001b[1;4;35mlocalized_date_to_mt5\u001b[0m\u001b[1m(\u001b[0m\u001b[1m)\u001b[0m: gmt2: \u001b[1;36m2021\u001b[0m-\u001b[1;36m10\u001b[0m-\u001b[1;36m21\u001b[0m       \u001b]8;id=89182;file://C:\\Users\\Gabriele\\AppData\\Local\\Temp\\ipykernel_7000\\2920211480.py\u001b\\\u001b[2m2920211480.py\u001b[0m\u001b]8;;\u001b\\\u001b[2m:\u001b[0m\u001b]8;id=290432;file://C:\\Users\\Gabriele\\AppData\\Local\\Temp\\ipykernel_7000\\2920211480.py#14\u001b\\\u001b[2m14\u001b[0m\u001b]8;;\u001b\\\n",
       "\u001b[2;36m                    \u001b[0m         \u001b[1;92m13:59:00\u001b[0m+\u001b[1;92m02:00\u001b[0m                                  \u001b[2m                \u001b[0m\n"
      ]
     },
     "metadata": {},
     "output_type": "display_data"
    },
    {
     "data": {
      "text/html": [
       "<pre style=\"white-space:pre;overflow-x:auto;line-height:normal;font-family:Menlo,'DejaVu Sans Mono',consolas,'Courier New',monospace\"><span style=\"color: #7fbfbf; text-decoration-color: #7fbfbf\">                    </span><span style=\"color: #008000; text-decoration-color: #008000\">DEBUG   </span> <span style=\"color: #800080; text-decoration-color: #800080; font-weight: bold; text-decoration: underline\">localized_date_to_mt5</span><span style=\"font-weight: bold\">()</span>: gmt3: <span style=\"color: #008080; text-decoration-color: #008080; font-weight: bold\">2021</span>-<span style=\"color: #008080; text-decoration-color: #008080; font-weight: bold\">10</span>-<span style=\"color: #008080; text-decoration-color: #008080; font-weight: bold\">21</span>       <a href=\"file://C:\\Users\\Gabriele\\AppData\\Local\\Temp\\ipykernel_7000\\2920211480.py\"><span style=\"color: #7f7f7f; text-decoration-color: #7f7f7f\">2920211480.py</span></a><span style=\"color: #7f7f7f; text-decoration-color: #7f7f7f\">:</span><a href=\"file://C:\\Users\\Gabriele\\AppData\\Local\\Temp\\ipykernel_7000\\2920211480.py#15\"><span style=\"color: #7f7f7f; text-decoration-color: #7f7f7f\">15</span></a>\n",
       "<span style=\"color: #7fbfbf; text-decoration-color: #7fbfbf\">                    </span>         <span style=\"color: #00ff00; text-decoration-color: #00ff00; font-weight: bold\">14:59:00</span>+<span style=\"color: #00ff00; text-decoration-color: #00ff00; font-weight: bold\">03:00</span>                                  <span style=\"color: #7f7f7f; text-decoration-color: #7f7f7f\">                </span>\n",
       "</pre>\n"
      ],
      "text/plain": [
       "\u001b[2;36m                   \u001b[0m\u001b[2;36m \u001b[0m\u001b[32mDEBUG   \u001b[0m \u001b[1;4;35mlocalized_date_to_mt5\u001b[0m\u001b[1m(\u001b[0m\u001b[1m)\u001b[0m: gmt3: \u001b[1;36m2021\u001b[0m-\u001b[1;36m10\u001b[0m-\u001b[1;36m21\u001b[0m       \u001b]8;id=223050;file://C:\\Users\\Gabriele\\AppData\\Local\\Temp\\ipykernel_7000\\2920211480.py\u001b\\\u001b[2m2920211480.py\u001b[0m\u001b]8;;\u001b\\\u001b[2m:\u001b[0m\u001b]8;id=280626;file://C:\\Users\\Gabriele\\AppData\\Local\\Temp\\ipykernel_7000\\2920211480.py#15\u001b\\\u001b[2m15\u001b[0m\u001b]8;;\u001b\\\n",
       "\u001b[2;36m                    \u001b[0m         \u001b[1;92m14:59:00\u001b[0m+\u001b[1;92m03:00\u001b[0m                                  \u001b[2m                \u001b[0m\n"
      ]
     },
     "metadata": {},
     "output_type": "display_data"
    },
    {
     "data": {
      "text/html": [
       "<pre style=\"white-space:pre;overflow-x:auto;line-height:normal;font-family:Menlo,'DejaVu Sans Mono',consolas,'Courier New',monospace\"><span style=\"color: #7fbfbf; text-decoration-color: #7fbfbf\">                    </span><span style=\"color: #008000; text-decoration-color: #008000\">DEBUG   </span> <span style=\"color: #800080; text-decoration-color: #800080; font-weight: bold; text-decoration: underline\">localized_date_to_mt5</span><span style=\"font-weight: bold\">()</span>: dst: <span style=\"color: #00ff00; text-decoration-color: #00ff00; font-style: italic\">True</span>              <a href=\"file://C:\\Users\\Gabriele\\AppData\\Local\\Temp\\ipykernel_7000\\2920211480.py\"><span style=\"color: #7f7f7f; text-decoration-color: #7f7f7f\">2920211480.py</span></a><span style=\"color: #7f7f7f; text-decoration-color: #7f7f7f\">:</span><a href=\"file://C:\\Users\\Gabriele\\AppData\\Local\\Temp\\ipykernel_7000\\2920211480.py#16\"><span style=\"color: #7f7f7f; text-decoration-color: #7f7f7f\">16</span></a>\n",
       "</pre>\n"
      ],
      "text/plain": [
       "\u001b[2;36m                   \u001b[0m\u001b[2;36m \u001b[0m\u001b[32mDEBUG   \u001b[0m \u001b[1;4;35mlocalized_date_to_mt5\u001b[0m\u001b[1m(\u001b[0m\u001b[1m)\u001b[0m: dst: \u001b[3;92mTrue\u001b[0m              \u001b]8;id=751380;file://C:\\Users\\Gabriele\\AppData\\Local\\Temp\\ipykernel_7000\\2920211480.py\u001b\\\u001b[2m2920211480.py\u001b[0m\u001b]8;;\u001b\\\u001b[2m:\u001b[0m\u001b]8;id=973710;file://C:\\Users\\Gabriele\\AppData\\Local\\Temp\\ipykernel_7000\\2920211480.py#16\u001b\\\u001b[2m16\u001b[0m\u001b]8;;\u001b\\\n"
      ]
     },
     "metadata": {},
     "output_type": "display_data"
    },
    {
     "name": "stdout",
     "output_type": "stream",
     "text": [
      "{'candles': 60, 'ticks': 0}\n"
     ]
    },
    {
     "data": {
      "text/html": [
       "<pre style=\"white-space:pre;overflow-x:auto;line-height:normal;font-family:Menlo,'DejaVu Sans Mono',consolas,'Courier New',monospace\"><span style=\"color: #7fbfbf; text-decoration-color: #7fbfbf\">                    </span><span style=\"color: #008000; text-decoration-color: #008000\">DEBUG   </span> <span style=\"color: #800080; text-decoration-color: #800080; font-weight: bold; text-decoration: underline\">localized_date_to_mt5</span><span style=\"font-weight: bold\">()</span>: gmt2: <span style=\"color: #008080; text-decoration-color: #008080; font-weight: bold\">2021</span>-<span style=\"color: #008080; text-decoration-color: #008080; font-weight: bold\">09</span>-<span style=\"color: #008080; text-decoration-color: #008080; font-weight: bold\">23</span>       <a href=\"file://C:\\Users\\Gabriele\\AppData\\Local\\Temp\\ipykernel_7000\\2920211480.py\"><span style=\"color: #7f7f7f; text-decoration-color: #7f7f7f\">2920211480.py</span></a><span style=\"color: #7f7f7f; text-decoration-color: #7f7f7f\">:</span><a href=\"file://C:\\Users\\Gabriele\\AppData\\Local\\Temp\\ipykernel_7000\\2920211480.py#14\"><span style=\"color: #7f7f7f; text-decoration-color: #7f7f7f\">14</span></a>\n",
       "<span style=\"color: #7fbfbf; text-decoration-color: #7fbfbf\">                    </span>         <span style=\"color: #00ff00; text-decoration-color: #00ff00; font-weight: bold\">13:00:00</span>+<span style=\"color: #00ff00; text-decoration-color: #00ff00; font-weight: bold\">02:00</span>                                  <span style=\"color: #7f7f7f; text-decoration-color: #7f7f7f\">                </span>\n",
       "</pre>\n"
      ],
      "text/plain": [
       "\u001b[2;36m                   \u001b[0m\u001b[2;36m \u001b[0m\u001b[32mDEBUG   \u001b[0m \u001b[1;4;35mlocalized_date_to_mt5\u001b[0m\u001b[1m(\u001b[0m\u001b[1m)\u001b[0m: gmt2: \u001b[1;36m2021\u001b[0m-\u001b[1;36m09\u001b[0m-\u001b[1;36m23\u001b[0m       \u001b]8;id=651176;file://C:\\Users\\Gabriele\\AppData\\Local\\Temp\\ipykernel_7000\\2920211480.py\u001b\\\u001b[2m2920211480.py\u001b[0m\u001b]8;;\u001b\\\u001b[2m:\u001b[0m\u001b]8;id=659166;file://C:\\Users\\Gabriele\\AppData\\Local\\Temp\\ipykernel_7000\\2920211480.py#14\u001b\\\u001b[2m14\u001b[0m\u001b]8;;\u001b\\\n",
       "\u001b[2;36m                    \u001b[0m         \u001b[1;92m13:00:00\u001b[0m+\u001b[1;92m02:00\u001b[0m                                  \u001b[2m                \u001b[0m\n"
      ]
     },
     "metadata": {},
     "output_type": "display_data"
    },
    {
     "data": {
      "text/html": [
       "<pre style=\"white-space:pre;overflow-x:auto;line-height:normal;font-family:Menlo,'DejaVu Sans Mono',consolas,'Courier New',monospace\"><span style=\"color: #7fbfbf; text-decoration-color: #7fbfbf\">                    </span><span style=\"color: #008000; text-decoration-color: #008000\">DEBUG   </span> <span style=\"color: #800080; text-decoration-color: #800080; font-weight: bold; text-decoration: underline\">localized_date_to_mt5</span><span style=\"font-weight: bold\">()</span>: gmt3: <span style=\"color: #008080; text-decoration-color: #008080; font-weight: bold\">2021</span>-<span style=\"color: #008080; text-decoration-color: #008080; font-weight: bold\">09</span>-<span style=\"color: #008080; text-decoration-color: #008080; font-weight: bold\">23</span>       <a href=\"file://C:\\Users\\Gabriele\\AppData\\Local\\Temp\\ipykernel_7000\\2920211480.py\"><span style=\"color: #7f7f7f; text-decoration-color: #7f7f7f\">2920211480.py</span></a><span style=\"color: #7f7f7f; text-decoration-color: #7f7f7f\">:</span><a href=\"file://C:\\Users\\Gabriele\\AppData\\Local\\Temp\\ipykernel_7000\\2920211480.py#15\"><span style=\"color: #7f7f7f; text-decoration-color: #7f7f7f\">15</span></a>\n",
       "<span style=\"color: #7fbfbf; text-decoration-color: #7fbfbf\">                    </span>         <span style=\"color: #00ff00; text-decoration-color: #00ff00; font-weight: bold\">14:00:00</span>+<span style=\"color: #00ff00; text-decoration-color: #00ff00; font-weight: bold\">03:00</span>                                  <span style=\"color: #7f7f7f; text-decoration-color: #7f7f7f\">                </span>\n",
       "</pre>\n"
      ],
      "text/plain": [
       "\u001b[2;36m                   \u001b[0m\u001b[2;36m \u001b[0m\u001b[32mDEBUG   \u001b[0m \u001b[1;4;35mlocalized_date_to_mt5\u001b[0m\u001b[1m(\u001b[0m\u001b[1m)\u001b[0m: gmt3: \u001b[1;36m2021\u001b[0m-\u001b[1;36m09\u001b[0m-\u001b[1;36m23\u001b[0m       \u001b]8;id=742940;file://C:\\Users\\Gabriele\\AppData\\Local\\Temp\\ipykernel_7000\\2920211480.py\u001b\\\u001b[2m2920211480.py\u001b[0m\u001b]8;;\u001b\\\u001b[2m:\u001b[0m\u001b]8;id=323979;file://C:\\Users\\Gabriele\\AppData\\Local\\Temp\\ipykernel_7000\\2920211480.py#15\u001b\\\u001b[2m15\u001b[0m\u001b]8;;\u001b\\\n",
       "\u001b[2;36m                    \u001b[0m         \u001b[1;92m14:00:00\u001b[0m+\u001b[1;92m03:00\u001b[0m                                  \u001b[2m                \u001b[0m\n"
      ]
     },
     "metadata": {},
     "output_type": "display_data"
    },
    {
     "data": {
      "text/html": [
       "<pre style=\"white-space:pre;overflow-x:auto;line-height:normal;font-family:Menlo,'DejaVu Sans Mono',consolas,'Courier New',monospace\"><span style=\"color: #7fbfbf; text-decoration-color: #7fbfbf\">                    </span><span style=\"color: #008000; text-decoration-color: #008000\">DEBUG   </span> <span style=\"color: #800080; text-decoration-color: #800080; font-weight: bold; text-decoration: underline\">localized_date_to_mt5</span><span style=\"font-weight: bold\">()</span>: dst: <span style=\"color: #00ff00; text-decoration-color: #00ff00; font-style: italic\">True</span>              <a href=\"file://C:\\Users\\Gabriele\\AppData\\Local\\Temp\\ipykernel_7000\\2920211480.py\"><span style=\"color: #7f7f7f; text-decoration-color: #7f7f7f\">2920211480.py</span></a><span style=\"color: #7f7f7f; text-decoration-color: #7f7f7f\">:</span><a href=\"file://C:\\Users\\Gabriele\\AppData\\Local\\Temp\\ipykernel_7000\\2920211480.py#16\"><span style=\"color: #7f7f7f; text-decoration-color: #7f7f7f\">16</span></a>\n",
       "</pre>\n"
      ],
      "text/plain": [
       "\u001b[2;36m                   \u001b[0m\u001b[2;36m \u001b[0m\u001b[32mDEBUG   \u001b[0m \u001b[1;4;35mlocalized_date_to_mt5\u001b[0m\u001b[1m(\u001b[0m\u001b[1m)\u001b[0m: dst: \u001b[3;92mTrue\u001b[0m              \u001b]8;id=211647;file://C:\\Users\\Gabriele\\AppData\\Local\\Temp\\ipykernel_7000\\2920211480.py\u001b\\\u001b[2m2920211480.py\u001b[0m\u001b]8;;\u001b\\\u001b[2m:\u001b[0m\u001b]8;id=957542;file://C:\\Users\\Gabriele\\AppData\\Local\\Temp\\ipykernel_7000\\2920211480.py#16\u001b\\\u001b[2m16\u001b[0m\u001b]8;;\u001b\\\n"
      ]
     },
     "metadata": {},
     "output_type": "display_data"
    },
    {
     "data": {
      "text/html": [
       "<pre style=\"white-space:pre;overflow-x:auto;line-height:normal;font-family:Menlo,'DejaVu Sans Mono',consolas,'Courier New',monospace\"><span style=\"color: #7fbfbf; text-decoration-color: #7fbfbf\">                    </span><span style=\"color: #008000; text-decoration-color: #008000\">DEBUG   </span> <span style=\"color: #800080; text-decoration-color: #800080; font-weight: bold; text-decoration: underline\">localized_date_to_mt5</span><span style=\"font-weight: bold\">()</span>: gmt2: <span style=\"color: #008080; text-decoration-color: #008080; font-weight: bold\">2021</span>-<span style=\"color: #008080; text-decoration-color: #008080; font-weight: bold\">09</span>-<span style=\"color: #008080; text-decoration-color: #008080; font-weight: bold\">23</span>       <a href=\"file://C:\\Users\\Gabriele\\AppData\\Local\\Temp\\ipykernel_7000\\2920211480.py\"><span style=\"color: #7f7f7f; text-decoration-color: #7f7f7f\">2920211480.py</span></a><span style=\"color: #7f7f7f; text-decoration-color: #7f7f7f\">:</span><a href=\"file://C:\\Users\\Gabriele\\AppData\\Local\\Temp\\ipykernel_7000\\2920211480.py#14\"><span style=\"color: #7f7f7f; text-decoration-color: #7f7f7f\">14</span></a>\n",
       "<span style=\"color: #7fbfbf; text-decoration-color: #7fbfbf\">                    </span>         <span style=\"color: #00ff00; text-decoration-color: #00ff00; font-weight: bold\">13:00:00</span>+<span style=\"color: #00ff00; text-decoration-color: #00ff00; font-weight: bold\">02:00</span>                                  <span style=\"color: #7f7f7f; text-decoration-color: #7f7f7f\">                </span>\n",
       "</pre>\n"
      ],
      "text/plain": [
       "\u001b[2;36m                   \u001b[0m\u001b[2;36m \u001b[0m\u001b[32mDEBUG   \u001b[0m \u001b[1;4;35mlocalized_date_to_mt5\u001b[0m\u001b[1m(\u001b[0m\u001b[1m)\u001b[0m: gmt2: \u001b[1;36m2021\u001b[0m-\u001b[1;36m09\u001b[0m-\u001b[1;36m23\u001b[0m       \u001b]8;id=845168;file://C:\\Users\\Gabriele\\AppData\\Local\\Temp\\ipykernel_7000\\2920211480.py\u001b\\\u001b[2m2920211480.py\u001b[0m\u001b]8;;\u001b\\\u001b[2m:\u001b[0m\u001b]8;id=22382;file://C:\\Users\\Gabriele\\AppData\\Local\\Temp\\ipykernel_7000\\2920211480.py#14\u001b\\\u001b[2m14\u001b[0m\u001b]8;;\u001b\\\n",
       "\u001b[2;36m                    \u001b[0m         \u001b[1;92m13:00:00\u001b[0m+\u001b[1;92m02:00\u001b[0m                                  \u001b[2m                \u001b[0m\n"
      ]
     },
     "metadata": {},
     "output_type": "display_data"
    },
    {
     "data": {
      "text/html": [
       "<pre style=\"white-space:pre;overflow-x:auto;line-height:normal;font-family:Menlo,'DejaVu Sans Mono',consolas,'Courier New',monospace\"><span style=\"color: #7fbfbf; text-decoration-color: #7fbfbf\">                    </span><span style=\"color: #008000; text-decoration-color: #008000\">DEBUG   </span> <span style=\"color: #800080; text-decoration-color: #800080; font-weight: bold; text-decoration: underline\">localized_date_to_mt5</span><span style=\"font-weight: bold\">()</span>: gmt3: <span style=\"color: #008080; text-decoration-color: #008080; font-weight: bold\">2021</span>-<span style=\"color: #008080; text-decoration-color: #008080; font-weight: bold\">09</span>-<span style=\"color: #008080; text-decoration-color: #008080; font-weight: bold\">23</span>       <a href=\"file://C:\\Users\\Gabriele\\AppData\\Local\\Temp\\ipykernel_7000\\2920211480.py\"><span style=\"color: #7f7f7f; text-decoration-color: #7f7f7f\">2920211480.py</span></a><span style=\"color: #7f7f7f; text-decoration-color: #7f7f7f\">:</span><a href=\"file://C:\\Users\\Gabriele\\AppData\\Local\\Temp\\ipykernel_7000\\2920211480.py#15\"><span style=\"color: #7f7f7f; text-decoration-color: #7f7f7f\">15</span></a>\n",
       "<span style=\"color: #7fbfbf; text-decoration-color: #7fbfbf\">                    </span>         <span style=\"color: #00ff00; text-decoration-color: #00ff00; font-weight: bold\">14:00:00</span>+<span style=\"color: #00ff00; text-decoration-color: #00ff00; font-weight: bold\">03:00</span>                                  <span style=\"color: #7f7f7f; text-decoration-color: #7f7f7f\">                </span>\n",
       "</pre>\n"
      ],
      "text/plain": [
       "\u001b[2;36m                   \u001b[0m\u001b[2;36m \u001b[0m\u001b[32mDEBUG   \u001b[0m \u001b[1;4;35mlocalized_date_to_mt5\u001b[0m\u001b[1m(\u001b[0m\u001b[1m)\u001b[0m: gmt3: \u001b[1;36m2021\u001b[0m-\u001b[1;36m09\u001b[0m-\u001b[1;36m23\u001b[0m       \u001b]8;id=764231;file://C:\\Users\\Gabriele\\AppData\\Local\\Temp\\ipykernel_7000\\2920211480.py\u001b\\\u001b[2m2920211480.py\u001b[0m\u001b]8;;\u001b\\\u001b[2m:\u001b[0m\u001b]8;id=981552;file://C:\\Users\\Gabriele\\AppData\\Local\\Temp\\ipykernel_7000\\2920211480.py#15\u001b\\\u001b[2m15\u001b[0m\u001b]8;;\u001b\\\n",
       "\u001b[2;36m                    \u001b[0m         \u001b[1;92m14:00:00\u001b[0m+\u001b[1;92m03:00\u001b[0m                                  \u001b[2m                \u001b[0m\n"
      ]
     },
     "metadata": {},
     "output_type": "display_data"
    },
    {
     "data": {
      "text/html": [
       "<pre style=\"white-space:pre;overflow-x:auto;line-height:normal;font-family:Menlo,'DejaVu Sans Mono',consolas,'Courier New',monospace\"><span style=\"color: #7fbfbf; text-decoration-color: #7fbfbf\">                    </span><span style=\"color: #008000; text-decoration-color: #008000\">DEBUG   </span> <span style=\"color: #800080; text-decoration-color: #800080; font-weight: bold; text-decoration: underline\">localized_date_to_mt5</span><span style=\"font-weight: bold\">()</span>: dst: <span style=\"color: #00ff00; text-decoration-color: #00ff00; font-style: italic\">True</span>              <a href=\"file://C:\\Users\\Gabriele\\AppData\\Local\\Temp\\ipykernel_7000\\2920211480.py\"><span style=\"color: #7f7f7f; text-decoration-color: #7f7f7f\">2920211480.py</span></a><span style=\"color: #7f7f7f; text-decoration-color: #7f7f7f\">:</span><a href=\"file://C:\\Users\\Gabriele\\AppData\\Local\\Temp\\ipykernel_7000\\2920211480.py#16\"><span style=\"color: #7f7f7f; text-decoration-color: #7f7f7f\">16</span></a>\n",
       "</pre>\n"
      ],
      "text/plain": [
       "\u001b[2;36m                   \u001b[0m\u001b[2;36m \u001b[0m\u001b[32mDEBUG   \u001b[0m \u001b[1;4;35mlocalized_date_to_mt5\u001b[0m\u001b[1m(\u001b[0m\u001b[1m)\u001b[0m: dst: \u001b[3;92mTrue\u001b[0m              \u001b]8;id=357588;file://C:\\Users\\Gabriele\\AppData\\Local\\Temp\\ipykernel_7000\\2920211480.py\u001b\\\u001b[2m2920211480.py\u001b[0m\u001b]8;;\u001b\\\u001b[2m:\u001b[0m\u001b]8;id=17275;file://C:\\Users\\Gabriele\\AppData\\Local\\Temp\\ipykernel_7000\\2920211480.py#16\u001b\\\u001b[2m16\u001b[0m\u001b]8;;\u001b\\\n"
      ]
     },
     "metadata": {},
     "output_type": "display_data"
    },
    {
     "data": {
      "text/html": [
       "<pre style=\"white-space:pre;overflow-x:auto;line-height:normal;font-family:Menlo,'DejaVu Sans Mono',consolas,'Courier New',monospace\"><span style=\"color: #7fbfbf; text-decoration-color: #7fbfbf\">                    </span><span style=\"color: #008000; text-decoration-color: #008000\">DEBUG   </span> <span style=\"color: #800080; text-decoration-color: #800080; font-weight: bold; text-decoration: underline\">localized_date_to_mt5</span><span style=\"font-weight: bold\">()</span>: gmt2: <span style=\"color: #008080; text-decoration-color: #008080; font-weight: bold\">2021</span>-<span style=\"color: #008080; text-decoration-color: #008080; font-weight: bold\">09</span>-<span style=\"color: #008080; text-decoration-color: #008080; font-weight: bold\">23</span>       <a href=\"file://C:\\Users\\Gabriele\\AppData\\Local\\Temp\\ipykernel_7000\\2920211480.py\"><span style=\"color: #7f7f7f; text-decoration-color: #7f7f7f\">2920211480.py</span></a><span style=\"color: #7f7f7f; text-decoration-color: #7f7f7f\">:</span><a href=\"file://C:\\Users\\Gabriele\\AppData\\Local\\Temp\\ipykernel_7000\\2920211480.py#14\"><span style=\"color: #7f7f7f; text-decoration-color: #7f7f7f\">14</span></a>\n",
       "<span style=\"color: #7fbfbf; text-decoration-color: #7fbfbf\">                    </span>         <span style=\"color: #00ff00; text-decoration-color: #00ff00; font-weight: bold\">13:59:00</span>+<span style=\"color: #00ff00; text-decoration-color: #00ff00; font-weight: bold\">02:00</span>                                  <span style=\"color: #7f7f7f; text-decoration-color: #7f7f7f\">                </span>\n",
       "</pre>\n"
      ],
      "text/plain": [
       "\u001b[2;36m                   \u001b[0m\u001b[2;36m \u001b[0m\u001b[32mDEBUG   \u001b[0m \u001b[1;4;35mlocalized_date_to_mt5\u001b[0m\u001b[1m(\u001b[0m\u001b[1m)\u001b[0m: gmt2: \u001b[1;36m2021\u001b[0m-\u001b[1;36m09\u001b[0m-\u001b[1;36m23\u001b[0m       \u001b]8;id=874257;file://C:\\Users\\Gabriele\\AppData\\Local\\Temp\\ipykernel_7000\\2920211480.py\u001b\\\u001b[2m2920211480.py\u001b[0m\u001b]8;;\u001b\\\u001b[2m:\u001b[0m\u001b]8;id=338601;file://C:\\Users\\Gabriele\\AppData\\Local\\Temp\\ipykernel_7000\\2920211480.py#14\u001b\\\u001b[2m14\u001b[0m\u001b]8;;\u001b\\\n",
       "\u001b[2;36m                    \u001b[0m         \u001b[1;92m13:59:00\u001b[0m+\u001b[1;92m02:00\u001b[0m                                  \u001b[2m                \u001b[0m\n"
      ]
     },
     "metadata": {},
     "output_type": "display_data"
    },
    {
     "data": {
      "text/html": [
       "<pre style=\"white-space:pre;overflow-x:auto;line-height:normal;font-family:Menlo,'DejaVu Sans Mono',consolas,'Courier New',monospace\"><span style=\"color: #7fbfbf; text-decoration-color: #7fbfbf\">                    </span><span style=\"color: #008000; text-decoration-color: #008000\">DEBUG   </span> <span style=\"color: #800080; text-decoration-color: #800080; font-weight: bold; text-decoration: underline\">localized_date_to_mt5</span><span style=\"font-weight: bold\">()</span>: gmt3: <span style=\"color: #008080; text-decoration-color: #008080; font-weight: bold\">2021</span>-<span style=\"color: #008080; text-decoration-color: #008080; font-weight: bold\">09</span>-<span style=\"color: #008080; text-decoration-color: #008080; font-weight: bold\">23</span>       <a href=\"file://C:\\Users\\Gabriele\\AppData\\Local\\Temp\\ipykernel_7000\\2920211480.py\"><span style=\"color: #7f7f7f; text-decoration-color: #7f7f7f\">2920211480.py</span></a><span style=\"color: #7f7f7f; text-decoration-color: #7f7f7f\">:</span><a href=\"file://C:\\Users\\Gabriele\\AppData\\Local\\Temp\\ipykernel_7000\\2920211480.py#15\"><span style=\"color: #7f7f7f; text-decoration-color: #7f7f7f\">15</span></a>\n",
       "<span style=\"color: #7fbfbf; text-decoration-color: #7fbfbf\">                    </span>         <span style=\"color: #00ff00; text-decoration-color: #00ff00; font-weight: bold\">14:59:00</span>+<span style=\"color: #00ff00; text-decoration-color: #00ff00; font-weight: bold\">03:00</span>                                  <span style=\"color: #7f7f7f; text-decoration-color: #7f7f7f\">                </span>\n",
       "</pre>\n"
      ],
      "text/plain": [
       "\u001b[2;36m                   \u001b[0m\u001b[2;36m \u001b[0m\u001b[32mDEBUG   \u001b[0m \u001b[1;4;35mlocalized_date_to_mt5\u001b[0m\u001b[1m(\u001b[0m\u001b[1m)\u001b[0m: gmt3: \u001b[1;36m2021\u001b[0m-\u001b[1;36m09\u001b[0m-\u001b[1;36m23\u001b[0m       \u001b]8;id=316373;file://C:\\Users\\Gabriele\\AppData\\Local\\Temp\\ipykernel_7000\\2920211480.py\u001b\\\u001b[2m2920211480.py\u001b[0m\u001b]8;;\u001b\\\u001b[2m:\u001b[0m\u001b]8;id=210805;file://C:\\Users\\Gabriele\\AppData\\Local\\Temp\\ipykernel_7000\\2920211480.py#15\u001b\\\u001b[2m15\u001b[0m\u001b]8;;\u001b\\\n",
       "\u001b[2;36m                    \u001b[0m         \u001b[1;92m14:59:00\u001b[0m+\u001b[1;92m03:00\u001b[0m                                  \u001b[2m                \u001b[0m\n"
      ]
     },
     "metadata": {},
     "output_type": "display_data"
    },
    {
     "data": {
      "text/html": [
       "<pre style=\"white-space:pre;overflow-x:auto;line-height:normal;font-family:Menlo,'DejaVu Sans Mono',consolas,'Courier New',monospace\"><span style=\"color: #7fbfbf; text-decoration-color: #7fbfbf\">                    </span><span style=\"color: #008000; text-decoration-color: #008000\">DEBUG   </span> <span style=\"color: #800080; text-decoration-color: #800080; font-weight: bold; text-decoration: underline\">localized_date_to_mt5</span><span style=\"font-weight: bold\">()</span>: dst: <span style=\"color: #00ff00; text-decoration-color: #00ff00; font-style: italic\">True</span>              <a href=\"file://C:\\Users\\Gabriele\\AppData\\Local\\Temp\\ipykernel_7000\\2920211480.py\"><span style=\"color: #7f7f7f; text-decoration-color: #7f7f7f\">2920211480.py</span></a><span style=\"color: #7f7f7f; text-decoration-color: #7f7f7f\">:</span><a href=\"file://C:\\Users\\Gabriele\\AppData\\Local\\Temp\\ipykernel_7000\\2920211480.py#16\"><span style=\"color: #7f7f7f; text-decoration-color: #7f7f7f\">16</span></a>\n",
       "</pre>\n"
      ],
      "text/plain": [
       "\u001b[2;36m                   \u001b[0m\u001b[2;36m \u001b[0m\u001b[32mDEBUG   \u001b[0m \u001b[1;4;35mlocalized_date_to_mt5\u001b[0m\u001b[1m(\u001b[0m\u001b[1m)\u001b[0m: dst: \u001b[3;92mTrue\u001b[0m              \u001b]8;id=178142;file://C:\\Users\\Gabriele\\AppData\\Local\\Temp\\ipykernel_7000\\2920211480.py\u001b\\\u001b[2m2920211480.py\u001b[0m\u001b]8;;\u001b\\\u001b[2m:\u001b[0m\u001b]8;id=713406;file://C:\\Users\\Gabriele\\AppData\\Local\\Temp\\ipykernel_7000\\2920211480.py#16\u001b\\\u001b[2m16\u001b[0m\u001b]8;;\u001b\\\n"
      ]
     },
     "metadata": {},
     "output_type": "display_data"
    },
    {
     "name": "stdout",
     "output_type": "stream",
     "text": [
      "{'candles': 60, 'ticks': 0}\n"
     ]
    },
    {
     "data": {
      "text/html": [
       "<pre style=\"white-space:pre;overflow-x:auto;line-height:normal;font-family:Menlo,'DejaVu Sans Mono',consolas,'Courier New',monospace\"><span style=\"color: #7fbfbf; text-decoration-color: #7fbfbf\">                    </span><span style=\"color: #008000; text-decoration-color: #008000\">DEBUG   </span> <span style=\"color: #800080; text-decoration-color: #800080; font-weight: bold; text-decoration: underline\">localized_date_to_mt5</span><span style=\"font-weight: bold\">()</span>: gmt2: <span style=\"color: #008080; text-decoration-color: #008080; font-weight: bold\">2021</span>-<span style=\"color: #008080; text-decoration-color: #008080; font-weight: bold\">05</span>-<span style=\"color: #008080; text-decoration-color: #008080; font-weight: bold\">10</span>       <a href=\"file://C:\\Users\\Gabriele\\AppData\\Local\\Temp\\ipykernel_7000\\2920211480.py\"><span style=\"color: #7f7f7f; text-decoration-color: #7f7f7f\">2920211480.py</span></a><span style=\"color: #7f7f7f; text-decoration-color: #7f7f7f\">:</span><a href=\"file://C:\\Users\\Gabriele\\AppData\\Local\\Temp\\ipykernel_7000\\2920211480.py#14\"><span style=\"color: #7f7f7f; text-decoration-color: #7f7f7f\">14</span></a>\n",
       "<span style=\"color: #7fbfbf; text-decoration-color: #7fbfbf\">                    </span>         <span style=\"color: #00ff00; text-decoration-color: #00ff00; font-weight: bold\">08:00:00</span>+<span style=\"color: #00ff00; text-decoration-color: #00ff00; font-weight: bold\">02:00</span>                                  <span style=\"color: #7f7f7f; text-decoration-color: #7f7f7f\">                </span>\n",
       "</pre>\n"
      ],
      "text/plain": [
       "\u001b[2;36m                   \u001b[0m\u001b[2;36m \u001b[0m\u001b[32mDEBUG   \u001b[0m \u001b[1;4;35mlocalized_date_to_mt5\u001b[0m\u001b[1m(\u001b[0m\u001b[1m)\u001b[0m: gmt2: \u001b[1;36m2021\u001b[0m-\u001b[1;36m05\u001b[0m-\u001b[1;36m10\u001b[0m       \u001b]8;id=847700;file://C:\\Users\\Gabriele\\AppData\\Local\\Temp\\ipykernel_7000\\2920211480.py\u001b\\\u001b[2m2920211480.py\u001b[0m\u001b]8;;\u001b\\\u001b[2m:\u001b[0m\u001b]8;id=398056;file://C:\\Users\\Gabriele\\AppData\\Local\\Temp\\ipykernel_7000\\2920211480.py#14\u001b\\\u001b[2m14\u001b[0m\u001b]8;;\u001b\\\n",
       "\u001b[2;36m                    \u001b[0m         \u001b[1;92m08:00:00\u001b[0m+\u001b[1;92m02:00\u001b[0m                                  \u001b[2m                \u001b[0m\n"
      ]
     },
     "metadata": {},
     "output_type": "display_data"
    },
    {
     "data": {
      "text/html": [
       "<pre style=\"white-space:pre;overflow-x:auto;line-height:normal;font-family:Menlo,'DejaVu Sans Mono',consolas,'Courier New',monospace\"><span style=\"color: #7fbfbf; text-decoration-color: #7fbfbf\">                    </span><span style=\"color: #008000; text-decoration-color: #008000\">DEBUG   </span> <span style=\"color: #800080; text-decoration-color: #800080; font-weight: bold; text-decoration: underline\">localized_date_to_mt5</span><span style=\"font-weight: bold\">()</span>: gmt3: <span style=\"color: #008080; text-decoration-color: #008080; font-weight: bold\">2021</span>-<span style=\"color: #008080; text-decoration-color: #008080; font-weight: bold\">05</span>-<span style=\"color: #008080; text-decoration-color: #008080; font-weight: bold\">10</span>       <a href=\"file://C:\\Users\\Gabriele\\AppData\\Local\\Temp\\ipykernel_7000\\2920211480.py\"><span style=\"color: #7f7f7f; text-decoration-color: #7f7f7f\">2920211480.py</span></a><span style=\"color: #7f7f7f; text-decoration-color: #7f7f7f\">:</span><a href=\"file://C:\\Users\\Gabriele\\AppData\\Local\\Temp\\ipykernel_7000\\2920211480.py#15\"><span style=\"color: #7f7f7f; text-decoration-color: #7f7f7f\">15</span></a>\n",
       "<span style=\"color: #7fbfbf; text-decoration-color: #7fbfbf\">                    </span>         <span style=\"color: #00ff00; text-decoration-color: #00ff00; font-weight: bold\">09:00:00</span>+<span style=\"color: #00ff00; text-decoration-color: #00ff00; font-weight: bold\">03:00</span>                                  <span style=\"color: #7f7f7f; text-decoration-color: #7f7f7f\">                </span>\n",
       "</pre>\n"
      ],
      "text/plain": [
       "\u001b[2;36m                   \u001b[0m\u001b[2;36m \u001b[0m\u001b[32mDEBUG   \u001b[0m \u001b[1;4;35mlocalized_date_to_mt5\u001b[0m\u001b[1m(\u001b[0m\u001b[1m)\u001b[0m: gmt3: \u001b[1;36m2021\u001b[0m-\u001b[1;36m05\u001b[0m-\u001b[1;36m10\u001b[0m       \u001b]8;id=622424;file://C:\\Users\\Gabriele\\AppData\\Local\\Temp\\ipykernel_7000\\2920211480.py\u001b\\\u001b[2m2920211480.py\u001b[0m\u001b]8;;\u001b\\\u001b[2m:\u001b[0m\u001b]8;id=834622;file://C:\\Users\\Gabriele\\AppData\\Local\\Temp\\ipykernel_7000\\2920211480.py#15\u001b\\\u001b[2m15\u001b[0m\u001b]8;;\u001b\\\n",
       "\u001b[2;36m                    \u001b[0m         \u001b[1;92m09:00:00\u001b[0m+\u001b[1;92m03:00\u001b[0m                                  \u001b[2m                \u001b[0m\n"
      ]
     },
     "metadata": {},
     "output_type": "display_data"
    },
    {
     "data": {
      "text/html": [
       "<pre style=\"white-space:pre;overflow-x:auto;line-height:normal;font-family:Menlo,'DejaVu Sans Mono',consolas,'Courier New',monospace\"><span style=\"color: #7fbfbf; text-decoration-color: #7fbfbf\">                    </span><span style=\"color: #008000; text-decoration-color: #008000\">DEBUG   </span> <span style=\"color: #800080; text-decoration-color: #800080; font-weight: bold; text-decoration: underline\">localized_date_to_mt5</span><span style=\"font-weight: bold\">()</span>: dst: <span style=\"color: #00ff00; text-decoration-color: #00ff00; font-style: italic\">True</span>              <a href=\"file://C:\\Users\\Gabriele\\AppData\\Local\\Temp\\ipykernel_7000\\2920211480.py\"><span style=\"color: #7f7f7f; text-decoration-color: #7f7f7f\">2920211480.py</span></a><span style=\"color: #7f7f7f; text-decoration-color: #7f7f7f\">:</span><a href=\"file://C:\\Users\\Gabriele\\AppData\\Local\\Temp\\ipykernel_7000\\2920211480.py#16\"><span style=\"color: #7f7f7f; text-decoration-color: #7f7f7f\">16</span></a>\n",
       "</pre>\n"
      ],
      "text/plain": [
       "\u001b[2;36m                   \u001b[0m\u001b[2;36m \u001b[0m\u001b[32mDEBUG   \u001b[0m \u001b[1;4;35mlocalized_date_to_mt5\u001b[0m\u001b[1m(\u001b[0m\u001b[1m)\u001b[0m: dst: \u001b[3;92mTrue\u001b[0m              \u001b]8;id=811298;file://C:\\Users\\Gabriele\\AppData\\Local\\Temp\\ipykernel_7000\\2920211480.py\u001b\\\u001b[2m2920211480.py\u001b[0m\u001b]8;;\u001b\\\u001b[2m:\u001b[0m\u001b]8;id=941728;file://C:\\Users\\Gabriele\\AppData\\Local\\Temp\\ipykernel_7000\\2920211480.py#16\u001b\\\u001b[2m16\u001b[0m\u001b]8;;\u001b\\\n"
      ]
     },
     "metadata": {},
     "output_type": "display_data"
    },
    {
     "data": {
      "text/html": [
       "<pre style=\"white-space:pre;overflow-x:auto;line-height:normal;font-family:Menlo,'DejaVu Sans Mono',consolas,'Courier New',monospace\"><span style=\"color: #7fbfbf; text-decoration-color: #7fbfbf\">                    </span><span style=\"color: #008000; text-decoration-color: #008000\">DEBUG   </span> <span style=\"color: #800080; text-decoration-color: #800080; font-weight: bold; text-decoration: underline\">localized_date_to_mt5</span><span style=\"font-weight: bold\">()</span>: gmt2: <span style=\"color: #008080; text-decoration-color: #008080; font-weight: bold\">2021</span>-<span style=\"color: #008080; text-decoration-color: #008080; font-weight: bold\">05</span>-<span style=\"color: #008080; text-decoration-color: #008080; font-weight: bold\">10</span>       <a href=\"file://C:\\Users\\Gabriele\\AppData\\Local\\Temp\\ipykernel_7000\\2920211480.py\"><span style=\"color: #7f7f7f; text-decoration-color: #7f7f7f\">2920211480.py</span></a><span style=\"color: #7f7f7f; text-decoration-color: #7f7f7f\">:</span><a href=\"file://C:\\Users\\Gabriele\\AppData\\Local\\Temp\\ipykernel_7000\\2920211480.py#14\"><span style=\"color: #7f7f7f; text-decoration-color: #7f7f7f\">14</span></a>\n",
       "<span style=\"color: #7fbfbf; text-decoration-color: #7fbfbf\">                    </span>         <span style=\"color: #00ff00; text-decoration-color: #00ff00; font-weight: bold\">08:00:00</span>+<span style=\"color: #00ff00; text-decoration-color: #00ff00; font-weight: bold\">02:00</span>                                  <span style=\"color: #7f7f7f; text-decoration-color: #7f7f7f\">                </span>\n",
       "</pre>\n"
      ],
      "text/plain": [
       "\u001b[2;36m                   \u001b[0m\u001b[2;36m \u001b[0m\u001b[32mDEBUG   \u001b[0m \u001b[1;4;35mlocalized_date_to_mt5\u001b[0m\u001b[1m(\u001b[0m\u001b[1m)\u001b[0m: gmt2: \u001b[1;36m2021\u001b[0m-\u001b[1;36m05\u001b[0m-\u001b[1;36m10\u001b[0m       \u001b]8;id=334895;file://C:\\Users\\Gabriele\\AppData\\Local\\Temp\\ipykernel_7000\\2920211480.py\u001b\\\u001b[2m2920211480.py\u001b[0m\u001b]8;;\u001b\\\u001b[2m:\u001b[0m\u001b]8;id=274633;file://C:\\Users\\Gabriele\\AppData\\Local\\Temp\\ipykernel_7000\\2920211480.py#14\u001b\\\u001b[2m14\u001b[0m\u001b]8;;\u001b\\\n",
       "\u001b[2;36m                    \u001b[0m         \u001b[1;92m08:00:00\u001b[0m+\u001b[1;92m02:00\u001b[0m                                  \u001b[2m                \u001b[0m\n"
      ]
     },
     "metadata": {},
     "output_type": "display_data"
    },
    {
     "data": {
      "text/html": [
       "<pre style=\"white-space:pre;overflow-x:auto;line-height:normal;font-family:Menlo,'DejaVu Sans Mono',consolas,'Courier New',monospace\"><span style=\"color: #7fbfbf; text-decoration-color: #7fbfbf\">                    </span><span style=\"color: #008000; text-decoration-color: #008000\">DEBUG   </span> <span style=\"color: #800080; text-decoration-color: #800080; font-weight: bold; text-decoration: underline\">localized_date_to_mt5</span><span style=\"font-weight: bold\">()</span>: gmt3: <span style=\"color: #008080; text-decoration-color: #008080; font-weight: bold\">2021</span>-<span style=\"color: #008080; text-decoration-color: #008080; font-weight: bold\">05</span>-<span style=\"color: #008080; text-decoration-color: #008080; font-weight: bold\">10</span>       <a href=\"file://C:\\Users\\Gabriele\\AppData\\Local\\Temp\\ipykernel_7000\\2920211480.py\"><span style=\"color: #7f7f7f; text-decoration-color: #7f7f7f\">2920211480.py</span></a><span style=\"color: #7f7f7f; text-decoration-color: #7f7f7f\">:</span><a href=\"file://C:\\Users\\Gabriele\\AppData\\Local\\Temp\\ipykernel_7000\\2920211480.py#15\"><span style=\"color: #7f7f7f; text-decoration-color: #7f7f7f\">15</span></a>\n",
       "<span style=\"color: #7fbfbf; text-decoration-color: #7fbfbf\">                    </span>         <span style=\"color: #00ff00; text-decoration-color: #00ff00; font-weight: bold\">09:00:00</span>+<span style=\"color: #00ff00; text-decoration-color: #00ff00; font-weight: bold\">03:00</span>                                  <span style=\"color: #7f7f7f; text-decoration-color: #7f7f7f\">                </span>\n",
       "</pre>\n"
      ],
      "text/plain": [
       "\u001b[2;36m                   \u001b[0m\u001b[2;36m \u001b[0m\u001b[32mDEBUG   \u001b[0m \u001b[1;4;35mlocalized_date_to_mt5\u001b[0m\u001b[1m(\u001b[0m\u001b[1m)\u001b[0m: gmt3: \u001b[1;36m2021\u001b[0m-\u001b[1;36m05\u001b[0m-\u001b[1;36m10\u001b[0m       \u001b]8;id=921661;file://C:\\Users\\Gabriele\\AppData\\Local\\Temp\\ipykernel_7000\\2920211480.py\u001b\\\u001b[2m2920211480.py\u001b[0m\u001b]8;;\u001b\\\u001b[2m:\u001b[0m\u001b]8;id=442289;file://C:\\Users\\Gabriele\\AppData\\Local\\Temp\\ipykernel_7000\\2920211480.py#15\u001b\\\u001b[2m15\u001b[0m\u001b]8;;\u001b\\\n",
       "\u001b[2;36m                    \u001b[0m         \u001b[1;92m09:00:00\u001b[0m+\u001b[1;92m03:00\u001b[0m                                  \u001b[2m                \u001b[0m\n"
      ]
     },
     "metadata": {},
     "output_type": "display_data"
    },
    {
     "data": {
      "text/html": [
       "<pre style=\"white-space:pre;overflow-x:auto;line-height:normal;font-family:Menlo,'DejaVu Sans Mono',consolas,'Courier New',monospace\"><span style=\"color: #7fbfbf; text-decoration-color: #7fbfbf\">                    </span><span style=\"color: #008000; text-decoration-color: #008000\">DEBUG   </span> <span style=\"color: #800080; text-decoration-color: #800080; font-weight: bold; text-decoration: underline\">localized_date_to_mt5</span><span style=\"font-weight: bold\">()</span>: dst: <span style=\"color: #00ff00; text-decoration-color: #00ff00; font-style: italic\">True</span>              <a href=\"file://C:\\Users\\Gabriele\\AppData\\Local\\Temp\\ipykernel_7000\\2920211480.py\"><span style=\"color: #7f7f7f; text-decoration-color: #7f7f7f\">2920211480.py</span></a><span style=\"color: #7f7f7f; text-decoration-color: #7f7f7f\">:</span><a href=\"file://C:\\Users\\Gabriele\\AppData\\Local\\Temp\\ipykernel_7000\\2920211480.py#16\"><span style=\"color: #7f7f7f; text-decoration-color: #7f7f7f\">16</span></a>\n",
       "</pre>\n"
      ],
      "text/plain": [
       "\u001b[2;36m                   \u001b[0m\u001b[2;36m \u001b[0m\u001b[32mDEBUG   \u001b[0m \u001b[1;4;35mlocalized_date_to_mt5\u001b[0m\u001b[1m(\u001b[0m\u001b[1m)\u001b[0m: dst: \u001b[3;92mTrue\u001b[0m              \u001b]8;id=375612;file://C:\\Users\\Gabriele\\AppData\\Local\\Temp\\ipykernel_7000\\2920211480.py\u001b\\\u001b[2m2920211480.py\u001b[0m\u001b]8;;\u001b\\\u001b[2m:\u001b[0m\u001b]8;id=617765;file://C:\\Users\\Gabriele\\AppData\\Local\\Temp\\ipykernel_7000\\2920211480.py#16\u001b\\\u001b[2m16\u001b[0m\u001b]8;;\u001b\\\n"
      ]
     },
     "metadata": {},
     "output_type": "display_data"
    },
    {
     "data": {
      "text/html": [
       "<pre style=\"white-space:pre;overflow-x:auto;line-height:normal;font-family:Menlo,'DejaVu Sans Mono',consolas,'Courier New',monospace\"><span style=\"color: #7fbfbf; text-decoration-color: #7fbfbf\">                    </span><span style=\"color: #008000; text-decoration-color: #008000\">DEBUG   </span> <span style=\"color: #800080; text-decoration-color: #800080; font-weight: bold; text-decoration: underline\">localized_date_to_mt5</span><span style=\"font-weight: bold\">()</span>: gmt2: <span style=\"color: #008080; text-decoration-color: #008080; font-weight: bold\">2021</span>-<span style=\"color: #008080; text-decoration-color: #008080; font-weight: bold\">05</span>-<span style=\"color: #008080; text-decoration-color: #008080; font-weight: bold\">10</span>       <a href=\"file://C:\\Users\\Gabriele\\AppData\\Local\\Temp\\ipykernel_7000\\2920211480.py\"><span style=\"color: #7f7f7f; text-decoration-color: #7f7f7f\">2920211480.py</span></a><span style=\"color: #7f7f7f; text-decoration-color: #7f7f7f\">:</span><a href=\"file://C:\\Users\\Gabriele\\AppData\\Local\\Temp\\ipykernel_7000\\2920211480.py#14\"><span style=\"color: #7f7f7f; text-decoration-color: #7f7f7f\">14</span></a>\n",
       "<span style=\"color: #7fbfbf; text-decoration-color: #7fbfbf\">                    </span>         <span style=\"color: #00ff00; text-decoration-color: #00ff00; font-weight: bold\">08:59:00</span>+<span style=\"color: #00ff00; text-decoration-color: #00ff00; font-weight: bold\">02:00</span>                                  <span style=\"color: #7f7f7f; text-decoration-color: #7f7f7f\">                </span>\n",
       "</pre>\n"
      ],
      "text/plain": [
       "\u001b[2;36m                   \u001b[0m\u001b[2;36m \u001b[0m\u001b[32mDEBUG   \u001b[0m \u001b[1;4;35mlocalized_date_to_mt5\u001b[0m\u001b[1m(\u001b[0m\u001b[1m)\u001b[0m: gmt2: \u001b[1;36m2021\u001b[0m-\u001b[1;36m05\u001b[0m-\u001b[1;36m10\u001b[0m       \u001b]8;id=575074;file://C:\\Users\\Gabriele\\AppData\\Local\\Temp\\ipykernel_7000\\2920211480.py\u001b\\\u001b[2m2920211480.py\u001b[0m\u001b]8;;\u001b\\\u001b[2m:\u001b[0m\u001b]8;id=483877;file://C:\\Users\\Gabriele\\AppData\\Local\\Temp\\ipykernel_7000\\2920211480.py#14\u001b\\\u001b[2m14\u001b[0m\u001b]8;;\u001b\\\n",
       "\u001b[2;36m                    \u001b[0m         \u001b[1;92m08:59:00\u001b[0m+\u001b[1;92m02:00\u001b[0m                                  \u001b[2m                \u001b[0m\n"
      ]
     },
     "metadata": {},
     "output_type": "display_data"
    },
    {
     "data": {
      "text/html": [
       "<pre style=\"white-space:pre;overflow-x:auto;line-height:normal;font-family:Menlo,'DejaVu Sans Mono',consolas,'Courier New',monospace\"><span style=\"color: #7fbfbf; text-decoration-color: #7fbfbf\">                    </span><span style=\"color: #008000; text-decoration-color: #008000\">DEBUG   </span> <span style=\"color: #800080; text-decoration-color: #800080; font-weight: bold; text-decoration: underline\">localized_date_to_mt5</span><span style=\"font-weight: bold\">()</span>: gmt3: <span style=\"color: #008080; text-decoration-color: #008080; font-weight: bold\">2021</span>-<span style=\"color: #008080; text-decoration-color: #008080; font-weight: bold\">05</span>-<span style=\"color: #008080; text-decoration-color: #008080; font-weight: bold\">10</span>       <a href=\"file://C:\\Users\\Gabriele\\AppData\\Local\\Temp\\ipykernel_7000\\2920211480.py\"><span style=\"color: #7f7f7f; text-decoration-color: #7f7f7f\">2920211480.py</span></a><span style=\"color: #7f7f7f; text-decoration-color: #7f7f7f\">:</span><a href=\"file://C:\\Users\\Gabriele\\AppData\\Local\\Temp\\ipykernel_7000\\2920211480.py#15\"><span style=\"color: #7f7f7f; text-decoration-color: #7f7f7f\">15</span></a>\n",
       "<span style=\"color: #7fbfbf; text-decoration-color: #7fbfbf\">                    </span>         <span style=\"color: #00ff00; text-decoration-color: #00ff00; font-weight: bold\">09:59:00</span>+<span style=\"color: #00ff00; text-decoration-color: #00ff00; font-weight: bold\">03:00</span>                                  <span style=\"color: #7f7f7f; text-decoration-color: #7f7f7f\">                </span>\n",
       "</pre>\n"
      ],
      "text/plain": [
       "\u001b[2;36m                   \u001b[0m\u001b[2;36m \u001b[0m\u001b[32mDEBUG   \u001b[0m \u001b[1;4;35mlocalized_date_to_mt5\u001b[0m\u001b[1m(\u001b[0m\u001b[1m)\u001b[0m: gmt3: \u001b[1;36m2021\u001b[0m-\u001b[1;36m05\u001b[0m-\u001b[1;36m10\u001b[0m       \u001b]8;id=519679;file://C:\\Users\\Gabriele\\AppData\\Local\\Temp\\ipykernel_7000\\2920211480.py\u001b\\\u001b[2m2920211480.py\u001b[0m\u001b]8;;\u001b\\\u001b[2m:\u001b[0m\u001b]8;id=350286;file://C:\\Users\\Gabriele\\AppData\\Local\\Temp\\ipykernel_7000\\2920211480.py#15\u001b\\\u001b[2m15\u001b[0m\u001b]8;;\u001b\\\n",
       "\u001b[2;36m                    \u001b[0m         \u001b[1;92m09:59:00\u001b[0m+\u001b[1;92m03:00\u001b[0m                                  \u001b[2m                \u001b[0m\n"
      ]
     },
     "metadata": {},
     "output_type": "display_data"
    },
    {
     "data": {
      "text/html": [
       "<pre style=\"white-space:pre;overflow-x:auto;line-height:normal;font-family:Menlo,'DejaVu Sans Mono',consolas,'Courier New',monospace\"><span style=\"color: #7fbfbf; text-decoration-color: #7fbfbf\">                    </span><span style=\"color: #008000; text-decoration-color: #008000\">DEBUG   </span> <span style=\"color: #800080; text-decoration-color: #800080; font-weight: bold; text-decoration: underline\">localized_date_to_mt5</span><span style=\"font-weight: bold\">()</span>: dst: <span style=\"color: #00ff00; text-decoration-color: #00ff00; font-style: italic\">True</span>              <a href=\"file://C:\\Users\\Gabriele\\AppData\\Local\\Temp\\ipykernel_7000\\2920211480.py\"><span style=\"color: #7f7f7f; text-decoration-color: #7f7f7f\">2920211480.py</span></a><span style=\"color: #7f7f7f; text-decoration-color: #7f7f7f\">:</span><a href=\"file://C:\\Users\\Gabriele\\AppData\\Local\\Temp\\ipykernel_7000\\2920211480.py#16\"><span style=\"color: #7f7f7f; text-decoration-color: #7f7f7f\">16</span></a>\n",
       "</pre>\n"
      ],
      "text/plain": [
       "\u001b[2;36m                   \u001b[0m\u001b[2;36m \u001b[0m\u001b[32mDEBUG   \u001b[0m \u001b[1;4;35mlocalized_date_to_mt5\u001b[0m\u001b[1m(\u001b[0m\u001b[1m)\u001b[0m: dst: \u001b[3;92mTrue\u001b[0m              \u001b]8;id=28879;file://C:\\Users\\Gabriele\\AppData\\Local\\Temp\\ipykernel_7000\\2920211480.py\u001b\\\u001b[2m2920211480.py\u001b[0m\u001b]8;;\u001b\\\u001b[2m:\u001b[0m\u001b]8;id=302715;file://C:\\Users\\Gabriele\\AppData\\Local\\Temp\\ipykernel_7000\\2920211480.py#16\u001b\\\u001b[2m16\u001b[0m\u001b]8;;\u001b\\\n"
      ]
     },
     "metadata": {},
     "output_type": "display_data"
    },
    {
     "name": "stdout",
     "output_type": "stream",
     "text": [
      "{'candles': 60, 'ticks': 0}\n"
     ]
    },
    {
     "data": {
      "text/html": [
       "<pre style=\"white-space:pre;overflow-x:auto;line-height:normal;font-family:Menlo,'DejaVu Sans Mono',consolas,'Courier New',monospace\"><span style=\"color: #7fbfbf; text-decoration-color: #7fbfbf\">                    </span><span style=\"color: #008000; text-decoration-color: #008000\">DEBUG   </span> <span style=\"color: #800080; text-decoration-color: #800080; font-weight: bold; text-decoration: underline\">localized_date_to_mt5</span><span style=\"font-weight: bold\">()</span>: gmt2: <span style=\"color: #008080; text-decoration-color: #008080; font-weight: bold\">2021</span>-<span style=\"color: #008080; text-decoration-color: #008080; font-weight: bold\">01</span>-<span style=\"color: #008080; text-decoration-color: #008080; font-weight: bold\">26</span>       <a href=\"file://C:\\Users\\Gabriele\\AppData\\Local\\Temp\\ipykernel_7000\\2920211480.py\"><span style=\"color: #7f7f7f; text-decoration-color: #7f7f7f\">2920211480.py</span></a><span style=\"color: #7f7f7f; text-decoration-color: #7f7f7f\">:</span><a href=\"file://C:\\Users\\Gabriele\\AppData\\Local\\Temp\\ipykernel_7000\\2920211480.py#14\"><span style=\"color: #7f7f7f; text-decoration-color: #7f7f7f\">14</span></a>\n",
       "<span style=\"color: #7fbfbf; text-decoration-color: #7fbfbf\">                    </span>         <span style=\"color: #00ff00; text-decoration-color: #00ff00; font-weight: bold\">17:00:00</span>+<span style=\"color: #00ff00; text-decoration-color: #00ff00; font-weight: bold\">02:00</span>                                  <span style=\"color: #7f7f7f; text-decoration-color: #7f7f7f\">                </span>\n",
       "</pre>\n"
      ],
      "text/plain": [
       "\u001b[2;36m                   \u001b[0m\u001b[2;36m \u001b[0m\u001b[32mDEBUG   \u001b[0m \u001b[1;4;35mlocalized_date_to_mt5\u001b[0m\u001b[1m(\u001b[0m\u001b[1m)\u001b[0m: gmt2: \u001b[1;36m2021\u001b[0m-\u001b[1;36m01\u001b[0m-\u001b[1;36m26\u001b[0m       \u001b]8;id=767402;file://C:\\Users\\Gabriele\\AppData\\Local\\Temp\\ipykernel_7000\\2920211480.py\u001b\\\u001b[2m2920211480.py\u001b[0m\u001b]8;;\u001b\\\u001b[2m:\u001b[0m\u001b]8;id=146877;file://C:\\Users\\Gabriele\\AppData\\Local\\Temp\\ipykernel_7000\\2920211480.py#14\u001b\\\u001b[2m14\u001b[0m\u001b]8;;\u001b\\\n",
       "\u001b[2;36m                    \u001b[0m         \u001b[1;92m17:00:00\u001b[0m+\u001b[1;92m02:00\u001b[0m                                  \u001b[2m                \u001b[0m\n"
      ]
     },
     "metadata": {},
     "output_type": "display_data"
    },
    {
     "data": {
      "text/html": [
       "<pre style=\"white-space:pre;overflow-x:auto;line-height:normal;font-family:Menlo,'DejaVu Sans Mono',consolas,'Courier New',monospace\"><span style=\"color: #7fbfbf; text-decoration-color: #7fbfbf\">                    </span><span style=\"color: #008000; text-decoration-color: #008000\">DEBUG   </span> <span style=\"color: #800080; text-decoration-color: #800080; font-weight: bold; text-decoration: underline\">localized_date_to_mt5</span><span style=\"font-weight: bold\">()</span>: gmt3: <span style=\"color: #008080; text-decoration-color: #008080; font-weight: bold\">2021</span>-<span style=\"color: #008080; text-decoration-color: #008080; font-weight: bold\">01</span>-<span style=\"color: #008080; text-decoration-color: #008080; font-weight: bold\">26</span>       <a href=\"file://C:\\Users\\Gabriele\\AppData\\Local\\Temp\\ipykernel_7000\\2920211480.py\"><span style=\"color: #7f7f7f; text-decoration-color: #7f7f7f\">2920211480.py</span></a><span style=\"color: #7f7f7f; text-decoration-color: #7f7f7f\">:</span><a href=\"file://C:\\Users\\Gabriele\\AppData\\Local\\Temp\\ipykernel_7000\\2920211480.py#15\"><span style=\"color: #7f7f7f; text-decoration-color: #7f7f7f\">15</span></a>\n",
       "<span style=\"color: #7fbfbf; text-decoration-color: #7fbfbf\">                    </span>         <span style=\"color: #00ff00; text-decoration-color: #00ff00; font-weight: bold\">18:00:00</span>+<span style=\"color: #00ff00; text-decoration-color: #00ff00; font-weight: bold\">03:00</span>                                  <span style=\"color: #7f7f7f; text-decoration-color: #7f7f7f\">                </span>\n",
       "</pre>\n"
      ],
      "text/plain": [
       "\u001b[2;36m                   \u001b[0m\u001b[2;36m \u001b[0m\u001b[32mDEBUG   \u001b[0m \u001b[1;4;35mlocalized_date_to_mt5\u001b[0m\u001b[1m(\u001b[0m\u001b[1m)\u001b[0m: gmt3: \u001b[1;36m2021\u001b[0m-\u001b[1;36m01\u001b[0m-\u001b[1;36m26\u001b[0m       \u001b]8;id=950542;file://C:\\Users\\Gabriele\\AppData\\Local\\Temp\\ipykernel_7000\\2920211480.py\u001b\\\u001b[2m2920211480.py\u001b[0m\u001b]8;;\u001b\\\u001b[2m:\u001b[0m\u001b]8;id=583799;file://C:\\Users\\Gabriele\\AppData\\Local\\Temp\\ipykernel_7000\\2920211480.py#15\u001b\\\u001b[2m15\u001b[0m\u001b]8;;\u001b\\\n",
       "\u001b[2;36m                    \u001b[0m         \u001b[1;92m18:00:00\u001b[0m+\u001b[1;92m03:00\u001b[0m                                  \u001b[2m                \u001b[0m\n"
      ]
     },
     "metadata": {},
     "output_type": "display_data"
    },
    {
     "data": {
      "text/html": [
       "<pre style=\"white-space:pre;overflow-x:auto;line-height:normal;font-family:Menlo,'DejaVu Sans Mono',consolas,'Courier New',monospace\"><span style=\"color: #7fbfbf; text-decoration-color: #7fbfbf\">                    </span><span style=\"color: #008000; text-decoration-color: #008000\">DEBUG   </span> <span style=\"color: #800080; text-decoration-color: #800080; font-weight: bold; text-decoration: underline\">localized_date_to_mt5</span><span style=\"font-weight: bold\">()</span>: dst: <span style=\"color: #ff0000; text-decoration-color: #ff0000; font-style: italic\">False</span>             <a href=\"file://C:\\Users\\Gabriele\\AppData\\Local\\Temp\\ipykernel_7000\\2920211480.py\"><span style=\"color: #7f7f7f; text-decoration-color: #7f7f7f\">2920211480.py</span></a><span style=\"color: #7f7f7f; text-decoration-color: #7f7f7f\">:</span><a href=\"file://C:\\Users\\Gabriele\\AppData\\Local\\Temp\\ipykernel_7000\\2920211480.py#16\"><span style=\"color: #7f7f7f; text-decoration-color: #7f7f7f\">16</span></a>\n",
       "</pre>\n"
      ],
      "text/plain": [
       "\u001b[2;36m                   \u001b[0m\u001b[2;36m \u001b[0m\u001b[32mDEBUG   \u001b[0m \u001b[1;4;35mlocalized_date_to_mt5\u001b[0m\u001b[1m(\u001b[0m\u001b[1m)\u001b[0m: dst: \u001b[3;91mFalse\u001b[0m             \u001b]8;id=668118;file://C:\\Users\\Gabriele\\AppData\\Local\\Temp\\ipykernel_7000\\2920211480.py\u001b\\\u001b[2m2920211480.py\u001b[0m\u001b]8;;\u001b\\\u001b[2m:\u001b[0m\u001b]8;id=335730;file://C:\\Users\\Gabriele\\AppData\\Local\\Temp\\ipykernel_7000\\2920211480.py#16\u001b\\\u001b[2m16\u001b[0m\u001b]8;;\u001b\\\n"
      ]
     },
     "metadata": {},
     "output_type": "display_data"
    },
    {
     "data": {
      "text/html": [
       "<pre style=\"white-space:pre;overflow-x:auto;line-height:normal;font-family:Menlo,'DejaVu Sans Mono',consolas,'Courier New',monospace\"><span style=\"color: #7fbfbf; text-decoration-color: #7fbfbf\">                    </span><span style=\"color: #008000; text-decoration-color: #008000\">DEBUG   </span> <span style=\"color: #800080; text-decoration-color: #800080; font-weight: bold; text-decoration: underline\">localized_date_to_mt5</span><span style=\"font-weight: bold\">()</span>: gmt2: <span style=\"color: #008080; text-decoration-color: #008080; font-weight: bold\">2021</span>-<span style=\"color: #008080; text-decoration-color: #008080; font-weight: bold\">01</span>-<span style=\"color: #008080; text-decoration-color: #008080; font-weight: bold\">26</span>       <a href=\"file://C:\\Users\\Gabriele\\AppData\\Local\\Temp\\ipykernel_7000\\2920211480.py\"><span style=\"color: #7f7f7f; text-decoration-color: #7f7f7f\">2920211480.py</span></a><span style=\"color: #7f7f7f; text-decoration-color: #7f7f7f\">:</span><a href=\"file://C:\\Users\\Gabriele\\AppData\\Local\\Temp\\ipykernel_7000\\2920211480.py#14\"><span style=\"color: #7f7f7f; text-decoration-color: #7f7f7f\">14</span></a>\n",
       "<span style=\"color: #7fbfbf; text-decoration-color: #7fbfbf\">                    </span>         <span style=\"color: #00ff00; text-decoration-color: #00ff00; font-weight: bold\">17:00:00</span>+<span style=\"color: #00ff00; text-decoration-color: #00ff00; font-weight: bold\">02:00</span>                                  <span style=\"color: #7f7f7f; text-decoration-color: #7f7f7f\">                </span>\n",
       "</pre>\n"
      ],
      "text/plain": [
       "\u001b[2;36m                   \u001b[0m\u001b[2;36m \u001b[0m\u001b[32mDEBUG   \u001b[0m \u001b[1;4;35mlocalized_date_to_mt5\u001b[0m\u001b[1m(\u001b[0m\u001b[1m)\u001b[0m: gmt2: \u001b[1;36m2021\u001b[0m-\u001b[1;36m01\u001b[0m-\u001b[1;36m26\u001b[0m       \u001b]8;id=938351;file://C:\\Users\\Gabriele\\AppData\\Local\\Temp\\ipykernel_7000\\2920211480.py\u001b\\\u001b[2m2920211480.py\u001b[0m\u001b]8;;\u001b\\\u001b[2m:\u001b[0m\u001b]8;id=13063;file://C:\\Users\\Gabriele\\AppData\\Local\\Temp\\ipykernel_7000\\2920211480.py#14\u001b\\\u001b[2m14\u001b[0m\u001b]8;;\u001b\\\n",
       "\u001b[2;36m                    \u001b[0m         \u001b[1;92m17:00:00\u001b[0m+\u001b[1;92m02:00\u001b[0m                                  \u001b[2m                \u001b[0m\n"
      ]
     },
     "metadata": {},
     "output_type": "display_data"
    },
    {
     "data": {
      "text/html": [
       "<pre style=\"white-space:pre;overflow-x:auto;line-height:normal;font-family:Menlo,'DejaVu Sans Mono',consolas,'Courier New',monospace\"><span style=\"color: #7fbfbf; text-decoration-color: #7fbfbf\">                    </span><span style=\"color: #008000; text-decoration-color: #008000\">DEBUG   </span> <span style=\"color: #800080; text-decoration-color: #800080; font-weight: bold; text-decoration: underline\">localized_date_to_mt5</span><span style=\"font-weight: bold\">()</span>: gmt3: <span style=\"color: #008080; text-decoration-color: #008080; font-weight: bold\">2021</span>-<span style=\"color: #008080; text-decoration-color: #008080; font-weight: bold\">01</span>-<span style=\"color: #008080; text-decoration-color: #008080; font-weight: bold\">26</span>       <a href=\"file://C:\\Users\\Gabriele\\AppData\\Local\\Temp\\ipykernel_7000\\2920211480.py\"><span style=\"color: #7f7f7f; text-decoration-color: #7f7f7f\">2920211480.py</span></a><span style=\"color: #7f7f7f; text-decoration-color: #7f7f7f\">:</span><a href=\"file://C:\\Users\\Gabriele\\AppData\\Local\\Temp\\ipykernel_7000\\2920211480.py#15\"><span style=\"color: #7f7f7f; text-decoration-color: #7f7f7f\">15</span></a>\n",
       "<span style=\"color: #7fbfbf; text-decoration-color: #7fbfbf\">                    </span>         <span style=\"color: #00ff00; text-decoration-color: #00ff00; font-weight: bold\">18:00:00</span>+<span style=\"color: #00ff00; text-decoration-color: #00ff00; font-weight: bold\">03:00</span>                                  <span style=\"color: #7f7f7f; text-decoration-color: #7f7f7f\">                </span>\n",
       "</pre>\n"
      ],
      "text/plain": [
       "\u001b[2;36m                   \u001b[0m\u001b[2;36m \u001b[0m\u001b[32mDEBUG   \u001b[0m \u001b[1;4;35mlocalized_date_to_mt5\u001b[0m\u001b[1m(\u001b[0m\u001b[1m)\u001b[0m: gmt3: \u001b[1;36m2021\u001b[0m-\u001b[1;36m01\u001b[0m-\u001b[1;36m26\u001b[0m       \u001b]8;id=370239;file://C:\\Users\\Gabriele\\AppData\\Local\\Temp\\ipykernel_7000\\2920211480.py\u001b\\\u001b[2m2920211480.py\u001b[0m\u001b]8;;\u001b\\\u001b[2m:\u001b[0m\u001b]8;id=508497;file://C:\\Users\\Gabriele\\AppData\\Local\\Temp\\ipykernel_7000\\2920211480.py#15\u001b\\\u001b[2m15\u001b[0m\u001b]8;;\u001b\\\n",
       "\u001b[2;36m                    \u001b[0m         \u001b[1;92m18:00:00\u001b[0m+\u001b[1;92m03:00\u001b[0m                                  \u001b[2m                \u001b[0m\n"
      ]
     },
     "metadata": {},
     "output_type": "display_data"
    },
    {
     "data": {
      "text/html": [
       "<pre style=\"white-space:pre;overflow-x:auto;line-height:normal;font-family:Menlo,'DejaVu Sans Mono',consolas,'Courier New',monospace\"><span style=\"color: #7fbfbf; text-decoration-color: #7fbfbf\">                    </span><span style=\"color: #008000; text-decoration-color: #008000\">DEBUG   </span> <span style=\"color: #800080; text-decoration-color: #800080; font-weight: bold; text-decoration: underline\">localized_date_to_mt5</span><span style=\"font-weight: bold\">()</span>: dst: <span style=\"color: #ff0000; text-decoration-color: #ff0000; font-style: italic\">False</span>             <a href=\"file://C:\\Users\\Gabriele\\AppData\\Local\\Temp\\ipykernel_7000\\2920211480.py\"><span style=\"color: #7f7f7f; text-decoration-color: #7f7f7f\">2920211480.py</span></a><span style=\"color: #7f7f7f; text-decoration-color: #7f7f7f\">:</span><a href=\"file://C:\\Users\\Gabriele\\AppData\\Local\\Temp\\ipykernel_7000\\2920211480.py#16\"><span style=\"color: #7f7f7f; text-decoration-color: #7f7f7f\">16</span></a>\n",
       "</pre>\n"
      ],
      "text/plain": [
       "\u001b[2;36m                   \u001b[0m\u001b[2;36m \u001b[0m\u001b[32mDEBUG   \u001b[0m \u001b[1;4;35mlocalized_date_to_mt5\u001b[0m\u001b[1m(\u001b[0m\u001b[1m)\u001b[0m: dst: \u001b[3;91mFalse\u001b[0m             \u001b]8;id=519587;file://C:\\Users\\Gabriele\\AppData\\Local\\Temp\\ipykernel_7000\\2920211480.py\u001b\\\u001b[2m2920211480.py\u001b[0m\u001b]8;;\u001b\\\u001b[2m:\u001b[0m\u001b]8;id=612771;file://C:\\Users\\Gabriele\\AppData\\Local\\Temp\\ipykernel_7000\\2920211480.py#16\u001b\\\u001b[2m16\u001b[0m\u001b]8;;\u001b\\\n"
      ]
     },
     "metadata": {},
     "output_type": "display_data"
    },
    {
     "data": {
      "text/html": [
       "<pre style=\"white-space:pre;overflow-x:auto;line-height:normal;font-family:Menlo,'DejaVu Sans Mono',consolas,'Courier New',monospace\"><span style=\"color: #7fbfbf; text-decoration-color: #7fbfbf\">                    </span><span style=\"color: #008000; text-decoration-color: #008000\">DEBUG   </span> <span style=\"color: #800080; text-decoration-color: #800080; font-weight: bold; text-decoration: underline\">localized_date_to_mt5</span><span style=\"font-weight: bold\">()</span>: gmt2: <span style=\"color: #008080; text-decoration-color: #008080; font-weight: bold\">2021</span>-<span style=\"color: #008080; text-decoration-color: #008080; font-weight: bold\">01</span>-<span style=\"color: #008080; text-decoration-color: #008080; font-weight: bold\">26</span>       <a href=\"file://C:\\Users\\Gabriele\\AppData\\Local\\Temp\\ipykernel_7000\\2920211480.py\"><span style=\"color: #7f7f7f; text-decoration-color: #7f7f7f\">2920211480.py</span></a><span style=\"color: #7f7f7f; text-decoration-color: #7f7f7f\">:</span><a href=\"file://C:\\Users\\Gabriele\\AppData\\Local\\Temp\\ipykernel_7000\\2920211480.py#14\"><span style=\"color: #7f7f7f; text-decoration-color: #7f7f7f\">14</span></a>\n",
       "<span style=\"color: #7fbfbf; text-decoration-color: #7fbfbf\">                    </span>         <span style=\"color: #00ff00; text-decoration-color: #00ff00; font-weight: bold\">17:59:00</span>+<span style=\"color: #00ff00; text-decoration-color: #00ff00; font-weight: bold\">02:00</span>                                  <span style=\"color: #7f7f7f; text-decoration-color: #7f7f7f\">                </span>\n",
       "</pre>\n"
      ],
      "text/plain": [
       "\u001b[2;36m                   \u001b[0m\u001b[2;36m \u001b[0m\u001b[32mDEBUG   \u001b[0m \u001b[1;4;35mlocalized_date_to_mt5\u001b[0m\u001b[1m(\u001b[0m\u001b[1m)\u001b[0m: gmt2: \u001b[1;36m2021\u001b[0m-\u001b[1;36m01\u001b[0m-\u001b[1;36m26\u001b[0m       \u001b]8;id=398271;file://C:\\Users\\Gabriele\\AppData\\Local\\Temp\\ipykernel_7000\\2920211480.py\u001b\\\u001b[2m2920211480.py\u001b[0m\u001b]8;;\u001b\\\u001b[2m:\u001b[0m\u001b]8;id=477992;file://C:\\Users\\Gabriele\\AppData\\Local\\Temp\\ipykernel_7000\\2920211480.py#14\u001b\\\u001b[2m14\u001b[0m\u001b]8;;\u001b\\\n",
       "\u001b[2;36m                    \u001b[0m         \u001b[1;92m17:59:00\u001b[0m+\u001b[1;92m02:00\u001b[0m                                  \u001b[2m                \u001b[0m\n"
      ]
     },
     "metadata": {},
     "output_type": "display_data"
    },
    {
     "data": {
      "text/html": [
       "<pre style=\"white-space:pre;overflow-x:auto;line-height:normal;font-family:Menlo,'DejaVu Sans Mono',consolas,'Courier New',monospace\"><span style=\"color: #7fbfbf; text-decoration-color: #7fbfbf\">                    </span><span style=\"color: #008000; text-decoration-color: #008000\">DEBUG   </span> <span style=\"color: #800080; text-decoration-color: #800080; font-weight: bold; text-decoration: underline\">localized_date_to_mt5</span><span style=\"font-weight: bold\">()</span>: gmt3: <span style=\"color: #008080; text-decoration-color: #008080; font-weight: bold\">2021</span>-<span style=\"color: #008080; text-decoration-color: #008080; font-weight: bold\">01</span>-<span style=\"color: #008080; text-decoration-color: #008080; font-weight: bold\">26</span>       <a href=\"file://C:\\Users\\Gabriele\\AppData\\Local\\Temp\\ipykernel_7000\\2920211480.py\"><span style=\"color: #7f7f7f; text-decoration-color: #7f7f7f\">2920211480.py</span></a><span style=\"color: #7f7f7f; text-decoration-color: #7f7f7f\">:</span><a href=\"file://C:\\Users\\Gabriele\\AppData\\Local\\Temp\\ipykernel_7000\\2920211480.py#15\"><span style=\"color: #7f7f7f; text-decoration-color: #7f7f7f\">15</span></a>\n",
       "<span style=\"color: #7fbfbf; text-decoration-color: #7fbfbf\">                    </span>         <span style=\"color: #00ff00; text-decoration-color: #00ff00; font-weight: bold\">18:59:00</span>+<span style=\"color: #00ff00; text-decoration-color: #00ff00; font-weight: bold\">03:00</span>                                  <span style=\"color: #7f7f7f; text-decoration-color: #7f7f7f\">                </span>\n",
       "</pre>\n"
      ],
      "text/plain": [
       "\u001b[2;36m                   \u001b[0m\u001b[2;36m \u001b[0m\u001b[32mDEBUG   \u001b[0m \u001b[1;4;35mlocalized_date_to_mt5\u001b[0m\u001b[1m(\u001b[0m\u001b[1m)\u001b[0m: gmt3: \u001b[1;36m2021\u001b[0m-\u001b[1;36m01\u001b[0m-\u001b[1;36m26\u001b[0m       \u001b]8;id=651695;file://C:\\Users\\Gabriele\\AppData\\Local\\Temp\\ipykernel_7000\\2920211480.py\u001b\\\u001b[2m2920211480.py\u001b[0m\u001b]8;;\u001b\\\u001b[2m:\u001b[0m\u001b]8;id=900962;file://C:\\Users\\Gabriele\\AppData\\Local\\Temp\\ipykernel_7000\\2920211480.py#15\u001b\\\u001b[2m15\u001b[0m\u001b]8;;\u001b\\\n",
       "\u001b[2;36m                    \u001b[0m         \u001b[1;92m18:59:00\u001b[0m+\u001b[1;92m03:00\u001b[0m                                  \u001b[2m                \u001b[0m\n"
      ]
     },
     "metadata": {},
     "output_type": "display_data"
    },
    {
     "data": {
      "text/html": [
       "<pre style=\"white-space:pre;overflow-x:auto;line-height:normal;font-family:Menlo,'DejaVu Sans Mono',consolas,'Courier New',monospace\"><span style=\"color: #7fbfbf; text-decoration-color: #7fbfbf\">                    </span><span style=\"color: #008000; text-decoration-color: #008000\">DEBUG   </span> <span style=\"color: #800080; text-decoration-color: #800080; font-weight: bold; text-decoration: underline\">localized_date_to_mt5</span><span style=\"font-weight: bold\">()</span>: dst: <span style=\"color: #ff0000; text-decoration-color: #ff0000; font-style: italic\">False</span>             <a href=\"file://C:\\Users\\Gabriele\\AppData\\Local\\Temp\\ipykernel_7000\\2920211480.py\"><span style=\"color: #7f7f7f; text-decoration-color: #7f7f7f\">2920211480.py</span></a><span style=\"color: #7f7f7f; text-decoration-color: #7f7f7f\">:</span><a href=\"file://C:\\Users\\Gabriele\\AppData\\Local\\Temp\\ipykernel_7000\\2920211480.py#16\"><span style=\"color: #7f7f7f; text-decoration-color: #7f7f7f\">16</span></a>\n",
       "</pre>\n"
      ],
      "text/plain": [
       "\u001b[2;36m                   \u001b[0m\u001b[2;36m \u001b[0m\u001b[32mDEBUG   \u001b[0m \u001b[1;4;35mlocalized_date_to_mt5\u001b[0m\u001b[1m(\u001b[0m\u001b[1m)\u001b[0m: dst: \u001b[3;91mFalse\u001b[0m             \u001b]8;id=957747;file://C:\\Users\\Gabriele\\AppData\\Local\\Temp\\ipykernel_7000\\2920211480.py\u001b\\\u001b[2m2920211480.py\u001b[0m\u001b]8;;\u001b\\\u001b[2m:\u001b[0m\u001b]8;id=436397;file://C:\\Users\\Gabriele\\AppData\\Local\\Temp\\ipykernel_7000\\2920211480.py#16\u001b\\\u001b[2m16\u001b[0m\u001b]8;;\u001b\\\n"
      ]
     },
     "metadata": {},
     "output_type": "display_data"
    },
    {
     "name": "stdout",
     "output_type": "stream",
     "text": [
      "{'candles': 60, 'ticks': 0}\n"
     ]
    },
    {
     "data": {
      "text/html": [
       "<pre style=\"white-space:pre;overflow-x:auto;line-height:normal;font-family:Menlo,'DejaVu Sans Mono',consolas,'Courier New',monospace\"><span style=\"color: #7fbfbf; text-decoration-color: #7fbfbf\">                    </span><span style=\"color: #008000; text-decoration-color: #008000\">DEBUG   </span> <span style=\"color: #800080; text-decoration-color: #800080; font-weight: bold; text-decoration: underline\">localized_date_to_mt5</span><span style=\"font-weight: bold\">()</span>: gmt2: <span style=\"color: #008080; text-decoration-color: #008080; font-weight: bold\">2020</span>-<span style=\"color: #008080; text-decoration-color: #008080; font-weight: bold\">10</span>-<span style=\"color: #008080; text-decoration-color: #008080; font-weight: bold\">06</span>       <a href=\"file://C:\\Users\\Gabriele\\AppData\\Local\\Temp\\ipykernel_7000\\2920211480.py\"><span style=\"color: #7f7f7f; text-decoration-color: #7f7f7f\">2920211480.py</span></a><span style=\"color: #7f7f7f; text-decoration-color: #7f7f7f\">:</span><a href=\"file://C:\\Users\\Gabriele\\AppData\\Local\\Temp\\ipykernel_7000\\2920211480.py#14\"><span style=\"color: #7f7f7f; text-decoration-color: #7f7f7f\">14</span></a>\n",
       "<span style=\"color: #7fbfbf; text-decoration-color: #7fbfbf\">                    </span>         <span style=\"color: #00ff00; text-decoration-color: #00ff00; font-weight: bold\">17:00:00</span>+<span style=\"color: #00ff00; text-decoration-color: #00ff00; font-weight: bold\">02:00</span>                                  <span style=\"color: #7f7f7f; text-decoration-color: #7f7f7f\">                </span>\n",
       "</pre>\n"
      ],
      "text/plain": [
       "\u001b[2;36m                   \u001b[0m\u001b[2;36m \u001b[0m\u001b[32mDEBUG   \u001b[0m \u001b[1;4;35mlocalized_date_to_mt5\u001b[0m\u001b[1m(\u001b[0m\u001b[1m)\u001b[0m: gmt2: \u001b[1;36m2020\u001b[0m-\u001b[1;36m10\u001b[0m-\u001b[1;36m06\u001b[0m       \u001b]8;id=806677;file://C:\\Users\\Gabriele\\AppData\\Local\\Temp\\ipykernel_7000\\2920211480.py\u001b\\\u001b[2m2920211480.py\u001b[0m\u001b]8;;\u001b\\\u001b[2m:\u001b[0m\u001b]8;id=587877;file://C:\\Users\\Gabriele\\AppData\\Local\\Temp\\ipykernel_7000\\2920211480.py#14\u001b\\\u001b[2m14\u001b[0m\u001b]8;;\u001b\\\n",
       "\u001b[2;36m                    \u001b[0m         \u001b[1;92m17:00:00\u001b[0m+\u001b[1;92m02:00\u001b[0m                                  \u001b[2m                \u001b[0m\n"
      ]
     },
     "metadata": {},
     "output_type": "display_data"
    },
    {
     "data": {
      "text/html": [
       "<pre style=\"white-space:pre;overflow-x:auto;line-height:normal;font-family:Menlo,'DejaVu Sans Mono',consolas,'Courier New',monospace\"><span style=\"color: #7fbfbf; text-decoration-color: #7fbfbf\">                    </span><span style=\"color: #008000; text-decoration-color: #008000\">DEBUG   </span> <span style=\"color: #800080; text-decoration-color: #800080; font-weight: bold; text-decoration: underline\">localized_date_to_mt5</span><span style=\"font-weight: bold\">()</span>: gmt3: <span style=\"color: #008080; text-decoration-color: #008080; font-weight: bold\">2020</span>-<span style=\"color: #008080; text-decoration-color: #008080; font-weight: bold\">10</span>-<span style=\"color: #008080; text-decoration-color: #008080; font-weight: bold\">06</span>       <a href=\"file://C:\\Users\\Gabriele\\AppData\\Local\\Temp\\ipykernel_7000\\2920211480.py\"><span style=\"color: #7f7f7f; text-decoration-color: #7f7f7f\">2920211480.py</span></a><span style=\"color: #7f7f7f; text-decoration-color: #7f7f7f\">:</span><a href=\"file://C:\\Users\\Gabriele\\AppData\\Local\\Temp\\ipykernel_7000\\2920211480.py#15\"><span style=\"color: #7f7f7f; text-decoration-color: #7f7f7f\">15</span></a>\n",
       "<span style=\"color: #7fbfbf; text-decoration-color: #7fbfbf\">                    </span>         <span style=\"color: #00ff00; text-decoration-color: #00ff00; font-weight: bold\">18:00:00</span>+<span style=\"color: #00ff00; text-decoration-color: #00ff00; font-weight: bold\">03:00</span>                                  <span style=\"color: #7f7f7f; text-decoration-color: #7f7f7f\">                </span>\n",
       "</pre>\n"
      ],
      "text/plain": [
       "\u001b[2;36m                   \u001b[0m\u001b[2;36m \u001b[0m\u001b[32mDEBUG   \u001b[0m \u001b[1;4;35mlocalized_date_to_mt5\u001b[0m\u001b[1m(\u001b[0m\u001b[1m)\u001b[0m: gmt3: \u001b[1;36m2020\u001b[0m-\u001b[1;36m10\u001b[0m-\u001b[1;36m06\u001b[0m       \u001b]8;id=616996;file://C:\\Users\\Gabriele\\AppData\\Local\\Temp\\ipykernel_7000\\2920211480.py\u001b\\\u001b[2m2920211480.py\u001b[0m\u001b]8;;\u001b\\\u001b[2m:\u001b[0m\u001b]8;id=383906;file://C:\\Users\\Gabriele\\AppData\\Local\\Temp\\ipykernel_7000\\2920211480.py#15\u001b\\\u001b[2m15\u001b[0m\u001b]8;;\u001b\\\n",
       "\u001b[2;36m                    \u001b[0m         \u001b[1;92m18:00:00\u001b[0m+\u001b[1;92m03:00\u001b[0m                                  \u001b[2m                \u001b[0m\n"
      ]
     },
     "metadata": {},
     "output_type": "display_data"
    },
    {
     "data": {
      "text/html": [
       "<pre style=\"white-space:pre;overflow-x:auto;line-height:normal;font-family:Menlo,'DejaVu Sans Mono',consolas,'Courier New',monospace\"><span style=\"color: #7fbfbf; text-decoration-color: #7fbfbf\">                    </span><span style=\"color: #008000; text-decoration-color: #008000\">DEBUG   </span> <span style=\"color: #800080; text-decoration-color: #800080; font-weight: bold; text-decoration: underline\">localized_date_to_mt5</span><span style=\"font-weight: bold\">()</span>: dst: <span style=\"color: #00ff00; text-decoration-color: #00ff00; font-style: italic\">True</span>              <a href=\"file://C:\\Users\\Gabriele\\AppData\\Local\\Temp\\ipykernel_7000\\2920211480.py\"><span style=\"color: #7f7f7f; text-decoration-color: #7f7f7f\">2920211480.py</span></a><span style=\"color: #7f7f7f; text-decoration-color: #7f7f7f\">:</span><a href=\"file://C:\\Users\\Gabriele\\AppData\\Local\\Temp\\ipykernel_7000\\2920211480.py#16\"><span style=\"color: #7f7f7f; text-decoration-color: #7f7f7f\">16</span></a>\n",
       "</pre>\n"
      ],
      "text/plain": [
       "\u001b[2;36m                   \u001b[0m\u001b[2;36m \u001b[0m\u001b[32mDEBUG   \u001b[0m \u001b[1;4;35mlocalized_date_to_mt5\u001b[0m\u001b[1m(\u001b[0m\u001b[1m)\u001b[0m: dst: \u001b[3;92mTrue\u001b[0m              \u001b]8;id=584379;file://C:\\Users\\Gabriele\\AppData\\Local\\Temp\\ipykernel_7000\\2920211480.py\u001b\\\u001b[2m2920211480.py\u001b[0m\u001b]8;;\u001b\\\u001b[2m:\u001b[0m\u001b]8;id=586016;file://C:\\Users\\Gabriele\\AppData\\Local\\Temp\\ipykernel_7000\\2920211480.py#16\u001b\\\u001b[2m16\u001b[0m\u001b]8;;\u001b\\\n"
      ]
     },
     "metadata": {},
     "output_type": "display_data"
    },
    {
     "data": {
      "text/html": [
       "<pre style=\"white-space:pre;overflow-x:auto;line-height:normal;font-family:Menlo,'DejaVu Sans Mono',consolas,'Courier New',monospace\"><span style=\"color: #7fbfbf; text-decoration-color: #7fbfbf\">                    </span><span style=\"color: #008000; text-decoration-color: #008000\">DEBUG   </span> <span style=\"color: #800080; text-decoration-color: #800080; font-weight: bold; text-decoration: underline\">localized_date_to_mt5</span><span style=\"font-weight: bold\">()</span>: gmt2: <span style=\"color: #008080; text-decoration-color: #008080; font-weight: bold\">2020</span>-<span style=\"color: #008080; text-decoration-color: #008080; font-weight: bold\">10</span>-<span style=\"color: #008080; text-decoration-color: #008080; font-weight: bold\">06</span>       <a href=\"file://C:\\Users\\Gabriele\\AppData\\Local\\Temp\\ipykernel_7000\\2920211480.py\"><span style=\"color: #7f7f7f; text-decoration-color: #7f7f7f\">2920211480.py</span></a><span style=\"color: #7f7f7f; text-decoration-color: #7f7f7f\">:</span><a href=\"file://C:\\Users\\Gabriele\\AppData\\Local\\Temp\\ipykernel_7000\\2920211480.py#14\"><span style=\"color: #7f7f7f; text-decoration-color: #7f7f7f\">14</span></a>\n",
       "<span style=\"color: #7fbfbf; text-decoration-color: #7fbfbf\">                    </span>         <span style=\"color: #00ff00; text-decoration-color: #00ff00; font-weight: bold\">17:00:00</span>+<span style=\"color: #00ff00; text-decoration-color: #00ff00; font-weight: bold\">02:00</span>                                  <span style=\"color: #7f7f7f; text-decoration-color: #7f7f7f\">                </span>\n",
       "</pre>\n"
      ],
      "text/plain": [
       "\u001b[2;36m                   \u001b[0m\u001b[2;36m \u001b[0m\u001b[32mDEBUG   \u001b[0m \u001b[1;4;35mlocalized_date_to_mt5\u001b[0m\u001b[1m(\u001b[0m\u001b[1m)\u001b[0m: gmt2: \u001b[1;36m2020\u001b[0m-\u001b[1;36m10\u001b[0m-\u001b[1;36m06\u001b[0m       \u001b]8;id=501542;file://C:\\Users\\Gabriele\\AppData\\Local\\Temp\\ipykernel_7000\\2920211480.py\u001b\\\u001b[2m2920211480.py\u001b[0m\u001b]8;;\u001b\\\u001b[2m:\u001b[0m\u001b]8;id=934566;file://C:\\Users\\Gabriele\\AppData\\Local\\Temp\\ipykernel_7000\\2920211480.py#14\u001b\\\u001b[2m14\u001b[0m\u001b]8;;\u001b\\\n",
       "\u001b[2;36m                    \u001b[0m         \u001b[1;92m17:00:00\u001b[0m+\u001b[1;92m02:00\u001b[0m                                  \u001b[2m                \u001b[0m\n"
      ]
     },
     "metadata": {},
     "output_type": "display_data"
    },
    {
     "data": {
      "text/html": [
       "<pre style=\"white-space:pre;overflow-x:auto;line-height:normal;font-family:Menlo,'DejaVu Sans Mono',consolas,'Courier New',monospace\"><span style=\"color: #7fbfbf; text-decoration-color: #7fbfbf\">                    </span><span style=\"color: #008000; text-decoration-color: #008000\">DEBUG   </span> <span style=\"color: #800080; text-decoration-color: #800080; font-weight: bold; text-decoration: underline\">localized_date_to_mt5</span><span style=\"font-weight: bold\">()</span>: gmt3: <span style=\"color: #008080; text-decoration-color: #008080; font-weight: bold\">2020</span>-<span style=\"color: #008080; text-decoration-color: #008080; font-weight: bold\">10</span>-<span style=\"color: #008080; text-decoration-color: #008080; font-weight: bold\">06</span>       <a href=\"file://C:\\Users\\Gabriele\\AppData\\Local\\Temp\\ipykernel_7000\\2920211480.py\"><span style=\"color: #7f7f7f; text-decoration-color: #7f7f7f\">2920211480.py</span></a><span style=\"color: #7f7f7f; text-decoration-color: #7f7f7f\">:</span><a href=\"file://C:\\Users\\Gabriele\\AppData\\Local\\Temp\\ipykernel_7000\\2920211480.py#15\"><span style=\"color: #7f7f7f; text-decoration-color: #7f7f7f\">15</span></a>\n",
       "<span style=\"color: #7fbfbf; text-decoration-color: #7fbfbf\">                    </span>         <span style=\"color: #00ff00; text-decoration-color: #00ff00; font-weight: bold\">18:00:00</span>+<span style=\"color: #00ff00; text-decoration-color: #00ff00; font-weight: bold\">03:00</span>                                  <span style=\"color: #7f7f7f; text-decoration-color: #7f7f7f\">                </span>\n",
       "</pre>\n"
      ],
      "text/plain": [
       "\u001b[2;36m                   \u001b[0m\u001b[2;36m \u001b[0m\u001b[32mDEBUG   \u001b[0m \u001b[1;4;35mlocalized_date_to_mt5\u001b[0m\u001b[1m(\u001b[0m\u001b[1m)\u001b[0m: gmt3: \u001b[1;36m2020\u001b[0m-\u001b[1;36m10\u001b[0m-\u001b[1;36m06\u001b[0m       \u001b]8;id=568203;file://C:\\Users\\Gabriele\\AppData\\Local\\Temp\\ipykernel_7000\\2920211480.py\u001b\\\u001b[2m2920211480.py\u001b[0m\u001b]8;;\u001b\\\u001b[2m:\u001b[0m\u001b]8;id=538907;file://C:\\Users\\Gabriele\\AppData\\Local\\Temp\\ipykernel_7000\\2920211480.py#15\u001b\\\u001b[2m15\u001b[0m\u001b]8;;\u001b\\\n",
       "\u001b[2;36m                    \u001b[0m         \u001b[1;92m18:00:00\u001b[0m+\u001b[1;92m03:00\u001b[0m                                  \u001b[2m                \u001b[0m\n"
      ]
     },
     "metadata": {},
     "output_type": "display_data"
    },
    {
     "data": {
      "text/html": [
       "<pre style=\"white-space:pre;overflow-x:auto;line-height:normal;font-family:Menlo,'DejaVu Sans Mono',consolas,'Courier New',monospace\"><span style=\"color: #7fbfbf; text-decoration-color: #7fbfbf\">                    </span><span style=\"color: #008000; text-decoration-color: #008000\">DEBUG   </span> <span style=\"color: #800080; text-decoration-color: #800080; font-weight: bold; text-decoration: underline\">localized_date_to_mt5</span><span style=\"font-weight: bold\">()</span>: dst: <span style=\"color: #00ff00; text-decoration-color: #00ff00; font-style: italic\">True</span>              <a href=\"file://C:\\Users\\Gabriele\\AppData\\Local\\Temp\\ipykernel_7000\\2920211480.py\"><span style=\"color: #7f7f7f; text-decoration-color: #7f7f7f\">2920211480.py</span></a><span style=\"color: #7f7f7f; text-decoration-color: #7f7f7f\">:</span><a href=\"file://C:\\Users\\Gabriele\\AppData\\Local\\Temp\\ipykernel_7000\\2920211480.py#16\"><span style=\"color: #7f7f7f; text-decoration-color: #7f7f7f\">16</span></a>\n",
       "</pre>\n"
      ],
      "text/plain": [
       "\u001b[2;36m                   \u001b[0m\u001b[2;36m \u001b[0m\u001b[32mDEBUG   \u001b[0m \u001b[1;4;35mlocalized_date_to_mt5\u001b[0m\u001b[1m(\u001b[0m\u001b[1m)\u001b[0m: dst: \u001b[3;92mTrue\u001b[0m              \u001b]8;id=615306;file://C:\\Users\\Gabriele\\AppData\\Local\\Temp\\ipykernel_7000\\2920211480.py\u001b\\\u001b[2m2920211480.py\u001b[0m\u001b]8;;\u001b\\\u001b[2m:\u001b[0m\u001b]8;id=909259;file://C:\\Users\\Gabriele\\AppData\\Local\\Temp\\ipykernel_7000\\2920211480.py#16\u001b\\\u001b[2m16\u001b[0m\u001b]8;;\u001b\\\n"
      ]
     },
     "metadata": {},
     "output_type": "display_data"
    },
    {
     "data": {
      "text/html": [
       "<pre style=\"white-space:pre;overflow-x:auto;line-height:normal;font-family:Menlo,'DejaVu Sans Mono',consolas,'Courier New',monospace\"><span style=\"color: #7fbfbf; text-decoration-color: #7fbfbf\">                    </span><span style=\"color: #008000; text-decoration-color: #008000\">DEBUG   </span> <span style=\"color: #800080; text-decoration-color: #800080; font-weight: bold; text-decoration: underline\">localized_date_to_mt5</span><span style=\"font-weight: bold\">()</span>: gmt2: <span style=\"color: #008080; text-decoration-color: #008080; font-weight: bold\">2020</span>-<span style=\"color: #008080; text-decoration-color: #008080; font-weight: bold\">10</span>-<span style=\"color: #008080; text-decoration-color: #008080; font-weight: bold\">06</span>       <a href=\"file://C:\\Users\\Gabriele\\AppData\\Local\\Temp\\ipykernel_7000\\2920211480.py\"><span style=\"color: #7f7f7f; text-decoration-color: #7f7f7f\">2920211480.py</span></a><span style=\"color: #7f7f7f; text-decoration-color: #7f7f7f\">:</span><a href=\"file://C:\\Users\\Gabriele\\AppData\\Local\\Temp\\ipykernel_7000\\2920211480.py#14\"><span style=\"color: #7f7f7f; text-decoration-color: #7f7f7f\">14</span></a>\n",
       "<span style=\"color: #7fbfbf; text-decoration-color: #7fbfbf\">                    </span>         <span style=\"color: #00ff00; text-decoration-color: #00ff00; font-weight: bold\">17:59:00</span>+<span style=\"color: #00ff00; text-decoration-color: #00ff00; font-weight: bold\">02:00</span>                                  <span style=\"color: #7f7f7f; text-decoration-color: #7f7f7f\">                </span>\n",
       "</pre>\n"
      ],
      "text/plain": [
       "\u001b[2;36m                   \u001b[0m\u001b[2;36m \u001b[0m\u001b[32mDEBUG   \u001b[0m \u001b[1;4;35mlocalized_date_to_mt5\u001b[0m\u001b[1m(\u001b[0m\u001b[1m)\u001b[0m: gmt2: \u001b[1;36m2020\u001b[0m-\u001b[1;36m10\u001b[0m-\u001b[1;36m06\u001b[0m       \u001b]8;id=574101;file://C:\\Users\\Gabriele\\AppData\\Local\\Temp\\ipykernel_7000\\2920211480.py\u001b\\\u001b[2m2920211480.py\u001b[0m\u001b]8;;\u001b\\\u001b[2m:\u001b[0m\u001b]8;id=597390;file://C:\\Users\\Gabriele\\AppData\\Local\\Temp\\ipykernel_7000\\2920211480.py#14\u001b\\\u001b[2m14\u001b[0m\u001b]8;;\u001b\\\n",
       "\u001b[2;36m                    \u001b[0m         \u001b[1;92m17:59:00\u001b[0m+\u001b[1;92m02:00\u001b[0m                                  \u001b[2m                \u001b[0m\n"
      ]
     },
     "metadata": {},
     "output_type": "display_data"
    },
    {
     "data": {
      "text/html": [
       "<pre style=\"white-space:pre;overflow-x:auto;line-height:normal;font-family:Menlo,'DejaVu Sans Mono',consolas,'Courier New',monospace\"><span style=\"color: #7fbfbf; text-decoration-color: #7fbfbf\">                    </span><span style=\"color: #008000; text-decoration-color: #008000\">DEBUG   </span> <span style=\"color: #800080; text-decoration-color: #800080; font-weight: bold; text-decoration: underline\">localized_date_to_mt5</span><span style=\"font-weight: bold\">()</span>: gmt3: <span style=\"color: #008080; text-decoration-color: #008080; font-weight: bold\">2020</span>-<span style=\"color: #008080; text-decoration-color: #008080; font-weight: bold\">10</span>-<span style=\"color: #008080; text-decoration-color: #008080; font-weight: bold\">06</span>       <a href=\"file://C:\\Users\\Gabriele\\AppData\\Local\\Temp\\ipykernel_7000\\2920211480.py\"><span style=\"color: #7f7f7f; text-decoration-color: #7f7f7f\">2920211480.py</span></a><span style=\"color: #7f7f7f; text-decoration-color: #7f7f7f\">:</span><a href=\"file://C:\\Users\\Gabriele\\AppData\\Local\\Temp\\ipykernel_7000\\2920211480.py#15\"><span style=\"color: #7f7f7f; text-decoration-color: #7f7f7f\">15</span></a>\n",
       "<span style=\"color: #7fbfbf; text-decoration-color: #7fbfbf\">                    </span>         <span style=\"color: #00ff00; text-decoration-color: #00ff00; font-weight: bold\">18:59:00</span>+<span style=\"color: #00ff00; text-decoration-color: #00ff00; font-weight: bold\">03:00</span>                                  <span style=\"color: #7f7f7f; text-decoration-color: #7f7f7f\">                </span>\n",
       "</pre>\n"
      ],
      "text/plain": [
       "\u001b[2;36m                   \u001b[0m\u001b[2;36m \u001b[0m\u001b[32mDEBUG   \u001b[0m \u001b[1;4;35mlocalized_date_to_mt5\u001b[0m\u001b[1m(\u001b[0m\u001b[1m)\u001b[0m: gmt3: \u001b[1;36m2020\u001b[0m-\u001b[1;36m10\u001b[0m-\u001b[1;36m06\u001b[0m       \u001b]8;id=95502;file://C:\\Users\\Gabriele\\AppData\\Local\\Temp\\ipykernel_7000\\2920211480.py\u001b\\\u001b[2m2920211480.py\u001b[0m\u001b]8;;\u001b\\\u001b[2m:\u001b[0m\u001b]8;id=736467;file://C:\\Users\\Gabriele\\AppData\\Local\\Temp\\ipykernel_7000\\2920211480.py#15\u001b\\\u001b[2m15\u001b[0m\u001b]8;;\u001b\\\n",
       "\u001b[2;36m                    \u001b[0m         \u001b[1;92m18:59:00\u001b[0m+\u001b[1;92m03:00\u001b[0m                                  \u001b[2m                \u001b[0m\n"
      ]
     },
     "metadata": {},
     "output_type": "display_data"
    },
    {
     "data": {
      "text/html": [
       "<pre style=\"white-space:pre;overflow-x:auto;line-height:normal;font-family:Menlo,'DejaVu Sans Mono',consolas,'Courier New',monospace\"><span style=\"color: #7fbfbf; text-decoration-color: #7fbfbf\">                    </span><span style=\"color: #008000; text-decoration-color: #008000\">DEBUG   </span> <span style=\"color: #800080; text-decoration-color: #800080; font-weight: bold; text-decoration: underline\">localized_date_to_mt5</span><span style=\"font-weight: bold\">()</span>: dst: <span style=\"color: #00ff00; text-decoration-color: #00ff00; font-style: italic\">True</span>              <a href=\"file://C:\\Users\\Gabriele\\AppData\\Local\\Temp\\ipykernel_7000\\2920211480.py\"><span style=\"color: #7f7f7f; text-decoration-color: #7f7f7f\">2920211480.py</span></a><span style=\"color: #7f7f7f; text-decoration-color: #7f7f7f\">:</span><a href=\"file://C:\\Users\\Gabriele\\AppData\\Local\\Temp\\ipykernel_7000\\2920211480.py#16\"><span style=\"color: #7f7f7f; text-decoration-color: #7f7f7f\">16</span></a>\n",
       "</pre>\n"
      ],
      "text/plain": [
       "\u001b[2;36m                   \u001b[0m\u001b[2;36m \u001b[0m\u001b[32mDEBUG   \u001b[0m \u001b[1;4;35mlocalized_date_to_mt5\u001b[0m\u001b[1m(\u001b[0m\u001b[1m)\u001b[0m: dst: \u001b[3;92mTrue\u001b[0m              \u001b]8;id=80126;file://C:\\Users\\Gabriele\\AppData\\Local\\Temp\\ipykernel_7000\\2920211480.py\u001b\\\u001b[2m2920211480.py\u001b[0m\u001b]8;;\u001b\\\u001b[2m:\u001b[0m\u001b]8;id=218250;file://C:\\Users\\Gabriele\\AppData\\Local\\Temp\\ipykernel_7000\\2920211480.py#16\u001b\\\u001b[2m16\u001b[0m\u001b]8;;\u001b\\\n"
      ]
     },
     "metadata": {},
     "output_type": "display_data"
    },
    {
     "name": "stdout",
     "output_type": "stream",
     "text": [
      "{'candles': 60, 'ticks': 0}\n"
     ]
    },
    {
     "data": {
      "text/html": [
       "<pre style=\"white-space:pre;overflow-x:auto;line-height:normal;font-family:Menlo,'DejaVu Sans Mono',consolas,'Courier New',monospace\"><span style=\"color: #7fbfbf; text-decoration-color: #7fbfbf\">                    </span><span style=\"color: #008000; text-decoration-color: #008000\">DEBUG   </span> <span style=\"color: #800080; text-decoration-color: #800080; font-weight: bold; text-decoration: underline\">localized_date_to_mt5</span><span style=\"font-weight: bold\">()</span>: gmt2: <span style=\"color: #008080; text-decoration-color: #008080; font-weight: bold\">2022</span>-<span style=\"color: #008080; text-decoration-color: #008080; font-weight: bold\">02</span>-<span style=\"color: #008080; text-decoration-color: #008080; font-weight: bold\">03</span>       <a href=\"file://C:\\Users\\Gabriele\\AppData\\Local\\Temp\\ipykernel_7000\\2920211480.py\"><span style=\"color: #7f7f7f; text-decoration-color: #7f7f7f\">2920211480.py</span></a><span style=\"color: #7f7f7f; text-decoration-color: #7f7f7f\">:</span><a href=\"file://C:\\Users\\Gabriele\\AppData\\Local\\Temp\\ipykernel_7000\\2920211480.py#14\"><span style=\"color: #7f7f7f; text-decoration-color: #7f7f7f\">14</span></a>\n",
       "<span style=\"color: #7fbfbf; text-decoration-color: #7fbfbf\">                    </span>         <span style=\"color: #00ff00; text-decoration-color: #00ff00; font-weight: bold\">14:00:00</span>+<span style=\"color: #00ff00; text-decoration-color: #00ff00; font-weight: bold\">02:00</span>                                  <span style=\"color: #7f7f7f; text-decoration-color: #7f7f7f\">                </span>\n",
       "</pre>\n"
      ],
      "text/plain": [
       "\u001b[2;36m                   \u001b[0m\u001b[2;36m \u001b[0m\u001b[32mDEBUG   \u001b[0m \u001b[1;4;35mlocalized_date_to_mt5\u001b[0m\u001b[1m(\u001b[0m\u001b[1m)\u001b[0m: gmt2: \u001b[1;36m2022\u001b[0m-\u001b[1;36m02\u001b[0m-\u001b[1;36m03\u001b[0m       \u001b]8;id=552139;file://C:\\Users\\Gabriele\\AppData\\Local\\Temp\\ipykernel_7000\\2920211480.py\u001b\\\u001b[2m2920211480.py\u001b[0m\u001b]8;;\u001b\\\u001b[2m:\u001b[0m\u001b]8;id=383;file://C:\\Users\\Gabriele\\AppData\\Local\\Temp\\ipykernel_7000\\2920211480.py#14\u001b\\\u001b[2m14\u001b[0m\u001b]8;;\u001b\\\n",
       "\u001b[2;36m                    \u001b[0m         \u001b[1;92m14:00:00\u001b[0m+\u001b[1;92m02:00\u001b[0m                                  \u001b[2m                \u001b[0m\n"
      ]
     },
     "metadata": {},
     "output_type": "display_data"
    },
    {
     "data": {
      "text/html": [
       "<pre style=\"white-space:pre;overflow-x:auto;line-height:normal;font-family:Menlo,'DejaVu Sans Mono',consolas,'Courier New',monospace\"><span style=\"color: #7fbfbf; text-decoration-color: #7fbfbf\">                    </span><span style=\"color: #008000; text-decoration-color: #008000\">DEBUG   </span> <span style=\"color: #800080; text-decoration-color: #800080; font-weight: bold; text-decoration: underline\">localized_date_to_mt5</span><span style=\"font-weight: bold\">()</span>: gmt3: <span style=\"color: #008080; text-decoration-color: #008080; font-weight: bold\">2022</span>-<span style=\"color: #008080; text-decoration-color: #008080; font-weight: bold\">02</span>-<span style=\"color: #008080; text-decoration-color: #008080; font-weight: bold\">03</span>       <a href=\"file://C:\\Users\\Gabriele\\AppData\\Local\\Temp\\ipykernel_7000\\2920211480.py\"><span style=\"color: #7f7f7f; text-decoration-color: #7f7f7f\">2920211480.py</span></a><span style=\"color: #7f7f7f; text-decoration-color: #7f7f7f\">:</span><a href=\"file://C:\\Users\\Gabriele\\AppData\\Local\\Temp\\ipykernel_7000\\2920211480.py#15\"><span style=\"color: #7f7f7f; text-decoration-color: #7f7f7f\">15</span></a>\n",
       "<span style=\"color: #7fbfbf; text-decoration-color: #7fbfbf\">                    </span>         <span style=\"color: #00ff00; text-decoration-color: #00ff00; font-weight: bold\">15:00:00</span>+<span style=\"color: #00ff00; text-decoration-color: #00ff00; font-weight: bold\">03:00</span>                                  <span style=\"color: #7f7f7f; text-decoration-color: #7f7f7f\">                </span>\n",
       "</pre>\n"
      ],
      "text/plain": [
       "\u001b[2;36m                   \u001b[0m\u001b[2;36m \u001b[0m\u001b[32mDEBUG   \u001b[0m \u001b[1;4;35mlocalized_date_to_mt5\u001b[0m\u001b[1m(\u001b[0m\u001b[1m)\u001b[0m: gmt3: \u001b[1;36m2022\u001b[0m-\u001b[1;36m02\u001b[0m-\u001b[1;36m03\u001b[0m       \u001b]8;id=169099;file://C:\\Users\\Gabriele\\AppData\\Local\\Temp\\ipykernel_7000\\2920211480.py\u001b\\\u001b[2m2920211480.py\u001b[0m\u001b]8;;\u001b\\\u001b[2m:\u001b[0m\u001b]8;id=826305;file://C:\\Users\\Gabriele\\AppData\\Local\\Temp\\ipykernel_7000\\2920211480.py#15\u001b\\\u001b[2m15\u001b[0m\u001b]8;;\u001b\\\n",
       "\u001b[2;36m                    \u001b[0m         \u001b[1;92m15:00:00\u001b[0m+\u001b[1;92m03:00\u001b[0m                                  \u001b[2m                \u001b[0m\n"
      ]
     },
     "metadata": {},
     "output_type": "display_data"
    },
    {
     "data": {
      "text/html": [
       "<pre style=\"white-space:pre;overflow-x:auto;line-height:normal;font-family:Menlo,'DejaVu Sans Mono',consolas,'Courier New',monospace\"><span style=\"color: #7fbfbf; text-decoration-color: #7fbfbf\">                    </span><span style=\"color: #008000; text-decoration-color: #008000\">DEBUG   </span> <span style=\"color: #800080; text-decoration-color: #800080; font-weight: bold; text-decoration: underline\">localized_date_to_mt5</span><span style=\"font-weight: bold\">()</span>: dst: <span style=\"color: #ff0000; text-decoration-color: #ff0000; font-style: italic\">False</span>             <a href=\"file://C:\\Users\\Gabriele\\AppData\\Local\\Temp\\ipykernel_7000\\2920211480.py\"><span style=\"color: #7f7f7f; text-decoration-color: #7f7f7f\">2920211480.py</span></a><span style=\"color: #7f7f7f; text-decoration-color: #7f7f7f\">:</span><a href=\"file://C:\\Users\\Gabriele\\AppData\\Local\\Temp\\ipykernel_7000\\2920211480.py#16\"><span style=\"color: #7f7f7f; text-decoration-color: #7f7f7f\">16</span></a>\n",
       "</pre>\n"
      ],
      "text/plain": [
       "\u001b[2;36m                   \u001b[0m\u001b[2;36m \u001b[0m\u001b[32mDEBUG   \u001b[0m \u001b[1;4;35mlocalized_date_to_mt5\u001b[0m\u001b[1m(\u001b[0m\u001b[1m)\u001b[0m: dst: \u001b[3;91mFalse\u001b[0m             \u001b]8;id=217539;file://C:\\Users\\Gabriele\\AppData\\Local\\Temp\\ipykernel_7000\\2920211480.py\u001b\\\u001b[2m2920211480.py\u001b[0m\u001b]8;;\u001b\\\u001b[2m:\u001b[0m\u001b]8;id=392293;file://C:\\Users\\Gabriele\\AppData\\Local\\Temp\\ipykernel_7000\\2920211480.py#16\u001b\\\u001b[2m16\u001b[0m\u001b]8;;\u001b\\\n"
      ]
     },
     "metadata": {},
     "output_type": "display_data"
    },
    {
     "data": {
      "text/html": [
       "<pre style=\"white-space:pre;overflow-x:auto;line-height:normal;font-family:Menlo,'DejaVu Sans Mono',consolas,'Courier New',monospace\"><span style=\"color: #7fbfbf; text-decoration-color: #7fbfbf\">                    </span><span style=\"color: #008000; text-decoration-color: #008000\">DEBUG   </span> <span style=\"color: #800080; text-decoration-color: #800080; font-weight: bold; text-decoration: underline\">localized_date_to_mt5</span><span style=\"font-weight: bold\">()</span>: gmt2: <span style=\"color: #008080; text-decoration-color: #008080; font-weight: bold\">2022</span>-<span style=\"color: #008080; text-decoration-color: #008080; font-weight: bold\">02</span>-<span style=\"color: #008080; text-decoration-color: #008080; font-weight: bold\">03</span>       <a href=\"file://C:\\Users\\Gabriele\\AppData\\Local\\Temp\\ipykernel_7000\\2920211480.py\"><span style=\"color: #7f7f7f; text-decoration-color: #7f7f7f\">2920211480.py</span></a><span style=\"color: #7f7f7f; text-decoration-color: #7f7f7f\">:</span><a href=\"file://C:\\Users\\Gabriele\\AppData\\Local\\Temp\\ipykernel_7000\\2920211480.py#14\"><span style=\"color: #7f7f7f; text-decoration-color: #7f7f7f\">14</span></a>\n",
       "<span style=\"color: #7fbfbf; text-decoration-color: #7fbfbf\">                    </span>         <span style=\"color: #00ff00; text-decoration-color: #00ff00; font-weight: bold\">14:00:00</span>+<span style=\"color: #00ff00; text-decoration-color: #00ff00; font-weight: bold\">02:00</span>                                  <span style=\"color: #7f7f7f; text-decoration-color: #7f7f7f\">                </span>\n",
       "</pre>\n"
      ],
      "text/plain": [
       "\u001b[2;36m                   \u001b[0m\u001b[2;36m \u001b[0m\u001b[32mDEBUG   \u001b[0m \u001b[1;4;35mlocalized_date_to_mt5\u001b[0m\u001b[1m(\u001b[0m\u001b[1m)\u001b[0m: gmt2: \u001b[1;36m2022\u001b[0m-\u001b[1;36m02\u001b[0m-\u001b[1;36m03\u001b[0m       \u001b]8;id=497236;file://C:\\Users\\Gabriele\\AppData\\Local\\Temp\\ipykernel_7000\\2920211480.py\u001b\\\u001b[2m2920211480.py\u001b[0m\u001b]8;;\u001b\\\u001b[2m:\u001b[0m\u001b]8;id=531898;file://C:\\Users\\Gabriele\\AppData\\Local\\Temp\\ipykernel_7000\\2920211480.py#14\u001b\\\u001b[2m14\u001b[0m\u001b]8;;\u001b\\\n",
       "\u001b[2;36m                    \u001b[0m         \u001b[1;92m14:00:00\u001b[0m+\u001b[1;92m02:00\u001b[0m                                  \u001b[2m                \u001b[0m\n"
      ]
     },
     "metadata": {},
     "output_type": "display_data"
    },
    {
     "data": {
      "text/html": [
       "<pre style=\"white-space:pre;overflow-x:auto;line-height:normal;font-family:Menlo,'DejaVu Sans Mono',consolas,'Courier New',monospace\"><span style=\"color: #7fbfbf; text-decoration-color: #7fbfbf\">                    </span><span style=\"color: #008000; text-decoration-color: #008000\">DEBUG   </span> <span style=\"color: #800080; text-decoration-color: #800080; font-weight: bold; text-decoration: underline\">localized_date_to_mt5</span><span style=\"font-weight: bold\">()</span>: gmt3: <span style=\"color: #008080; text-decoration-color: #008080; font-weight: bold\">2022</span>-<span style=\"color: #008080; text-decoration-color: #008080; font-weight: bold\">02</span>-<span style=\"color: #008080; text-decoration-color: #008080; font-weight: bold\">03</span>       <a href=\"file://C:\\Users\\Gabriele\\AppData\\Local\\Temp\\ipykernel_7000\\2920211480.py\"><span style=\"color: #7f7f7f; text-decoration-color: #7f7f7f\">2920211480.py</span></a><span style=\"color: #7f7f7f; text-decoration-color: #7f7f7f\">:</span><a href=\"file://C:\\Users\\Gabriele\\AppData\\Local\\Temp\\ipykernel_7000\\2920211480.py#15\"><span style=\"color: #7f7f7f; text-decoration-color: #7f7f7f\">15</span></a>\n",
       "<span style=\"color: #7fbfbf; text-decoration-color: #7fbfbf\">                    </span>         <span style=\"color: #00ff00; text-decoration-color: #00ff00; font-weight: bold\">15:00:00</span>+<span style=\"color: #00ff00; text-decoration-color: #00ff00; font-weight: bold\">03:00</span>                                  <span style=\"color: #7f7f7f; text-decoration-color: #7f7f7f\">                </span>\n",
       "</pre>\n"
      ],
      "text/plain": [
       "\u001b[2;36m                   \u001b[0m\u001b[2;36m \u001b[0m\u001b[32mDEBUG   \u001b[0m \u001b[1;4;35mlocalized_date_to_mt5\u001b[0m\u001b[1m(\u001b[0m\u001b[1m)\u001b[0m: gmt3: \u001b[1;36m2022\u001b[0m-\u001b[1;36m02\u001b[0m-\u001b[1;36m03\u001b[0m       \u001b]8;id=503363;file://C:\\Users\\Gabriele\\AppData\\Local\\Temp\\ipykernel_7000\\2920211480.py\u001b\\\u001b[2m2920211480.py\u001b[0m\u001b]8;;\u001b\\\u001b[2m:\u001b[0m\u001b]8;id=617052;file://C:\\Users\\Gabriele\\AppData\\Local\\Temp\\ipykernel_7000\\2920211480.py#15\u001b\\\u001b[2m15\u001b[0m\u001b]8;;\u001b\\\n",
       "\u001b[2;36m                    \u001b[0m         \u001b[1;92m15:00:00\u001b[0m+\u001b[1;92m03:00\u001b[0m                                  \u001b[2m                \u001b[0m\n"
      ]
     },
     "metadata": {},
     "output_type": "display_data"
    },
    {
     "data": {
      "text/html": [
       "<pre style=\"white-space:pre;overflow-x:auto;line-height:normal;font-family:Menlo,'DejaVu Sans Mono',consolas,'Courier New',monospace\"><span style=\"color: #7fbfbf; text-decoration-color: #7fbfbf\">                    </span><span style=\"color: #008000; text-decoration-color: #008000\">DEBUG   </span> <span style=\"color: #800080; text-decoration-color: #800080; font-weight: bold; text-decoration: underline\">localized_date_to_mt5</span><span style=\"font-weight: bold\">()</span>: dst: <span style=\"color: #ff0000; text-decoration-color: #ff0000; font-style: italic\">False</span>             <a href=\"file://C:\\Users\\Gabriele\\AppData\\Local\\Temp\\ipykernel_7000\\2920211480.py\"><span style=\"color: #7f7f7f; text-decoration-color: #7f7f7f\">2920211480.py</span></a><span style=\"color: #7f7f7f; text-decoration-color: #7f7f7f\">:</span><a href=\"file://C:\\Users\\Gabriele\\AppData\\Local\\Temp\\ipykernel_7000\\2920211480.py#16\"><span style=\"color: #7f7f7f; text-decoration-color: #7f7f7f\">16</span></a>\n",
       "</pre>\n"
      ],
      "text/plain": [
       "\u001b[2;36m                   \u001b[0m\u001b[2;36m \u001b[0m\u001b[32mDEBUG   \u001b[0m \u001b[1;4;35mlocalized_date_to_mt5\u001b[0m\u001b[1m(\u001b[0m\u001b[1m)\u001b[0m: dst: \u001b[3;91mFalse\u001b[0m             \u001b]8;id=935341;file://C:\\Users\\Gabriele\\AppData\\Local\\Temp\\ipykernel_7000\\2920211480.py\u001b\\\u001b[2m2920211480.py\u001b[0m\u001b]8;;\u001b\\\u001b[2m:\u001b[0m\u001b]8;id=667878;file://C:\\Users\\Gabriele\\AppData\\Local\\Temp\\ipykernel_7000\\2920211480.py#16\u001b\\\u001b[2m16\u001b[0m\u001b]8;;\u001b\\\n"
      ]
     },
     "metadata": {},
     "output_type": "display_data"
    },
    {
     "data": {
      "text/html": [
       "<pre style=\"white-space:pre;overflow-x:auto;line-height:normal;font-family:Menlo,'DejaVu Sans Mono',consolas,'Courier New',monospace\"><span style=\"color: #7fbfbf; text-decoration-color: #7fbfbf\">                    </span><span style=\"color: #008000; text-decoration-color: #008000\">DEBUG   </span> <span style=\"color: #800080; text-decoration-color: #800080; font-weight: bold; text-decoration: underline\">localized_date_to_mt5</span><span style=\"font-weight: bold\">()</span>: gmt2: <span style=\"color: #008080; text-decoration-color: #008080; font-weight: bold\">2022</span>-<span style=\"color: #008080; text-decoration-color: #008080; font-weight: bold\">02</span>-<span style=\"color: #008080; text-decoration-color: #008080; font-weight: bold\">03</span>       <a href=\"file://C:\\Users\\Gabriele\\AppData\\Local\\Temp\\ipykernel_7000\\2920211480.py\"><span style=\"color: #7f7f7f; text-decoration-color: #7f7f7f\">2920211480.py</span></a><span style=\"color: #7f7f7f; text-decoration-color: #7f7f7f\">:</span><a href=\"file://C:\\Users\\Gabriele\\AppData\\Local\\Temp\\ipykernel_7000\\2920211480.py#14\"><span style=\"color: #7f7f7f; text-decoration-color: #7f7f7f\">14</span></a>\n",
       "<span style=\"color: #7fbfbf; text-decoration-color: #7fbfbf\">                    </span>         <span style=\"color: #00ff00; text-decoration-color: #00ff00; font-weight: bold\">14:04:00</span>+<span style=\"color: #00ff00; text-decoration-color: #00ff00; font-weight: bold\">02:00</span>                                  <span style=\"color: #7f7f7f; text-decoration-color: #7f7f7f\">                </span>\n",
       "</pre>\n"
      ],
      "text/plain": [
       "\u001b[2;36m                   \u001b[0m\u001b[2;36m \u001b[0m\u001b[32mDEBUG   \u001b[0m \u001b[1;4;35mlocalized_date_to_mt5\u001b[0m\u001b[1m(\u001b[0m\u001b[1m)\u001b[0m: gmt2: \u001b[1;36m2022\u001b[0m-\u001b[1;36m02\u001b[0m-\u001b[1;36m03\u001b[0m       \u001b]8;id=748307;file://C:\\Users\\Gabriele\\AppData\\Local\\Temp\\ipykernel_7000\\2920211480.py\u001b\\\u001b[2m2920211480.py\u001b[0m\u001b]8;;\u001b\\\u001b[2m:\u001b[0m\u001b]8;id=620179;file://C:\\Users\\Gabriele\\AppData\\Local\\Temp\\ipykernel_7000\\2920211480.py#14\u001b\\\u001b[2m14\u001b[0m\u001b]8;;\u001b\\\n",
       "\u001b[2;36m                    \u001b[0m         \u001b[1;92m14:04:00\u001b[0m+\u001b[1;92m02:00\u001b[0m                                  \u001b[2m                \u001b[0m\n"
      ]
     },
     "metadata": {},
     "output_type": "display_data"
    },
    {
     "data": {
      "text/html": [
       "<pre style=\"white-space:pre;overflow-x:auto;line-height:normal;font-family:Menlo,'DejaVu Sans Mono',consolas,'Courier New',monospace\"><span style=\"color: #7fbfbf; text-decoration-color: #7fbfbf\">                    </span><span style=\"color: #008000; text-decoration-color: #008000\">DEBUG   </span> <span style=\"color: #800080; text-decoration-color: #800080; font-weight: bold; text-decoration: underline\">localized_date_to_mt5</span><span style=\"font-weight: bold\">()</span>: gmt3: <span style=\"color: #008080; text-decoration-color: #008080; font-weight: bold\">2022</span>-<span style=\"color: #008080; text-decoration-color: #008080; font-weight: bold\">02</span>-<span style=\"color: #008080; text-decoration-color: #008080; font-weight: bold\">03</span>       <a href=\"file://C:\\Users\\Gabriele\\AppData\\Local\\Temp\\ipykernel_7000\\2920211480.py\"><span style=\"color: #7f7f7f; text-decoration-color: #7f7f7f\">2920211480.py</span></a><span style=\"color: #7f7f7f; text-decoration-color: #7f7f7f\">:</span><a href=\"file://C:\\Users\\Gabriele\\AppData\\Local\\Temp\\ipykernel_7000\\2920211480.py#15\"><span style=\"color: #7f7f7f; text-decoration-color: #7f7f7f\">15</span></a>\n",
       "<span style=\"color: #7fbfbf; text-decoration-color: #7fbfbf\">                    </span>         <span style=\"color: #00ff00; text-decoration-color: #00ff00; font-weight: bold\">15:04:00</span>+<span style=\"color: #00ff00; text-decoration-color: #00ff00; font-weight: bold\">03:00</span>                                  <span style=\"color: #7f7f7f; text-decoration-color: #7f7f7f\">                </span>\n",
       "</pre>\n"
      ],
      "text/plain": [
       "\u001b[2;36m                   \u001b[0m\u001b[2;36m \u001b[0m\u001b[32mDEBUG   \u001b[0m \u001b[1;4;35mlocalized_date_to_mt5\u001b[0m\u001b[1m(\u001b[0m\u001b[1m)\u001b[0m: gmt3: \u001b[1;36m2022\u001b[0m-\u001b[1;36m02\u001b[0m-\u001b[1;36m03\u001b[0m       \u001b]8;id=165221;file://C:\\Users\\Gabriele\\AppData\\Local\\Temp\\ipykernel_7000\\2920211480.py\u001b\\\u001b[2m2920211480.py\u001b[0m\u001b]8;;\u001b\\\u001b[2m:\u001b[0m\u001b]8;id=360410;file://C:\\Users\\Gabriele\\AppData\\Local\\Temp\\ipykernel_7000\\2920211480.py#15\u001b\\\u001b[2m15\u001b[0m\u001b]8;;\u001b\\\n",
       "\u001b[2;36m                    \u001b[0m         \u001b[1;92m15:04:00\u001b[0m+\u001b[1;92m03:00\u001b[0m                                  \u001b[2m                \u001b[0m\n"
      ]
     },
     "metadata": {},
     "output_type": "display_data"
    },
    {
     "data": {
      "text/html": [
       "<pre style=\"white-space:pre;overflow-x:auto;line-height:normal;font-family:Menlo,'DejaVu Sans Mono',consolas,'Courier New',monospace\"><span style=\"color: #7fbfbf; text-decoration-color: #7fbfbf\">                    </span><span style=\"color: #008000; text-decoration-color: #008000\">DEBUG   </span> <span style=\"color: #800080; text-decoration-color: #800080; font-weight: bold; text-decoration: underline\">localized_date_to_mt5</span><span style=\"font-weight: bold\">()</span>: dst: <span style=\"color: #ff0000; text-decoration-color: #ff0000; font-style: italic\">False</span>             <a href=\"file://C:\\Users\\Gabriele\\AppData\\Local\\Temp\\ipykernel_7000\\2920211480.py\"><span style=\"color: #7f7f7f; text-decoration-color: #7f7f7f\">2920211480.py</span></a><span style=\"color: #7f7f7f; text-decoration-color: #7f7f7f\">:</span><a href=\"file://C:\\Users\\Gabriele\\AppData\\Local\\Temp\\ipykernel_7000\\2920211480.py#16\"><span style=\"color: #7f7f7f; text-decoration-color: #7f7f7f\">16</span></a>\n",
       "</pre>\n"
      ],
      "text/plain": [
       "\u001b[2;36m                   \u001b[0m\u001b[2;36m \u001b[0m\u001b[32mDEBUG   \u001b[0m \u001b[1;4;35mlocalized_date_to_mt5\u001b[0m\u001b[1m(\u001b[0m\u001b[1m)\u001b[0m: dst: \u001b[3;91mFalse\u001b[0m             \u001b]8;id=925879;file://C:\\Users\\Gabriele\\AppData\\Local\\Temp\\ipykernel_7000\\2920211480.py\u001b\\\u001b[2m2920211480.py\u001b[0m\u001b]8;;\u001b\\\u001b[2m:\u001b[0m\u001b]8;id=893642;file://C:\\Users\\Gabriele\\AppData\\Local\\Temp\\ipykernel_7000\\2920211480.py#16\u001b\\\u001b[2m16\u001b[0m\u001b]8;;\u001b\\\n"
      ]
     },
     "metadata": {},
     "output_type": "display_data"
    },
    {
     "name": "stdout",
     "output_type": "stream",
     "text": [
      "{'candles': 5, 'ticks': 0}\n"
     ]
    },
    {
     "data": {
      "text/html": [
       "<div>\n",
       "<style scoped>\n",
       "    .dataframe tbody tr th:only-of-type {\n",
       "        vertical-align: middle;\n",
       "    }\n",
       "\n",
       "    .dataframe tbody tr th {\n",
       "        vertical-align: top;\n",
       "    }\n",
       "\n",
       "    .dataframe thead th {\n",
       "        text-align: right;\n",
       "    }\n",
       "</style>\n",
       "<table border=\"1\" class=\"dataframe\">\n",
       "  <thead>\n",
       "    <tr style=\"text-align: right;\">\n",
       "      <th></th>\n",
       "      <th>time</th>\n",
       "      <th>open</th>\n",
       "      <th>high</th>\n",
       "      <th>low</th>\n",
       "      <th>close</th>\n",
       "      <th>dst</th>\n",
       "      <th>var</th>\n",
       "    </tr>\n",
       "  </thead>\n",
       "  <tbody>\n",
       "    <tr>\n",
       "      <th>0</th>\n",
       "      <td>2021-10-21 11:00:00+00:00</td>\n",
       "      <td>157.384</td>\n",
       "      <td>157.719</td>\n",
       "      <td>157.308</td>\n",
       "      <td>157.686</td>\n",
       "      <td>True</td>\n",
       "      <td>-0.100</td>\n",
       "    </tr>\n",
       "    <tr>\n",
       "      <th>0</th>\n",
       "      <td>2021-09-23 11:00:00+00:00</td>\n",
       "      <td>150.291</td>\n",
       "      <td>150.959</td>\n",
       "      <td>150.160</td>\n",
       "      <td>150.936</td>\n",
       "      <td>True</td>\n",
       "      <td>-0.275</td>\n",
       "    </tr>\n",
       "    <tr>\n",
       "      <th>0</th>\n",
       "      <td>2021-05-10 06:00:00+00:00</td>\n",
       "      <td>152.826</td>\n",
       "      <td>153.315</td>\n",
       "      <td>152.816</td>\n",
       "      <td>153.260</td>\n",
       "      <td>True</td>\n",
       "      <td>-0.100</td>\n",
       "    </tr>\n",
       "    <tr>\n",
       "      <th>0</th>\n",
       "      <td>2021-01-26 15:00:00+00:00</td>\n",
       "      <td>142.170</td>\n",
       "      <td>142.456</td>\n",
       "      <td>142.131</td>\n",
       "      <td>142.428</td>\n",
       "      <td>False</td>\n",
       "      <td>-0.125</td>\n",
       "    </tr>\n",
       "    <tr>\n",
       "      <th>0</th>\n",
       "      <td>2020-10-06 15:00:00+00:00</td>\n",
       "      <td>136.993</td>\n",
       "      <td>137.054</td>\n",
       "      <td>136.705</td>\n",
       "      <td>136.740</td>\n",
       "      <td>True</td>\n",
       "      <td>0.000</td>\n",
       "    </tr>\n",
       "    <tr>\n",
       "      <th>0</th>\n",
       "      <td>2022-02-03 12:00:00+00:00</td>\n",
       "      <td>155.766</td>\n",
       "      <td>156.327</td>\n",
       "      <td>155.552</td>\n",
       "      <td>156.184</td>\n",
       "      <td>False</td>\n",
       "      <td>0.125</td>\n",
       "    </tr>\n",
       "  </tbody>\n",
       "</table>\n",
       "</div>"
      ],
      "text/plain": [
       "                       time     open     high      low    close    dst    var\n",
       "0 2021-10-21 11:00:00+00:00  157.384  157.719  157.308  157.686   True -0.100\n",
       "0 2021-09-23 11:00:00+00:00  150.291  150.959  150.160  150.936   True -0.275\n",
       "0 2021-05-10 06:00:00+00:00  152.826  153.315  152.816  153.260   True -0.100\n",
       "0 2021-01-26 15:00:00+00:00  142.170  142.456  142.131  142.428  False -0.125\n",
       "0 2020-10-06 15:00:00+00:00  136.993  137.054  136.705  136.740   True  0.000\n",
       "0 2022-02-03 12:00:00+00:00  155.766  156.327  155.552  156.184  False  0.125"
      ]
     },
     "execution_count": 13,
     "metadata": {},
     "output_type": "execute_result"
    }
   ],
   "source": [
    "with conn:\n",
    "    result = []\n",
    "    for row in frame.itertuples():\n",
    "        # count (backwards) THIS IS CORRECT\n",
    "        # datetime_to THIS IS ALSO CORRECT\n",
    "        # TICKS\n",
    "        r, tracker = copy_rates('GBPJPY', mt5.TIMEFRAME.M1, datetime_from=row.time, \n",
    "                                datetime_to=row.time+timedelta(seconds=mt5.period_seconds(row.timeframe)),\n",
    "                                include_start=False, include_end=False)\n",
    "        \n",
    "        print(tracker)\n",
    "        '''\n",
    "        r = mt5.copy_ticks_range('GBPJPY', datetime_from=row.time.timestamp(), \n",
    "                                 datetime_to=(\n",
    "                                     row.time+timedelta(\n",
    "                                         seconds=mt5.period_seconds(\n",
    "                                             row.timeframe))).timestamp(), flags=mt5.COPY_TICKS_INFO)\n",
    "        \n",
    "        r = pd.DataFrame(r)'''\n",
    "        f = {}\n",
    "        try:\n",
    "            f['time']  = [r['time'].iloc[0]]\n",
    "            f['open']  = [r['open'].iloc[0]]\n",
    "            f['high']  = [r['high'].max()]\n",
    "            f['low']   = [r['low'].min()]\n",
    "            f['close'] = [r['close'].iloc[-1]]\n",
    "            f['dst'] = bool(row.dst)\n",
    "            f['var'] = ( (f['open'][0]-row.open) +\n",
    "                         (f['high'][0]-row.high) +\n",
    "                         (f['low'][0]-row.low)   +\n",
    "                         (f['close'][0]-row.close) ) * 100 / 4\n",
    "            \n",
    "            result.append(pd.DataFrame(f))\n",
    "        except IndexError: # there no tick data yet\n",
    "            pass\n",
    "\n",
    "pd.concat(result)"
   ]
  },
  {
   "cell_type": "markdown",
   "id": "67b09512",
   "metadata": {},
   "source": [
    "### Rates()"
   ]
  },
  {
   "cell_type": "code",
   "execution_count": 14,
   "id": "d5630113",
   "metadata": {
    "ExecuteTime": {
     "end_time": "2022-02-04T12:11:35.902166Z",
     "start_time": "2022-02-04T12:11:35.870917Z"
    }
   },
   "outputs": [],
   "source": [
    "class Rates():\n",
    "    '''This object is used to pass around rates yielded from copy_rates()'''\n",
    "    \n",
    "    def __init__(self, symbol: str, blueberry: bool = False):\n",
    "        self.history = {}\n",
    "        self.loaded_candles = 0\n",
    "        self.loaded_ticks = 0\n",
    "        self.symbol = symbol\n",
    "        if blueberry:\n",
    "            if symbol not in ['BTCUSD', 'XAUUSD']:\n",
    "                self.symbol += '.i' # blueberry\n",
    "    \n",
    "    def get(self,\n",
    "            timeframe = mt5.TIMEFRAME.H1,\n",
    "            datetime_from: datetime = None,\n",
    "            datetime_to: datetime = None,\n",
    "            start_pos: int = None,\n",
    "            count: int = None, \n",
    "            include_start = True,\n",
    "            include_end = True,\n",
    "            og = None) -> pd.DataFrame:\n",
    "        \n",
    "        self.last_timeframe = timeframe\n",
    "        self.last_datetime_from = datetime_from\n",
    "        self.last_datetime_to = datetime_from\n",
    "        self.last_start_pos = start_pos\n",
    "        self.last_count = count\n",
    "        \n",
    "        rates, tracker = copy_rates(self.symbol,\n",
    "                                    timeframe=timeframe,\n",
    "                                    datetime_from=datetime_from,\n",
    "                                    datetime_to=datetime_to,\n",
    "                                    start_pos=start_pos,\n",
    "                                    count=count, \n",
    "                                    include_start=include_start,\n",
    "                                    include_end=include_end)\n",
    "        \n",
    "        self.loaded_candles += tracker['candles']\n",
    "        self.loaded_ticks += tracker['ticks']\n",
    "        \n",
    "        if og: self.og_view = rates\n",
    "        self.current_view = rates\n",
    "        \n",
    "        return rates"
   ]
  },
  {
   "cell_type": "markdown",
   "id": "43ff8c37",
   "metadata": {},
   "source": [
    "### has_candle_hit()"
   ]
  },
  {
   "cell_type": "code",
   "execution_count": 15,
   "id": "08b50c36",
   "metadata": {
    "ExecuteTime": {
     "end_time": "2022-02-04T12:11:36.266347Z",
     "start_time": "2022-02-04T12:11:35.902166Z"
    }
   },
   "outputs": [],
   "source": [
    "def has_candle_hit(target: Target, h: float, l: float, spread: float = 0.0002):\n",
    "    '''\n",
    "    Determines whether a candle has hit a level. You need high and low \n",
    "    because those are the extremes of the range. You also need to now\n",
    "    what kind of order it is and which side (buy, sell) you're acting on.\n",
    "    Supported categories are: limit, stop\n",
    "    Spread works by multiplying the 'spread' times the last level value\n",
    "    '''\n",
    "    \n",
    "    cat = target.category\n",
    "    side = target.side\n",
    "    level = target.level\n",
    "    spread = spread*level\n",
    "        \n",
    "    if cat == 'limit':\n",
    "            \n",
    "        # no spread on limits, it will be checked\n",
    "        # by the ticks check anyway\n",
    "        \n",
    "        if side == 'buy':\n",
    "            if l+spread*0 <= level:\n",
    "                return True\n",
    "        else: \n",
    "            if h-spread*0 >= level:\n",
    "                return True\n",
    "    \n",
    "    elif cat == 'stop':\n",
    "        \n",
    "        # on stops we need spreads in order\n",
    "        # to make sure that sl aren't actually hit\n",
    "        \n",
    "        if side == 'buy':\n",
    "            if h+spread >= level:\n",
    "                return True\n",
    "        else: \n",
    "            if l-spread <= level:\n",
    "                return True\n",
    "    \n",
    "    return False"
   ]
  },
  {
   "cell_type": "markdown",
   "id": "97b1462f",
   "metadata": {},
   "source": [
    "### find_hit()"
   ]
  },
  {
   "cell_type": "code",
   "execution_count": 16,
   "id": "bdea1bb0",
   "metadata": {
    "ExecuteTime": {
     "end_time": "2022-02-04T12:11:36.672580Z",
     "start_time": "2022-02-04T12:11:36.266347Z"
    }
   },
   "outputs": [],
   "source": [
    "def find_hit(target: Target,\n",
    "             rates: Rates,\n",
    "             timeframe = 'ticks'):\n",
    "    '''\n",
    "    This function iterates over the view until it finds the candle that fills all of the criterias\n",
    "    If timeframe='ticks', it gets down to the ticks to find the true ask/bid values of the hit\n",
    "    Returns None if it doesn't find one or corresponding the pd.Series row if it does\n",
    "    '''\n",
    "    \n",
    "    log = logging.getLogger('find_hit')\n",
    "    debug = True if log.level <= logging.DEBUG else False\n",
    "    \n",
    "    og_view = rates.og_view\n",
    "    og_view['hit'] = og_view.apply(lambda x: has_candle_hit(target, x['high'], x['low']), axis=1)\n",
    "    hits = og_view[og_view['hit']] # this are the candles where there is a hit\n",
    "    hits = hits[hits['time'] > (target.date() - timedelta(minutes=int(FIRST_PARSE_TF)))]\n",
    "    \n",
    "    log.debug(f'L1 ({int(FIRST_PARSE_TF)}m)')\n",
    "    if debug: display(og_view)\n",
    "    \n",
    "    # iterating over true_rates\n",
    "    for i, row in enumerate(hits.itertuples()):\n",
    "        \n",
    "        t_from = row.time # it's a namedtuple\n",
    "        \n",
    "        # gets view\n",
    "        view = rates.get(timeframe=SECOND_PARSE_TF,\n",
    "                         datetime_from=t_from,\n",
    "                         datetime_to=t_from+timedelta(seconds=mt5.period_seconds(FIRST_PARSE_TF)),\n",
    "                         include_start=False)\n",
    "            \n",
    "        # finds which of the smaller candles has a hit on it\n",
    "        view['hit'] = view.apply(lambda x: has_candle_hit(target, x['high'], x['low']), axis=1)\n",
    "        hits2 = view[view['hit']]\n",
    "        hits2 = hits2[hits2['time'] > (target.date()-timedelta(seconds=mt5.period_seconds(SECOND_PARSE_TF)))]\n",
    "        \n",
    "        log.debug(f'L2 ({int(SECOND_PARSE_TF)}m): candle({i}) ')\n",
    "        if debug: display(view)\n",
    "        \n",
    "        # ITERATES OVER THE SMALLER CANDLES\n",
    "        for j, row2 in enumerate(hits2.itertuples()):\n",
    "         \n",
    "            if timeframe == 'ticks':\n",
    "                \n",
    "                ticks = rates.get(timeframe='ticks',\n",
    "                                  datetime_from=row2.time,\n",
    "                                  datetime_to=row2.time+timedelta(seconds=mt5.period_seconds(SECOND_PARSE_TF)))\n",
    "                \n",
    "                time_mask = (ticks['time']>=(target.date()+timedelta(seconds=1))) # 1 second to operate\n",
    "\n",
    "                \n",
    "                try:\n",
    "                    # behaviour is different depending target category\n",
    "                    if target.category == 'limit':\n",
    "                        if target.side == 'buy':\n",
    "                            hit_tick = ticks[time_mask & (ticks['ask']<=target.level)].iloc[0]\n",
    "                        else: hit_tick = ticks[time_mask & (ticks['bid']>=target.level)].iloc[0]\n",
    "\n",
    "                    elif target.category == 'stop':\n",
    "                        if target.side == 'buy':\n",
    "                            hit_tick = ticks[time_mask & (ticks['ask']>=target.level)].iloc[0]\n",
    "                        else: hit_tick = ticks[time_mask & (ticks['bid']<=target.level)].iloc[0]\n",
    "\n",
    "                except IndexError:\n",
    "                    log.debug(f'L3 (ticks): candle({i};{j}) no-hits')\n",
    "                    continue\n",
    "                    \n",
    "                log.debug(f'L3 (ticks): candle({i};{j})')\n",
    "                if debug: \n",
    "                    i_hit = ticks.index.get_loc(hit_tick.name)\n",
    "                    display(ticks[time_mask], ticks.iloc[i_hit-1:i_hit+2])\n",
    "                \n",
    "                return hit_tick\n",
    "\n",
    "\n",
    "            else: # timeframe is not 'ticks', i.e. mt5.TIMEFRAME.M1\n",
    "\n",
    "                if mt5.period_seconds(timeframe) < mt5.period_seconds(SECOND_PARSE_TF):\n",
    "\n",
    "                    view = rates.get(timeframe=timeframe,\n",
    "                                     datetime_from=row2.time,\n",
    "                                     datetime_to=row2.time,\n",
    "                                     include_start=False)\n",
    "                    \n",
    "\n",
    "            # finds which of the 'timeframe' candle has a hit on it\n",
    "            view['hit'] = view.apply(lambda x: has_candle_hit(target, x['high'], x['low']), axis=1)\n",
    "\n",
    "            try: \n",
    "                hits = view[view['hit']]\n",
    "                hits = hits[hits['time']>target.date()-timedelta(seconds=mt5.period_seconds(timeframe))]\n",
    "                candle = hits.iloc[0]\n",
    "            # theres no candle after signal['date'] where the order could've been filled\n",
    "            except IndexError:\n",
    "                continue                \n",
    "                \n",
    "            return candle\n",
    "\n",
    "    return None"
   ]
  },
  {
   "cell_type": "markdown",
   "id": "baa1b038",
   "metadata": {},
   "source": [
    "### determine_R()"
   ]
  },
  {
   "cell_type": "code",
   "execution_count": 17,
   "id": "9a0357d7",
   "metadata": {
    "ExecuteTime": {
     "end_time": "2022-02-04T12:11:36.969448Z",
     "start_time": "2022-02-04T12:11:36.672580Z"
    }
   },
   "outputs": [],
   "source": [
    "def determine_R(signal: dict, rates, before: datetime = None, mode: str = 'max', recursion=True):\n",
    "    '''Determines max or min R before datetime specified'''\n",
    "    \n",
    "    view = rates.current_view\n",
    "    if recursion:\n",
    "        view = rates.og_view\n",
    "    \n",
    "    # rates must be before the time specified and after the entry else return None\n",
    "    must_be_active = ( view['time'] > \n",
    "                       signal['activated']-timedelta(minutes=FIRST_PARSE_TF if recursion else 1) )\n",
    "    \n",
    "    if before is not None:\n",
    "        view = view[(view['time']<before) & (must_be_active)]\n",
    "    else: view = view[must_be_active]\n",
    "    \n",
    "    if view.shape[0] == 0: # tp was before the entry\n",
    "        return None\n",
    "    \n",
    "    sl = abs(signal['true_entry']-signal['sl'])\n",
    "\n",
    "    if signal['side'] == 'buy':\n",
    "        if mode == 'max':\n",
    "            view.loc[:, 'running_R'] = view.apply(lambda x: (x['high']-signal['true_entry'])/sl, axis=1)\n",
    "        else: view.loc[:, 'running_R'] = view.apply(lambda x: (x['low']-signal['true_entry'])/sl, axis=1)\n",
    "    else: \n",
    "        if mode == 'max':\n",
    "            view.loc[:, 'running_R'] = view.apply(lambda x: (signal['true_entry']-x['low'])/sl, axis=1)\n",
    "        else: view.loc[:, 'running_R'] = view.apply(lambda x: (signal['true_entry']-x['high'])/sl, axis=1)\n",
    "\n",
    "    # resets the index so that it can be easily compared to length\n",
    "    view = view.reset_index()\n",
    "    \n",
    "    max_condition = ( (view['running_R'].idxmax() == view.shape[0]-1) or\n",
    "                      (view['running_R'].idxmax() == 0) )\n",
    "    \n",
    "    min_condition = ( (view['running_R'].idxmin() == view.shape[0]-1) or\n",
    "                      (view['running_R'].idxmin() == 0) )\n",
    "    \n",
    "    # if it's the first or the last candle it zooms down to the\n",
    "    # one minute to find the more trustworthy value\n",
    "    if ( ((mode == 'max' and max_condition) or\n",
    "          (mode == 'min' and min_condition)) and \n",
    "        \n",
    "          (int(FIRST_PARSE_TF) != 1) and recursion ):\n",
    "    \n",
    "        t_from = ( view.loc[view['running_R'].idxmax(), 'time'] if mode=='max' else\n",
    "                   view.loc[view['running_R'].idxmin(), 'time'] )\n",
    "        \n",
    "        t_to = t_from + timedelta(minutes=int(FIRST_PARSE_TF))\n",
    "\n",
    "        rates.get(timeframe=mt5.TIMEFRAME.M1,\n",
    "                  datetime_from=t_from,\n",
    "                  datetime_to=t_to)\n",
    "        \n",
    "        return determine_R(signal, rates, before, mode=mode, recursion=False) # recursive\n",
    "    \n",
    "    return view['running_R'].max() if mode=='max' else view['running_R'].min()"
   ]
  },
  {
   "cell_type": "markdown",
   "id": "49eb94d2",
   "metadata": {},
   "source": [
    "### before()"
   ]
  },
  {
   "cell_type": "code",
   "execution_count": 18,
   "id": "29c68600",
   "metadata": {
    "ExecuteTime": {
     "end_time": "2022-02-04T12:11:37.328251Z",
     "start_time": "2022-02-04T12:11:36.969448Z"
    }
   },
   "outputs": [],
   "source": [
    "def before(event, than: list, df):\n",
    "    \n",
    "    r = pd.notna(df[event])\n",
    "    for t in than:\n",
    "        if t not in df.columns:\n",
    "            continue\n",
    "        r = r & (pd.isnull(df[t]) | (df[event] < df[t]))\n",
    "    return r"
   ]
  },
  {
   "cell_type": "markdown",
   "id": "220015b2",
   "metadata": {},
   "source": [
    "### backtest()"
   ]
  },
  {
   "cell_type": "code",
   "execution_count": 27,
   "id": "0e4ea5ba",
   "metadata": {
    "ExecuteTime": {
     "end_time": "2022-02-04T13:56:51.557828Z",
     "start_time": "2022-02-04T13:56:51.454892Z"
    }
   },
   "outputs": [],
   "source": [
    "def backtest(signals_df,\n",
    "             n=slice(0,1e9),\n",
    "             override_tp=[],\n",
    "             partials_array=[1],\n",
    "             override_be=-100,\n",
    "             sl_coefficient=1,\n",
    "             end_of_period='day',\n",
    "             end_of_day='18:30',\n",
    "             precision='ticks'):\n",
    "\n",
    "    '''\n",
    "    The backtesting main routine. For each signal, this algorithm will first determine whether\n",
    "    it's a market execution or a limit. If it's a limit, it will fetch the 30m candles up until\n",
    "    5:30PM Europe/Rome time and see if it activated. If it did, it will go on the same way as for\n",
    "    the market execution type: it will fetch the 5 minutes candles up until, again, 5:30PM Europe/Rome\n",
    "    time and check for 1) when was sl hit, 2) when was tp hit, 3) the max R gained by the trade before\n",
    "    closing. When it finds a hit, it will zoom in on the 1 minute candle where it happened and find the\n",
    "    exact minute it did for increased accuracy (it could even go to ticks but we don't need that much\n",
    "    detail). Returns a dataframe containing info on the time the signal was sent, the time it activated\n",
    "    and all of the other three things it checked out.\n",
    "    '''\n",
    "    \n",
    "    log = logging.getLogger('backtest')\n",
    "    debug = True if log.level <= logging.DEBUG else False\n",
    "    log.debug(f'locals(): { {k:v for k, v in locals().items() if k!=\"signals_df\"} }')\n",
    "    \n",
    "    signals = get_signals(signals_df,\n",
    "                          n=n, # filters n rows\n",
    "                          override_tp=override_tp,\n",
    "                          override_be=override_be,\n",
    "                          sl_coefficient=sl_coefficient)\n",
    "    \n",
    "    with Progress(\"[i][progress.description]{task.description}\",\n",
    "                  SpinnerColumn(spinner_name='betaWave', finished_text=\"✓\", style=\"black\"),\n",
    "                  BarColumn(complete_style='cyan'),\n",
    "                  \"{task.completed} of {task.total}\", \"•\",\n",
    "                  \"c: {task.fields[counter][candles]:,.0f}\", \"•\",\n",
    "                  \"t: [b]{task.fields[counter][ticks]:,.0f}\", \"•\",\n",
    "                  \"[progress.percentage]{task.percentage:>3.0f}%\", \"•\",\n",
    "                  TimeRemainingColumn(), expand=False, disable=debug) as progress:\n",
    "        \n",
    "        counter = {'candles': 0, 'ticks': 0}\n",
    "        main_task = progress.add_task('Analysing',\n",
    "                                      total=len(signals),\n",
    "                                      counter=counter,\n",
    "                                      name='main_task')\n",
    "        \n",
    "        symbol_info = {}\n",
    "        for n, signal in enumerate(signals):\n",
    "            \n",
    "            log.debug(f'======== SIGNAL n. {n} ========')\n",
    "            \n",
    "            # updates progress bar\n",
    "            progress.update(main_task,\n",
    "                            advance=1,\n",
    "                            counter=counter,\n",
    "                            refresh=True)\n",
    "            \n",
    "            # time of signal\n",
    "            t_from = signal['time']\n",
    "            # end of day\n",
    "            hour_end, minute_end = end_of_day.split(':')\n",
    "            day = signal['time'].replace(hour=int(hour_end), minute=int(minute_end)-1)\n",
    "            # end of week\n",
    "            \n",
    "            start_of_week = day - timedelta(days=day.weekday())\n",
    "            week = start_of_week + timedelta(days=4) # that week's friday\n",
    "            # set end of period that the backtester will look at \n",
    "            eop = locals()[end_of_period]\n",
    "            \n",
    "            # signal was too late, skip it\n",
    "            if t_from >= eop:\n",
    "                log.debug(f's::{n} signal was too late, skip it')\n",
    "                continue\n",
    "                \n",
    "            # get the point value for this symbol\n",
    "            if signal['ticker'] not in symbol_info:\n",
    "                log.debug(f's::{n} signal[\"ticker\"]={signal[\"ticker\"]} not in symbol_info')\n",
    "                info = mt5.symbol_info(signal['ticker'])\n",
    "                symbol_info[signal['ticker']] = info\n",
    "            \n",
    "            # adds tick value to final dict\n",
    "            signals[n]['tick_size'] = symbol_info[signal['ticker']].trade_tick_size\n",
    "            signals[n]['tick_digits'] = int(math.log10(signals[n]['tick_size']))\n",
    "            \n",
    "            rates = Rates(signal['ticker'], blueberry=False)\n",
    "            og_rates = rates.get(timeframe=FIRST_PARSE_TF,\n",
    "                                 datetime_from=t_from,\n",
    "                                 datetime_to=eop, og=True)\n",
    "                                \n",
    "            ##### ENTRY #####\n",
    "            entrytrgt = Target(signals[n], 'limit', signal['side'], signal['entry'])\n",
    "            assert entrytrgt.level == signals[n]['entry']\n",
    "              \n",
    "            log.debug(f'Looking for entry, date={entrytrgt.date()} level={entrytrgt.level} '\\\n",
    "                      f'side={entrytrgt.side} mode={entrytrgt.category}')\n",
    "            \n",
    "            if signal['flag'] == 'limit': # limit order\n",
    "              \n",
    "                entry_hit = find_hit(entrytrgt, rates, timeframe=precision)\n",
    "                # if no hits were found, skip ahead\n",
    "                if entry_hit is None:\n",
    "                    continue\n",
    "\n",
    "                signals[n]['activated'] = entry_hit['time']\n",
    "                # limit orders are always filled at the limit price, but since the signal can be sent\n",
    "                # when the price is already better, it could be executed at market \n",
    "                \n",
    "                if 'ask' in entry_hit: # precision=ticks\n",
    "                    signals[n]['true_entry'] = ( entry_hit['ask'] if entrytrgt.side == 'buy' \n",
    "                                                                  else entry_hit['bid'] )\n",
    "                else: \n",
    "                    signals[n]['true_entry'] = round(\n",
    "                        entry_hit['low'] + (entry_hit['high'] - entry_hit['low']) / 2, \n",
    "                        signals[n]['tick_digits'])\n",
    "                    \n",
    "                \n",
    "            elif signal['flag'] in ['instant', 'market']: # market order\n",
    "\n",
    "                # get first ticks after signal['date']\n",
    "                entry_hit = rates.get(timeframe=precision,\n",
    "                                      datetime_from=signal['date'],\n",
    "                                      count=1).iloc[0]\n",
    "                \n",
    "                signals[n]['activated'] = entry_hit['time']\n",
    "                \n",
    "                if 'ask' in entry_hit: # precision=ticks\n",
    "                    signals[n]['true_entry'] = ( entry_hit['ask'] if entrytrgt.side == 'buy' \n",
    "                                                                  else entry_hit['bid'] )\n",
    "                else: \n",
    "                    signals[n]['true_entry'] = round(\n",
    "                        entry_hit['low'] + (entry_hit['high'] - entry_hit['low']) / 2, \n",
    "                        signals[n]['tick_digits'])\n",
    "                \n",
    "            log.debug(f'Entry found @{signals[n][\"true_entry\"]} on {signals[n][\"activated\"]}') \n",
    "           \n",
    "            # there was one case\n",
    "            if signals[n]['true_entry'] == signal['sl']:\n",
    "                log.debug('true_entry==signal[\"sl\"], for some reason')\n",
    "                continue\n",
    "                    \n",
    "            # this makes it so that all of the next find_hit() will\n",
    "            # start from when the trade has actually been activated\n",
    "            \n",
    "            \n",
    "            ##### SL #####\n",
    "            # look for sl hit, reusing the same frame\n",
    "            opp_side = 'sell' if signal['side'] == 'buy' else 'buy'\n",
    "            sltrgt = Target(signals[n], 'stop', opp_side, signal['sl'])\n",
    "            \n",
    "            log.debug(f'Looking for SL, date={sltrgt.date()} level={sltrgt.level} '\\\n",
    "                      f'side={sltrgt.side} mode={sltrgt.category}')           \n",
    "            sl_hit = find_hit(sltrgt, rates, timeframe=precision)\n",
    "\n",
    "            if sl_hit is not None:\n",
    "                signals[n]['sl_hit'] = sl_hit['time']\n",
    "                \n",
    "                if 'ask' in sl_hit: # precision=ticks\n",
    "                    signals[n]['true_sl'] = ( sl_hit['ask'] if sltrgt.side == 'buy' \n",
    "                                                                  else sl_hit['bid'] )\n",
    "                else: \n",
    "                    signals[n]['true_sl'] = round(\n",
    "                        sl_hit['low'] + (sl_hit['high'] - sl_hit['low']) / 2, \n",
    "                        signals[n]['tick_digits'])\n",
    "                    \n",
    "                log.debug(f'SL found @{signals[n][\"true_sl\"]} on {signals[n][\"sl_hit\"]}') \n",
    "           \n",
    "\n",
    "            ##### BE #####\n",
    "            be_set = None\n",
    "            be_hit = None # otherwise next loop will use last one\n",
    "            \n",
    "            if 'be' in signal:\n",
    "                \n",
    "                # look for be_set and be_hit, reusing the same frame\n",
    "                betrgt = Target(signals[n], 'limit', opp_side, signal['be'])\n",
    "            \n",
    "                log.debug(f'Looking for BE set, date={betrgt.date()} level={betrgt.level} '\\\n",
    "                      f'side={betrgt.side} mode={betrgt.category}') \n",
    "                be_set = find_hit(betrgt, rates, timeframe=precision)\n",
    "\n",
    "                if be_set is not None:\n",
    "                    # assigns be_hit to signal\n",
    "                    signals[n]['be_set'] = be_set['time']\n",
    "                    \n",
    "                    if 'ask' in be_set: # precision=ticks\n",
    "                        signals[n]['true_be_set'] = ( be_set['ask'] if betrgt.side == 'buy' \n",
    "                                                                    else be_set['bid'] )\n",
    "                    else: \n",
    "                        signals[n]['true_be_set'] = round(\n",
    "                            be_set['low'] + (be_set['high'] - be_set['low']) / 2, \n",
    "                            signals[n]['tick_digits'])\n",
    "                    \n",
    "                   \n",
    "                    log.debug(f'BE (set) found @{signals[n][\"true_be_set\"]} on {signals[n][\"be_set\"]}') \n",
    "\n",
    "                    betrgt.set_date(be_set['time']) # updates the date of be target\n",
    "                    betrgt.level = signals[n]['true_entry']\n",
    "                    betrgt.category = 'stop' # ofc\n",
    "                    \n",
    "                    log.debug(f'Looking for BE hit, date={betrgt.date()} level={betrgt.level} '\\\n",
    "                      f'side={betrgt.side} mode={betrgt.category}') \n",
    "                    be_hit = find_hit(betrgt, rates, timeframe=precision)\n",
    "                    \n",
    "                    if be_hit is not None:\n",
    "                        signals[n]['be_hit'] = be_hit['time']\n",
    "                        \n",
    "                        if 'ask' in be_hit: # precision=ticks\n",
    "                            signals[n]['true_be_hit'] = ( be_hit['ask'] if betrgt.side == 'buy' \n",
    "                                                                          else be_hit['bid'] )\n",
    "                        else: \n",
    "                            signals[n]['true_be_hit'] = round(\n",
    "                                be_hit['low'] + (be_hit['high'] - be_hit['low']) / 2, \n",
    "                                signals[n]['tick_digits'])\n",
    "                    \n",
    "                       \n",
    "                        log.debug(f'BE (hit) found @{signals[n][\"true_be_hit\"]} on {signals[n][\"be_hit\"]}')\n",
    "\n",
    "\n",
    "            ##### TP #####\n",
    "            signals[n]['tp_hit'] = []\n",
    "            signals[n]['true_tp'] = []\n",
    "            signals[n]['minR'] = []\n",
    "            \n",
    "            # look for tp hit, reusing the same frame\n",
    "            for i, tp in enumerate(signal['tp']):\n",
    "                \n",
    "               # check if it's a reasonable multiple of entry\n",
    "                if not (signals[n]['true_entry']*0.975 < tp < 1.025*signals[n]['true_entry']):\n",
    "                    removed = signals[n]['tp'].pop(i)\n",
    "                    assert removed == tp\n",
    "                    log.debug(f'tp{i}={tp} has been removed due to being unreasonable')\n",
    "                    continue\n",
    "                \n",
    "                tptrgt = Target(signals[n], 'limit', opp_side, tp)\n",
    "                \n",
    "                log.debug(f'Looking for TP{i}, date={tptrgt.date()} level={tptrgt.level} '\\\n",
    "                      f'side={tptrgt.side} mode={tptrgt.category}') \n",
    "                tp_hit = find_hit(tptrgt, rates, timeframe=precision)\n",
    "                \n",
    "                if tp_hit is None:\n",
    "                    for attr in ('minR', 'tp_hit', 'true_tp'):\n",
    "                        signals[n][attr].append(None)\n",
    "                else:\n",
    "                    minR = determine_R(signals[n], rates, before=tp_hit['time'], mode='min')\n",
    "                    signals[n]['minR'].append(minR)\n",
    "                    signals[n]['tp_hit'].append(tp_hit['time'])\n",
    "                    \n",
    "                    if 'ask' in tp_hit: # precision=ticks\n",
    "                        signals[n]['true_tp'].append( tp_hit['ask'] if tptrgt.side == 'buy' \n",
    "                                                                else tp_hit['bid'] )\n",
    "                    else: \n",
    "                        signals[n]['true_tp'].append(round(\n",
    "                            tp_hit['low'] + (tp_hit['high'] - tp_hit['low']) / 2, \n",
    "                            signals[n]['tick_digits']))\n",
    "                    \n",
    "   \n",
    "                    log.debug(f'TP{i} found @{signals[n][f\"true_tp\"][i]} on {signals[n][f\"tp_hit\"][i]}')\n",
    "                    \n",
    "         \n",
    "            ##### R_MAX #####\n",
    "            # look for maxR (before sl is hit) using the same frame\n",
    "            maxR = determine_R(signals[n], \n",
    "                               rates, \n",
    "                               before=sl_hit['time'] if sl_hit is not None else None,\n",
    "                               mode='max')\n",
    "\n",
    "            signals[n]['maxR'] = maxR\n",
    "\n",
    "                \n",
    "            ##### R_EOP #####\n",
    "            # get R at the end of period\n",
    "            if signal['side'] == 'buy':\n",
    "                eopR = ( (og_rates.loc[og_rates.index[-1], 'close'] - signals[n]['true_entry']) /\n",
    "                          abs(signals[n]['true_entry'] - signal['sl']) )\n",
    "            else:\n",
    "                eopR = ( (signals[n]['true_entry'] - og_rates.loc[og_rates.index[-1], 'close']) /\n",
    "                          abs(signals[n]['true_entry'] - signal['sl']) )\n",
    "            \n",
    "            signals[n]['eopR'] = eopR\n",
    "            \n",
    "            \n",
    "            # ##### RESULTS #####\n",
    "            sl_delta = abs(signals[n]['true_entry']-signals[n]['sl'])\n",
    "            tp_hit = signals[n]['tp_hit']\n",
    "            sl_hit = sl_hit['time'] if sl_hit is not None else None\n",
    "            be_hit = be_hit['time'] if be_hit is not None else None\n",
    "            \n",
    "            #trade close @SL (before tp0_hit and be_hit)\n",
    "            if ( (sl_hit is not None) and \n",
    "                  all([sl_hit < x if x is not None else True for x in (tp_hit[0], be_hit)]) ):\n",
    "                \n",
    "                true_sl_delta = abs(signals[n]['true_entry'] - signals[n]['true_sl'])\n",
    "                signals[n]['result_R'] = - true_sl_delta / sl_delta\n",
    "                signals[n]['result_pips'] = - true_sl_delta / (signals[n]['tick_size']*10)\n",
    "                signals[n]['closed_at'] = 'sl'\n",
    "                \n",
    "            #trade close @BE (before tp0_hit and sl_hit)\n",
    "            elif ( all([x is not None for x in (be_set, be_hit)]) and\n",
    "                   all([be_hit < x if x is not None else True for x in (tp_hit[0], sl_hit)]) ):\n",
    "                \n",
    "                true_be_delta = signals[n]['true_be_hit'] - signals[n]['true_entry']\n",
    "                side_coeff = 1 if signal['side']=='buy' else -1\n",
    "                signals[n]['result_R'] = (side_coeff*true_be_delta) / sl_delta\n",
    "                signals[n]['result_pips'] = (side_coeff*true_be_delta) / (signals[n]['tick_size']*10)\n",
    "                signals[n]['closed_at'] = 'be'\n",
    "            \n",
    "            # trade closed @TP\n",
    "            partials_array += [0]*20\n",
    "            result_R = 0\n",
    "            result_pips = 0\n",
    "            for i, tp in enumerate(tp_hit):\n",
    "                \n",
    "                if ( (tp is not None) and\n",
    "                      all([tp < x if x is not None else True for x in (be_hit, sl_hit)]) ):\n",
    "                \n",
    "                    true_tp_delta = signals[n]['true_tp'][i] - signals[n]['true_entry']\n",
    "                    side_coeff = 1 if signal['side']=='buy' else -1\n",
    "                    result_R += partials_array[i] * ((side_coeff*true_tp_delta) / sl_delta)\n",
    "                    signals[n]['result_R'] = result_R\n",
    "                    result_pips += partials_array[i] * ( (side_coeff*true_tp_delta) / \n",
    "                                                         (signals[n]['tick_size']*10) )\n",
    "                    signals[n]['result_pips'] = result_pips\n",
    "                    signals[n]['closed_at'] = f'tp{i}'\n",
    "\n",
    "                \n",
    "            # update tracker & progress bar\n",
    "            signals[n]['loaded_candles'] = rates.loaded_candles\n",
    "            signals[n]['loaded_ticks'] = rates.loaded_ticks\n",
    "            counter['candles'] += rates.loaded_candles\n",
    "            counter['ticks'] += rates.loaded_ticks\n",
    "            \n",
    "        log.info('Analysis completed')\n",
    "        return pd.DataFrame(signals)"
   ]
  },
  {
   "cell_type": "markdown",
   "id": "d5bae0b2",
   "metadata": {},
   "source": [
    "## Backtester Engine v2"
   ]
  },
  {
   "cell_type": "markdown",
   "id": "e6cd77a3",
   "metadata": {},
   "source": [
    "### Constants"
   ]
  },
  {
   "cell_type": "code",
   "execution_count": 210,
   "id": "df521449",
   "metadata": {
    "ExecuteTime": {
     "end_time": "2022-02-04T22:22:18.076211Z",
     "start_time": "2022-02-04T22:22:17.356680Z"
    }
   },
   "outputs": [],
   "source": [
    "class SIDE(enum.IntEnum):\n",
    "    BUY = 1\n",
    "    SELL = -1\n",
    "    \n",
    "class TYPE(enum.IntEnum):\n",
    "    LIMIT = 0\n",
    "    STOP = 1\n",
    "    MARKET = 2\n",
    "    SLTP = 3\n",
    "    \n",
    "class STATUS(enum.IntEnum):\n",
    "    PENDING = 0\n",
    "    EXECUTED = 1\n",
    "\n",
    "class TIMEFRAME(enum.IntEnum):\n",
    "    \n",
    "    TICKS = 0\n",
    "    M1 = 1\n",
    "    M2 = 2\n",
    "    M3 = 3\n",
    "    M4 = 4\n",
    "    M5 = 5\n",
    "    M6 = 6\n",
    "    M10 = 10\n",
    "    M12 = 12\n",
    "    M15 = 15\n",
    "    M20 = 20\n",
    "    M30 = 30\n",
    "    H1 = 60\n",
    "    H2 = 60*2\n",
    "    H3 = 60*3\n",
    "    H4 = 60*4\n",
    "    H6 = 60*6\n",
    "    H8 = 60*8\n",
    "    H12 = 60*12\n",
    "    D1 = 60*24\n",
    "    W1 = 60*24*7\n",
    "    MN1 = 60*24*30\n",
    "    \n",
    "    # this is used in get_rates()\n",
    "    def mt5(timeframe: Union[str, 'TIMEFRAME']):\n",
    "        return getattr(mt5.TIMEFRAME, str(timeframe).split('.')[-1])\n",
    "    \n",
    "class FLAG(enum.IntEnum):\n",
    "    MESSAGE = 0\n",
    "    ORDER = 1\n",
    "    PARSING_ERROR = 2\n",
    "    PARTIALS = 3\n",
    "    SLTP_UPDATE = 4\n",
    "    CLOSE = 5"
   ]
  },
  {
   "cell_type": "markdown",
   "id": "94e63c21",
   "metadata": {},
   "source": [
    "### Rates()"
   ]
  },
  {
   "cell_type": "code",
   "execution_count": 107,
   "id": "0ea7fd29",
   "metadata": {
    "ExecuteTime": {
     "end_time": "2022-02-04T16:39:01.507535Z",
     "start_time": "2022-02-04T16:39:01.485552Z"
    }
   },
   "outputs": [],
   "source": [
    "class Rates():\n",
    "    \n",
    "    def __init__(self,\n",
    "                 symbol: str,\n",
    "                 rates: pd.DataFrame,\n",
    "                 timeframe: TIMEFRAME,\n",
    "                 length: int):\n",
    "        \n",
    "        # df is already ok thx to mt5_date_to_utc()\n",
    "        self.df = rates\n",
    "        self.timeframe = timeframe\n",
    "        self.timeframe_seconds = mt5.period_seconds(self.timeframe)\n",
    "        self.length = length\n",
    "        \n",
    "    def __len__(self):\n",
    "        return self.length\n",
    "    \n",
    "    def where_event_happened(self, event: Event):\n",
    "        '''Returns the filtered dataframe based on the event passed'''\n",
    "        if event.price:\n",
    "            pass"
   ]
  },
  {
   "cell_type": "markdown",
   "id": "665cdbe0",
   "metadata": {},
   "source": [
    "### get_rates()"
   ]
  },
  {
   "cell_type": "code",
   "execution_count": 157,
   "id": "09a97dcb",
   "metadata": {
    "ExecuteTime": {
     "end_time": "2022-02-04T17:08:15.145141Z",
     "start_time": "2022-02-04T17:08:15.115160Z"
    }
   },
   "outputs": [],
   "source": [
    "def get_rates(symbol: str,\n",
    "              timeframe=mt5.TIMEFRAME.H1,\n",
    "              from_: datetime = None,\n",
    "              to_: datetime = None,\n",
    "              start_pos: int = None,\n",
    "              count: int = None, \n",
    "              include_first = True,\n",
    "              include_last = True,\n",
    "              n_tries: int = 10) -> Rates:\n",
    "    \n",
    "    log = logging.getLogger('get_rates')\n",
    "    \n",
    "    for i in range(n_tries):\n",
    "        \n",
    "        if from_:\n",
    "            \n",
    "            # adjusts the date to feed to mt5\n",
    "            datetime_from_adj = localized_date_to_mt5(from_)\n",
    "            \n",
    "            if count: # number of candles to retrieve\n",
    "                if timeframe == TIMEFRAME.TICKS:\n",
    "                    rates = mt5.copy_ticks_from(symbol, datetime_from_adj,\n",
    "                                                count, mt5.COPY_TICKS_INFO)\n",
    "                else: \n",
    "                    rates = mt5.copy_rates_from(symbol, TIMEFRAME.mt5(timeframe),\n",
    "                                                datetime_from_adj.timestamp(), count)\n",
    "                    \n",
    "            # we can only do this now as _from is inclusive & backwards    \n",
    "            correction = timedelta(minutes = int(timeframe))\n",
    "            if timeframe == TIMEFRAME.TICKS: correction = 0\n",
    "            if include_first: datetime_from_adj -= correction\n",
    "          \n",
    "            if to_: # to_ with no from_ param is not supported for now\n",
    "\n",
    "                # adjusts the date to feed to mt5\n",
    "                datetime_to_adj = localized_date_to_mt5(to_)\n",
    "                \n",
    "                # default behaviour is inclusive\n",
    "                if not include_last: datetime_to_adj -= correction\n",
    "\n",
    "                if timeframe == TIMEFRAME.TICKS:\n",
    "                    rates = mt5.copy_ticks_range(\n",
    "                        symbol, datetime_from_adj.timestamp(),\n",
    "                        datetime_to_adj.timestamp(), mt5.COPY_TICKS_INFO)\n",
    "                else: \n",
    "                    rates = mt5.copy_rates_range(\n",
    "                        symbol, TIMEFRAME.mt5(timeframe), datetime_from_adj.timestamp(),\n",
    "                        datetime_to_adj.timestamp())\n",
    "        \n",
    "        # only count is specified\n",
    "        if all(x is None for x in [from_, to_]):\n",
    "            \n",
    "            if start_pos is None:\n",
    "                start_pos = 0\n",
    "        \n",
    "            # does both start_pos & count and only count\n",
    "            if timeframe == TIMEFRAME.TICKS:\n",
    "                log.warning('This method can\\'t work with these parameters yet')\n",
    "                rates = None\n",
    "                break\n",
    "            else:\n",
    "                rates = mt5.copy_rates_from_pos(symbol, TIMEFRAME.mt5(timeframe),\n",
    "                                                start_pos, count)\n",
    "\n",
    "        # some error occurred\n",
    "        if rates is not None:\n",
    "            log.debug(f'mt5.copy_rates() returned None. {mt5.last_error()=}')\n",
    "            continue\n",
    "\n",
    "        if len(rates) > 0:\n",
    "            break\n",
    "        time.sleep(0.1)\n",
    "    \n",
    "    cols_ticks = ['time', 'bid', 'ask']\n",
    "    cols = ['time', 'open', 'high', 'low', 'close']\n",
    "    right_cols = [cols if timeframe != TIMEFRAME.TICKS else cols_ticks]\n",
    "    \n",
    "    if rates is not None and len(rates) > 0: log.debug(f'Successfully loaded {len(rates)=}')\n",
    "    else: log.warning('no rates found, returning Rates obj with rates param equal to None')\n",
    "    \n",
    "    return Rates(symbol, mt5_date_to_utc(rates), timeframe, \n",
    "                 len(rates) if rates is not None else 0)"
   ]
  },
  {
   "cell_type": "markdown",
   "id": "90fd35b1",
   "metadata": {
    "ExecuteTime": {
     "end_time": "2022-02-04T17:09:23.629386Z",
     "start_time": "2022-02-04T17:09:23.620391Z"
    },
    "heading_collapsed": true
   },
   "source": [
    "#### testing get_rates()"
   ]
  },
  {
   "cell_type": "code",
   "execution_count": 158,
   "id": "65d7e54e",
   "metadata": {
    "ExecuteTime": {
     "end_time": "2022-02-04T17:08:22.586137Z",
     "start_time": "2022-02-04T17:08:22.547160Z"
    },
    "hidden": true
   },
   "outputs": [
    {
     "data": {
      "text/html": [
       "<div>\n",
       "<style scoped>\n",
       "    .dataframe tbody tr th:only-of-type {\n",
       "        vertical-align: middle;\n",
       "    }\n",
       "\n",
       "    .dataframe tbody tr th {\n",
       "        vertical-align: top;\n",
       "    }\n",
       "\n",
       "    .dataframe thead th {\n",
       "        text-align: right;\n",
       "    }\n",
       "</style>\n",
       "<table border=\"1\" class=\"dataframe\">\n",
       "  <thead>\n",
       "    <tr style=\"text-align: right;\">\n",
       "      <th></th>\n",
       "      <th>time</th>\n",
       "      <th>open</th>\n",
       "      <th>high</th>\n",
       "      <th>low</th>\n",
       "      <th>close</th>\n",
       "      <th>timeframe</th>\n",
       "      <th>dst</th>\n",
       "    </tr>\n",
       "  </thead>\n",
       "  <tbody>\n",
       "    <tr>\n",
       "      <th>0</th>\n",
       "      <td>2021-10-21 11:00:00+00:00</td>\n",
       "      <td>157.382</td>\n",
       "      <td>157.721</td>\n",
       "      <td>157.310</td>\n",
       "      <td>157.688</td>\n",
       "      <td>60</td>\n",
       "      <td>1</td>\n",
       "    </tr>\n",
       "    <tr>\n",
       "      <th>1</th>\n",
       "      <td>2021-09-23 11:00:00+00:00</td>\n",
       "      <td>150.303</td>\n",
       "      <td>150.960</td>\n",
       "      <td>150.154</td>\n",
       "      <td>150.940</td>\n",
       "      <td>60</td>\n",
       "      <td>1</td>\n",
       "    </tr>\n",
       "    <tr>\n",
       "      <th>2</th>\n",
       "      <td>2021-05-10 06:00:00+00:00</td>\n",
       "      <td>152.826</td>\n",
       "      <td>153.315</td>\n",
       "      <td>152.816</td>\n",
       "      <td>153.264</td>\n",
       "      <td>60</td>\n",
       "      <td>1</td>\n",
       "    </tr>\n",
       "    <tr>\n",
       "      <th>3</th>\n",
       "      <td>2021-01-26 15:00:00+00:00</td>\n",
       "      <td>142.170</td>\n",
       "      <td>142.456</td>\n",
       "      <td>142.135</td>\n",
       "      <td>142.429</td>\n",
       "      <td>60</td>\n",
       "      <td>0</td>\n",
       "    </tr>\n",
       "    <tr>\n",
       "      <th>4</th>\n",
       "      <td>2020-10-06 15:00:00+00:00</td>\n",
       "      <td>136.993</td>\n",
       "      <td>137.054</td>\n",
       "      <td>136.705</td>\n",
       "      <td>136.740</td>\n",
       "      <td>60</td>\n",
       "      <td>1</td>\n",
       "    </tr>\n",
       "    <tr>\n",
       "      <th>5</th>\n",
       "      <td>2022-02-03 12:00:00+00:00</td>\n",
       "      <td>155.775</td>\n",
       "      <td>156.331</td>\n",
       "      <td>155.538</td>\n",
       "      <td>156.180</td>\n",
       "      <td>5</td>\n",
       "      <td>0</td>\n",
       "    </tr>\n",
       "  </tbody>\n",
       "</table>\n",
       "</div>"
      ],
      "text/plain": [
       "                       time     open     high      low    close  timeframe  \\\n",
       "0 2021-10-21 11:00:00+00:00  157.382  157.721  157.310  157.688         60   \n",
       "1 2021-09-23 11:00:00+00:00  150.303  150.960  150.154  150.940         60   \n",
       "2 2021-05-10 06:00:00+00:00  152.826  153.315  152.816  153.264         60   \n",
       "3 2021-01-26 15:00:00+00:00  142.170  142.456  142.135  142.429         60   \n",
       "4 2020-10-06 15:00:00+00:00  136.993  137.054  136.705  136.740         60   \n",
       "5 2022-02-03 12:00:00+00:00  155.775  156.331  155.538  156.180          5   \n",
       "\n",
       "   dst  \n",
       "0    1  \n",
       "1    1  \n",
       "2    1  \n",
       "3    0  \n",
       "4    1  \n",
       "5    0  "
      ]
     },
     "execution_count": 158,
     "metadata": {},
     "output_type": "execute_result"
    }
   ],
   "source": [
    "loc = lambda date: pytz.utc.localize(date) \n",
    "\n",
    "check_time  = [loc(datetime(2021, 10, 21, 11)),\n",
    "               loc(datetime(2021, 9, 23, 11)),\n",
    "               loc(datetime(2021, 5, 10, 6)),\n",
    "               loc(datetime(2021, 1, 26, 15)),\n",
    "               loc(datetime(2020, 10, 6, 15)),\n",
    "               loc(datetime(2022, 2, 3, 12))]\n",
    "\n",
    "check_open  = [157.382, 150.303, 152.826, 142.170, 136.993, 155.775]\n",
    "check_high  = [157.721, 150.960, 153.315, 142.456, 137.054, 156.331]\n",
    "check_low   = [157.310, 150.154, 152.816, 142.135, 136.705, 155.538]\n",
    "check_close = [157.688, 150.940, 153.264, 142.429, 136.740, 156.180]\n",
    "\n",
    "H1 = TIMEFRAME.H1\n",
    "H4 = TIMEFRAME.H4\n",
    "M5 = TIMEFRAME.M5\n",
    "\n",
    "tf = [H1, H1, H1, H1, H1, M5]\n",
    "dst = [1, 1, 1, 0, 1, 0]\n",
    "\n",
    "frame = pd.DataFrame({'time': check_time,\n",
    "                      'open': check_open,\n",
    "                      'high': check_high,\n",
    "                      'low': check_low,\n",
    "                      'close': check_close,\n",
    "                      'timeframe': tf,\n",
    "                      'dst': dst})\n",
    "frame"
   ]
  },
  {
   "cell_type": "code",
   "execution_count": 159,
   "id": "7ff6d90f",
   "metadata": {
    "ExecuteTime": {
     "end_time": "2022-02-04T17:08:23.758412Z",
     "start_time": "2022-02-04T17:08:23.189763Z"
    },
    "hidden": true
   },
   "outputs": [
    {
     "data": {
      "text/html": [
       "<pre style=\"white-space:pre;overflow-x:auto;line-height:normal;font-family:Menlo,'DejaVu Sans Mono',consolas,'Courier New',monospace\"><span style=\"color: #7fbfbf; text-decoration-color: #7fbfbf\">[02/04/22 18:08:23] </span><span style=\"color: #008000; text-decoration-color: #008000\">DEBUG   </span> <span style=\"color: #800080; text-decoration-color: #800080; font-weight: bold; text-decoration: underline\">get_rates</span><span style=\"font-weight: bold\">()</span>: <span style=\"color: #800080; text-decoration-color: #800080; font-weight: bold\">mt5.copy_rates</span><span style=\"font-weight: bold\">()</span> returned <span style=\"color: #800080; text-decoration-color: #800080; font-style: italic\">None</span>.    <a href=\"file://C:\\Users\\Gabriele\\AppData\\Local\\Temp\\ipykernel_7000\\3098301820.py\"><span style=\"color: #7f7f7f; text-decoration-color: #7f7f7f\">3098301820.py</span></a><span style=\"color: #7f7f7f; text-decoration-color: #7f7f7f\">:</span><a href=\"file://C:\\Users\\Gabriele\\AppData\\Local\\Temp\\ipykernel_7000\\3098301820.py#67\"><span style=\"color: #7f7f7f; text-decoration-color: #7f7f7f\">67</span></a>\n",
       "<span style=\"color: #7fbfbf; text-decoration-color: #7fbfbf\">                    </span>         <span style=\"color: #800080; text-decoration-color: #800080; font-weight: bold\">mt5.last_error</span><span style=\"font-weight: bold\">()</span>=<span style=\"font-weight: bold\">(</span><span style=\"color: #008080; text-decoration-color: #008080; font-weight: bold\">1</span>, <span style=\"color: #008000; text-decoration-color: #008000\">'Success'</span><span style=\"font-weight: bold\">)</span>                 <span style=\"color: #7f7f7f; text-decoration-color: #7f7f7f\">                </span>\n",
       "</pre>\n"
      ],
      "text/plain": [
       "\u001b[2;36m[02/04/22 18:08:23]\u001b[0m\u001b[2;36m \u001b[0m\u001b[32mDEBUG   \u001b[0m \u001b[1;4;35mget_rates\u001b[0m\u001b[1m(\u001b[0m\u001b[1m)\u001b[0m: \u001b[1;35mmt5.copy_rates\u001b[0m\u001b[1m(\u001b[0m\u001b[1m)\u001b[0m returned \u001b[3;35mNone\u001b[0m.    \u001b]8;id=776023;file://C:\\Users\\Gabriele\\AppData\\Local\\Temp\\ipykernel_7000\\3098301820.py\u001b\\\u001b[2m3098301820.py\u001b[0m\u001b]8;;\u001b\\\u001b[2m:\u001b[0m\u001b]8;id=761412;file://C:\\Users\\Gabriele\\AppData\\Local\\Temp\\ipykernel_7000\\3098301820.py#67\u001b\\\u001b[2m67\u001b[0m\u001b]8;;\u001b\\\n",
       "\u001b[2;36m                    \u001b[0m         \u001b[1;35mmt5.last_error\u001b[0m\u001b[1m(\u001b[0m\u001b[1m)\u001b[0m=\u001b[1m(\u001b[0m\u001b[1;36m1\u001b[0m, \u001b[32m'Success'\u001b[0m\u001b[1m)\u001b[0m                 \u001b[2m                \u001b[0m\n"
      ]
     },
     "metadata": {},
     "output_type": "display_data"
    },
    {
     "data": {
      "text/html": [
       "<pre style=\"white-space:pre;overflow-x:auto;line-height:normal;font-family:Menlo,'DejaVu Sans Mono',consolas,'Courier New',monospace\"><span style=\"color: #7fbfbf; text-decoration-color: #7fbfbf\">                    </span><span style=\"color: #008000; text-decoration-color: #008000\">DEBUG   </span> <span style=\"color: #800080; text-decoration-color: #800080; font-weight: bold; text-decoration: underline\">get_rates</span><span style=\"font-weight: bold\">()</span>: <span style=\"color: #800080; text-decoration-color: #800080; font-weight: bold\">mt5.copy_rates</span><span style=\"font-weight: bold\">()</span> returned <span style=\"color: #800080; text-decoration-color: #800080; font-style: italic\">None</span>.    <a href=\"file://C:\\Users\\Gabriele\\AppData\\Local\\Temp\\ipykernel_7000\\3098301820.py\"><span style=\"color: #7f7f7f; text-decoration-color: #7f7f7f\">3098301820.py</span></a><span style=\"color: #7f7f7f; text-decoration-color: #7f7f7f\">:</span><a href=\"file://C:\\Users\\Gabriele\\AppData\\Local\\Temp\\ipykernel_7000\\3098301820.py#67\"><span style=\"color: #7f7f7f; text-decoration-color: #7f7f7f\">67</span></a>\n",
       "<span style=\"color: #7fbfbf; text-decoration-color: #7fbfbf\">                    </span>         <span style=\"color: #800080; text-decoration-color: #800080; font-weight: bold\">mt5.last_error</span><span style=\"font-weight: bold\">()</span>=<span style=\"font-weight: bold\">(</span><span style=\"color: #008080; text-decoration-color: #008080; font-weight: bold\">1</span>, <span style=\"color: #008000; text-decoration-color: #008000\">'Success'</span><span style=\"font-weight: bold\">)</span>                 <span style=\"color: #7f7f7f; text-decoration-color: #7f7f7f\">                </span>\n",
       "</pre>\n"
      ],
      "text/plain": [
       "\u001b[2;36m                   \u001b[0m\u001b[2;36m \u001b[0m\u001b[32mDEBUG   \u001b[0m \u001b[1;4;35mget_rates\u001b[0m\u001b[1m(\u001b[0m\u001b[1m)\u001b[0m: \u001b[1;35mmt5.copy_rates\u001b[0m\u001b[1m(\u001b[0m\u001b[1m)\u001b[0m returned \u001b[3;35mNone\u001b[0m.    \u001b]8;id=674172;file://C:\\Users\\Gabriele\\AppData\\Local\\Temp\\ipykernel_7000\\3098301820.py\u001b\\\u001b[2m3098301820.py\u001b[0m\u001b]8;;\u001b\\\u001b[2m:\u001b[0m\u001b]8;id=385785;file://C:\\Users\\Gabriele\\AppData\\Local\\Temp\\ipykernel_7000\\3098301820.py#67\u001b\\\u001b[2m67\u001b[0m\u001b]8;;\u001b\\\n",
       "\u001b[2;36m                    \u001b[0m         \u001b[1;35mmt5.last_error\u001b[0m\u001b[1m(\u001b[0m\u001b[1m)\u001b[0m=\u001b[1m(\u001b[0m\u001b[1;36m1\u001b[0m, \u001b[32m'Success'\u001b[0m\u001b[1m)\u001b[0m                 \u001b[2m                \u001b[0m\n"
      ]
     },
     "metadata": {},
     "output_type": "display_data"
    },
    {
     "data": {
      "text/html": [
       "<pre style=\"white-space:pre;overflow-x:auto;line-height:normal;font-family:Menlo,'DejaVu Sans Mono',consolas,'Courier New',monospace\"><span style=\"color: #7fbfbf; text-decoration-color: #7fbfbf\">                    </span><span style=\"color: #008000; text-decoration-color: #008000\">DEBUG   </span> <span style=\"color: #800080; text-decoration-color: #800080; font-weight: bold; text-decoration: underline\">get_rates</span><span style=\"font-weight: bold\">()</span>: <span style=\"color: #800080; text-decoration-color: #800080; font-weight: bold\">mt5.copy_rates</span><span style=\"font-weight: bold\">()</span> returned <span style=\"color: #800080; text-decoration-color: #800080; font-style: italic\">None</span>.    <a href=\"file://C:\\Users\\Gabriele\\AppData\\Local\\Temp\\ipykernel_7000\\3098301820.py\"><span style=\"color: #7f7f7f; text-decoration-color: #7f7f7f\">3098301820.py</span></a><span style=\"color: #7f7f7f; text-decoration-color: #7f7f7f\">:</span><a href=\"file://C:\\Users\\Gabriele\\AppData\\Local\\Temp\\ipykernel_7000\\3098301820.py#67\"><span style=\"color: #7f7f7f; text-decoration-color: #7f7f7f\">67</span></a>\n",
       "<span style=\"color: #7fbfbf; text-decoration-color: #7fbfbf\">                    </span>         <span style=\"color: #800080; text-decoration-color: #800080; font-weight: bold\">mt5.last_error</span><span style=\"font-weight: bold\">()</span>=<span style=\"font-weight: bold\">(</span><span style=\"color: #008080; text-decoration-color: #008080; font-weight: bold\">1</span>, <span style=\"color: #008000; text-decoration-color: #008000\">'Success'</span><span style=\"font-weight: bold\">)</span>                 <span style=\"color: #7f7f7f; text-decoration-color: #7f7f7f\">                </span>\n",
       "</pre>\n"
      ],
      "text/plain": [
       "\u001b[2;36m                   \u001b[0m\u001b[2;36m \u001b[0m\u001b[32mDEBUG   \u001b[0m \u001b[1;4;35mget_rates\u001b[0m\u001b[1m(\u001b[0m\u001b[1m)\u001b[0m: \u001b[1;35mmt5.copy_rates\u001b[0m\u001b[1m(\u001b[0m\u001b[1m)\u001b[0m returned \u001b[3;35mNone\u001b[0m.    \u001b]8;id=300225;file://C:\\Users\\Gabriele\\AppData\\Local\\Temp\\ipykernel_7000\\3098301820.py\u001b\\\u001b[2m3098301820.py\u001b[0m\u001b]8;;\u001b\\\u001b[2m:\u001b[0m\u001b]8;id=389613;file://C:\\Users\\Gabriele\\AppData\\Local\\Temp\\ipykernel_7000\\3098301820.py#67\u001b\\\u001b[2m67\u001b[0m\u001b]8;;\u001b\\\n",
       "\u001b[2;36m                    \u001b[0m         \u001b[1;35mmt5.last_error\u001b[0m\u001b[1m(\u001b[0m\u001b[1m)\u001b[0m=\u001b[1m(\u001b[0m\u001b[1;36m1\u001b[0m, \u001b[32m'Success'\u001b[0m\u001b[1m)\u001b[0m                 \u001b[2m                \u001b[0m\n"
      ]
     },
     "metadata": {},
     "output_type": "display_data"
    },
    {
     "data": {
      "text/html": [
       "<pre style=\"white-space:pre;overflow-x:auto;line-height:normal;font-family:Menlo,'DejaVu Sans Mono',consolas,'Courier New',monospace\"><span style=\"color: #7fbfbf; text-decoration-color: #7fbfbf\">                    </span><span style=\"color: #008000; text-decoration-color: #008000\">DEBUG   </span> <span style=\"color: #800080; text-decoration-color: #800080; font-weight: bold; text-decoration: underline\">get_rates</span><span style=\"font-weight: bold\">()</span>: <span style=\"color: #800080; text-decoration-color: #800080; font-weight: bold\">mt5.copy_rates</span><span style=\"font-weight: bold\">()</span> returned <span style=\"color: #800080; text-decoration-color: #800080; font-style: italic\">None</span>.    <a href=\"file://C:\\Users\\Gabriele\\AppData\\Local\\Temp\\ipykernel_7000\\3098301820.py\"><span style=\"color: #7f7f7f; text-decoration-color: #7f7f7f\">3098301820.py</span></a><span style=\"color: #7f7f7f; text-decoration-color: #7f7f7f\">:</span><a href=\"file://C:\\Users\\Gabriele\\AppData\\Local\\Temp\\ipykernel_7000\\3098301820.py#67\"><span style=\"color: #7f7f7f; text-decoration-color: #7f7f7f\">67</span></a>\n",
       "<span style=\"color: #7fbfbf; text-decoration-color: #7fbfbf\">                    </span>         <span style=\"color: #800080; text-decoration-color: #800080; font-weight: bold\">mt5.last_error</span><span style=\"font-weight: bold\">()</span>=<span style=\"font-weight: bold\">(</span><span style=\"color: #008080; text-decoration-color: #008080; font-weight: bold\">1</span>, <span style=\"color: #008000; text-decoration-color: #008000\">'Success'</span><span style=\"font-weight: bold\">)</span>                 <span style=\"color: #7f7f7f; text-decoration-color: #7f7f7f\">                </span>\n",
       "</pre>\n"
      ],
      "text/plain": [
       "\u001b[2;36m                   \u001b[0m\u001b[2;36m \u001b[0m\u001b[32mDEBUG   \u001b[0m \u001b[1;4;35mget_rates\u001b[0m\u001b[1m(\u001b[0m\u001b[1m)\u001b[0m: \u001b[1;35mmt5.copy_rates\u001b[0m\u001b[1m(\u001b[0m\u001b[1m)\u001b[0m returned \u001b[3;35mNone\u001b[0m.    \u001b]8;id=898642;file://C:\\Users\\Gabriele\\AppData\\Local\\Temp\\ipykernel_7000\\3098301820.py\u001b\\\u001b[2m3098301820.py\u001b[0m\u001b]8;;\u001b\\\u001b[2m:\u001b[0m\u001b]8;id=825210;file://C:\\Users\\Gabriele\\AppData\\Local\\Temp\\ipykernel_7000\\3098301820.py#67\u001b\\\u001b[2m67\u001b[0m\u001b]8;;\u001b\\\n",
       "\u001b[2;36m                    \u001b[0m         \u001b[1;35mmt5.last_error\u001b[0m\u001b[1m(\u001b[0m\u001b[1m)\u001b[0m=\u001b[1m(\u001b[0m\u001b[1;36m1\u001b[0m, \u001b[32m'Success'\u001b[0m\u001b[1m)\u001b[0m                 \u001b[2m                \u001b[0m\n"
      ]
     },
     "metadata": {},
     "output_type": "display_data"
    },
    {
     "data": {
      "text/html": [
       "<pre style=\"white-space:pre;overflow-x:auto;line-height:normal;font-family:Menlo,'DejaVu Sans Mono',consolas,'Courier New',monospace\"><span style=\"color: #7fbfbf; text-decoration-color: #7fbfbf\">                    </span><span style=\"color: #008000; text-decoration-color: #008000\">DEBUG   </span> <span style=\"color: #800080; text-decoration-color: #800080; font-weight: bold; text-decoration: underline\">get_rates</span><span style=\"font-weight: bold\">()</span>: <span style=\"color: #800080; text-decoration-color: #800080; font-weight: bold\">mt5.copy_rates</span><span style=\"font-weight: bold\">()</span> returned <span style=\"color: #800080; text-decoration-color: #800080; font-style: italic\">None</span>.    <a href=\"file://C:\\Users\\Gabriele\\AppData\\Local\\Temp\\ipykernel_7000\\3098301820.py\"><span style=\"color: #7f7f7f; text-decoration-color: #7f7f7f\">3098301820.py</span></a><span style=\"color: #7f7f7f; text-decoration-color: #7f7f7f\">:</span><a href=\"file://C:\\Users\\Gabriele\\AppData\\Local\\Temp\\ipykernel_7000\\3098301820.py#67\"><span style=\"color: #7f7f7f; text-decoration-color: #7f7f7f\">67</span></a>\n",
       "<span style=\"color: #7fbfbf; text-decoration-color: #7fbfbf\">                    </span>         <span style=\"color: #800080; text-decoration-color: #800080; font-weight: bold\">mt5.last_error</span><span style=\"font-weight: bold\">()</span>=<span style=\"font-weight: bold\">(</span><span style=\"color: #008080; text-decoration-color: #008080; font-weight: bold\">1</span>, <span style=\"color: #008000; text-decoration-color: #008000\">'Success'</span><span style=\"font-weight: bold\">)</span>                 <span style=\"color: #7f7f7f; text-decoration-color: #7f7f7f\">                </span>\n",
       "</pre>\n"
      ],
      "text/plain": [
       "\u001b[2;36m                   \u001b[0m\u001b[2;36m \u001b[0m\u001b[32mDEBUG   \u001b[0m \u001b[1;4;35mget_rates\u001b[0m\u001b[1m(\u001b[0m\u001b[1m)\u001b[0m: \u001b[1;35mmt5.copy_rates\u001b[0m\u001b[1m(\u001b[0m\u001b[1m)\u001b[0m returned \u001b[3;35mNone\u001b[0m.    \u001b]8;id=574932;file://C:\\Users\\Gabriele\\AppData\\Local\\Temp\\ipykernel_7000\\3098301820.py\u001b\\\u001b[2m3098301820.py\u001b[0m\u001b]8;;\u001b\\\u001b[2m:\u001b[0m\u001b]8;id=612302;file://C:\\Users\\Gabriele\\AppData\\Local\\Temp\\ipykernel_7000\\3098301820.py#67\u001b\\\u001b[2m67\u001b[0m\u001b]8;;\u001b\\\n",
       "\u001b[2;36m                    \u001b[0m         \u001b[1;35mmt5.last_error\u001b[0m\u001b[1m(\u001b[0m\u001b[1m)\u001b[0m=\u001b[1m(\u001b[0m\u001b[1;36m1\u001b[0m, \u001b[32m'Success'\u001b[0m\u001b[1m)\u001b[0m                 \u001b[2m                \u001b[0m\n"
      ]
     },
     "metadata": {},
     "output_type": "display_data"
    },
    {
     "data": {
      "text/html": [
       "<pre style=\"white-space:pre;overflow-x:auto;line-height:normal;font-family:Menlo,'DejaVu Sans Mono',consolas,'Courier New',monospace\"><span style=\"color: #7fbfbf; text-decoration-color: #7fbfbf\">                    </span><span style=\"color: #008000; text-decoration-color: #008000\">DEBUG   </span> <span style=\"color: #800080; text-decoration-color: #800080; font-weight: bold; text-decoration: underline\">get_rates</span><span style=\"font-weight: bold\">()</span>: <span style=\"color: #800080; text-decoration-color: #800080; font-weight: bold\">mt5.copy_rates</span><span style=\"font-weight: bold\">()</span> returned <span style=\"color: #800080; text-decoration-color: #800080; font-style: italic\">None</span>.    <a href=\"file://C:\\Users\\Gabriele\\AppData\\Local\\Temp\\ipykernel_7000\\3098301820.py\"><span style=\"color: #7f7f7f; text-decoration-color: #7f7f7f\">3098301820.py</span></a><span style=\"color: #7f7f7f; text-decoration-color: #7f7f7f\">:</span><a href=\"file://C:\\Users\\Gabriele\\AppData\\Local\\Temp\\ipykernel_7000\\3098301820.py#67\"><span style=\"color: #7f7f7f; text-decoration-color: #7f7f7f\">67</span></a>\n",
       "<span style=\"color: #7fbfbf; text-decoration-color: #7fbfbf\">                    </span>         <span style=\"color: #800080; text-decoration-color: #800080; font-weight: bold\">mt5.last_error</span><span style=\"font-weight: bold\">()</span>=<span style=\"font-weight: bold\">(</span><span style=\"color: #008080; text-decoration-color: #008080; font-weight: bold\">1</span>, <span style=\"color: #008000; text-decoration-color: #008000\">'Success'</span><span style=\"font-weight: bold\">)</span>                 <span style=\"color: #7f7f7f; text-decoration-color: #7f7f7f\">                </span>\n",
       "</pre>\n"
      ],
      "text/plain": [
       "\u001b[2;36m                   \u001b[0m\u001b[2;36m \u001b[0m\u001b[32mDEBUG   \u001b[0m \u001b[1;4;35mget_rates\u001b[0m\u001b[1m(\u001b[0m\u001b[1m)\u001b[0m: \u001b[1;35mmt5.copy_rates\u001b[0m\u001b[1m(\u001b[0m\u001b[1m)\u001b[0m returned \u001b[3;35mNone\u001b[0m.    \u001b]8;id=660031;file://C:\\Users\\Gabriele\\AppData\\Local\\Temp\\ipykernel_7000\\3098301820.py\u001b\\\u001b[2m3098301820.py\u001b[0m\u001b]8;;\u001b\\\u001b[2m:\u001b[0m\u001b]8;id=831168;file://C:\\Users\\Gabriele\\AppData\\Local\\Temp\\ipykernel_7000\\3098301820.py#67\u001b\\\u001b[2m67\u001b[0m\u001b]8;;\u001b\\\n",
       "\u001b[2;36m                    \u001b[0m         \u001b[1;35mmt5.last_error\u001b[0m\u001b[1m(\u001b[0m\u001b[1m)\u001b[0m=\u001b[1m(\u001b[0m\u001b[1;36m1\u001b[0m, \u001b[32m'Success'\u001b[0m\u001b[1m)\u001b[0m                 \u001b[2m                \u001b[0m\n"
      ]
     },
     "metadata": {},
     "output_type": "display_data"
    },
    {
     "data": {
      "text/html": [
       "<pre style=\"white-space:pre;overflow-x:auto;line-height:normal;font-family:Menlo,'DejaVu Sans Mono',consolas,'Courier New',monospace\"><span style=\"color: #7fbfbf; text-decoration-color: #7fbfbf\">                    </span><span style=\"color: #008000; text-decoration-color: #008000\">DEBUG   </span> <span style=\"color: #800080; text-decoration-color: #800080; font-weight: bold; text-decoration: underline\">get_rates</span><span style=\"font-weight: bold\">()</span>: <span style=\"color: #800080; text-decoration-color: #800080; font-weight: bold\">mt5.copy_rates</span><span style=\"font-weight: bold\">()</span> returned <span style=\"color: #800080; text-decoration-color: #800080; font-style: italic\">None</span>.    <a href=\"file://C:\\Users\\Gabriele\\AppData\\Local\\Temp\\ipykernel_7000\\3098301820.py\"><span style=\"color: #7f7f7f; text-decoration-color: #7f7f7f\">3098301820.py</span></a><span style=\"color: #7f7f7f; text-decoration-color: #7f7f7f\">:</span><a href=\"file://C:\\Users\\Gabriele\\AppData\\Local\\Temp\\ipykernel_7000\\3098301820.py#67\"><span style=\"color: #7f7f7f; text-decoration-color: #7f7f7f\">67</span></a>\n",
       "<span style=\"color: #7fbfbf; text-decoration-color: #7fbfbf\">                    </span>         <span style=\"color: #800080; text-decoration-color: #800080; font-weight: bold\">mt5.last_error</span><span style=\"font-weight: bold\">()</span>=<span style=\"font-weight: bold\">(</span><span style=\"color: #008080; text-decoration-color: #008080; font-weight: bold\">1</span>, <span style=\"color: #008000; text-decoration-color: #008000\">'Success'</span><span style=\"font-weight: bold\">)</span>                 <span style=\"color: #7f7f7f; text-decoration-color: #7f7f7f\">                </span>\n",
       "</pre>\n"
      ],
      "text/plain": [
       "\u001b[2;36m                   \u001b[0m\u001b[2;36m \u001b[0m\u001b[32mDEBUG   \u001b[0m \u001b[1;4;35mget_rates\u001b[0m\u001b[1m(\u001b[0m\u001b[1m)\u001b[0m: \u001b[1;35mmt5.copy_rates\u001b[0m\u001b[1m(\u001b[0m\u001b[1m)\u001b[0m returned \u001b[3;35mNone\u001b[0m.    \u001b]8;id=381149;file://C:\\Users\\Gabriele\\AppData\\Local\\Temp\\ipykernel_7000\\3098301820.py\u001b\\\u001b[2m3098301820.py\u001b[0m\u001b]8;;\u001b\\\u001b[2m:\u001b[0m\u001b]8;id=194557;file://C:\\Users\\Gabriele\\AppData\\Local\\Temp\\ipykernel_7000\\3098301820.py#67\u001b\\\u001b[2m67\u001b[0m\u001b]8;;\u001b\\\n",
       "\u001b[2;36m                    \u001b[0m         \u001b[1;35mmt5.last_error\u001b[0m\u001b[1m(\u001b[0m\u001b[1m)\u001b[0m=\u001b[1m(\u001b[0m\u001b[1;36m1\u001b[0m, \u001b[32m'Success'\u001b[0m\u001b[1m)\u001b[0m                 \u001b[2m                \u001b[0m\n"
      ]
     },
     "metadata": {},
     "output_type": "display_data"
    },
    {
     "data": {
      "text/html": [
       "<pre style=\"white-space:pre;overflow-x:auto;line-height:normal;font-family:Menlo,'DejaVu Sans Mono',consolas,'Courier New',monospace\"><span style=\"color: #7fbfbf; text-decoration-color: #7fbfbf\">                    </span><span style=\"color: #008000; text-decoration-color: #008000\">DEBUG   </span> <span style=\"color: #800080; text-decoration-color: #800080; font-weight: bold; text-decoration: underline\">get_rates</span><span style=\"font-weight: bold\">()</span>: <span style=\"color: #800080; text-decoration-color: #800080; font-weight: bold\">mt5.copy_rates</span><span style=\"font-weight: bold\">()</span> returned <span style=\"color: #800080; text-decoration-color: #800080; font-style: italic\">None</span>.    <a href=\"file://C:\\Users\\Gabriele\\AppData\\Local\\Temp\\ipykernel_7000\\3098301820.py\"><span style=\"color: #7f7f7f; text-decoration-color: #7f7f7f\">3098301820.py</span></a><span style=\"color: #7f7f7f; text-decoration-color: #7f7f7f\">:</span><a href=\"file://C:\\Users\\Gabriele\\AppData\\Local\\Temp\\ipykernel_7000\\3098301820.py#67\"><span style=\"color: #7f7f7f; text-decoration-color: #7f7f7f\">67</span></a>\n",
       "<span style=\"color: #7fbfbf; text-decoration-color: #7fbfbf\">                    </span>         <span style=\"color: #800080; text-decoration-color: #800080; font-weight: bold\">mt5.last_error</span><span style=\"font-weight: bold\">()</span>=<span style=\"font-weight: bold\">(</span><span style=\"color: #008080; text-decoration-color: #008080; font-weight: bold\">1</span>, <span style=\"color: #008000; text-decoration-color: #008000\">'Success'</span><span style=\"font-weight: bold\">)</span>                 <span style=\"color: #7f7f7f; text-decoration-color: #7f7f7f\">                </span>\n",
       "</pre>\n"
      ],
      "text/plain": [
       "\u001b[2;36m                   \u001b[0m\u001b[2;36m \u001b[0m\u001b[32mDEBUG   \u001b[0m \u001b[1;4;35mget_rates\u001b[0m\u001b[1m(\u001b[0m\u001b[1m)\u001b[0m: \u001b[1;35mmt5.copy_rates\u001b[0m\u001b[1m(\u001b[0m\u001b[1m)\u001b[0m returned \u001b[3;35mNone\u001b[0m.    \u001b]8;id=556474;file://C:\\Users\\Gabriele\\AppData\\Local\\Temp\\ipykernel_7000\\3098301820.py\u001b\\\u001b[2m3098301820.py\u001b[0m\u001b]8;;\u001b\\\u001b[2m:\u001b[0m\u001b]8;id=812110;file://C:\\Users\\Gabriele\\AppData\\Local\\Temp\\ipykernel_7000\\3098301820.py#67\u001b\\\u001b[2m67\u001b[0m\u001b]8;;\u001b\\\n",
       "\u001b[2;36m                    \u001b[0m         \u001b[1;35mmt5.last_error\u001b[0m\u001b[1m(\u001b[0m\u001b[1m)\u001b[0m=\u001b[1m(\u001b[0m\u001b[1;36m1\u001b[0m, \u001b[32m'Success'\u001b[0m\u001b[1m)\u001b[0m                 \u001b[2m                \u001b[0m\n"
      ]
     },
     "metadata": {},
     "output_type": "display_data"
    },
    {
     "data": {
      "text/html": [
       "<pre style=\"white-space:pre;overflow-x:auto;line-height:normal;font-family:Menlo,'DejaVu Sans Mono',consolas,'Courier New',monospace\"><span style=\"color: #7fbfbf; text-decoration-color: #7fbfbf\">                    </span><span style=\"color: #008000; text-decoration-color: #008000\">DEBUG   </span> <span style=\"color: #800080; text-decoration-color: #800080; font-weight: bold; text-decoration: underline\">get_rates</span><span style=\"font-weight: bold\">()</span>: <span style=\"color: #800080; text-decoration-color: #800080; font-weight: bold\">mt5.copy_rates</span><span style=\"font-weight: bold\">()</span> returned <span style=\"color: #800080; text-decoration-color: #800080; font-style: italic\">None</span>.    <a href=\"file://C:\\Users\\Gabriele\\AppData\\Local\\Temp\\ipykernel_7000\\3098301820.py\"><span style=\"color: #7f7f7f; text-decoration-color: #7f7f7f\">3098301820.py</span></a><span style=\"color: #7f7f7f; text-decoration-color: #7f7f7f\">:</span><a href=\"file://C:\\Users\\Gabriele\\AppData\\Local\\Temp\\ipykernel_7000\\3098301820.py#67\"><span style=\"color: #7f7f7f; text-decoration-color: #7f7f7f\">67</span></a>\n",
       "<span style=\"color: #7fbfbf; text-decoration-color: #7fbfbf\">                    </span>         <span style=\"color: #800080; text-decoration-color: #800080; font-weight: bold\">mt5.last_error</span><span style=\"font-weight: bold\">()</span>=<span style=\"font-weight: bold\">(</span><span style=\"color: #008080; text-decoration-color: #008080; font-weight: bold\">1</span>, <span style=\"color: #008000; text-decoration-color: #008000\">'Success'</span><span style=\"font-weight: bold\">)</span>                 <span style=\"color: #7f7f7f; text-decoration-color: #7f7f7f\">                </span>\n",
       "</pre>\n"
      ],
      "text/plain": [
       "\u001b[2;36m                   \u001b[0m\u001b[2;36m \u001b[0m\u001b[32mDEBUG   \u001b[0m \u001b[1;4;35mget_rates\u001b[0m\u001b[1m(\u001b[0m\u001b[1m)\u001b[0m: \u001b[1;35mmt5.copy_rates\u001b[0m\u001b[1m(\u001b[0m\u001b[1m)\u001b[0m returned \u001b[3;35mNone\u001b[0m.    \u001b]8;id=147812;file://C:\\Users\\Gabriele\\AppData\\Local\\Temp\\ipykernel_7000\\3098301820.py\u001b\\\u001b[2m3098301820.py\u001b[0m\u001b]8;;\u001b\\\u001b[2m:\u001b[0m\u001b]8;id=226534;file://C:\\Users\\Gabriele\\AppData\\Local\\Temp\\ipykernel_7000\\3098301820.py#67\u001b\\\u001b[2m67\u001b[0m\u001b]8;;\u001b\\\n",
       "\u001b[2;36m                    \u001b[0m         \u001b[1;35mmt5.last_error\u001b[0m\u001b[1m(\u001b[0m\u001b[1m)\u001b[0m=\u001b[1m(\u001b[0m\u001b[1;36m1\u001b[0m, \u001b[32m'Success'\u001b[0m\u001b[1m)\u001b[0m                 \u001b[2m                \u001b[0m\n"
      ]
     },
     "metadata": {},
     "output_type": "display_data"
    },
    {
     "data": {
      "text/html": [
       "<pre style=\"white-space:pre;overflow-x:auto;line-height:normal;font-family:Menlo,'DejaVu Sans Mono',consolas,'Courier New',monospace\"><span style=\"color: #7fbfbf; text-decoration-color: #7fbfbf\">                    </span><span style=\"color: #008000; text-decoration-color: #008000\">DEBUG   </span> <span style=\"color: #800080; text-decoration-color: #800080; font-weight: bold; text-decoration: underline\">get_rates</span><span style=\"font-weight: bold\">()</span>: <span style=\"color: #800080; text-decoration-color: #800080; font-weight: bold\">mt5.copy_rates</span><span style=\"font-weight: bold\">()</span> returned <span style=\"color: #800080; text-decoration-color: #800080; font-style: italic\">None</span>.    <a href=\"file://C:\\Users\\Gabriele\\AppData\\Local\\Temp\\ipykernel_7000\\3098301820.py\"><span style=\"color: #7f7f7f; text-decoration-color: #7f7f7f\">3098301820.py</span></a><span style=\"color: #7f7f7f; text-decoration-color: #7f7f7f\">:</span><a href=\"file://C:\\Users\\Gabriele\\AppData\\Local\\Temp\\ipykernel_7000\\3098301820.py#67\"><span style=\"color: #7f7f7f; text-decoration-color: #7f7f7f\">67</span></a>\n",
       "<span style=\"color: #7fbfbf; text-decoration-color: #7fbfbf\">                    </span>         <span style=\"color: #800080; text-decoration-color: #800080; font-weight: bold\">mt5.last_error</span><span style=\"font-weight: bold\">()</span>=<span style=\"font-weight: bold\">(</span><span style=\"color: #008080; text-decoration-color: #008080; font-weight: bold\">1</span>, <span style=\"color: #008000; text-decoration-color: #008000\">'Success'</span><span style=\"font-weight: bold\">)</span>                 <span style=\"color: #7f7f7f; text-decoration-color: #7f7f7f\">                </span>\n",
       "</pre>\n"
      ],
      "text/plain": [
       "\u001b[2;36m                   \u001b[0m\u001b[2;36m \u001b[0m\u001b[32mDEBUG   \u001b[0m \u001b[1;4;35mget_rates\u001b[0m\u001b[1m(\u001b[0m\u001b[1m)\u001b[0m: \u001b[1;35mmt5.copy_rates\u001b[0m\u001b[1m(\u001b[0m\u001b[1m)\u001b[0m returned \u001b[3;35mNone\u001b[0m.    \u001b]8;id=625961;file://C:\\Users\\Gabriele\\AppData\\Local\\Temp\\ipykernel_7000\\3098301820.py\u001b\\\u001b[2m3098301820.py\u001b[0m\u001b]8;;\u001b\\\u001b[2m:\u001b[0m\u001b]8;id=648824;file://C:\\Users\\Gabriele\\AppData\\Local\\Temp\\ipykernel_7000\\3098301820.py#67\u001b\\\u001b[2m67\u001b[0m\u001b]8;;\u001b\\\n",
       "\u001b[2;36m                    \u001b[0m         \u001b[1;35mmt5.last_error\u001b[0m\u001b[1m(\u001b[0m\u001b[1m)\u001b[0m=\u001b[1m(\u001b[0m\u001b[1;36m1\u001b[0m, \u001b[32m'Success'\u001b[0m\u001b[1m)\u001b[0m                 \u001b[2m                \u001b[0m\n"
      ]
     },
     "metadata": {},
     "output_type": "display_data"
    },
    {
     "data": {
      "text/html": [
       "<pre style=\"white-space:pre;overflow-x:auto;line-height:normal;font-family:Menlo,'DejaVu Sans Mono',consolas,'Courier New',monospace\"><span style=\"color: #7fbfbf; text-decoration-color: #7fbfbf\">                    </span><span style=\"color: #008000; text-decoration-color: #008000\">DEBUG   </span> <span style=\"color: #800080; text-decoration-color: #800080; font-weight: bold; text-decoration: underline\">get_rates</span><span style=\"font-weight: bold\">()</span>: Successfully loaded <span style=\"color: #800080; text-decoration-color: #800080; font-weight: bold\">len</span><span style=\"font-weight: bold\">(</span>rates<span style=\"font-weight: bold\">)</span>=<span style=\"color: #008080; text-decoration-color: #008080; font-weight: bold\">61</span>  <a href=\"file://C:\\Users\\Gabriele\\AppData\\Local\\Temp\\ipykernel_7000\\3098301820.py\"><span style=\"color: #7f7f7f; text-decoration-color: #7f7f7f\">3098301820.py</span></a><span style=\"color: #7f7f7f; text-decoration-color: #7f7f7f\">:</span><a href=\"file://C:\\Users\\Gabriele\\AppData\\Local\\Temp\\ipykernel_7000\\3098301820.py#78\"><span style=\"color: #7f7f7f; text-decoration-color: #7f7f7f\">78</span></a>\n",
       "</pre>\n"
      ],
      "text/plain": [
       "\u001b[2;36m                   \u001b[0m\u001b[2;36m \u001b[0m\u001b[32mDEBUG   \u001b[0m \u001b[1;4;35mget_rates\u001b[0m\u001b[1m(\u001b[0m\u001b[1m)\u001b[0m: Successfully loaded \u001b[1;35mlen\u001b[0m\u001b[1m(\u001b[0mrates\u001b[1m)\u001b[0m=\u001b[1;36m61\u001b[0m  \u001b]8;id=541733;file://C:\\Users\\Gabriele\\AppData\\Local\\Temp\\ipykernel_7000\\3098301820.py\u001b\\\u001b[2m3098301820.py\u001b[0m\u001b]8;;\u001b\\\u001b[2m:\u001b[0m\u001b]8;id=12246;file://C:\\Users\\Gabriele\\AppData\\Local\\Temp\\ipykernel_7000\\3098301820.py#78\u001b\\\u001b[2m78\u001b[0m\u001b]8;;\u001b\\\n"
      ]
     },
     "metadata": {},
     "output_type": "display_data"
    },
    {
     "data": {
      "text/html": [
       "<pre style=\"white-space:pre;overflow-x:auto;line-height:normal;font-family:Menlo,'DejaVu Sans Mono',consolas,'Courier New',monospace\"><span style=\"color: #7fbfbf; text-decoration-color: #7fbfbf\">                    </span><span style=\"color: #008000; text-decoration-color: #008000\">DEBUG   </span> <span style=\"color: #800080; text-decoration-color: #800080; font-weight: bold; text-decoration: underline\">get_rates</span><span style=\"font-weight: bold\">()</span>: <span style=\"color: #800080; text-decoration-color: #800080; font-weight: bold\">mt5.copy_rates</span><span style=\"font-weight: bold\">()</span> returned <span style=\"color: #800080; text-decoration-color: #800080; font-style: italic\">None</span>.    <a href=\"file://C:\\Users\\Gabriele\\AppData\\Local\\Temp\\ipykernel_7000\\3098301820.py\"><span style=\"color: #7f7f7f; text-decoration-color: #7f7f7f\">3098301820.py</span></a><span style=\"color: #7f7f7f; text-decoration-color: #7f7f7f\">:</span><a href=\"file://C:\\Users\\Gabriele\\AppData\\Local\\Temp\\ipykernel_7000\\3098301820.py#67\"><span style=\"color: #7f7f7f; text-decoration-color: #7f7f7f\">67</span></a>\n",
       "<span style=\"color: #7fbfbf; text-decoration-color: #7fbfbf\">                    </span>         <span style=\"color: #800080; text-decoration-color: #800080; font-weight: bold\">mt5.last_error</span><span style=\"font-weight: bold\">()</span>=<span style=\"font-weight: bold\">(</span><span style=\"color: #008080; text-decoration-color: #008080; font-weight: bold\">1</span>, <span style=\"color: #008000; text-decoration-color: #008000\">'Success'</span><span style=\"font-weight: bold\">)</span>                 <span style=\"color: #7f7f7f; text-decoration-color: #7f7f7f\">                </span>\n",
       "</pre>\n"
      ],
      "text/plain": [
       "\u001b[2;36m                   \u001b[0m\u001b[2;36m \u001b[0m\u001b[32mDEBUG   \u001b[0m \u001b[1;4;35mget_rates\u001b[0m\u001b[1m(\u001b[0m\u001b[1m)\u001b[0m: \u001b[1;35mmt5.copy_rates\u001b[0m\u001b[1m(\u001b[0m\u001b[1m)\u001b[0m returned \u001b[3;35mNone\u001b[0m.    \u001b]8;id=367989;file://C:\\Users\\Gabriele\\AppData\\Local\\Temp\\ipykernel_7000\\3098301820.py\u001b\\\u001b[2m3098301820.py\u001b[0m\u001b]8;;\u001b\\\u001b[2m:\u001b[0m\u001b]8;id=143921;file://C:\\Users\\Gabriele\\AppData\\Local\\Temp\\ipykernel_7000\\3098301820.py#67\u001b\\\u001b[2m67\u001b[0m\u001b]8;;\u001b\\\n",
       "\u001b[2;36m                    \u001b[0m         \u001b[1;35mmt5.last_error\u001b[0m\u001b[1m(\u001b[0m\u001b[1m)\u001b[0m=\u001b[1m(\u001b[0m\u001b[1;36m1\u001b[0m, \u001b[32m'Success'\u001b[0m\u001b[1m)\u001b[0m                 \u001b[2m                \u001b[0m\n"
      ]
     },
     "metadata": {},
     "output_type": "display_data"
    },
    {
     "data": {
      "text/html": [
       "<pre style=\"white-space:pre;overflow-x:auto;line-height:normal;font-family:Menlo,'DejaVu Sans Mono',consolas,'Courier New',monospace\"><span style=\"color: #7fbfbf; text-decoration-color: #7fbfbf\">                    </span><span style=\"color: #008000; text-decoration-color: #008000\">DEBUG   </span> <span style=\"color: #800080; text-decoration-color: #800080; font-weight: bold; text-decoration: underline\">get_rates</span><span style=\"font-weight: bold\">()</span>: <span style=\"color: #800080; text-decoration-color: #800080; font-weight: bold\">mt5.copy_rates</span><span style=\"font-weight: bold\">()</span> returned <span style=\"color: #800080; text-decoration-color: #800080; font-style: italic\">None</span>.    <a href=\"file://C:\\Users\\Gabriele\\AppData\\Local\\Temp\\ipykernel_7000\\3098301820.py\"><span style=\"color: #7f7f7f; text-decoration-color: #7f7f7f\">3098301820.py</span></a><span style=\"color: #7f7f7f; text-decoration-color: #7f7f7f\">:</span><a href=\"file://C:\\Users\\Gabriele\\AppData\\Local\\Temp\\ipykernel_7000\\3098301820.py#67\"><span style=\"color: #7f7f7f; text-decoration-color: #7f7f7f\">67</span></a>\n",
       "<span style=\"color: #7fbfbf; text-decoration-color: #7fbfbf\">                    </span>         <span style=\"color: #800080; text-decoration-color: #800080; font-weight: bold\">mt5.last_error</span><span style=\"font-weight: bold\">()</span>=<span style=\"font-weight: bold\">(</span><span style=\"color: #008080; text-decoration-color: #008080; font-weight: bold\">1</span>, <span style=\"color: #008000; text-decoration-color: #008000\">'Success'</span><span style=\"font-weight: bold\">)</span>                 <span style=\"color: #7f7f7f; text-decoration-color: #7f7f7f\">                </span>\n",
       "</pre>\n"
      ],
      "text/plain": [
       "\u001b[2;36m                   \u001b[0m\u001b[2;36m \u001b[0m\u001b[32mDEBUG   \u001b[0m \u001b[1;4;35mget_rates\u001b[0m\u001b[1m(\u001b[0m\u001b[1m)\u001b[0m: \u001b[1;35mmt5.copy_rates\u001b[0m\u001b[1m(\u001b[0m\u001b[1m)\u001b[0m returned \u001b[3;35mNone\u001b[0m.    \u001b]8;id=200649;file://C:\\Users\\Gabriele\\AppData\\Local\\Temp\\ipykernel_7000\\3098301820.py\u001b\\\u001b[2m3098301820.py\u001b[0m\u001b]8;;\u001b\\\u001b[2m:\u001b[0m\u001b]8;id=195944;file://C:\\Users\\Gabriele\\AppData\\Local\\Temp\\ipykernel_7000\\3098301820.py#67\u001b\\\u001b[2m67\u001b[0m\u001b]8;;\u001b\\\n",
       "\u001b[2;36m                    \u001b[0m         \u001b[1;35mmt5.last_error\u001b[0m\u001b[1m(\u001b[0m\u001b[1m)\u001b[0m=\u001b[1m(\u001b[0m\u001b[1;36m1\u001b[0m, \u001b[32m'Success'\u001b[0m\u001b[1m)\u001b[0m                 \u001b[2m                \u001b[0m\n"
      ]
     },
     "metadata": {},
     "output_type": "display_data"
    },
    {
     "data": {
      "text/html": [
       "<pre style=\"white-space:pre;overflow-x:auto;line-height:normal;font-family:Menlo,'DejaVu Sans Mono',consolas,'Courier New',monospace\"><span style=\"color: #7fbfbf; text-decoration-color: #7fbfbf\">                    </span><span style=\"color: #008000; text-decoration-color: #008000\">DEBUG   </span> <span style=\"color: #800080; text-decoration-color: #800080; font-weight: bold; text-decoration: underline\">get_rates</span><span style=\"font-weight: bold\">()</span>: <span style=\"color: #800080; text-decoration-color: #800080; font-weight: bold\">mt5.copy_rates</span><span style=\"font-weight: bold\">()</span> returned <span style=\"color: #800080; text-decoration-color: #800080; font-style: italic\">None</span>.    <a href=\"file://C:\\Users\\Gabriele\\AppData\\Local\\Temp\\ipykernel_7000\\3098301820.py\"><span style=\"color: #7f7f7f; text-decoration-color: #7f7f7f\">3098301820.py</span></a><span style=\"color: #7f7f7f; text-decoration-color: #7f7f7f\">:</span><a href=\"file://C:\\Users\\Gabriele\\AppData\\Local\\Temp\\ipykernel_7000\\3098301820.py#67\"><span style=\"color: #7f7f7f; text-decoration-color: #7f7f7f\">67</span></a>\n",
       "<span style=\"color: #7fbfbf; text-decoration-color: #7fbfbf\">                    </span>         <span style=\"color: #800080; text-decoration-color: #800080; font-weight: bold\">mt5.last_error</span><span style=\"font-weight: bold\">()</span>=<span style=\"font-weight: bold\">(</span><span style=\"color: #008080; text-decoration-color: #008080; font-weight: bold\">1</span>, <span style=\"color: #008000; text-decoration-color: #008000\">'Success'</span><span style=\"font-weight: bold\">)</span>                 <span style=\"color: #7f7f7f; text-decoration-color: #7f7f7f\">                </span>\n",
       "</pre>\n"
      ],
      "text/plain": [
       "\u001b[2;36m                   \u001b[0m\u001b[2;36m \u001b[0m\u001b[32mDEBUG   \u001b[0m \u001b[1;4;35mget_rates\u001b[0m\u001b[1m(\u001b[0m\u001b[1m)\u001b[0m: \u001b[1;35mmt5.copy_rates\u001b[0m\u001b[1m(\u001b[0m\u001b[1m)\u001b[0m returned \u001b[3;35mNone\u001b[0m.    \u001b]8;id=615720;file://C:\\Users\\Gabriele\\AppData\\Local\\Temp\\ipykernel_7000\\3098301820.py\u001b\\\u001b[2m3098301820.py\u001b[0m\u001b]8;;\u001b\\\u001b[2m:\u001b[0m\u001b]8;id=876601;file://C:\\Users\\Gabriele\\AppData\\Local\\Temp\\ipykernel_7000\\3098301820.py#67\u001b\\\u001b[2m67\u001b[0m\u001b]8;;\u001b\\\n",
       "\u001b[2;36m                    \u001b[0m         \u001b[1;35mmt5.last_error\u001b[0m\u001b[1m(\u001b[0m\u001b[1m)\u001b[0m=\u001b[1m(\u001b[0m\u001b[1;36m1\u001b[0m, \u001b[32m'Success'\u001b[0m\u001b[1m)\u001b[0m                 \u001b[2m                \u001b[0m\n"
      ]
     },
     "metadata": {},
     "output_type": "display_data"
    },
    {
     "data": {
      "text/html": [
       "<pre style=\"white-space:pre;overflow-x:auto;line-height:normal;font-family:Menlo,'DejaVu Sans Mono',consolas,'Courier New',monospace\"><span style=\"color: #7fbfbf; text-decoration-color: #7fbfbf\">                    </span><span style=\"color: #008000; text-decoration-color: #008000\">DEBUG   </span> <span style=\"color: #800080; text-decoration-color: #800080; font-weight: bold; text-decoration: underline\">get_rates</span><span style=\"font-weight: bold\">()</span>: <span style=\"color: #800080; text-decoration-color: #800080; font-weight: bold\">mt5.copy_rates</span><span style=\"font-weight: bold\">()</span> returned <span style=\"color: #800080; text-decoration-color: #800080; font-style: italic\">None</span>.    <a href=\"file://C:\\Users\\Gabriele\\AppData\\Local\\Temp\\ipykernel_7000\\3098301820.py\"><span style=\"color: #7f7f7f; text-decoration-color: #7f7f7f\">3098301820.py</span></a><span style=\"color: #7f7f7f; text-decoration-color: #7f7f7f\">:</span><a href=\"file://C:\\Users\\Gabriele\\AppData\\Local\\Temp\\ipykernel_7000\\3098301820.py#67\"><span style=\"color: #7f7f7f; text-decoration-color: #7f7f7f\">67</span></a>\n",
       "<span style=\"color: #7fbfbf; text-decoration-color: #7fbfbf\">                    </span>         <span style=\"color: #800080; text-decoration-color: #800080; font-weight: bold\">mt5.last_error</span><span style=\"font-weight: bold\">()</span>=<span style=\"font-weight: bold\">(</span><span style=\"color: #008080; text-decoration-color: #008080; font-weight: bold\">1</span>, <span style=\"color: #008000; text-decoration-color: #008000\">'Success'</span><span style=\"font-weight: bold\">)</span>                 <span style=\"color: #7f7f7f; text-decoration-color: #7f7f7f\">                </span>\n",
       "</pre>\n"
      ],
      "text/plain": [
       "\u001b[2;36m                   \u001b[0m\u001b[2;36m \u001b[0m\u001b[32mDEBUG   \u001b[0m \u001b[1;4;35mget_rates\u001b[0m\u001b[1m(\u001b[0m\u001b[1m)\u001b[0m: \u001b[1;35mmt5.copy_rates\u001b[0m\u001b[1m(\u001b[0m\u001b[1m)\u001b[0m returned \u001b[3;35mNone\u001b[0m.    \u001b]8;id=932645;file://C:\\Users\\Gabriele\\AppData\\Local\\Temp\\ipykernel_7000\\3098301820.py\u001b\\\u001b[2m3098301820.py\u001b[0m\u001b]8;;\u001b\\\u001b[2m:\u001b[0m\u001b]8;id=383546;file://C:\\Users\\Gabriele\\AppData\\Local\\Temp\\ipykernel_7000\\3098301820.py#67\u001b\\\u001b[2m67\u001b[0m\u001b]8;;\u001b\\\n",
       "\u001b[2;36m                    \u001b[0m         \u001b[1;35mmt5.last_error\u001b[0m\u001b[1m(\u001b[0m\u001b[1m)\u001b[0m=\u001b[1m(\u001b[0m\u001b[1;36m1\u001b[0m, \u001b[32m'Success'\u001b[0m\u001b[1m)\u001b[0m                 \u001b[2m                \u001b[0m\n"
      ]
     },
     "metadata": {},
     "output_type": "display_data"
    },
    {
     "data": {
      "text/html": [
       "<pre style=\"white-space:pre;overflow-x:auto;line-height:normal;font-family:Menlo,'DejaVu Sans Mono',consolas,'Courier New',monospace\"><span style=\"color: #7fbfbf; text-decoration-color: #7fbfbf\">                    </span><span style=\"color: #008000; text-decoration-color: #008000\">DEBUG   </span> <span style=\"color: #800080; text-decoration-color: #800080; font-weight: bold; text-decoration: underline\">get_rates</span><span style=\"font-weight: bold\">()</span>: <span style=\"color: #800080; text-decoration-color: #800080; font-weight: bold\">mt5.copy_rates</span><span style=\"font-weight: bold\">()</span> returned <span style=\"color: #800080; text-decoration-color: #800080; font-style: italic\">None</span>.    <a href=\"file://C:\\Users\\Gabriele\\AppData\\Local\\Temp\\ipykernel_7000\\3098301820.py\"><span style=\"color: #7f7f7f; text-decoration-color: #7f7f7f\">3098301820.py</span></a><span style=\"color: #7f7f7f; text-decoration-color: #7f7f7f\">:</span><a href=\"file://C:\\Users\\Gabriele\\AppData\\Local\\Temp\\ipykernel_7000\\3098301820.py#67\"><span style=\"color: #7f7f7f; text-decoration-color: #7f7f7f\">67</span></a>\n",
       "<span style=\"color: #7fbfbf; text-decoration-color: #7fbfbf\">                    </span>         <span style=\"color: #800080; text-decoration-color: #800080; font-weight: bold\">mt5.last_error</span><span style=\"font-weight: bold\">()</span>=<span style=\"font-weight: bold\">(</span><span style=\"color: #008080; text-decoration-color: #008080; font-weight: bold\">1</span>, <span style=\"color: #008000; text-decoration-color: #008000\">'Success'</span><span style=\"font-weight: bold\">)</span>                 <span style=\"color: #7f7f7f; text-decoration-color: #7f7f7f\">                </span>\n",
       "</pre>\n"
      ],
      "text/plain": [
       "\u001b[2;36m                   \u001b[0m\u001b[2;36m \u001b[0m\u001b[32mDEBUG   \u001b[0m \u001b[1;4;35mget_rates\u001b[0m\u001b[1m(\u001b[0m\u001b[1m)\u001b[0m: \u001b[1;35mmt5.copy_rates\u001b[0m\u001b[1m(\u001b[0m\u001b[1m)\u001b[0m returned \u001b[3;35mNone\u001b[0m.    \u001b]8;id=706872;file://C:\\Users\\Gabriele\\AppData\\Local\\Temp\\ipykernel_7000\\3098301820.py\u001b\\\u001b[2m3098301820.py\u001b[0m\u001b]8;;\u001b\\\u001b[2m:\u001b[0m\u001b]8;id=192753;file://C:\\Users\\Gabriele\\AppData\\Local\\Temp\\ipykernel_7000\\3098301820.py#67\u001b\\\u001b[2m67\u001b[0m\u001b]8;;\u001b\\\n",
       "\u001b[2;36m                    \u001b[0m         \u001b[1;35mmt5.last_error\u001b[0m\u001b[1m(\u001b[0m\u001b[1m)\u001b[0m=\u001b[1m(\u001b[0m\u001b[1;36m1\u001b[0m, \u001b[32m'Success'\u001b[0m\u001b[1m)\u001b[0m                 \u001b[2m                \u001b[0m\n"
      ]
     },
     "metadata": {},
     "output_type": "display_data"
    },
    {
     "data": {
      "text/html": [
       "<pre style=\"white-space:pre;overflow-x:auto;line-height:normal;font-family:Menlo,'DejaVu Sans Mono',consolas,'Courier New',monospace\"><span style=\"color: #7fbfbf; text-decoration-color: #7fbfbf\">                    </span><span style=\"color: #008000; text-decoration-color: #008000\">DEBUG   </span> <span style=\"color: #800080; text-decoration-color: #800080; font-weight: bold; text-decoration: underline\">get_rates</span><span style=\"font-weight: bold\">()</span>: <span style=\"color: #800080; text-decoration-color: #800080; font-weight: bold\">mt5.copy_rates</span><span style=\"font-weight: bold\">()</span> returned <span style=\"color: #800080; text-decoration-color: #800080; font-style: italic\">None</span>.    <a href=\"file://C:\\Users\\Gabriele\\AppData\\Local\\Temp\\ipykernel_7000\\3098301820.py\"><span style=\"color: #7f7f7f; text-decoration-color: #7f7f7f\">3098301820.py</span></a><span style=\"color: #7f7f7f; text-decoration-color: #7f7f7f\">:</span><a href=\"file://C:\\Users\\Gabriele\\AppData\\Local\\Temp\\ipykernel_7000\\3098301820.py#67\"><span style=\"color: #7f7f7f; text-decoration-color: #7f7f7f\">67</span></a>\n",
       "<span style=\"color: #7fbfbf; text-decoration-color: #7fbfbf\">                    </span>         <span style=\"color: #800080; text-decoration-color: #800080; font-weight: bold\">mt5.last_error</span><span style=\"font-weight: bold\">()</span>=<span style=\"font-weight: bold\">(</span><span style=\"color: #008080; text-decoration-color: #008080; font-weight: bold\">1</span>, <span style=\"color: #008000; text-decoration-color: #008000\">'Success'</span><span style=\"font-weight: bold\">)</span>                 <span style=\"color: #7f7f7f; text-decoration-color: #7f7f7f\">                </span>\n",
       "</pre>\n"
      ],
      "text/plain": [
       "\u001b[2;36m                   \u001b[0m\u001b[2;36m \u001b[0m\u001b[32mDEBUG   \u001b[0m \u001b[1;4;35mget_rates\u001b[0m\u001b[1m(\u001b[0m\u001b[1m)\u001b[0m: \u001b[1;35mmt5.copy_rates\u001b[0m\u001b[1m(\u001b[0m\u001b[1m)\u001b[0m returned \u001b[3;35mNone\u001b[0m.    \u001b]8;id=153573;file://C:\\Users\\Gabriele\\AppData\\Local\\Temp\\ipykernel_7000\\3098301820.py\u001b\\\u001b[2m3098301820.py\u001b[0m\u001b]8;;\u001b\\\u001b[2m:\u001b[0m\u001b]8;id=148255;file://C:\\Users\\Gabriele\\AppData\\Local\\Temp\\ipykernel_7000\\3098301820.py#67\u001b\\\u001b[2m67\u001b[0m\u001b]8;;\u001b\\\n",
       "\u001b[2;36m                    \u001b[0m         \u001b[1;35mmt5.last_error\u001b[0m\u001b[1m(\u001b[0m\u001b[1m)\u001b[0m=\u001b[1m(\u001b[0m\u001b[1;36m1\u001b[0m, \u001b[32m'Success'\u001b[0m\u001b[1m)\u001b[0m                 \u001b[2m                \u001b[0m\n"
      ]
     },
     "metadata": {},
     "output_type": "display_data"
    },
    {
     "data": {
      "text/html": [
       "<pre style=\"white-space:pre;overflow-x:auto;line-height:normal;font-family:Menlo,'DejaVu Sans Mono',consolas,'Courier New',monospace\"><span style=\"color: #7fbfbf; text-decoration-color: #7fbfbf\">                    </span><span style=\"color: #008000; text-decoration-color: #008000\">DEBUG   </span> <span style=\"color: #800080; text-decoration-color: #800080; font-weight: bold; text-decoration: underline\">get_rates</span><span style=\"font-weight: bold\">()</span>: <span style=\"color: #800080; text-decoration-color: #800080; font-weight: bold\">mt5.copy_rates</span><span style=\"font-weight: bold\">()</span> returned <span style=\"color: #800080; text-decoration-color: #800080; font-style: italic\">None</span>.    <a href=\"file://C:\\Users\\Gabriele\\AppData\\Local\\Temp\\ipykernel_7000\\3098301820.py\"><span style=\"color: #7f7f7f; text-decoration-color: #7f7f7f\">3098301820.py</span></a><span style=\"color: #7f7f7f; text-decoration-color: #7f7f7f\">:</span><a href=\"file://C:\\Users\\Gabriele\\AppData\\Local\\Temp\\ipykernel_7000\\3098301820.py#67\"><span style=\"color: #7f7f7f; text-decoration-color: #7f7f7f\">67</span></a>\n",
       "<span style=\"color: #7fbfbf; text-decoration-color: #7fbfbf\">                    </span>         <span style=\"color: #800080; text-decoration-color: #800080; font-weight: bold\">mt5.last_error</span><span style=\"font-weight: bold\">()</span>=<span style=\"font-weight: bold\">(</span><span style=\"color: #008080; text-decoration-color: #008080; font-weight: bold\">1</span>, <span style=\"color: #008000; text-decoration-color: #008000\">'Success'</span><span style=\"font-weight: bold\">)</span>                 <span style=\"color: #7f7f7f; text-decoration-color: #7f7f7f\">                </span>\n",
       "</pre>\n"
      ],
      "text/plain": [
       "\u001b[2;36m                   \u001b[0m\u001b[2;36m \u001b[0m\u001b[32mDEBUG   \u001b[0m \u001b[1;4;35mget_rates\u001b[0m\u001b[1m(\u001b[0m\u001b[1m)\u001b[0m: \u001b[1;35mmt5.copy_rates\u001b[0m\u001b[1m(\u001b[0m\u001b[1m)\u001b[0m returned \u001b[3;35mNone\u001b[0m.    \u001b]8;id=3052;file://C:\\Users\\Gabriele\\AppData\\Local\\Temp\\ipykernel_7000\\3098301820.py\u001b\\\u001b[2m3098301820.py\u001b[0m\u001b]8;;\u001b\\\u001b[2m:\u001b[0m\u001b]8;id=584287;file://C:\\Users\\Gabriele\\AppData\\Local\\Temp\\ipykernel_7000\\3098301820.py#67\u001b\\\u001b[2m67\u001b[0m\u001b]8;;\u001b\\\n",
       "\u001b[2;36m                    \u001b[0m         \u001b[1;35mmt5.last_error\u001b[0m\u001b[1m(\u001b[0m\u001b[1m)\u001b[0m=\u001b[1m(\u001b[0m\u001b[1;36m1\u001b[0m, \u001b[32m'Success'\u001b[0m\u001b[1m)\u001b[0m                 \u001b[2m                \u001b[0m\n"
      ]
     },
     "metadata": {},
     "output_type": "display_data"
    },
    {
     "data": {
      "text/html": [
       "<pre style=\"white-space:pre;overflow-x:auto;line-height:normal;font-family:Menlo,'DejaVu Sans Mono',consolas,'Courier New',monospace\"><span style=\"color: #7fbfbf; text-decoration-color: #7fbfbf\">                    </span><span style=\"color: #008000; text-decoration-color: #008000\">DEBUG   </span> <span style=\"color: #800080; text-decoration-color: #800080; font-weight: bold; text-decoration: underline\">get_rates</span><span style=\"font-weight: bold\">()</span>: <span style=\"color: #800080; text-decoration-color: #800080; font-weight: bold\">mt5.copy_rates</span><span style=\"font-weight: bold\">()</span> returned <span style=\"color: #800080; text-decoration-color: #800080; font-style: italic\">None</span>.    <a href=\"file://C:\\Users\\Gabriele\\AppData\\Local\\Temp\\ipykernel_7000\\3098301820.py\"><span style=\"color: #7f7f7f; text-decoration-color: #7f7f7f\">3098301820.py</span></a><span style=\"color: #7f7f7f; text-decoration-color: #7f7f7f\">:</span><a href=\"file://C:\\Users\\Gabriele\\AppData\\Local\\Temp\\ipykernel_7000\\3098301820.py#67\"><span style=\"color: #7f7f7f; text-decoration-color: #7f7f7f\">67</span></a>\n",
       "<span style=\"color: #7fbfbf; text-decoration-color: #7fbfbf\">                    </span>         <span style=\"color: #800080; text-decoration-color: #800080; font-weight: bold\">mt5.last_error</span><span style=\"font-weight: bold\">()</span>=<span style=\"font-weight: bold\">(</span><span style=\"color: #008080; text-decoration-color: #008080; font-weight: bold\">1</span>, <span style=\"color: #008000; text-decoration-color: #008000\">'Success'</span><span style=\"font-weight: bold\">)</span>                 <span style=\"color: #7f7f7f; text-decoration-color: #7f7f7f\">                </span>\n",
       "</pre>\n"
      ],
      "text/plain": [
       "\u001b[2;36m                   \u001b[0m\u001b[2;36m \u001b[0m\u001b[32mDEBUG   \u001b[0m \u001b[1;4;35mget_rates\u001b[0m\u001b[1m(\u001b[0m\u001b[1m)\u001b[0m: \u001b[1;35mmt5.copy_rates\u001b[0m\u001b[1m(\u001b[0m\u001b[1m)\u001b[0m returned \u001b[3;35mNone\u001b[0m.    \u001b]8;id=112778;file://C:\\Users\\Gabriele\\AppData\\Local\\Temp\\ipykernel_7000\\3098301820.py\u001b\\\u001b[2m3098301820.py\u001b[0m\u001b]8;;\u001b\\\u001b[2m:\u001b[0m\u001b]8;id=589858;file://C:\\Users\\Gabriele\\AppData\\Local\\Temp\\ipykernel_7000\\3098301820.py#67\u001b\\\u001b[2m67\u001b[0m\u001b]8;;\u001b\\\n",
       "\u001b[2;36m                    \u001b[0m         \u001b[1;35mmt5.last_error\u001b[0m\u001b[1m(\u001b[0m\u001b[1m)\u001b[0m=\u001b[1m(\u001b[0m\u001b[1;36m1\u001b[0m, \u001b[32m'Success'\u001b[0m\u001b[1m)\u001b[0m                 \u001b[2m                \u001b[0m\n"
      ]
     },
     "metadata": {},
     "output_type": "display_data"
    },
    {
     "data": {
      "text/html": [
       "<pre style=\"white-space:pre;overflow-x:auto;line-height:normal;font-family:Menlo,'DejaVu Sans Mono',consolas,'Courier New',monospace\"><span style=\"color: #7fbfbf; text-decoration-color: #7fbfbf\">                    </span><span style=\"color: #008000; text-decoration-color: #008000\">DEBUG   </span> <span style=\"color: #800080; text-decoration-color: #800080; font-weight: bold; text-decoration: underline\">get_rates</span><span style=\"font-weight: bold\">()</span>: <span style=\"color: #800080; text-decoration-color: #800080; font-weight: bold\">mt5.copy_rates</span><span style=\"font-weight: bold\">()</span> returned <span style=\"color: #800080; text-decoration-color: #800080; font-style: italic\">None</span>.    <a href=\"file://C:\\Users\\Gabriele\\AppData\\Local\\Temp\\ipykernel_7000\\3098301820.py\"><span style=\"color: #7f7f7f; text-decoration-color: #7f7f7f\">3098301820.py</span></a><span style=\"color: #7f7f7f; text-decoration-color: #7f7f7f\">:</span><a href=\"file://C:\\Users\\Gabriele\\AppData\\Local\\Temp\\ipykernel_7000\\3098301820.py#67\"><span style=\"color: #7f7f7f; text-decoration-color: #7f7f7f\">67</span></a>\n",
       "<span style=\"color: #7fbfbf; text-decoration-color: #7fbfbf\">                    </span>         <span style=\"color: #800080; text-decoration-color: #800080; font-weight: bold\">mt5.last_error</span><span style=\"font-weight: bold\">()</span>=<span style=\"font-weight: bold\">(</span><span style=\"color: #008080; text-decoration-color: #008080; font-weight: bold\">1</span>, <span style=\"color: #008000; text-decoration-color: #008000\">'Success'</span><span style=\"font-weight: bold\">)</span>                 <span style=\"color: #7f7f7f; text-decoration-color: #7f7f7f\">                </span>\n",
       "</pre>\n"
      ],
      "text/plain": [
       "\u001b[2;36m                   \u001b[0m\u001b[2;36m \u001b[0m\u001b[32mDEBUG   \u001b[0m \u001b[1;4;35mget_rates\u001b[0m\u001b[1m(\u001b[0m\u001b[1m)\u001b[0m: \u001b[1;35mmt5.copy_rates\u001b[0m\u001b[1m(\u001b[0m\u001b[1m)\u001b[0m returned \u001b[3;35mNone\u001b[0m.    \u001b]8;id=868416;file://C:\\Users\\Gabriele\\AppData\\Local\\Temp\\ipykernel_7000\\3098301820.py\u001b\\\u001b[2m3098301820.py\u001b[0m\u001b]8;;\u001b\\\u001b[2m:\u001b[0m\u001b]8;id=374082;file://C:\\Users\\Gabriele\\AppData\\Local\\Temp\\ipykernel_7000\\3098301820.py#67\u001b\\\u001b[2m67\u001b[0m\u001b]8;;\u001b\\\n",
       "\u001b[2;36m                    \u001b[0m         \u001b[1;35mmt5.last_error\u001b[0m\u001b[1m(\u001b[0m\u001b[1m)\u001b[0m=\u001b[1m(\u001b[0m\u001b[1;36m1\u001b[0m, \u001b[32m'Success'\u001b[0m\u001b[1m)\u001b[0m                 \u001b[2m                \u001b[0m\n"
      ]
     },
     "metadata": {},
     "output_type": "display_data"
    },
    {
     "data": {
      "text/html": [
       "<pre style=\"white-space:pre;overflow-x:auto;line-height:normal;font-family:Menlo,'DejaVu Sans Mono',consolas,'Courier New',monospace\"><span style=\"color: #7fbfbf; text-decoration-color: #7fbfbf\">                    </span><span style=\"color: #008000; text-decoration-color: #008000\">DEBUG   </span> <span style=\"color: #800080; text-decoration-color: #800080; font-weight: bold; text-decoration: underline\">get_rates</span><span style=\"font-weight: bold\">()</span>: <span style=\"color: #800080; text-decoration-color: #800080; font-weight: bold\">mt5.copy_rates</span><span style=\"font-weight: bold\">()</span> returned <span style=\"color: #800080; text-decoration-color: #800080; font-style: italic\">None</span>.    <a href=\"file://C:\\Users\\Gabriele\\AppData\\Local\\Temp\\ipykernel_7000\\3098301820.py\"><span style=\"color: #7f7f7f; text-decoration-color: #7f7f7f\">3098301820.py</span></a><span style=\"color: #7f7f7f; text-decoration-color: #7f7f7f\">:</span><a href=\"file://C:\\Users\\Gabriele\\AppData\\Local\\Temp\\ipykernel_7000\\3098301820.py#67\"><span style=\"color: #7f7f7f; text-decoration-color: #7f7f7f\">67</span></a>\n",
       "<span style=\"color: #7fbfbf; text-decoration-color: #7fbfbf\">                    </span>         <span style=\"color: #800080; text-decoration-color: #800080; font-weight: bold\">mt5.last_error</span><span style=\"font-weight: bold\">()</span>=<span style=\"font-weight: bold\">(</span><span style=\"color: #008080; text-decoration-color: #008080; font-weight: bold\">1</span>, <span style=\"color: #008000; text-decoration-color: #008000\">'Success'</span><span style=\"font-weight: bold\">)</span>                 <span style=\"color: #7f7f7f; text-decoration-color: #7f7f7f\">                </span>\n",
       "</pre>\n"
      ],
      "text/plain": [
       "\u001b[2;36m                   \u001b[0m\u001b[2;36m \u001b[0m\u001b[32mDEBUG   \u001b[0m \u001b[1;4;35mget_rates\u001b[0m\u001b[1m(\u001b[0m\u001b[1m)\u001b[0m: \u001b[1;35mmt5.copy_rates\u001b[0m\u001b[1m(\u001b[0m\u001b[1m)\u001b[0m returned \u001b[3;35mNone\u001b[0m.    \u001b]8;id=200326;file://C:\\Users\\Gabriele\\AppData\\Local\\Temp\\ipykernel_7000\\3098301820.py\u001b\\\u001b[2m3098301820.py\u001b[0m\u001b]8;;\u001b\\\u001b[2m:\u001b[0m\u001b]8;id=470879;file://C:\\Users\\Gabriele\\AppData\\Local\\Temp\\ipykernel_7000\\3098301820.py#67\u001b\\\u001b[2m67\u001b[0m\u001b]8;;\u001b\\\n",
       "\u001b[2;36m                    \u001b[0m         \u001b[1;35mmt5.last_error\u001b[0m\u001b[1m(\u001b[0m\u001b[1m)\u001b[0m=\u001b[1m(\u001b[0m\u001b[1;36m1\u001b[0m, \u001b[32m'Success'\u001b[0m\u001b[1m)\u001b[0m                 \u001b[2m                \u001b[0m\n"
      ]
     },
     "metadata": {},
     "output_type": "display_data"
    },
    {
     "data": {
      "text/html": [
       "<pre style=\"white-space:pre;overflow-x:auto;line-height:normal;font-family:Menlo,'DejaVu Sans Mono',consolas,'Courier New',monospace\"><span style=\"color: #7fbfbf; text-decoration-color: #7fbfbf\">                    </span><span style=\"color: #008000; text-decoration-color: #008000\">DEBUG   </span> <span style=\"color: #800080; text-decoration-color: #800080; font-weight: bold; text-decoration: underline\">get_rates</span><span style=\"font-weight: bold\">()</span>: Successfully loaded <span style=\"color: #800080; text-decoration-color: #800080; font-weight: bold\">len</span><span style=\"font-weight: bold\">(</span>rates<span style=\"font-weight: bold\">)</span>=<span style=\"color: #008080; text-decoration-color: #008080; font-weight: bold\">61</span>  <a href=\"file://C:\\Users\\Gabriele\\AppData\\Local\\Temp\\ipykernel_7000\\3098301820.py\"><span style=\"color: #7f7f7f; text-decoration-color: #7f7f7f\">3098301820.py</span></a><span style=\"color: #7f7f7f; text-decoration-color: #7f7f7f\">:</span><a href=\"file://C:\\Users\\Gabriele\\AppData\\Local\\Temp\\ipykernel_7000\\3098301820.py#78\"><span style=\"color: #7f7f7f; text-decoration-color: #7f7f7f\">78</span></a>\n",
       "</pre>\n"
      ],
      "text/plain": [
       "\u001b[2;36m                   \u001b[0m\u001b[2;36m \u001b[0m\u001b[32mDEBUG   \u001b[0m \u001b[1;4;35mget_rates\u001b[0m\u001b[1m(\u001b[0m\u001b[1m)\u001b[0m: Successfully loaded \u001b[1;35mlen\u001b[0m\u001b[1m(\u001b[0mrates\u001b[1m)\u001b[0m=\u001b[1;36m61\u001b[0m  \u001b]8;id=581810;file://C:\\Users\\Gabriele\\AppData\\Local\\Temp\\ipykernel_7000\\3098301820.py\u001b\\\u001b[2m3098301820.py\u001b[0m\u001b]8;;\u001b\\\u001b[2m:\u001b[0m\u001b]8;id=979551;file://C:\\Users\\Gabriele\\AppData\\Local\\Temp\\ipykernel_7000\\3098301820.py#78\u001b\\\u001b[2m78\u001b[0m\u001b]8;;\u001b\\\n"
      ]
     },
     "metadata": {},
     "output_type": "display_data"
    },
    {
     "data": {
      "text/html": [
       "<pre style=\"white-space:pre;overflow-x:auto;line-height:normal;font-family:Menlo,'DejaVu Sans Mono',consolas,'Courier New',monospace\"><span style=\"color: #7fbfbf; text-decoration-color: #7fbfbf\">                    </span><span style=\"color: #008000; text-decoration-color: #008000\">DEBUG   </span> <span style=\"color: #800080; text-decoration-color: #800080; font-weight: bold; text-decoration: underline\">get_rates</span><span style=\"font-weight: bold\">()</span>: <span style=\"color: #800080; text-decoration-color: #800080; font-weight: bold\">mt5.copy_rates</span><span style=\"font-weight: bold\">()</span> returned <span style=\"color: #800080; text-decoration-color: #800080; font-style: italic\">None</span>.    <a href=\"file://C:\\Users\\Gabriele\\AppData\\Local\\Temp\\ipykernel_7000\\3098301820.py\"><span style=\"color: #7f7f7f; text-decoration-color: #7f7f7f\">3098301820.py</span></a><span style=\"color: #7f7f7f; text-decoration-color: #7f7f7f\">:</span><a href=\"file://C:\\Users\\Gabriele\\AppData\\Local\\Temp\\ipykernel_7000\\3098301820.py#67\"><span style=\"color: #7f7f7f; text-decoration-color: #7f7f7f\">67</span></a>\n",
       "<span style=\"color: #7fbfbf; text-decoration-color: #7fbfbf\">                    </span>         <span style=\"color: #800080; text-decoration-color: #800080; font-weight: bold\">mt5.last_error</span><span style=\"font-weight: bold\">()</span>=<span style=\"font-weight: bold\">(</span><span style=\"color: #008080; text-decoration-color: #008080; font-weight: bold\">1</span>, <span style=\"color: #008000; text-decoration-color: #008000\">'Success'</span><span style=\"font-weight: bold\">)</span>                 <span style=\"color: #7f7f7f; text-decoration-color: #7f7f7f\">                </span>\n",
       "</pre>\n"
      ],
      "text/plain": [
       "\u001b[2;36m                   \u001b[0m\u001b[2;36m \u001b[0m\u001b[32mDEBUG   \u001b[0m \u001b[1;4;35mget_rates\u001b[0m\u001b[1m(\u001b[0m\u001b[1m)\u001b[0m: \u001b[1;35mmt5.copy_rates\u001b[0m\u001b[1m(\u001b[0m\u001b[1m)\u001b[0m returned \u001b[3;35mNone\u001b[0m.    \u001b]8;id=821675;file://C:\\Users\\Gabriele\\AppData\\Local\\Temp\\ipykernel_7000\\3098301820.py\u001b\\\u001b[2m3098301820.py\u001b[0m\u001b]8;;\u001b\\\u001b[2m:\u001b[0m\u001b]8;id=187120;file://C:\\Users\\Gabriele\\AppData\\Local\\Temp\\ipykernel_7000\\3098301820.py#67\u001b\\\u001b[2m67\u001b[0m\u001b]8;;\u001b\\\n",
       "\u001b[2;36m                    \u001b[0m         \u001b[1;35mmt5.last_error\u001b[0m\u001b[1m(\u001b[0m\u001b[1m)\u001b[0m=\u001b[1m(\u001b[0m\u001b[1;36m1\u001b[0m, \u001b[32m'Success'\u001b[0m\u001b[1m)\u001b[0m                 \u001b[2m                \u001b[0m\n"
      ]
     },
     "metadata": {},
     "output_type": "display_data"
    },
    {
     "data": {
      "text/html": [
       "<pre style=\"white-space:pre;overflow-x:auto;line-height:normal;font-family:Menlo,'DejaVu Sans Mono',consolas,'Courier New',monospace\"><span style=\"color: #7fbfbf; text-decoration-color: #7fbfbf\">                    </span><span style=\"color: #008000; text-decoration-color: #008000\">DEBUG   </span> <span style=\"color: #800080; text-decoration-color: #800080; font-weight: bold; text-decoration: underline\">get_rates</span><span style=\"font-weight: bold\">()</span>: <span style=\"color: #800080; text-decoration-color: #800080; font-weight: bold\">mt5.copy_rates</span><span style=\"font-weight: bold\">()</span> returned <span style=\"color: #800080; text-decoration-color: #800080; font-style: italic\">None</span>.    <a href=\"file://C:\\Users\\Gabriele\\AppData\\Local\\Temp\\ipykernel_7000\\3098301820.py\"><span style=\"color: #7f7f7f; text-decoration-color: #7f7f7f\">3098301820.py</span></a><span style=\"color: #7f7f7f; text-decoration-color: #7f7f7f\">:</span><a href=\"file://C:\\Users\\Gabriele\\AppData\\Local\\Temp\\ipykernel_7000\\3098301820.py#67\"><span style=\"color: #7f7f7f; text-decoration-color: #7f7f7f\">67</span></a>\n",
       "<span style=\"color: #7fbfbf; text-decoration-color: #7fbfbf\">                    </span>         <span style=\"color: #800080; text-decoration-color: #800080; font-weight: bold\">mt5.last_error</span><span style=\"font-weight: bold\">()</span>=<span style=\"font-weight: bold\">(</span><span style=\"color: #008080; text-decoration-color: #008080; font-weight: bold\">1</span>, <span style=\"color: #008000; text-decoration-color: #008000\">'Success'</span><span style=\"font-weight: bold\">)</span>                 <span style=\"color: #7f7f7f; text-decoration-color: #7f7f7f\">                </span>\n",
       "</pre>\n"
      ],
      "text/plain": [
       "\u001b[2;36m                   \u001b[0m\u001b[2;36m \u001b[0m\u001b[32mDEBUG   \u001b[0m \u001b[1;4;35mget_rates\u001b[0m\u001b[1m(\u001b[0m\u001b[1m)\u001b[0m: \u001b[1;35mmt5.copy_rates\u001b[0m\u001b[1m(\u001b[0m\u001b[1m)\u001b[0m returned \u001b[3;35mNone\u001b[0m.    \u001b]8;id=797505;file://C:\\Users\\Gabriele\\AppData\\Local\\Temp\\ipykernel_7000\\3098301820.py\u001b\\\u001b[2m3098301820.py\u001b[0m\u001b]8;;\u001b\\\u001b[2m:\u001b[0m\u001b]8;id=50825;file://C:\\Users\\Gabriele\\AppData\\Local\\Temp\\ipykernel_7000\\3098301820.py#67\u001b\\\u001b[2m67\u001b[0m\u001b]8;;\u001b\\\n",
       "\u001b[2;36m                    \u001b[0m         \u001b[1;35mmt5.last_error\u001b[0m\u001b[1m(\u001b[0m\u001b[1m)\u001b[0m=\u001b[1m(\u001b[0m\u001b[1;36m1\u001b[0m, \u001b[32m'Success'\u001b[0m\u001b[1m)\u001b[0m                 \u001b[2m                \u001b[0m\n"
      ]
     },
     "metadata": {},
     "output_type": "display_data"
    },
    {
     "data": {
      "text/html": [
       "<pre style=\"white-space:pre;overflow-x:auto;line-height:normal;font-family:Menlo,'DejaVu Sans Mono',consolas,'Courier New',monospace\"><span style=\"color: #7fbfbf; text-decoration-color: #7fbfbf\">                    </span><span style=\"color: #008000; text-decoration-color: #008000\">DEBUG   </span> <span style=\"color: #800080; text-decoration-color: #800080; font-weight: bold; text-decoration: underline\">get_rates</span><span style=\"font-weight: bold\">()</span>: <span style=\"color: #800080; text-decoration-color: #800080; font-weight: bold\">mt5.copy_rates</span><span style=\"font-weight: bold\">()</span> returned <span style=\"color: #800080; text-decoration-color: #800080; font-style: italic\">None</span>.    <a href=\"file://C:\\Users\\Gabriele\\AppData\\Local\\Temp\\ipykernel_7000\\3098301820.py\"><span style=\"color: #7f7f7f; text-decoration-color: #7f7f7f\">3098301820.py</span></a><span style=\"color: #7f7f7f; text-decoration-color: #7f7f7f\">:</span><a href=\"file://C:\\Users\\Gabriele\\AppData\\Local\\Temp\\ipykernel_7000\\3098301820.py#67\"><span style=\"color: #7f7f7f; text-decoration-color: #7f7f7f\">67</span></a>\n",
       "<span style=\"color: #7fbfbf; text-decoration-color: #7fbfbf\">                    </span>         <span style=\"color: #800080; text-decoration-color: #800080; font-weight: bold\">mt5.last_error</span><span style=\"font-weight: bold\">()</span>=<span style=\"font-weight: bold\">(</span><span style=\"color: #008080; text-decoration-color: #008080; font-weight: bold\">1</span>, <span style=\"color: #008000; text-decoration-color: #008000\">'Success'</span><span style=\"font-weight: bold\">)</span>                 <span style=\"color: #7f7f7f; text-decoration-color: #7f7f7f\">                </span>\n",
       "</pre>\n"
      ],
      "text/plain": [
       "\u001b[2;36m                   \u001b[0m\u001b[2;36m \u001b[0m\u001b[32mDEBUG   \u001b[0m \u001b[1;4;35mget_rates\u001b[0m\u001b[1m(\u001b[0m\u001b[1m)\u001b[0m: \u001b[1;35mmt5.copy_rates\u001b[0m\u001b[1m(\u001b[0m\u001b[1m)\u001b[0m returned \u001b[3;35mNone\u001b[0m.    \u001b]8;id=245778;file://C:\\Users\\Gabriele\\AppData\\Local\\Temp\\ipykernel_7000\\3098301820.py\u001b\\\u001b[2m3098301820.py\u001b[0m\u001b]8;;\u001b\\\u001b[2m:\u001b[0m\u001b]8;id=156415;file://C:\\Users\\Gabriele\\AppData\\Local\\Temp\\ipykernel_7000\\3098301820.py#67\u001b\\\u001b[2m67\u001b[0m\u001b]8;;\u001b\\\n",
       "\u001b[2;36m                    \u001b[0m         \u001b[1;35mmt5.last_error\u001b[0m\u001b[1m(\u001b[0m\u001b[1m)\u001b[0m=\u001b[1m(\u001b[0m\u001b[1;36m1\u001b[0m, \u001b[32m'Success'\u001b[0m\u001b[1m)\u001b[0m                 \u001b[2m                \u001b[0m\n"
      ]
     },
     "metadata": {},
     "output_type": "display_data"
    },
    {
     "data": {
      "text/html": [
       "<pre style=\"white-space:pre;overflow-x:auto;line-height:normal;font-family:Menlo,'DejaVu Sans Mono',consolas,'Courier New',monospace\"><span style=\"color: #7fbfbf; text-decoration-color: #7fbfbf\">                    </span><span style=\"color: #008000; text-decoration-color: #008000\">DEBUG   </span> <span style=\"color: #800080; text-decoration-color: #800080; font-weight: bold; text-decoration: underline\">get_rates</span><span style=\"font-weight: bold\">()</span>: <span style=\"color: #800080; text-decoration-color: #800080; font-weight: bold\">mt5.copy_rates</span><span style=\"font-weight: bold\">()</span> returned <span style=\"color: #800080; text-decoration-color: #800080; font-style: italic\">None</span>.    <a href=\"file://C:\\Users\\Gabriele\\AppData\\Local\\Temp\\ipykernel_7000\\3098301820.py\"><span style=\"color: #7f7f7f; text-decoration-color: #7f7f7f\">3098301820.py</span></a><span style=\"color: #7f7f7f; text-decoration-color: #7f7f7f\">:</span><a href=\"file://C:\\Users\\Gabriele\\AppData\\Local\\Temp\\ipykernel_7000\\3098301820.py#67\"><span style=\"color: #7f7f7f; text-decoration-color: #7f7f7f\">67</span></a>\n",
       "<span style=\"color: #7fbfbf; text-decoration-color: #7fbfbf\">                    </span>         <span style=\"color: #800080; text-decoration-color: #800080; font-weight: bold\">mt5.last_error</span><span style=\"font-weight: bold\">()</span>=<span style=\"font-weight: bold\">(</span><span style=\"color: #008080; text-decoration-color: #008080; font-weight: bold\">1</span>, <span style=\"color: #008000; text-decoration-color: #008000\">'Success'</span><span style=\"font-weight: bold\">)</span>                 <span style=\"color: #7f7f7f; text-decoration-color: #7f7f7f\">                </span>\n",
       "</pre>\n"
      ],
      "text/plain": [
       "\u001b[2;36m                   \u001b[0m\u001b[2;36m \u001b[0m\u001b[32mDEBUG   \u001b[0m \u001b[1;4;35mget_rates\u001b[0m\u001b[1m(\u001b[0m\u001b[1m)\u001b[0m: \u001b[1;35mmt5.copy_rates\u001b[0m\u001b[1m(\u001b[0m\u001b[1m)\u001b[0m returned \u001b[3;35mNone\u001b[0m.    \u001b]8;id=298499;file://C:\\Users\\Gabriele\\AppData\\Local\\Temp\\ipykernel_7000\\3098301820.py\u001b\\\u001b[2m3098301820.py\u001b[0m\u001b]8;;\u001b\\\u001b[2m:\u001b[0m\u001b]8;id=124943;file://C:\\Users\\Gabriele\\AppData\\Local\\Temp\\ipykernel_7000\\3098301820.py#67\u001b\\\u001b[2m67\u001b[0m\u001b]8;;\u001b\\\n",
       "\u001b[2;36m                    \u001b[0m         \u001b[1;35mmt5.last_error\u001b[0m\u001b[1m(\u001b[0m\u001b[1m)\u001b[0m=\u001b[1m(\u001b[0m\u001b[1;36m1\u001b[0m, \u001b[32m'Success'\u001b[0m\u001b[1m)\u001b[0m                 \u001b[2m                \u001b[0m\n"
      ]
     },
     "metadata": {},
     "output_type": "display_data"
    },
    {
     "data": {
      "text/html": [
       "<pre style=\"white-space:pre;overflow-x:auto;line-height:normal;font-family:Menlo,'DejaVu Sans Mono',consolas,'Courier New',monospace\"><span style=\"color: #7fbfbf; text-decoration-color: #7fbfbf\">                    </span><span style=\"color: #008000; text-decoration-color: #008000\">DEBUG   </span> <span style=\"color: #800080; text-decoration-color: #800080; font-weight: bold; text-decoration: underline\">get_rates</span><span style=\"font-weight: bold\">()</span>: <span style=\"color: #800080; text-decoration-color: #800080; font-weight: bold\">mt5.copy_rates</span><span style=\"font-weight: bold\">()</span> returned <span style=\"color: #800080; text-decoration-color: #800080; font-style: italic\">None</span>.    <a href=\"file://C:\\Users\\Gabriele\\AppData\\Local\\Temp\\ipykernel_7000\\3098301820.py\"><span style=\"color: #7f7f7f; text-decoration-color: #7f7f7f\">3098301820.py</span></a><span style=\"color: #7f7f7f; text-decoration-color: #7f7f7f\">:</span><a href=\"file://C:\\Users\\Gabriele\\AppData\\Local\\Temp\\ipykernel_7000\\3098301820.py#67\"><span style=\"color: #7f7f7f; text-decoration-color: #7f7f7f\">67</span></a>\n",
       "<span style=\"color: #7fbfbf; text-decoration-color: #7fbfbf\">                    </span>         <span style=\"color: #800080; text-decoration-color: #800080; font-weight: bold\">mt5.last_error</span><span style=\"font-weight: bold\">()</span>=<span style=\"font-weight: bold\">(</span><span style=\"color: #008080; text-decoration-color: #008080; font-weight: bold\">1</span>, <span style=\"color: #008000; text-decoration-color: #008000\">'Success'</span><span style=\"font-weight: bold\">)</span>                 <span style=\"color: #7f7f7f; text-decoration-color: #7f7f7f\">                </span>\n",
       "</pre>\n"
      ],
      "text/plain": [
       "\u001b[2;36m                   \u001b[0m\u001b[2;36m \u001b[0m\u001b[32mDEBUG   \u001b[0m \u001b[1;4;35mget_rates\u001b[0m\u001b[1m(\u001b[0m\u001b[1m)\u001b[0m: \u001b[1;35mmt5.copy_rates\u001b[0m\u001b[1m(\u001b[0m\u001b[1m)\u001b[0m returned \u001b[3;35mNone\u001b[0m.    \u001b]8;id=237701;file://C:\\Users\\Gabriele\\AppData\\Local\\Temp\\ipykernel_7000\\3098301820.py\u001b\\\u001b[2m3098301820.py\u001b[0m\u001b]8;;\u001b\\\u001b[2m:\u001b[0m\u001b]8;id=644562;file://C:\\Users\\Gabriele\\AppData\\Local\\Temp\\ipykernel_7000\\3098301820.py#67\u001b\\\u001b[2m67\u001b[0m\u001b]8;;\u001b\\\n",
       "\u001b[2;36m                    \u001b[0m         \u001b[1;35mmt5.last_error\u001b[0m\u001b[1m(\u001b[0m\u001b[1m)\u001b[0m=\u001b[1m(\u001b[0m\u001b[1;36m1\u001b[0m, \u001b[32m'Success'\u001b[0m\u001b[1m)\u001b[0m                 \u001b[2m                \u001b[0m\n"
      ]
     },
     "metadata": {},
     "output_type": "display_data"
    },
    {
     "data": {
      "text/html": [
       "<pre style=\"white-space:pre;overflow-x:auto;line-height:normal;font-family:Menlo,'DejaVu Sans Mono',consolas,'Courier New',monospace\"><span style=\"color: #7fbfbf; text-decoration-color: #7fbfbf\">                    </span><span style=\"color: #008000; text-decoration-color: #008000\">DEBUG   </span> <span style=\"color: #800080; text-decoration-color: #800080; font-weight: bold; text-decoration: underline\">get_rates</span><span style=\"font-weight: bold\">()</span>: <span style=\"color: #800080; text-decoration-color: #800080; font-weight: bold\">mt5.copy_rates</span><span style=\"font-weight: bold\">()</span> returned <span style=\"color: #800080; text-decoration-color: #800080; font-style: italic\">None</span>.    <a href=\"file://C:\\Users\\Gabriele\\AppData\\Local\\Temp\\ipykernel_7000\\3098301820.py\"><span style=\"color: #7f7f7f; text-decoration-color: #7f7f7f\">3098301820.py</span></a><span style=\"color: #7f7f7f; text-decoration-color: #7f7f7f\">:</span><a href=\"file://C:\\Users\\Gabriele\\AppData\\Local\\Temp\\ipykernel_7000\\3098301820.py#67\"><span style=\"color: #7f7f7f; text-decoration-color: #7f7f7f\">67</span></a>\n",
       "<span style=\"color: #7fbfbf; text-decoration-color: #7fbfbf\">                    </span>         <span style=\"color: #800080; text-decoration-color: #800080; font-weight: bold\">mt5.last_error</span><span style=\"font-weight: bold\">()</span>=<span style=\"font-weight: bold\">(</span><span style=\"color: #008080; text-decoration-color: #008080; font-weight: bold\">1</span>, <span style=\"color: #008000; text-decoration-color: #008000\">'Success'</span><span style=\"font-weight: bold\">)</span>                 <span style=\"color: #7f7f7f; text-decoration-color: #7f7f7f\">                </span>\n",
       "</pre>\n"
      ],
      "text/plain": [
       "\u001b[2;36m                   \u001b[0m\u001b[2;36m \u001b[0m\u001b[32mDEBUG   \u001b[0m \u001b[1;4;35mget_rates\u001b[0m\u001b[1m(\u001b[0m\u001b[1m)\u001b[0m: \u001b[1;35mmt5.copy_rates\u001b[0m\u001b[1m(\u001b[0m\u001b[1m)\u001b[0m returned \u001b[3;35mNone\u001b[0m.    \u001b]8;id=13990;file://C:\\Users\\Gabriele\\AppData\\Local\\Temp\\ipykernel_7000\\3098301820.py\u001b\\\u001b[2m3098301820.py\u001b[0m\u001b]8;;\u001b\\\u001b[2m:\u001b[0m\u001b]8;id=779568;file://C:\\Users\\Gabriele\\AppData\\Local\\Temp\\ipykernel_7000\\3098301820.py#67\u001b\\\u001b[2m67\u001b[0m\u001b]8;;\u001b\\\n",
       "\u001b[2;36m                    \u001b[0m         \u001b[1;35mmt5.last_error\u001b[0m\u001b[1m(\u001b[0m\u001b[1m)\u001b[0m=\u001b[1m(\u001b[0m\u001b[1;36m1\u001b[0m, \u001b[32m'Success'\u001b[0m\u001b[1m)\u001b[0m                 \u001b[2m                \u001b[0m\n"
      ]
     },
     "metadata": {},
     "output_type": "display_data"
    },
    {
     "data": {
      "text/html": [
       "<pre style=\"white-space:pre;overflow-x:auto;line-height:normal;font-family:Menlo,'DejaVu Sans Mono',consolas,'Courier New',monospace\"><span style=\"color: #7fbfbf; text-decoration-color: #7fbfbf\">                    </span><span style=\"color: #008000; text-decoration-color: #008000\">DEBUG   </span> <span style=\"color: #800080; text-decoration-color: #800080; font-weight: bold; text-decoration: underline\">get_rates</span><span style=\"font-weight: bold\">()</span>: <span style=\"color: #800080; text-decoration-color: #800080; font-weight: bold\">mt5.copy_rates</span><span style=\"font-weight: bold\">()</span> returned <span style=\"color: #800080; text-decoration-color: #800080; font-style: italic\">None</span>.    <a href=\"file://C:\\Users\\Gabriele\\AppData\\Local\\Temp\\ipykernel_7000\\3098301820.py\"><span style=\"color: #7f7f7f; text-decoration-color: #7f7f7f\">3098301820.py</span></a><span style=\"color: #7f7f7f; text-decoration-color: #7f7f7f\">:</span><a href=\"file://C:\\Users\\Gabriele\\AppData\\Local\\Temp\\ipykernel_7000\\3098301820.py#67\"><span style=\"color: #7f7f7f; text-decoration-color: #7f7f7f\">67</span></a>\n",
       "<span style=\"color: #7fbfbf; text-decoration-color: #7fbfbf\">                    </span>         <span style=\"color: #800080; text-decoration-color: #800080; font-weight: bold\">mt5.last_error</span><span style=\"font-weight: bold\">()</span>=<span style=\"font-weight: bold\">(</span><span style=\"color: #008080; text-decoration-color: #008080; font-weight: bold\">1</span>, <span style=\"color: #008000; text-decoration-color: #008000\">'Success'</span><span style=\"font-weight: bold\">)</span>                 <span style=\"color: #7f7f7f; text-decoration-color: #7f7f7f\">                </span>\n",
       "</pre>\n"
      ],
      "text/plain": [
       "\u001b[2;36m                   \u001b[0m\u001b[2;36m \u001b[0m\u001b[32mDEBUG   \u001b[0m \u001b[1;4;35mget_rates\u001b[0m\u001b[1m(\u001b[0m\u001b[1m)\u001b[0m: \u001b[1;35mmt5.copy_rates\u001b[0m\u001b[1m(\u001b[0m\u001b[1m)\u001b[0m returned \u001b[3;35mNone\u001b[0m.    \u001b]8;id=215336;file://C:\\Users\\Gabriele\\AppData\\Local\\Temp\\ipykernel_7000\\3098301820.py\u001b\\\u001b[2m3098301820.py\u001b[0m\u001b]8;;\u001b\\\u001b[2m:\u001b[0m\u001b]8;id=194359;file://C:\\Users\\Gabriele\\AppData\\Local\\Temp\\ipykernel_7000\\3098301820.py#67\u001b\\\u001b[2m67\u001b[0m\u001b]8;;\u001b\\\n",
       "\u001b[2;36m                    \u001b[0m         \u001b[1;35mmt5.last_error\u001b[0m\u001b[1m(\u001b[0m\u001b[1m)\u001b[0m=\u001b[1m(\u001b[0m\u001b[1;36m1\u001b[0m, \u001b[32m'Success'\u001b[0m\u001b[1m)\u001b[0m                 \u001b[2m                \u001b[0m\n"
      ]
     },
     "metadata": {},
     "output_type": "display_data"
    },
    {
     "data": {
      "text/html": [
       "<pre style=\"white-space:pre;overflow-x:auto;line-height:normal;font-family:Menlo,'DejaVu Sans Mono',consolas,'Courier New',monospace\"><span style=\"color: #7fbfbf; text-decoration-color: #7fbfbf\">                    </span><span style=\"color: #008000; text-decoration-color: #008000\">DEBUG   </span> <span style=\"color: #800080; text-decoration-color: #800080; font-weight: bold; text-decoration: underline\">get_rates</span><span style=\"font-weight: bold\">()</span>: <span style=\"color: #800080; text-decoration-color: #800080; font-weight: bold\">mt5.copy_rates</span><span style=\"font-weight: bold\">()</span> returned <span style=\"color: #800080; text-decoration-color: #800080; font-style: italic\">None</span>.    <a href=\"file://C:\\Users\\Gabriele\\AppData\\Local\\Temp\\ipykernel_7000\\3098301820.py\"><span style=\"color: #7f7f7f; text-decoration-color: #7f7f7f\">3098301820.py</span></a><span style=\"color: #7f7f7f; text-decoration-color: #7f7f7f\">:</span><a href=\"file://C:\\Users\\Gabriele\\AppData\\Local\\Temp\\ipykernel_7000\\3098301820.py#67\"><span style=\"color: #7f7f7f; text-decoration-color: #7f7f7f\">67</span></a>\n",
       "<span style=\"color: #7fbfbf; text-decoration-color: #7fbfbf\">                    </span>         <span style=\"color: #800080; text-decoration-color: #800080; font-weight: bold\">mt5.last_error</span><span style=\"font-weight: bold\">()</span>=<span style=\"font-weight: bold\">(</span><span style=\"color: #008080; text-decoration-color: #008080; font-weight: bold\">1</span>, <span style=\"color: #008000; text-decoration-color: #008000\">'Success'</span><span style=\"font-weight: bold\">)</span>                 <span style=\"color: #7f7f7f; text-decoration-color: #7f7f7f\">                </span>\n",
       "</pre>\n"
      ],
      "text/plain": [
       "\u001b[2;36m                   \u001b[0m\u001b[2;36m \u001b[0m\u001b[32mDEBUG   \u001b[0m \u001b[1;4;35mget_rates\u001b[0m\u001b[1m(\u001b[0m\u001b[1m)\u001b[0m: \u001b[1;35mmt5.copy_rates\u001b[0m\u001b[1m(\u001b[0m\u001b[1m)\u001b[0m returned \u001b[3;35mNone\u001b[0m.    \u001b]8;id=543148;file://C:\\Users\\Gabriele\\AppData\\Local\\Temp\\ipykernel_7000\\3098301820.py\u001b\\\u001b[2m3098301820.py\u001b[0m\u001b]8;;\u001b\\\u001b[2m:\u001b[0m\u001b]8;id=545193;file://C:\\Users\\Gabriele\\AppData\\Local\\Temp\\ipykernel_7000\\3098301820.py#67\u001b\\\u001b[2m67\u001b[0m\u001b]8;;\u001b\\\n",
       "\u001b[2;36m                    \u001b[0m         \u001b[1;35mmt5.last_error\u001b[0m\u001b[1m(\u001b[0m\u001b[1m)\u001b[0m=\u001b[1m(\u001b[0m\u001b[1;36m1\u001b[0m, \u001b[32m'Success'\u001b[0m\u001b[1m)\u001b[0m                 \u001b[2m                \u001b[0m\n"
      ]
     },
     "metadata": {},
     "output_type": "display_data"
    },
    {
     "data": {
      "text/html": [
       "<pre style=\"white-space:pre;overflow-x:auto;line-height:normal;font-family:Menlo,'DejaVu Sans Mono',consolas,'Courier New',monospace\"><span style=\"color: #7fbfbf; text-decoration-color: #7fbfbf\">                    </span><span style=\"color: #008000; text-decoration-color: #008000\">DEBUG   </span> <span style=\"color: #800080; text-decoration-color: #800080; font-weight: bold; text-decoration: underline\">get_rates</span><span style=\"font-weight: bold\">()</span>: <span style=\"color: #800080; text-decoration-color: #800080; font-weight: bold\">mt5.copy_rates</span><span style=\"font-weight: bold\">()</span> returned <span style=\"color: #800080; text-decoration-color: #800080; font-style: italic\">None</span>.    <a href=\"file://C:\\Users\\Gabriele\\AppData\\Local\\Temp\\ipykernel_7000\\3098301820.py\"><span style=\"color: #7f7f7f; text-decoration-color: #7f7f7f\">3098301820.py</span></a><span style=\"color: #7f7f7f; text-decoration-color: #7f7f7f\">:</span><a href=\"file://C:\\Users\\Gabriele\\AppData\\Local\\Temp\\ipykernel_7000\\3098301820.py#67\"><span style=\"color: #7f7f7f; text-decoration-color: #7f7f7f\">67</span></a>\n",
       "<span style=\"color: #7fbfbf; text-decoration-color: #7fbfbf\">                    </span>         <span style=\"color: #800080; text-decoration-color: #800080; font-weight: bold\">mt5.last_error</span><span style=\"font-weight: bold\">()</span>=<span style=\"font-weight: bold\">(</span><span style=\"color: #008080; text-decoration-color: #008080; font-weight: bold\">1</span>, <span style=\"color: #008000; text-decoration-color: #008000\">'Success'</span><span style=\"font-weight: bold\">)</span>                 <span style=\"color: #7f7f7f; text-decoration-color: #7f7f7f\">                </span>\n",
       "</pre>\n"
      ],
      "text/plain": [
       "\u001b[2;36m                   \u001b[0m\u001b[2;36m \u001b[0m\u001b[32mDEBUG   \u001b[0m \u001b[1;4;35mget_rates\u001b[0m\u001b[1m(\u001b[0m\u001b[1m)\u001b[0m: \u001b[1;35mmt5.copy_rates\u001b[0m\u001b[1m(\u001b[0m\u001b[1m)\u001b[0m returned \u001b[3;35mNone\u001b[0m.    \u001b]8;id=659331;file://C:\\Users\\Gabriele\\AppData\\Local\\Temp\\ipykernel_7000\\3098301820.py\u001b\\\u001b[2m3098301820.py\u001b[0m\u001b]8;;\u001b\\\u001b[2m:\u001b[0m\u001b]8;id=573256;file://C:\\Users\\Gabriele\\AppData\\Local\\Temp\\ipykernel_7000\\3098301820.py#67\u001b\\\u001b[2m67\u001b[0m\u001b]8;;\u001b\\\n",
       "\u001b[2;36m                    \u001b[0m         \u001b[1;35mmt5.last_error\u001b[0m\u001b[1m(\u001b[0m\u001b[1m)\u001b[0m=\u001b[1m(\u001b[0m\u001b[1;36m1\u001b[0m, \u001b[32m'Success'\u001b[0m\u001b[1m)\u001b[0m                 \u001b[2m                \u001b[0m\n"
      ]
     },
     "metadata": {},
     "output_type": "display_data"
    },
    {
     "data": {
      "text/html": [
       "<pre style=\"white-space:pre;overflow-x:auto;line-height:normal;font-family:Menlo,'DejaVu Sans Mono',consolas,'Courier New',monospace\"><span style=\"color: #7fbfbf; text-decoration-color: #7fbfbf\">                    </span><span style=\"color: #008000; text-decoration-color: #008000\">DEBUG   </span> <span style=\"color: #800080; text-decoration-color: #800080; font-weight: bold; text-decoration: underline\">get_rates</span><span style=\"font-weight: bold\">()</span>: <span style=\"color: #800080; text-decoration-color: #800080; font-weight: bold\">mt5.copy_rates</span><span style=\"font-weight: bold\">()</span> returned <span style=\"color: #800080; text-decoration-color: #800080; font-style: italic\">None</span>.    <a href=\"file://C:\\Users\\Gabriele\\AppData\\Local\\Temp\\ipykernel_7000\\3098301820.py\"><span style=\"color: #7f7f7f; text-decoration-color: #7f7f7f\">3098301820.py</span></a><span style=\"color: #7f7f7f; text-decoration-color: #7f7f7f\">:</span><a href=\"file://C:\\Users\\Gabriele\\AppData\\Local\\Temp\\ipykernel_7000\\3098301820.py#67\"><span style=\"color: #7f7f7f; text-decoration-color: #7f7f7f\">67</span></a>\n",
       "<span style=\"color: #7fbfbf; text-decoration-color: #7fbfbf\">                    </span>         <span style=\"color: #800080; text-decoration-color: #800080; font-weight: bold\">mt5.last_error</span><span style=\"font-weight: bold\">()</span>=<span style=\"font-weight: bold\">(</span><span style=\"color: #008080; text-decoration-color: #008080; font-weight: bold\">1</span>, <span style=\"color: #008000; text-decoration-color: #008000\">'Success'</span><span style=\"font-weight: bold\">)</span>                 <span style=\"color: #7f7f7f; text-decoration-color: #7f7f7f\">                </span>\n",
       "</pre>\n"
      ],
      "text/plain": [
       "\u001b[2;36m                   \u001b[0m\u001b[2;36m \u001b[0m\u001b[32mDEBUG   \u001b[0m \u001b[1;4;35mget_rates\u001b[0m\u001b[1m(\u001b[0m\u001b[1m)\u001b[0m: \u001b[1;35mmt5.copy_rates\u001b[0m\u001b[1m(\u001b[0m\u001b[1m)\u001b[0m returned \u001b[3;35mNone\u001b[0m.    \u001b]8;id=317103;file://C:\\Users\\Gabriele\\AppData\\Local\\Temp\\ipykernel_7000\\3098301820.py\u001b\\\u001b[2m3098301820.py\u001b[0m\u001b]8;;\u001b\\\u001b[2m:\u001b[0m\u001b]8;id=69531;file://C:\\Users\\Gabriele\\AppData\\Local\\Temp\\ipykernel_7000\\3098301820.py#67\u001b\\\u001b[2m67\u001b[0m\u001b]8;;\u001b\\\n",
       "\u001b[2;36m                    \u001b[0m         \u001b[1;35mmt5.last_error\u001b[0m\u001b[1m(\u001b[0m\u001b[1m)\u001b[0m=\u001b[1m(\u001b[0m\u001b[1;36m1\u001b[0m, \u001b[32m'Success'\u001b[0m\u001b[1m)\u001b[0m                 \u001b[2m                \u001b[0m\n"
      ]
     },
     "metadata": {},
     "output_type": "display_data"
    },
    {
     "data": {
      "text/html": [
       "<pre style=\"white-space:pre;overflow-x:auto;line-height:normal;font-family:Menlo,'DejaVu Sans Mono',consolas,'Courier New',monospace\"><span style=\"color: #7fbfbf; text-decoration-color: #7fbfbf\">                    </span><span style=\"color: #008000; text-decoration-color: #008000\">DEBUG   </span> <span style=\"color: #800080; text-decoration-color: #800080; font-weight: bold; text-decoration: underline\">get_rates</span><span style=\"font-weight: bold\">()</span>: Successfully loaded <span style=\"color: #800080; text-decoration-color: #800080; font-weight: bold\">len</span><span style=\"font-weight: bold\">(</span>rates<span style=\"font-weight: bold\">)</span>=<span style=\"color: #008080; text-decoration-color: #008080; font-weight: bold\">61</span>  <a href=\"file://C:\\Users\\Gabriele\\AppData\\Local\\Temp\\ipykernel_7000\\3098301820.py\"><span style=\"color: #7f7f7f; text-decoration-color: #7f7f7f\">3098301820.py</span></a><span style=\"color: #7f7f7f; text-decoration-color: #7f7f7f\">:</span><a href=\"file://C:\\Users\\Gabriele\\AppData\\Local\\Temp\\ipykernel_7000\\3098301820.py#78\"><span style=\"color: #7f7f7f; text-decoration-color: #7f7f7f\">78</span></a>\n",
       "</pre>\n"
      ],
      "text/plain": [
       "\u001b[2;36m                   \u001b[0m\u001b[2;36m \u001b[0m\u001b[32mDEBUG   \u001b[0m \u001b[1;4;35mget_rates\u001b[0m\u001b[1m(\u001b[0m\u001b[1m)\u001b[0m: Successfully loaded \u001b[1;35mlen\u001b[0m\u001b[1m(\u001b[0mrates\u001b[1m)\u001b[0m=\u001b[1;36m61\u001b[0m  \u001b]8;id=832981;file://C:\\Users\\Gabriele\\AppData\\Local\\Temp\\ipykernel_7000\\3098301820.py\u001b\\\u001b[2m3098301820.py\u001b[0m\u001b]8;;\u001b\\\u001b[2m:\u001b[0m\u001b]8;id=839767;file://C:\\Users\\Gabriele\\AppData\\Local\\Temp\\ipykernel_7000\\3098301820.py#78\u001b\\\u001b[2m78\u001b[0m\u001b]8;;\u001b\\\n"
      ]
     },
     "metadata": {},
     "output_type": "display_data"
    },
    {
     "data": {
      "text/html": [
       "<pre style=\"white-space:pre;overflow-x:auto;line-height:normal;font-family:Menlo,'DejaVu Sans Mono',consolas,'Courier New',monospace\"><span style=\"color: #7fbfbf; text-decoration-color: #7fbfbf\">                    </span><span style=\"color: #008000; text-decoration-color: #008000\">DEBUG   </span> <span style=\"color: #800080; text-decoration-color: #800080; font-weight: bold; text-decoration: underline\">get_rates</span><span style=\"font-weight: bold\">()</span>: <span style=\"color: #800080; text-decoration-color: #800080; font-weight: bold\">mt5.copy_rates</span><span style=\"font-weight: bold\">()</span> returned <span style=\"color: #800080; text-decoration-color: #800080; font-style: italic\">None</span>.    <a href=\"file://C:\\Users\\Gabriele\\AppData\\Local\\Temp\\ipykernel_7000\\3098301820.py\"><span style=\"color: #7f7f7f; text-decoration-color: #7f7f7f\">3098301820.py</span></a><span style=\"color: #7f7f7f; text-decoration-color: #7f7f7f\">:</span><a href=\"file://C:\\Users\\Gabriele\\AppData\\Local\\Temp\\ipykernel_7000\\3098301820.py#67\"><span style=\"color: #7f7f7f; text-decoration-color: #7f7f7f\">67</span></a>\n",
       "<span style=\"color: #7fbfbf; text-decoration-color: #7fbfbf\">                    </span>         <span style=\"color: #800080; text-decoration-color: #800080; font-weight: bold\">mt5.last_error</span><span style=\"font-weight: bold\">()</span>=<span style=\"font-weight: bold\">(</span><span style=\"color: #008080; text-decoration-color: #008080; font-weight: bold\">1</span>, <span style=\"color: #008000; text-decoration-color: #008000\">'Success'</span><span style=\"font-weight: bold\">)</span>                 <span style=\"color: #7f7f7f; text-decoration-color: #7f7f7f\">                </span>\n",
       "</pre>\n"
      ],
      "text/plain": [
       "\u001b[2;36m                   \u001b[0m\u001b[2;36m \u001b[0m\u001b[32mDEBUG   \u001b[0m \u001b[1;4;35mget_rates\u001b[0m\u001b[1m(\u001b[0m\u001b[1m)\u001b[0m: \u001b[1;35mmt5.copy_rates\u001b[0m\u001b[1m(\u001b[0m\u001b[1m)\u001b[0m returned \u001b[3;35mNone\u001b[0m.    \u001b]8;id=302004;file://C:\\Users\\Gabriele\\AppData\\Local\\Temp\\ipykernel_7000\\3098301820.py\u001b\\\u001b[2m3098301820.py\u001b[0m\u001b]8;;\u001b\\\u001b[2m:\u001b[0m\u001b]8;id=955781;file://C:\\Users\\Gabriele\\AppData\\Local\\Temp\\ipykernel_7000\\3098301820.py#67\u001b\\\u001b[2m67\u001b[0m\u001b]8;;\u001b\\\n",
       "\u001b[2;36m                    \u001b[0m         \u001b[1;35mmt5.last_error\u001b[0m\u001b[1m(\u001b[0m\u001b[1m)\u001b[0m=\u001b[1m(\u001b[0m\u001b[1;36m1\u001b[0m, \u001b[32m'Success'\u001b[0m\u001b[1m)\u001b[0m                 \u001b[2m                \u001b[0m\n"
      ]
     },
     "metadata": {},
     "output_type": "display_data"
    },
    {
     "data": {
      "text/html": [
       "<pre style=\"white-space:pre;overflow-x:auto;line-height:normal;font-family:Menlo,'DejaVu Sans Mono',consolas,'Courier New',monospace\"><span style=\"color: #7fbfbf; text-decoration-color: #7fbfbf\">                    </span><span style=\"color: #008000; text-decoration-color: #008000\">DEBUG   </span> <span style=\"color: #800080; text-decoration-color: #800080; font-weight: bold; text-decoration: underline\">get_rates</span><span style=\"font-weight: bold\">()</span>: <span style=\"color: #800080; text-decoration-color: #800080; font-weight: bold\">mt5.copy_rates</span><span style=\"font-weight: bold\">()</span> returned <span style=\"color: #800080; text-decoration-color: #800080; font-style: italic\">None</span>.    <a href=\"file://C:\\Users\\Gabriele\\AppData\\Local\\Temp\\ipykernel_7000\\3098301820.py\"><span style=\"color: #7f7f7f; text-decoration-color: #7f7f7f\">3098301820.py</span></a><span style=\"color: #7f7f7f; text-decoration-color: #7f7f7f\">:</span><a href=\"file://C:\\Users\\Gabriele\\AppData\\Local\\Temp\\ipykernel_7000\\3098301820.py#67\"><span style=\"color: #7f7f7f; text-decoration-color: #7f7f7f\">67</span></a>\n",
       "<span style=\"color: #7fbfbf; text-decoration-color: #7fbfbf\">                    </span>         <span style=\"color: #800080; text-decoration-color: #800080; font-weight: bold\">mt5.last_error</span><span style=\"font-weight: bold\">()</span>=<span style=\"font-weight: bold\">(</span><span style=\"color: #008080; text-decoration-color: #008080; font-weight: bold\">1</span>, <span style=\"color: #008000; text-decoration-color: #008000\">'Success'</span><span style=\"font-weight: bold\">)</span>                 <span style=\"color: #7f7f7f; text-decoration-color: #7f7f7f\">                </span>\n",
       "</pre>\n"
      ],
      "text/plain": [
       "\u001b[2;36m                   \u001b[0m\u001b[2;36m \u001b[0m\u001b[32mDEBUG   \u001b[0m \u001b[1;4;35mget_rates\u001b[0m\u001b[1m(\u001b[0m\u001b[1m)\u001b[0m: \u001b[1;35mmt5.copy_rates\u001b[0m\u001b[1m(\u001b[0m\u001b[1m)\u001b[0m returned \u001b[3;35mNone\u001b[0m.    \u001b]8;id=656489;file://C:\\Users\\Gabriele\\AppData\\Local\\Temp\\ipykernel_7000\\3098301820.py\u001b\\\u001b[2m3098301820.py\u001b[0m\u001b]8;;\u001b\\\u001b[2m:\u001b[0m\u001b]8;id=55124;file://C:\\Users\\Gabriele\\AppData\\Local\\Temp\\ipykernel_7000\\3098301820.py#67\u001b\\\u001b[2m67\u001b[0m\u001b]8;;\u001b\\\n",
       "\u001b[2;36m                    \u001b[0m         \u001b[1;35mmt5.last_error\u001b[0m\u001b[1m(\u001b[0m\u001b[1m)\u001b[0m=\u001b[1m(\u001b[0m\u001b[1;36m1\u001b[0m, \u001b[32m'Success'\u001b[0m\u001b[1m)\u001b[0m                 \u001b[2m                \u001b[0m\n"
      ]
     },
     "metadata": {},
     "output_type": "display_data"
    },
    {
     "data": {
      "text/html": [
       "<pre style=\"white-space:pre;overflow-x:auto;line-height:normal;font-family:Menlo,'DejaVu Sans Mono',consolas,'Courier New',monospace\"><span style=\"color: #7fbfbf; text-decoration-color: #7fbfbf\">                    </span><span style=\"color: #008000; text-decoration-color: #008000\">DEBUG   </span> <span style=\"color: #800080; text-decoration-color: #800080; font-weight: bold; text-decoration: underline\">get_rates</span><span style=\"font-weight: bold\">()</span>: <span style=\"color: #800080; text-decoration-color: #800080; font-weight: bold\">mt5.copy_rates</span><span style=\"font-weight: bold\">()</span> returned <span style=\"color: #800080; text-decoration-color: #800080; font-style: italic\">None</span>.    <a href=\"file://C:\\Users\\Gabriele\\AppData\\Local\\Temp\\ipykernel_7000\\3098301820.py\"><span style=\"color: #7f7f7f; text-decoration-color: #7f7f7f\">3098301820.py</span></a><span style=\"color: #7f7f7f; text-decoration-color: #7f7f7f\">:</span><a href=\"file://C:\\Users\\Gabriele\\AppData\\Local\\Temp\\ipykernel_7000\\3098301820.py#67\"><span style=\"color: #7f7f7f; text-decoration-color: #7f7f7f\">67</span></a>\n",
       "<span style=\"color: #7fbfbf; text-decoration-color: #7fbfbf\">                    </span>         <span style=\"color: #800080; text-decoration-color: #800080; font-weight: bold\">mt5.last_error</span><span style=\"font-weight: bold\">()</span>=<span style=\"font-weight: bold\">(</span><span style=\"color: #008080; text-decoration-color: #008080; font-weight: bold\">1</span>, <span style=\"color: #008000; text-decoration-color: #008000\">'Success'</span><span style=\"font-weight: bold\">)</span>                 <span style=\"color: #7f7f7f; text-decoration-color: #7f7f7f\">                </span>\n",
       "</pre>\n"
      ],
      "text/plain": [
       "\u001b[2;36m                   \u001b[0m\u001b[2;36m \u001b[0m\u001b[32mDEBUG   \u001b[0m \u001b[1;4;35mget_rates\u001b[0m\u001b[1m(\u001b[0m\u001b[1m)\u001b[0m: \u001b[1;35mmt5.copy_rates\u001b[0m\u001b[1m(\u001b[0m\u001b[1m)\u001b[0m returned \u001b[3;35mNone\u001b[0m.    \u001b]8;id=404779;file://C:\\Users\\Gabriele\\AppData\\Local\\Temp\\ipykernel_7000\\3098301820.py\u001b\\\u001b[2m3098301820.py\u001b[0m\u001b]8;;\u001b\\\u001b[2m:\u001b[0m\u001b]8;id=514970;file://C:\\Users\\Gabriele\\AppData\\Local\\Temp\\ipykernel_7000\\3098301820.py#67\u001b\\\u001b[2m67\u001b[0m\u001b]8;;\u001b\\\n",
       "\u001b[2;36m                    \u001b[0m         \u001b[1;35mmt5.last_error\u001b[0m\u001b[1m(\u001b[0m\u001b[1m)\u001b[0m=\u001b[1m(\u001b[0m\u001b[1;36m1\u001b[0m, \u001b[32m'Success'\u001b[0m\u001b[1m)\u001b[0m                 \u001b[2m                \u001b[0m\n"
      ]
     },
     "metadata": {},
     "output_type": "display_data"
    },
    {
     "data": {
      "text/html": [
       "<pre style=\"white-space:pre;overflow-x:auto;line-height:normal;font-family:Menlo,'DejaVu Sans Mono',consolas,'Courier New',monospace\"><span style=\"color: #7fbfbf; text-decoration-color: #7fbfbf\">                    </span><span style=\"color: #008000; text-decoration-color: #008000\">DEBUG   </span> <span style=\"color: #800080; text-decoration-color: #800080; font-weight: bold; text-decoration: underline\">get_rates</span><span style=\"font-weight: bold\">()</span>: <span style=\"color: #800080; text-decoration-color: #800080; font-weight: bold\">mt5.copy_rates</span><span style=\"font-weight: bold\">()</span> returned <span style=\"color: #800080; text-decoration-color: #800080; font-style: italic\">None</span>.    <a href=\"file://C:\\Users\\Gabriele\\AppData\\Local\\Temp\\ipykernel_7000\\3098301820.py\"><span style=\"color: #7f7f7f; text-decoration-color: #7f7f7f\">3098301820.py</span></a><span style=\"color: #7f7f7f; text-decoration-color: #7f7f7f\">:</span><a href=\"file://C:\\Users\\Gabriele\\AppData\\Local\\Temp\\ipykernel_7000\\3098301820.py#67\"><span style=\"color: #7f7f7f; text-decoration-color: #7f7f7f\">67</span></a>\n",
       "<span style=\"color: #7fbfbf; text-decoration-color: #7fbfbf\">                    </span>         <span style=\"color: #800080; text-decoration-color: #800080; font-weight: bold\">mt5.last_error</span><span style=\"font-weight: bold\">()</span>=<span style=\"font-weight: bold\">(</span><span style=\"color: #008080; text-decoration-color: #008080; font-weight: bold\">1</span>, <span style=\"color: #008000; text-decoration-color: #008000\">'Success'</span><span style=\"font-weight: bold\">)</span>                 <span style=\"color: #7f7f7f; text-decoration-color: #7f7f7f\">                </span>\n",
       "</pre>\n"
      ],
      "text/plain": [
       "\u001b[2;36m                   \u001b[0m\u001b[2;36m \u001b[0m\u001b[32mDEBUG   \u001b[0m \u001b[1;4;35mget_rates\u001b[0m\u001b[1m(\u001b[0m\u001b[1m)\u001b[0m: \u001b[1;35mmt5.copy_rates\u001b[0m\u001b[1m(\u001b[0m\u001b[1m)\u001b[0m returned \u001b[3;35mNone\u001b[0m.    \u001b]8;id=243551;file://C:\\Users\\Gabriele\\AppData\\Local\\Temp\\ipykernel_7000\\3098301820.py\u001b\\\u001b[2m3098301820.py\u001b[0m\u001b]8;;\u001b\\\u001b[2m:\u001b[0m\u001b]8;id=139441;file://C:\\Users\\Gabriele\\AppData\\Local\\Temp\\ipykernel_7000\\3098301820.py#67\u001b\\\u001b[2m67\u001b[0m\u001b]8;;\u001b\\\n",
       "\u001b[2;36m                    \u001b[0m         \u001b[1;35mmt5.last_error\u001b[0m\u001b[1m(\u001b[0m\u001b[1m)\u001b[0m=\u001b[1m(\u001b[0m\u001b[1;36m1\u001b[0m, \u001b[32m'Success'\u001b[0m\u001b[1m)\u001b[0m                 \u001b[2m                \u001b[0m\n"
      ]
     },
     "metadata": {},
     "output_type": "display_data"
    },
    {
     "data": {
      "text/html": [
       "<pre style=\"white-space:pre;overflow-x:auto;line-height:normal;font-family:Menlo,'DejaVu Sans Mono',consolas,'Courier New',monospace\"><span style=\"color: #7fbfbf; text-decoration-color: #7fbfbf\">                    </span><span style=\"color: #008000; text-decoration-color: #008000\">DEBUG   </span> <span style=\"color: #800080; text-decoration-color: #800080; font-weight: bold; text-decoration: underline\">get_rates</span><span style=\"font-weight: bold\">()</span>: <span style=\"color: #800080; text-decoration-color: #800080; font-weight: bold\">mt5.copy_rates</span><span style=\"font-weight: bold\">()</span> returned <span style=\"color: #800080; text-decoration-color: #800080; font-style: italic\">None</span>.    <a href=\"file://C:\\Users\\Gabriele\\AppData\\Local\\Temp\\ipykernel_7000\\3098301820.py\"><span style=\"color: #7f7f7f; text-decoration-color: #7f7f7f\">3098301820.py</span></a><span style=\"color: #7f7f7f; text-decoration-color: #7f7f7f\">:</span><a href=\"file://C:\\Users\\Gabriele\\AppData\\Local\\Temp\\ipykernel_7000\\3098301820.py#67\"><span style=\"color: #7f7f7f; text-decoration-color: #7f7f7f\">67</span></a>\n",
       "<span style=\"color: #7fbfbf; text-decoration-color: #7fbfbf\">                    </span>         <span style=\"color: #800080; text-decoration-color: #800080; font-weight: bold\">mt5.last_error</span><span style=\"font-weight: bold\">()</span>=<span style=\"font-weight: bold\">(</span><span style=\"color: #008080; text-decoration-color: #008080; font-weight: bold\">1</span>, <span style=\"color: #008000; text-decoration-color: #008000\">'Success'</span><span style=\"font-weight: bold\">)</span>                 <span style=\"color: #7f7f7f; text-decoration-color: #7f7f7f\">                </span>\n",
       "</pre>\n"
      ],
      "text/plain": [
       "\u001b[2;36m                   \u001b[0m\u001b[2;36m \u001b[0m\u001b[32mDEBUG   \u001b[0m \u001b[1;4;35mget_rates\u001b[0m\u001b[1m(\u001b[0m\u001b[1m)\u001b[0m: \u001b[1;35mmt5.copy_rates\u001b[0m\u001b[1m(\u001b[0m\u001b[1m)\u001b[0m returned \u001b[3;35mNone\u001b[0m.    \u001b]8;id=626126;file://C:\\Users\\Gabriele\\AppData\\Local\\Temp\\ipykernel_7000\\3098301820.py\u001b\\\u001b[2m3098301820.py\u001b[0m\u001b]8;;\u001b\\\u001b[2m:\u001b[0m\u001b]8;id=258798;file://C:\\Users\\Gabriele\\AppData\\Local\\Temp\\ipykernel_7000\\3098301820.py#67\u001b\\\u001b[2m67\u001b[0m\u001b]8;;\u001b\\\n",
       "\u001b[2;36m                    \u001b[0m         \u001b[1;35mmt5.last_error\u001b[0m\u001b[1m(\u001b[0m\u001b[1m)\u001b[0m=\u001b[1m(\u001b[0m\u001b[1;36m1\u001b[0m, \u001b[32m'Success'\u001b[0m\u001b[1m)\u001b[0m                 \u001b[2m                \u001b[0m\n"
      ]
     },
     "metadata": {},
     "output_type": "display_data"
    },
    {
     "data": {
      "text/html": [
       "<pre style=\"white-space:pre;overflow-x:auto;line-height:normal;font-family:Menlo,'DejaVu Sans Mono',consolas,'Courier New',monospace\"><span style=\"color: #7fbfbf; text-decoration-color: #7fbfbf\">                    </span><span style=\"color: #008000; text-decoration-color: #008000\">DEBUG   </span> <span style=\"color: #800080; text-decoration-color: #800080; font-weight: bold; text-decoration: underline\">get_rates</span><span style=\"font-weight: bold\">()</span>: <span style=\"color: #800080; text-decoration-color: #800080; font-weight: bold\">mt5.copy_rates</span><span style=\"font-weight: bold\">()</span> returned <span style=\"color: #800080; text-decoration-color: #800080; font-style: italic\">None</span>.    <a href=\"file://C:\\Users\\Gabriele\\AppData\\Local\\Temp\\ipykernel_7000\\3098301820.py\"><span style=\"color: #7f7f7f; text-decoration-color: #7f7f7f\">3098301820.py</span></a><span style=\"color: #7f7f7f; text-decoration-color: #7f7f7f\">:</span><a href=\"file://C:\\Users\\Gabriele\\AppData\\Local\\Temp\\ipykernel_7000\\3098301820.py#67\"><span style=\"color: #7f7f7f; text-decoration-color: #7f7f7f\">67</span></a>\n",
       "<span style=\"color: #7fbfbf; text-decoration-color: #7fbfbf\">                    </span>         <span style=\"color: #800080; text-decoration-color: #800080; font-weight: bold\">mt5.last_error</span><span style=\"font-weight: bold\">()</span>=<span style=\"font-weight: bold\">(</span><span style=\"color: #008080; text-decoration-color: #008080; font-weight: bold\">1</span>, <span style=\"color: #008000; text-decoration-color: #008000\">'Success'</span><span style=\"font-weight: bold\">)</span>                 <span style=\"color: #7f7f7f; text-decoration-color: #7f7f7f\">                </span>\n",
       "</pre>\n"
      ],
      "text/plain": [
       "\u001b[2;36m                   \u001b[0m\u001b[2;36m \u001b[0m\u001b[32mDEBUG   \u001b[0m \u001b[1;4;35mget_rates\u001b[0m\u001b[1m(\u001b[0m\u001b[1m)\u001b[0m: \u001b[1;35mmt5.copy_rates\u001b[0m\u001b[1m(\u001b[0m\u001b[1m)\u001b[0m returned \u001b[3;35mNone\u001b[0m.    \u001b]8;id=902909;file://C:\\Users\\Gabriele\\AppData\\Local\\Temp\\ipykernel_7000\\3098301820.py\u001b\\\u001b[2m3098301820.py\u001b[0m\u001b]8;;\u001b\\\u001b[2m:\u001b[0m\u001b]8;id=805536;file://C:\\Users\\Gabriele\\AppData\\Local\\Temp\\ipykernel_7000\\3098301820.py#67\u001b\\\u001b[2m67\u001b[0m\u001b]8;;\u001b\\\n",
       "\u001b[2;36m                    \u001b[0m         \u001b[1;35mmt5.last_error\u001b[0m\u001b[1m(\u001b[0m\u001b[1m)\u001b[0m=\u001b[1m(\u001b[0m\u001b[1;36m1\u001b[0m, \u001b[32m'Success'\u001b[0m\u001b[1m)\u001b[0m                 \u001b[2m                \u001b[0m\n"
      ]
     },
     "metadata": {},
     "output_type": "display_data"
    },
    {
     "data": {
      "text/html": [
       "<pre style=\"white-space:pre;overflow-x:auto;line-height:normal;font-family:Menlo,'DejaVu Sans Mono',consolas,'Courier New',monospace\"><span style=\"color: #7fbfbf; text-decoration-color: #7fbfbf\">                    </span><span style=\"color: #008000; text-decoration-color: #008000\">DEBUG   </span> <span style=\"color: #800080; text-decoration-color: #800080; font-weight: bold; text-decoration: underline\">get_rates</span><span style=\"font-weight: bold\">()</span>: <span style=\"color: #800080; text-decoration-color: #800080; font-weight: bold\">mt5.copy_rates</span><span style=\"font-weight: bold\">()</span> returned <span style=\"color: #800080; text-decoration-color: #800080; font-style: italic\">None</span>.    <a href=\"file://C:\\Users\\Gabriele\\AppData\\Local\\Temp\\ipykernel_7000\\3098301820.py\"><span style=\"color: #7f7f7f; text-decoration-color: #7f7f7f\">3098301820.py</span></a><span style=\"color: #7f7f7f; text-decoration-color: #7f7f7f\">:</span><a href=\"file://C:\\Users\\Gabriele\\AppData\\Local\\Temp\\ipykernel_7000\\3098301820.py#67\"><span style=\"color: #7f7f7f; text-decoration-color: #7f7f7f\">67</span></a>\n",
       "<span style=\"color: #7fbfbf; text-decoration-color: #7fbfbf\">                    </span>         <span style=\"color: #800080; text-decoration-color: #800080; font-weight: bold\">mt5.last_error</span><span style=\"font-weight: bold\">()</span>=<span style=\"font-weight: bold\">(</span><span style=\"color: #008080; text-decoration-color: #008080; font-weight: bold\">1</span>, <span style=\"color: #008000; text-decoration-color: #008000\">'Success'</span><span style=\"font-weight: bold\">)</span>                 <span style=\"color: #7f7f7f; text-decoration-color: #7f7f7f\">                </span>\n",
       "</pre>\n"
      ],
      "text/plain": [
       "\u001b[2;36m                   \u001b[0m\u001b[2;36m \u001b[0m\u001b[32mDEBUG   \u001b[0m \u001b[1;4;35mget_rates\u001b[0m\u001b[1m(\u001b[0m\u001b[1m)\u001b[0m: \u001b[1;35mmt5.copy_rates\u001b[0m\u001b[1m(\u001b[0m\u001b[1m)\u001b[0m returned \u001b[3;35mNone\u001b[0m.    \u001b]8;id=941461;file://C:\\Users\\Gabriele\\AppData\\Local\\Temp\\ipykernel_7000\\3098301820.py\u001b\\\u001b[2m3098301820.py\u001b[0m\u001b]8;;\u001b\\\u001b[2m:\u001b[0m\u001b]8;id=245361;file://C:\\Users\\Gabriele\\AppData\\Local\\Temp\\ipykernel_7000\\3098301820.py#67\u001b\\\u001b[2m67\u001b[0m\u001b]8;;\u001b\\\n",
       "\u001b[2;36m                    \u001b[0m         \u001b[1;35mmt5.last_error\u001b[0m\u001b[1m(\u001b[0m\u001b[1m)\u001b[0m=\u001b[1m(\u001b[0m\u001b[1;36m1\u001b[0m, \u001b[32m'Success'\u001b[0m\u001b[1m)\u001b[0m                 \u001b[2m                \u001b[0m\n"
      ]
     },
     "metadata": {},
     "output_type": "display_data"
    },
    {
     "data": {
      "text/html": [
       "<pre style=\"white-space:pre;overflow-x:auto;line-height:normal;font-family:Menlo,'DejaVu Sans Mono',consolas,'Courier New',monospace\"><span style=\"color: #7fbfbf; text-decoration-color: #7fbfbf\">                    </span><span style=\"color: #008000; text-decoration-color: #008000\">DEBUG   </span> <span style=\"color: #800080; text-decoration-color: #800080; font-weight: bold; text-decoration: underline\">get_rates</span><span style=\"font-weight: bold\">()</span>: <span style=\"color: #800080; text-decoration-color: #800080; font-weight: bold\">mt5.copy_rates</span><span style=\"font-weight: bold\">()</span> returned <span style=\"color: #800080; text-decoration-color: #800080; font-style: italic\">None</span>.    <a href=\"file://C:\\Users\\Gabriele\\AppData\\Local\\Temp\\ipykernel_7000\\3098301820.py\"><span style=\"color: #7f7f7f; text-decoration-color: #7f7f7f\">3098301820.py</span></a><span style=\"color: #7f7f7f; text-decoration-color: #7f7f7f\">:</span><a href=\"file://C:\\Users\\Gabriele\\AppData\\Local\\Temp\\ipykernel_7000\\3098301820.py#67\"><span style=\"color: #7f7f7f; text-decoration-color: #7f7f7f\">67</span></a>\n",
       "<span style=\"color: #7fbfbf; text-decoration-color: #7fbfbf\">                    </span>         <span style=\"color: #800080; text-decoration-color: #800080; font-weight: bold\">mt5.last_error</span><span style=\"font-weight: bold\">()</span>=<span style=\"font-weight: bold\">(</span><span style=\"color: #008080; text-decoration-color: #008080; font-weight: bold\">1</span>, <span style=\"color: #008000; text-decoration-color: #008000\">'Success'</span><span style=\"font-weight: bold\">)</span>                 <span style=\"color: #7f7f7f; text-decoration-color: #7f7f7f\">                </span>\n",
       "</pre>\n"
      ],
      "text/plain": [
       "\u001b[2;36m                   \u001b[0m\u001b[2;36m \u001b[0m\u001b[32mDEBUG   \u001b[0m \u001b[1;4;35mget_rates\u001b[0m\u001b[1m(\u001b[0m\u001b[1m)\u001b[0m: \u001b[1;35mmt5.copy_rates\u001b[0m\u001b[1m(\u001b[0m\u001b[1m)\u001b[0m returned \u001b[3;35mNone\u001b[0m.    \u001b]8;id=890376;file://C:\\Users\\Gabriele\\AppData\\Local\\Temp\\ipykernel_7000\\3098301820.py\u001b\\\u001b[2m3098301820.py\u001b[0m\u001b]8;;\u001b\\\u001b[2m:\u001b[0m\u001b]8;id=187885;file://C:\\Users\\Gabriele\\AppData\\Local\\Temp\\ipykernel_7000\\3098301820.py#67\u001b\\\u001b[2m67\u001b[0m\u001b]8;;\u001b\\\n",
       "\u001b[2;36m                    \u001b[0m         \u001b[1;35mmt5.last_error\u001b[0m\u001b[1m(\u001b[0m\u001b[1m)\u001b[0m=\u001b[1m(\u001b[0m\u001b[1;36m1\u001b[0m, \u001b[32m'Success'\u001b[0m\u001b[1m)\u001b[0m                 \u001b[2m                \u001b[0m\n"
      ]
     },
     "metadata": {},
     "output_type": "display_data"
    },
    {
     "data": {
      "text/html": [
       "<pre style=\"white-space:pre;overflow-x:auto;line-height:normal;font-family:Menlo,'DejaVu Sans Mono',consolas,'Courier New',monospace\"><span style=\"color: #7fbfbf; text-decoration-color: #7fbfbf\">                    </span><span style=\"color: #008000; text-decoration-color: #008000\">DEBUG   </span> <span style=\"color: #800080; text-decoration-color: #800080; font-weight: bold; text-decoration: underline\">get_rates</span><span style=\"font-weight: bold\">()</span>: <span style=\"color: #800080; text-decoration-color: #800080; font-weight: bold\">mt5.copy_rates</span><span style=\"font-weight: bold\">()</span> returned <span style=\"color: #800080; text-decoration-color: #800080; font-style: italic\">None</span>.    <a href=\"file://C:\\Users\\Gabriele\\AppData\\Local\\Temp\\ipykernel_7000\\3098301820.py\"><span style=\"color: #7f7f7f; text-decoration-color: #7f7f7f\">3098301820.py</span></a><span style=\"color: #7f7f7f; text-decoration-color: #7f7f7f\">:</span><a href=\"file://C:\\Users\\Gabriele\\AppData\\Local\\Temp\\ipykernel_7000\\3098301820.py#67\"><span style=\"color: #7f7f7f; text-decoration-color: #7f7f7f\">67</span></a>\n",
       "<span style=\"color: #7fbfbf; text-decoration-color: #7fbfbf\">                    </span>         <span style=\"color: #800080; text-decoration-color: #800080; font-weight: bold\">mt5.last_error</span><span style=\"font-weight: bold\">()</span>=<span style=\"font-weight: bold\">(</span><span style=\"color: #008080; text-decoration-color: #008080; font-weight: bold\">1</span>, <span style=\"color: #008000; text-decoration-color: #008000\">'Success'</span><span style=\"font-weight: bold\">)</span>                 <span style=\"color: #7f7f7f; text-decoration-color: #7f7f7f\">                </span>\n",
       "</pre>\n"
      ],
      "text/plain": [
       "\u001b[2;36m                   \u001b[0m\u001b[2;36m \u001b[0m\u001b[32mDEBUG   \u001b[0m \u001b[1;4;35mget_rates\u001b[0m\u001b[1m(\u001b[0m\u001b[1m)\u001b[0m: \u001b[1;35mmt5.copy_rates\u001b[0m\u001b[1m(\u001b[0m\u001b[1m)\u001b[0m returned \u001b[3;35mNone\u001b[0m.    \u001b]8;id=280128;file://C:\\Users\\Gabriele\\AppData\\Local\\Temp\\ipykernel_7000\\3098301820.py\u001b\\\u001b[2m3098301820.py\u001b[0m\u001b]8;;\u001b\\\u001b[2m:\u001b[0m\u001b]8;id=15624;file://C:\\Users\\Gabriele\\AppData\\Local\\Temp\\ipykernel_7000\\3098301820.py#67\u001b\\\u001b[2m67\u001b[0m\u001b]8;;\u001b\\\n",
       "\u001b[2;36m                    \u001b[0m         \u001b[1;35mmt5.last_error\u001b[0m\u001b[1m(\u001b[0m\u001b[1m)\u001b[0m=\u001b[1m(\u001b[0m\u001b[1;36m1\u001b[0m, \u001b[32m'Success'\u001b[0m\u001b[1m)\u001b[0m                 \u001b[2m                \u001b[0m\n"
      ]
     },
     "metadata": {},
     "output_type": "display_data"
    },
    {
     "data": {
      "text/html": [
       "<pre style=\"white-space:pre;overflow-x:auto;line-height:normal;font-family:Menlo,'DejaVu Sans Mono',consolas,'Courier New',monospace\"><span style=\"color: #7fbfbf; text-decoration-color: #7fbfbf\">                    </span><span style=\"color: #008000; text-decoration-color: #008000\">DEBUG   </span> <span style=\"color: #800080; text-decoration-color: #800080; font-weight: bold; text-decoration: underline\">get_rates</span><span style=\"font-weight: bold\">()</span>: <span style=\"color: #800080; text-decoration-color: #800080; font-weight: bold\">mt5.copy_rates</span><span style=\"font-weight: bold\">()</span> returned <span style=\"color: #800080; text-decoration-color: #800080; font-style: italic\">None</span>.    <a href=\"file://C:\\Users\\Gabriele\\AppData\\Local\\Temp\\ipykernel_7000\\3098301820.py\"><span style=\"color: #7f7f7f; text-decoration-color: #7f7f7f\">3098301820.py</span></a><span style=\"color: #7f7f7f; text-decoration-color: #7f7f7f\">:</span><a href=\"file://C:\\Users\\Gabriele\\AppData\\Local\\Temp\\ipykernel_7000\\3098301820.py#67\"><span style=\"color: #7f7f7f; text-decoration-color: #7f7f7f\">67</span></a>\n",
       "<span style=\"color: #7fbfbf; text-decoration-color: #7fbfbf\">                    </span>         <span style=\"color: #800080; text-decoration-color: #800080; font-weight: bold\">mt5.last_error</span><span style=\"font-weight: bold\">()</span>=<span style=\"font-weight: bold\">(</span><span style=\"color: #008080; text-decoration-color: #008080; font-weight: bold\">1</span>, <span style=\"color: #008000; text-decoration-color: #008000\">'Success'</span><span style=\"font-weight: bold\">)</span>                 <span style=\"color: #7f7f7f; text-decoration-color: #7f7f7f\">                </span>\n",
       "</pre>\n"
      ],
      "text/plain": [
       "\u001b[2;36m                   \u001b[0m\u001b[2;36m \u001b[0m\u001b[32mDEBUG   \u001b[0m \u001b[1;4;35mget_rates\u001b[0m\u001b[1m(\u001b[0m\u001b[1m)\u001b[0m: \u001b[1;35mmt5.copy_rates\u001b[0m\u001b[1m(\u001b[0m\u001b[1m)\u001b[0m returned \u001b[3;35mNone\u001b[0m.    \u001b]8;id=328420;file://C:\\Users\\Gabriele\\AppData\\Local\\Temp\\ipykernel_7000\\3098301820.py\u001b\\\u001b[2m3098301820.py\u001b[0m\u001b]8;;\u001b\\\u001b[2m:\u001b[0m\u001b]8;id=644485;file://C:\\Users\\Gabriele\\AppData\\Local\\Temp\\ipykernel_7000\\3098301820.py#67\u001b\\\u001b[2m67\u001b[0m\u001b]8;;\u001b\\\n",
       "\u001b[2;36m                    \u001b[0m         \u001b[1;35mmt5.last_error\u001b[0m\u001b[1m(\u001b[0m\u001b[1m)\u001b[0m=\u001b[1m(\u001b[0m\u001b[1;36m1\u001b[0m, \u001b[32m'Success'\u001b[0m\u001b[1m)\u001b[0m                 \u001b[2m                \u001b[0m\n"
      ]
     },
     "metadata": {},
     "output_type": "display_data"
    },
    {
     "data": {
      "text/html": [
       "<pre style=\"white-space:pre;overflow-x:auto;line-height:normal;font-family:Menlo,'DejaVu Sans Mono',consolas,'Courier New',monospace\"><span style=\"color: #7fbfbf; text-decoration-color: #7fbfbf\">                    </span><span style=\"color: #008000; text-decoration-color: #008000\">DEBUG   </span> <span style=\"color: #800080; text-decoration-color: #800080; font-weight: bold; text-decoration: underline\">get_rates</span><span style=\"font-weight: bold\">()</span>: Successfully loaded <span style=\"color: #800080; text-decoration-color: #800080; font-weight: bold\">len</span><span style=\"font-weight: bold\">(</span>rates<span style=\"font-weight: bold\">)</span>=<span style=\"color: #008080; text-decoration-color: #008080; font-weight: bold\">61</span>  <a href=\"file://C:\\Users\\Gabriele\\AppData\\Local\\Temp\\ipykernel_7000\\3098301820.py\"><span style=\"color: #7f7f7f; text-decoration-color: #7f7f7f\">3098301820.py</span></a><span style=\"color: #7f7f7f; text-decoration-color: #7f7f7f\">:</span><a href=\"file://C:\\Users\\Gabriele\\AppData\\Local\\Temp\\ipykernel_7000\\3098301820.py#78\"><span style=\"color: #7f7f7f; text-decoration-color: #7f7f7f\">78</span></a>\n",
       "</pre>\n"
      ],
      "text/plain": [
       "\u001b[2;36m                   \u001b[0m\u001b[2;36m \u001b[0m\u001b[32mDEBUG   \u001b[0m \u001b[1;4;35mget_rates\u001b[0m\u001b[1m(\u001b[0m\u001b[1m)\u001b[0m: Successfully loaded \u001b[1;35mlen\u001b[0m\u001b[1m(\u001b[0mrates\u001b[1m)\u001b[0m=\u001b[1;36m61\u001b[0m  \u001b]8;id=806151;file://C:\\Users\\Gabriele\\AppData\\Local\\Temp\\ipykernel_7000\\3098301820.py\u001b\\\u001b[2m3098301820.py\u001b[0m\u001b]8;;\u001b\\\u001b[2m:\u001b[0m\u001b]8;id=394212;file://C:\\Users\\Gabriele\\AppData\\Local\\Temp\\ipykernel_7000\\3098301820.py#78\u001b\\\u001b[2m78\u001b[0m\u001b]8;;\u001b\\\n"
      ]
     },
     "metadata": {},
     "output_type": "display_data"
    },
    {
     "data": {
      "text/html": [
       "<pre style=\"white-space:pre;overflow-x:auto;line-height:normal;font-family:Menlo,'DejaVu Sans Mono',consolas,'Courier New',monospace\"><span style=\"color: #7fbfbf; text-decoration-color: #7fbfbf\">                    </span><span style=\"color: #008000; text-decoration-color: #008000\">DEBUG   </span> <span style=\"color: #800080; text-decoration-color: #800080; font-weight: bold; text-decoration: underline\">get_rates</span><span style=\"font-weight: bold\">()</span>: <span style=\"color: #800080; text-decoration-color: #800080; font-weight: bold\">mt5.copy_rates</span><span style=\"font-weight: bold\">()</span> returned <span style=\"color: #800080; text-decoration-color: #800080; font-style: italic\">None</span>.    <a href=\"file://C:\\Users\\Gabriele\\AppData\\Local\\Temp\\ipykernel_7000\\3098301820.py\"><span style=\"color: #7f7f7f; text-decoration-color: #7f7f7f\">3098301820.py</span></a><span style=\"color: #7f7f7f; text-decoration-color: #7f7f7f\">:</span><a href=\"file://C:\\Users\\Gabriele\\AppData\\Local\\Temp\\ipykernel_7000\\3098301820.py#67\"><span style=\"color: #7f7f7f; text-decoration-color: #7f7f7f\">67</span></a>\n",
       "<span style=\"color: #7fbfbf; text-decoration-color: #7fbfbf\">                    </span>         <span style=\"color: #800080; text-decoration-color: #800080; font-weight: bold\">mt5.last_error</span><span style=\"font-weight: bold\">()</span>=<span style=\"font-weight: bold\">(</span><span style=\"color: #008080; text-decoration-color: #008080; font-weight: bold\">1</span>, <span style=\"color: #008000; text-decoration-color: #008000\">'Success'</span><span style=\"font-weight: bold\">)</span>                 <span style=\"color: #7f7f7f; text-decoration-color: #7f7f7f\">                </span>\n",
       "</pre>\n"
      ],
      "text/plain": [
       "\u001b[2;36m                   \u001b[0m\u001b[2;36m \u001b[0m\u001b[32mDEBUG   \u001b[0m \u001b[1;4;35mget_rates\u001b[0m\u001b[1m(\u001b[0m\u001b[1m)\u001b[0m: \u001b[1;35mmt5.copy_rates\u001b[0m\u001b[1m(\u001b[0m\u001b[1m)\u001b[0m returned \u001b[3;35mNone\u001b[0m.    \u001b]8;id=592788;file://C:\\Users\\Gabriele\\AppData\\Local\\Temp\\ipykernel_7000\\3098301820.py\u001b\\\u001b[2m3098301820.py\u001b[0m\u001b]8;;\u001b\\\u001b[2m:\u001b[0m\u001b]8;id=45831;file://C:\\Users\\Gabriele\\AppData\\Local\\Temp\\ipykernel_7000\\3098301820.py#67\u001b\\\u001b[2m67\u001b[0m\u001b]8;;\u001b\\\n",
       "\u001b[2;36m                    \u001b[0m         \u001b[1;35mmt5.last_error\u001b[0m\u001b[1m(\u001b[0m\u001b[1m)\u001b[0m=\u001b[1m(\u001b[0m\u001b[1;36m1\u001b[0m, \u001b[32m'Success'\u001b[0m\u001b[1m)\u001b[0m                 \u001b[2m                \u001b[0m\n"
      ]
     },
     "metadata": {},
     "output_type": "display_data"
    },
    {
     "data": {
      "text/html": [
       "<pre style=\"white-space:pre;overflow-x:auto;line-height:normal;font-family:Menlo,'DejaVu Sans Mono',consolas,'Courier New',monospace\"><span style=\"color: #7fbfbf; text-decoration-color: #7fbfbf\">                    </span><span style=\"color: #008000; text-decoration-color: #008000\">DEBUG   </span> <span style=\"color: #800080; text-decoration-color: #800080; font-weight: bold; text-decoration: underline\">get_rates</span><span style=\"font-weight: bold\">()</span>: <span style=\"color: #800080; text-decoration-color: #800080; font-weight: bold\">mt5.copy_rates</span><span style=\"font-weight: bold\">()</span> returned <span style=\"color: #800080; text-decoration-color: #800080; font-style: italic\">None</span>.    <a href=\"file://C:\\Users\\Gabriele\\AppData\\Local\\Temp\\ipykernel_7000\\3098301820.py\"><span style=\"color: #7f7f7f; text-decoration-color: #7f7f7f\">3098301820.py</span></a><span style=\"color: #7f7f7f; text-decoration-color: #7f7f7f\">:</span><a href=\"file://C:\\Users\\Gabriele\\AppData\\Local\\Temp\\ipykernel_7000\\3098301820.py#67\"><span style=\"color: #7f7f7f; text-decoration-color: #7f7f7f\">67</span></a>\n",
       "<span style=\"color: #7fbfbf; text-decoration-color: #7fbfbf\">                    </span>         <span style=\"color: #800080; text-decoration-color: #800080; font-weight: bold\">mt5.last_error</span><span style=\"font-weight: bold\">()</span>=<span style=\"font-weight: bold\">(</span><span style=\"color: #008080; text-decoration-color: #008080; font-weight: bold\">1</span>, <span style=\"color: #008000; text-decoration-color: #008000\">'Success'</span><span style=\"font-weight: bold\">)</span>                 <span style=\"color: #7f7f7f; text-decoration-color: #7f7f7f\">                </span>\n",
       "</pre>\n"
      ],
      "text/plain": [
       "\u001b[2;36m                   \u001b[0m\u001b[2;36m \u001b[0m\u001b[32mDEBUG   \u001b[0m \u001b[1;4;35mget_rates\u001b[0m\u001b[1m(\u001b[0m\u001b[1m)\u001b[0m: \u001b[1;35mmt5.copy_rates\u001b[0m\u001b[1m(\u001b[0m\u001b[1m)\u001b[0m returned \u001b[3;35mNone\u001b[0m.    \u001b]8;id=129976;file://C:\\Users\\Gabriele\\AppData\\Local\\Temp\\ipykernel_7000\\3098301820.py\u001b\\\u001b[2m3098301820.py\u001b[0m\u001b]8;;\u001b\\\u001b[2m:\u001b[0m\u001b]8;id=150623;file://C:\\Users\\Gabriele\\AppData\\Local\\Temp\\ipykernel_7000\\3098301820.py#67\u001b\\\u001b[2m67\u001b[0m\u001b]8;;\u001b\\\n",
       "\u001b[2;36m                    \u001b[0m         \u001b[1;35mmt5.last_error\u001b[0m\u001b[1m(\u001b[0m\u001b[1m)\u001b[0m=\u001b[1m(\u001b[0m\u001b[1;36m1\u001b[0m, \u001b[32m'Success'\u001b[0m\u001b[1m)\u001b[0m                 \u001b[2m                \u001b[0m\n"
      ]
     },
     "metadata": {},
     "output_type": "display_data"
    },
    {
     "data": {
      "text/html": [
       "<pre style=\"white-space:pre;overflow-x:auto;line-height:normal;font-family:Menlo,'DejaVu Sans Mono',consolas,'Courier New',monospace\"><span style=\"color: #7fbfbf; text-decoration-color: #7fbfbf\">                    </span><span style=\"color: #008000; text-decoration-color: #008000\">DEBUG   </span> <span style=\"color: #800080; text-decoration-color: #800080; font-weight: bold; text-decoration: underline\">get_rates</span><span style=\"font-weight: bold\">()</span>: <span style=\"color: #800080; text-decoration-color: #800080; font-weight: bold\">mt5.copy_rates</span><span style=\"font-weight: bold\">()</span> returned <span style=\"color: #800080; text-decoration-color: #800080; font-style: italic\">None</span>.    <a href=\"file://C:\\Users\\Gabriele\\AppData\\Local\\Temp\\ipykernel_7000\\3098301820.py\"><span style=\"color: #7f7f7f; text-decoration-color: #7f7f7f\">3098301820.py</span></a><span style=\"color: #7f7f7f; text-decoration-color: #7f7f7f\">:</span><a href=\"file://C:\\Users\\Gabriele\\AppData\\Local\\Temp\\ipykernel_7000\\3098301820.py#67\"><span style=\"color: #7f7f7f; text-decoration-color: #7f7f7f\">67</span></a>\n",
       "<span style=\"color: #7fbfbf; text-decoration-color: #7fbfbf\">                    </span>         <span style=\"color: #800080; text-decoration-color: #800080; font-weight: bold\">mt5.last_error</span><span style=\"font-weight: bold\">()</span>=<span style=\"font-weight: bold\">(</span><span style=\"color: #008080; text-decoration-color: #008080; font-weight: bold\">1</span>, <span style=\"color: #008000; text-decoration-color: #008000\">'Success'</span><span style=\"font-weight: bold\">)</span>                 <span style=\"color: #7f7f7f; text-decoration-color: #7f7f7f\">                </span>\n",
       "</pre>\n"
      ],
      "text/plain": [
       "\u001b[2;36m                   \u001b[0m\u001b[2;36m \u001b[0m\u001b[32mDEBUG   \u001b[0m \u001b[1;4;35mget_rates\u001b[0m\u001b[1m(\u001b[0m\u001b[1m)\u001b[0m: \u001b[1;35mmt5.copy_rates\u001b[0m\u001b[1m(\u001b[0m\u001b[1m)\u001b[0m returned \u001b[3;35mNone\u001b[0m.    \u001b]8;id=919090;file://C:\\Users\\Gabriele\\AppData\\Local\\Temp\\ipykernel_7000\\3098301820.py\u001b\\\u001b[2m3098301820.py\u001b[0m\u001b]8;;\u001b\\\u001b[2m:\u001b[0m\u001b]8;id=709073;file://C:\\Users\\Gabriele\\AppData\\Local\\Temp\\ipykernel_7000\\3098301820.py#67\u001b\\\u001b[2m67\u001b[0m\u001b]8;;\u001b\\\n",
       "\u001b[2;36m                    \u001b[0m         \u001b[1;35mmt5.last_error\u001b[0m\u001b[1m(\u001b[0m\u001b[1m)\u001b[0m=\u001b[1m(\u001b[0m\u001b[1;36m1\u001b[0m, \u001b[32m'Success'\u001b[0m\u001b[1m)\u001b[0m                 \u001b[2m                \u001b[0m\n"
      ]
     },
     "metadata": {},
     "output_type": "display_data"
    },
    {
     "data": {
      "text/html": [
       "<pre style=\"white-space:pre;overflow-x:auto;line-height:normal;font-family:Menlo,'DejaVu Sans Mono',consolas,'Courier New',monospace\"><span style=\"color: #7fbfbf; text-decoration-color: #7fbfbf\">                    </span><span style=\"color: #008000; text-decoration-color: #008000\">DEBUG   </span> <span style=\"color: #800080; text-decoration-color: #800080; font-weight: bold; text-decoration: underline\">get_rates</span><span style=\"font-weight: bold\">()</span>: <span style=\"color: #800080; text-decoration-color: #800080; font-weight: bold\">mt5.copy_rates</span><span style=\"font-weight: bold\">()</span> returned <span style=\"color: #800080; text-decoration-color: #800080; font-style: italic\">None</span>.    <a href=\"file://C:\\Users\\Gabriele\\AppData\\Local\\Temp\\ipykernel_7000\\3098301820.py\"><span style=\"color: #7f7f7f; text-decoration-color: #7f7f7f\">3098301820.py</span></a><span style=\"color: #7f7f7f; text-decoration-color: #7f7f7f\">:</span><a href=\"file://C:\\Users\\Gabriele\\AppData\\Local\\Temp\\ipykernel_7000\\3098301820.py#67\"><span style=\"color: #7f7f7f; text-decoration-color: #7f7f7f\">67</span></a>\n",
       "<span style=\"color: #7fbfbf; text-decoration-color: #7fbfbf\">                    </span>         <span style=\"color: #800080; text-decoration-color: #800080; font-weight: bold\">mt5.last_error</span><span style=\"font-weight: bold\">()</span>=<span style=\"font-weight: bold\">(</span><span style=\"color: #008080; text-decoration-color: #008080; font-weight: bold\">1</span>, <span style=\"color: #008000; text-decoration-color: #008000\">'Success'</span><span style=\"font-weight: bold\">)</span>                 <span style=\"color: #7f7f7f; text-decoration-color: #7f7f7f\">                </span>\n",
       "</pre>\n"
      ],
      "text/plain": [
       "\u001b[2;36m                   \u001b[0m\u001b[2;36m \u001b[0m\u001b[32mDEBUG   \u001b[0m \u001b[1;4;35mget_rates\u001b[0m\u001b[1m(\u001b[0m\u001b[1m)\u001b[0m: \u001b[1;35mmt5.copy_rates\u001b[0m\u001b[1m(\u001b[0m\u001b[1m)\u001b[0m returned \u001b[3;35mNone\u001b[0m.    \u001b]8;id=489192;file://C:\\Users\\Gabriele\\AppData\\Local\\Temp\\ipykernel_7000\\3098301820.py\u001b\\\u001b[2m3098301820.py\u001b[0m\u001b]8;;\u001b\\\u001b[2m:\u001b[0m\u001b]8;id=284610;file://C:\\Users\\Gabriele\\AppData\\Local\\Temp\\ipykernel_7000\\3098301820.py#67\u001b\\\u001b[2m67\u001b[0m\u001b]8;;\u001b\\\n",
       "\u001b[2;36m                    \u001b[0m         \u001b[1;35mmt5.last_error\u001b[0m\u001b[1m(\u001b[0m\u001b[1m)\u001b[0m=\u001b[1m(\u001b[0m\u001b[1;36m1\u001b[0m, \u001b[32m'Success'\u001b[0m\u001b[1m)\u001b[0m                 \u001b[2m                \u001b[0m\n"
      ]
     },
     "metadata": {},
     "output_type": "display_data"
    },
    {
     "data": {
      "text/html": [
       "<pre style=\"white-space:pre;overflow-x:auto;line-height:normal;font-family:Menlo,'DejaVu Sans Mono',consolas,'Courier New',monospace\"><span style=\"color: #7fbfbf; text-decoration-color: #7fbfbf\">                    </span><span style=\"color: #008000; text-decoration-color: #008000\">DEBUG   </span> <span style=\"color: #800080; text-decoration-color: #800080; font-weight: bold; text-decoration: underline\">get_rates</span><span style=\"font-weight: bold\">()</span>: <span style=\"color: #800080; text-decoration-color: #800080; font-weight: bold\">mt5.copy_rates</span><span style=\"font-weight: bold\">()</span> returned <span style=\"color: #800080; text-decoration-color: #800080; font-style: italic\">None</span>.    <a href=\"file://C:\\Users\\Gabriele\\AppData\\Local\\Temp\\ipykernel_7000\\3098301820.py\"><span style=\"color: #7f7f7f; text-decoration-color: #7f7f7f\">3098301820.py</span></a><span style=\"color: #7f7f7f; text-decoration-color: #7f7f7f\">:</span><a href=\"file://C:\\Users\\Gabriele\\AppData\\Local\\Temp\\ipykernel_7000\\3098301820.py#67\"><span style=\"color: #7f7f7f; text-decoration-color: #7f7f7f\">67</span></a>\n",
       "<span style=\"color: #7fbfbf; text-decoration-color: #7fbfbf\">                    </span>         <span style=\"color: #800080; text-decoration-color: #800080; font-weight: bold\">mt5.last_error</span><span style=\"font-weight: bold\">()</span>=<span style=\"font-weight: bold\">(</span><span style=\"color: #008080; text-decoration-color: #008080; font-weight: bold\">1</span>, <span style=\"color: #008000; text-decoration-color: #008000\">'Success'</span><span style=\"font-weight: bold\">)</span>                 <span style=\"color: #7f7f7f; text-decoration-color: #7f7f7f\">                </span>\n",
       "</pre>\n"
      ],
      "text/plain": [
       "\u001b[2;36m                   \u001b[0m\u001b[2;36m \u001b[0m\u001b[32mDEBUG   \u001b[0m \u001b[1;4;35mget_rates\u001b[0m\u001b[1m(\u001b[0m\u001b[1m)\u001b[0m: \u001b[1;35mmt5.copy_rates\u001b[0m\u001b[1m(\u001b[0m\u001b[1m)\u001b[0m returned \u001b[3;35mNone\u001b[0m.    \u001b]8;id=773750;file://C:\\Users\\Gabriele\\AppData\\Local\\Temp\\ipykernel_7000\\3098301820.py\u001b\\\u001b[2m3098301820.py\u001b[0m\u001b]8;;\u001b\\\u001b[2m:\u001b[0m\u001b]8;id=38635;file://C:\\Users\\Gabriele\\AppData\\Local\\Temp\\ipykernel_7000\\3098301820.py#67\u001b\\\u001b[2m67\u001b[0m\u001b]8;;\u001b\\\n",
       "\u001b[2;36m                    \u001b[0m         \u001b[1;35mmt5.last_error\u001b[0m\u001b[1m(\u001b[0m\u001b[1m)\u001b[0m=\u001b[1m(\u001b[0m\u001b[1;36m1\u001b[0m, \u001b[32m'Success'\u001b[0m\u001b[1m)\u001b[0m                 \u001b[2m                \u001b[0m\n"
      ]
     },
     "metadata": {},
     "output_type": "display_data"
    },
    {
     "data": {
      "text/html": [
       "<pre style=\"white-space:pre;overflow-x:auto;line-height:normal;font-family:Menlo,'DejaVu Sans Mono',consolas,'Courier New',monospace\"><span style=\"color: #7fbfbf; text-decoration-color: #7fbfbf\">                    </span><span style=\"color: #008000; text-decoration-color: #008000\">DEBUG   </span> <span style=\"color: #800080; text-decoration-color: #800080; font-weight: bold; text-decoration: underline\">get_rates</span><span style=\"font-weight: bold\">()</span>: <span style=\"color: #800080; text-decoration-color: #800080; font-weight: bold\">mt5.copy_rates</span><span style=\"font-weight: bold\">()</span> returned <span style=\"color: #800080; text-decoration-color: #800080; font-style: italic\">None</span>.    <a href=\"file://C:\\Users\\Gabriele\\AppData\\Local\\Temp\\ipykernel_7000\\3098301820.py\"><span style=\"color: #7f7f7f; text-decoration-color: #7f7f7f\">3098301820.py</span></a><span style=\"color: #7f7f7f; text-decoration-color: #7f7f7f\">:</span><a href=\"file://C:\\Users\\Gabriele\\AppData\\Local\\Temp\\ipykernel_7000\\3098301820.py#67\"><span style=\"color: #7f7f7f; text-decoration-color: #7f7f7f\">67</span></a>\n",
       "<span style=\"color: #7fbfbf; text-decoration-color: #7fbfbf\">                    </span>         <span style=\"color: #800080; text-decoration-color: #800080; font-weight: bold\">mt5.last_error</span><span style=\"font-weight: bold\">()</span>=<span style=\"font-weight: bold\">(</span><span style=\"color: #008080; text-decoration-color: #008080; font-weight: bold\">1</span>, <span style=\"color: #008000; text-decoration-color: #008000\">'Success'</span><span style=\"font-weight: bold\">)</span>                 <span style=\"color: #7f7f7f; text-decoration-color: #7f7f7f\">                </span>\n",
       "</pre>\n"
      ],
      "text/plain": [
       "\u001b[2;36m                   \u001b[0m\u001b[2;36m \u001b[0m\u001b[32mDEBUG   \u001b[0m \u001b[1;4;35mget_rates\u001b[0m\u001b[1m(\u001b[0m\u001b[1m)\u001b[0m: \u001b[1;35mmt5.copy_rates\u001b[0m\u001b[1m(\u001b[0m\u001b[1m)\u001b[0m returned \u001b[3;35mNone\u001b[0m.    \u001b]8;id=914232;file://C:\\Users\\Gabriele\\AppData\\Local\\Temp\\ipykernel_7000\\3098301820.py\u001b\\\u001b[2m3098301820.py\u001b[0m\u001b]8;;\u001b\\\u001b[2m:\u001b[0m\u001b]8;id=196228;file://C:\\Users\\Gabriele\\AppData\\Local\\Temp\\ipykernel_7000\\3098301820.py#67\u001b\\\u001b[2m67\u001b[0m\u001b]8;;\u001b\\\n",
       "\u001b[2;36m                    \u001b[0m         \u001b[1;35mmt5.last_error\u001b[0m\u001b[1m(\u001b[0m\u001b[1m)\u001b[0m=\u001b[1m(\u001b[0m\u001b[1;36m1\u001b[0m, \u001b[32m'Success'\u001b[0m\u001b[1m)\u001b[0m                 \u001b[2m                \u001b[0m\n"
      ]
     },
     "metadata": {},
     "output_type": "display_data"
    },
    {
     "data": {
      "text/html": [
       "<pre style=\"white-space:pre;overflow-x:auto;line-height:normal;font-family:Menlo,'DejaVu Sans Mono',consolas,'Courier New',monospace\"><span style=\"color: #7fbfbf; text-decoration-color: #7fbfbf\">                    </span><span style=\"color: #008000; text-decoration-color: #008000\">DEBUG   </span> <span style=\"color: #800080; text-decoration-color: #800080; font-weight: bold; text-decoration: underline\">get_rates</span><span style=\"font-weight: bold\">()</span>: <span style=\"color: #800080; text-decoration-color: #800080; font-weight: bold\">mt5.copy_rates</span><span style=\"font-weight: bold\">()</span> returned <span style=\"color: #800080; text-decoration-color: #800080; font-style: italic\">None</span>.    <a href=\"file://C:\\Users\\Gabriele\\AppData\\Local\\Temp\\ipykernel_7000\\3098301820.py\"><span style=\"color: #7f7f7f; text-decoration-color: #7f7f7f\">3098301820.py</span></a><span style=\"color: #7f7f7f; text-decoration-color: #7f7f7f\">:</span><a href=\"file://C:\\Users\\Gabriele\\AppData\\Local\\Temp\\ipykernel_7000\\3098301820.py#67\"><span style=\"color: #7f7f7f; text-decoration-color: #7f7f7f\">67</span></a>\n",
       "<span style=\"color: #7fbfbf; text-decoration-color: #7fbfbf\">                    </span>         <span style=\"color: #800080; text-decoration-color: #800080; font-weight: bold\">mt5.last_error</span><span style=\"font-weight: bold\">()</span>=<span style=\"font-weight: bold\">(</span><span style=\"color: #008080; text-decoration-color: #008080; font-weight: bold\">1</span>, <span style=\"color: #008000; text-decoration-color: #008000\">'Success'</span><span style=\"font-weight: bold\">)</span>                 <span style=\"color: #7f7f7f; text-decoration-color: #7f7f7f\">                </span>\n",
       "</pre>\n"
      ],
      "text/plain": [
       "\u001b[2;36m                   \u001b[0m\u001b[2;36m \u001b[0m\u001b[32mDEBUG   \u001b[0m \u001b[1;4;35mget_rates\u001b[0m\u001b[1m(\u001b[0m\u001b[1m)\u001b[0m: \u001b[1;35mmt5.copy_rates\u001b[0m\u001b[1m(\u001b[0m\u001b[1m)\u001b[0m returned \u001b[3;35mNone\u001b[0m.    \u001b]8;id=917298;file://C:\\Users\\Gabriele\\AppData\\Local\\Temp\\ipykernel_7000\\3098301820.py\u001b\\\u001b[2m3098301820.py\u001b[0m\u001b]8;;\u001b\\\u001b[2m:\u001b[0m\u001b]8;id=983833;file://C:\\Users\\Gabriele\\AppData\\Local\\Temp\\ipykernel_7000\\3098301820.py#67\u001b\\\u001b[2m67\u001b[0m\u001b]8;;\u001b\\\n",
       "\u001b[2;36m                    \u001b[0m         \u001b[1;35mmt5.last_error\u001b[0m\u001b[1m(\u001b[0m\u001b[1m)\u001b[0m=\u001b[1m(\u001b[0m\u001b[1;36m1\u001b[0m, \u001b[32m'Success'\u001b[0m\u001b[1m)\u001b[0m                 \u001b[2m                \u001b[0m\n"
      ]
     },
     "metadata": {},
     "output_type": "display_data"
    },
    {
     "data": {
      "text/html": [
       "<pre style=\"white-space:pre;overflow-x:auto;line-height:normal;font-family:Menlo,'DejaVu Sans Mono',consolas,'Courier New',monospace\"><span style=\"color: #7fbfbf; text-decoration-color: #7fbfbf\">                    </span><span style=\"color: #008000; text-decoration-color: #008000\">DEBUG   </span> <span style=\"color: #800080; text-decoration-color: #800080; font-weight: bold; text-decoration: underline\">get_rates</span><span style=\"font-weight: bold\">()</span>: <span style=\"color: #800080; text-decoration-color: #800080; font-weight: bold\">mt5.copy_rates</span><span style=\"font-weight: bold\">()</span> returned <span style=\"color: #800080; text-decoration-color: #800080; font-style: italic\">None</span>.    <a href=\"file://C:\\Users\\Gabriele\\AppData\\Local\\Temp\\ipykernel_7000\\3098301820.py\"><span style=\"color: #7f7f7f; text-decoration-color: #7f7f7f\">3098301820.py</span></a><span style=\"color: #7f7f7f; text-decoration-color: #7f7f7f\">:</span><a href=\"file://C:\\Users\\Gabriele\\AppData\\Local\\Temp\\ipykernel_7000\\3098301820.py#67\"><span style=\"color: #7f7f7f; text-decoration-color: #7f7f7f\">67</span></a>\n",
       "<span style=\"color: #7fbfbf; text-decoration-color: #7fbfbf\">                    </span>         <span style=\"color: #800080; text-decoration-color: #800080; font-weight: bold\">mt5.last_error</span><span style=\"font-weight: bold\">()</span>=<span style=\"font-weight: bold\">(</span><span style=\"color: #008080; text-decoration-color: #008080; font-weight: bold\">1</span>, <span style=\"color: #008000; text-decoration-color: #008000\">'Success'</span><span style=\"font-weight: bold\">)</span>                 <span style=\"color: #7f7f7f; text-decoration-color: #7f7f7f\">                </span>\n",
       "</pre>\n"
      ],
      "text/plain": [
       "\u001b[2;36m                   \u001b[0m\u001b[2;36m \u001b[0m\u001b[32mDEBUG   \u001b[0m \u001b[1;4;35mget_rates\u001b[0m\u001b[1m(\u001b[0m\u001b[1m)\u001b[0m: \u001b[1;35mmt5.copy_rates\u001b[0m\u001b[1m(\u001b[0m\u001b[1m)\u001b[0m returned \u001b[3;35mNone\u001b[0m.    \u001b]8;id=958201;file://C:\\Users\\Gabriele\\AppData\\Local\\Temp\\ipykernel_7000\\3098301820.py\u001b\\\u001b[2m3098301820.py\u001b[0m\u001b]8;;\u001b\\\u001b[2m:\u001b[0m\u001b]8;id=875955;file://C:\\Users\\Gabriele\\AppData\\Local\\Temp\\ipykernel_7000\\3098301820.py#67\u001b\\\u001b[2m67\u001b[0m\u001b]8;;\u001b\\\n",
       "\u001b[2;36m                    \u001b[0m         \u001b[1;35mmt5.last_error\u001b[0m\u001b[1m(\u001b[0m\u001b[1m)\u001b[0m=\u001b[1m(\u001b[0m\u001b[1;36m1\u001b[0m, \u001b[32m'Success'\u001b[0m\u001b[1m)\u001b[0m                 \u001b[2m                \u001b[0m\n"
      ]
     },
     "metadata": {},
     "output_type": "display_data"
    },
    {
     "data": {
      "text/html": [
       "<pre style=\"white-space:pre;overflow-x:auto;line-height:normal;font-family:Menlo,'DejaVu Sans Mono',consolas,'Courier New',monospace\"><span style=\"color: #7fbfbf; text-decoration-color: #7fbfbf\">                    </span><span style=\"color: #008000; text-decoration-color: #008000\">DEBUG   </span> <span style=\"color: #800080; text-decoration-color: #800080; font-weight: bold; text-decoration: underline\">get_rates</span><span style=\"font-weight: bold\">()</span>: <span style=\"color: #800080; text-decoration-color: #800080; font-weight: bold\">mt5.copy_rates</span><span style=\"font-weight: bold\">()</span> returned <span style=\"color: #800080; text-decoration-color: #800080; font-style: italic\">None</span>.    <a href=\"file://C:\\Users\\Gabriele\\AppData\\Local\\Temp\\ipykernel_7000\\3098301820.py\"><span style=\"color: #7f7f7f; text-decoration-color: #7f7f7f\">3098301820.py</span></a><span style=\"color: #7f7f7f; text-decoration-color: #7f7f7f\">:</span><a href=\"file://C:\\Users\\Gabriele\\AppData\\Local\\Temp\\ipykernel_7000\\3098301820.py#67\"><span style=\"color: #7f7f7f; text-decoration-color: #7f7f7f\">67</span></a>\n",
       "<span style=\"color: #7fbfbf; text-decoration-color: #7fbfbf\">                    </span>         <span style=\"color: #800080; text-decoration-color: #800080; font-weight: bold\">mt5.last_error</span><span style=\"font-weight: bold\">()</span>=<span style=\"font-weight: bold\">(</span><span style=\"color: #008080; text-decoration-color: #008080; font-weight: bold\">1</span>, <span style=\"color: #008000; text-decoration-color: #008000\">'Success'</span><span style=\"font-weight: bold\">)</span>                 <span style=\"color: #7f7f7f; text-decoration-color: #7f7f7f\">                </span>\n",
       "</pre>\n"
      ],
      "text/plain": [
       "\u001b[2;36m                   \u001b[0m\u001b[2;36m \u001b[0m\u001b[32mDEBUG   \u001b[0m \u001b[1;4;35mget_rates\u001b[0m\u001b[1m(\u001b[0m\u001b[1m)\u001b[0m: \u001b[1;35mmt5.copy_rates\u001b[0m\u001b[1m(\u001b[0m\u001b[1m)\u001b[0m returned \u001b[3;35mNone\u001b[0m.    \u001b]8;id=86723;file://C:\\Users\\Gabriele\\AppData\\Local\\Temp\\ipykernel_7000\\3098301820.py\u001b\\\u001b[2m3098301820.py\u001b[0m\u001b]8;;\u001b\\\u001b[2m:\u001b[0m\u001b]8;id=846180;file://C:\\Users\\Gabriele\\AppData\\Local\\Temp\\ipykernel_7000\\3098301820.py#67\u001b\\\u001b[2m67\u001b[0m\u001b]8;;\u001b\\\n",
       "\u001b[2;36m                    \u001b[0m         \u001b[1;35mmt5.last_error\u001b[0m\u001b[1m(\u001b[0m\u001b[1m)\u001b[0m=\u001b[1m(\u001b[0m\u001b[1;36m1\u001b[0m, \u001b[32m'Success'\u001b[0m\u001b[1m)\u001b[0m                 \u001b[2m                \u001b[0m\n"
      ]
     },
     "metadata": {},
     "output_type": "display_data"
    },
    {
     "data": {
      "text/html": [
       "<pre style=\"white-space:pre;overflow-x:auto;line-height:normal;font-family:Menlo,'DejaVu Sans Mono',consolas,'Courier New',monospace\"><span style=\"color: #7fbfbf; text-decoration-color: #7fbfbf\">                    </span><span style=\"color: #008000; text-decoration-color: #008000\">DEBUG   </span> <span style=\"color: #800080; text-decoration-color: #800080; font-weight: bold; text-decoration: underline\">get_rates</span><span style=\"font-weight: bold\">()</span>: <span style=\"color: #800080; text-decoration-color: #800080; font-weight: bold\">mt5.copy_rates</span><span style=\"font-weight: bold\">()</span> returned <span style=\"color: #800080; text-decoration-color: #800080; font-style: italic\">None</span>.    <a href=\"file://C:\\Users\\Gabriele\\AppData\\Local\\Temp\\ipykernel_7000\\3098301820.py\"><span style=\"color: #7f7f7f; text-decoration-color: #7f7f7f\">3098301820.py</span></a><span style=\"color: #7f7f7f; text-decoration-color: #7f7f7f\">:</span><a href=\"file://C:\\Users\\Gabriele\\AppData\\Local\\Temp\\ipykernel_7000\\3098301820.py#67\"><span style=\"color: #7f7f7f; text-decoration-color: #7f7f7f\">67</span></a>\n",
       "<span style=\"color: #7fbfbf; text-decoration-color: #7fbfbf\">                    </span>         <span style=\"color: #800080; text-decoration-color: #800080; font-weight: bold\">mt5.last_error</span><span style=\"font-weight: bold\">()</span>=<span style=\"font-weight: bold\">(</span><span style=\"color: #008080; text-decoration-color: #008080; font-weight: bold\">1</span>, <span style=\"color: #008000; text-decoration-color: #008000\">'Success'</span><span style=\"font-weight: bold\">)</span>                 <span style=\"color: #7f7f7f; text-decoration-color: #7f7f7f\">                </span>\n",
       "</pre>\n"
      ],
      "text/plain": [
       "\u001b[2;36m                   \u001b[0m\u001b[2;36m \u001b[0m\u001b[32mDEBUG   \u001b[0m \u001b[1;4;35mget_rates\u001b[0m\u001b[1m(\u001b[0m\u001b[1m)\u001b[0m: \u001b[1;35mmt5.copy_rates\u001b[0m\u001b[1m(\u001b[0m\u001b[1m)\u001b[0m returned \u001b[3;35mNone\u001b[0m.    \u001b]8;id=279694;file://C:\\Users\\Gabriele\\AppData\\Local\\Temp\\ipykernel_7000\\3098301820.py\u001b\\\u001b[2m3098301820.py\u001b[0m\u001b]8;;\u001b\\\u001b[2m:\u001b[0m\u001b]8;id=388252;file://C:\\Users\\Gabriele\\AppData\\Local\\Temp\\ipykernel_7000\\3098301820.py#67\u001b\\\u001b[2m67\u001b[0m\u001b]8;;\u001b\\\n",
       "\u001b[2;36m                    \u001b[0m         \u001b[1;35mmt5.last_error\u001b[0m\u001b[1m(\u001b[0m\u001b[1m)\u001b[0m=\u001b[1m(\u001b[0m\u001b[1;36m1\u001b[0m, \u001b[32m'Success'\u001b[0m\u001b[1m)\u001b[0m                 \u001b[2m                \u001b[0m\n"
      ]
     },
     "metadata": {},
     "output_type": "display_data"
    },
    {
     "data": {
      "text/html": [
       "<pre style=\"white-space:pre;overflow-x:auto;line-height:normal;font-family:Menlo,'DejaVu Sans Mono',consolas,'Courier New',monospace\"><span style=\"color: #7fbfbf; text-decoration-color: #7fbfbf\">                    </span><span style=\"color: #008000; text-decoration-color: #008000\">DEBUG   </span> <span style=\"color: #800080; text-decoration-color: #800080; font-weight: bold; text-decoration: underline\">get_rates</span><span style=\"font-weight: bold\">()</span>: Successfully loaded <span style=\"color: #800080; text-decoration-color: #800080; font-weight: bold\">len</span><span style=\"font-weight: bold\">(</span>rates<span style=\"font-weight: bold\">)</span>=<span style=\"color: #008080; text-decoration-color: #008080; font-weight: bold\">61</span>  <a href=\"file://C:\\Users\\Gabriele\\AppData\\Local\\Temp\\ipykernel_7000\\3098301820.py\"><span style=\"color: #7f7f7f; text-decoration-color: #7f7f7f\">3098301820.py</span></a><span style=\"color: #7f7f7f; text-decoration-color: #7f7f7f\">:</span><a href=\"file://C:\\Users\\Gabriele\\AppData\\Local\\Temp\\ipykernel_7000\\3098301820.py#78\"><span style=\"color: #7f7f7f; text-decoration-color: #7f7f7f\">78</span></a>\n",
       "</pre>\n"
      ],
      "text/plain": [
       "\u001b[2;36m                   \u001b[0m\u001b[2;36m \u001b[0m\u001b[32mDEBUG   \u001b[0m \u001b[1;4;35mget_rates\u001b[0m\u001b[1m(\u001b[0m\u001b[1m)\u001b[0m: Successfully loaded \u001b[1;35mlen\u001b[0m\u001b[1m(\u001b[0mrates\u001b[1m)\u001b[0m=\u001b[1;36m61\u001b[0m  \u001b]8;id=570471;file://C:\\Users\\Gabriele\\AppData\\Local\\Temp\\ipykernel_7000\\3098301820.py\u001b\\\u001b[2m3098301820.py\u001b[0m\u001b]8;;\u001b\\\u001b[2m:\u001b[0m\u001b]8;id=401442;file://C:\\Users\\Gabriele\\AppData\\Local\\Temp\\ipykernel_7000\\3098301820.py#78\u001b\\\u001b[2m78\u001b[0m\u001b]8;;\u001b\\\n"
      ]
     },
     "metadata": {},
     "output_type": "display_data"
    },
    {
     "data": {
      "text/html": [
       "<pre style=\"white-space:pre;overflow-x:auto;line-height:normal;font-family:Menlo,'DejaVu Sans Mono',consolas,'Courier New',monospace\"><span style=\"color: #7fbfbf; text-decoration-color: #7fbfbf\">                    </span><span style=\"color: #008000; text-decoration-color: #008000\">DEBUG   </span> <span style=\"color: #800080; text-decoration-color: #800080; font-weight: bold; text-decoration: underline\">get_rates</span><span style=\"font-weight: bold\">()</span>: <span style=\"color: #800080; text-decoration-color: #800080; font-weight: bold\">mt5.copy_rates</span><span style=\"font-weight: bold\">()</span> returned <span style=\"color: #800080; text-decoration-color: #800080; font-style: italic\">None</span>.    <a href=\"file://C:\\Users\\Gabriele\\AppData\\Local\\Temp\\ipykernel_7000\\3098301820.py\"><span style=\"color: #7f7f7f; text-decoration-color: #7f7f7f\">3098301820.py</span></a><span style=\"color: #7f7f7f; text-decoration-color: #7f7f7f\">:</span><a href=\"file://C:\\Users\\Gabriele\\AppData\\Local\\Temp\\ipykernel_7000\\3098301820.py#67\"><span style=\"color: #7f7f7f; text-decoration-color: #7f7f7f\">67</span></a>\n",
       "<span style=\"color: #7fbfbf; text-decoration-color: #7fbfbf\">                    </span>         <span style=\"color: #800080; text-decoration-color: #800080; font-weight: bold\">mt5.last_error</span><span style=\"font-weight: bold\">()</span>=<span style=\"font-weight: bold\">(</span><span style=\"color: #008080; text-decoration-color: #008080; font-weight: bold\">1</span>, <span style=\"color: #008000; text-decoration-color: #008000\">'Success'</span><span style=\"font-weight: bold\">)</span>                 <span style=\"color: #7f7f7f; text-decoration-color: #7f7f7f\">                </span>\n",
       "</pre>\n"
      ],
      "text/plain": [
       "\u001b[2;36m                   \u001b[0m\u001b[2;36m \u001b[0m\u001b[32mDEBUG   \u001b[0m \u001b[1;4;35mget_rates\u001b[0m\u001b[1m(\u001b[0m\u001b[1m)\u001b[0m: \u001b[1;35mmt5.copy_rates\u001b[0m\u001b[1m(\u001b[0m\u001b[1m)\u001b[0m returned \u001b[3;35mNone\u001b[0m.    \u001b]8;id=320022;file://C:\\Users\\Gabriele\\AppData\\Local\\Temp\\ipykernel_7000\\3098301820.py\u001b\\\u001b[2m3098301820.py\u001b[0m\u001b]8;;\u001b\\\u001b[2m:\u001b[0m\u001b]8;id=191760;file://C:\\Users\\Gabriele\\AppData\\Local\\Temp\\ipykernel_7000\\3098301820.py#67\u001b\\\u001b[2m67\u001b[0m\u001b]8;;\u001b\\\n",
       "\u001b[2;36m                    \u001b[0m         \u001b[1;35mmt5.last_error\u001b[0m\u001b[1m(\u001b[0m\u001b[1m)\u001b[0m=\u001b[1m(\u001b[0m\u001b[1;36m1\u001b[0m, \u001b[32m'Success'\u001b[0m\u001b[1m)\u001b[0m                 \u001b[2m                \u001b[0m\n"
      ]
     },
     "metadata": {},
     "output_type": "display_data"
    },
    {
     "data": {
      "text/html": [
       "<pre style=\"white-space:pre;overflow-x:auto;line-height:normal;font-family:Menlo,'DejaVu Sans Mono',consolas,'Courier New',monospace\"><span style=\"color: #7fbfbf; text-decoration-color: #7fbfbf\">                    </span><span style=\"color: #008000; text-decoration-color: #008000\">DEBUG   </span> <span style=\"color: #800080; text-decoration-color: #800080; font-weight: bold; text-decoration: underline\">get_rates</span><span style=\"font-weight: bold\">()</span>: <span style=\"color: #800080; text-decoration-color: #800080; font-weight: bold\">mt5.copy_rates</span><span style=\"font-weight: bold\">()</span> returned <span style=\"color: #800080; text-decoration-color: #800080; font-style: italic\">None</span>.    <a href=\"file://C:\\Users\\Gabriele\\AppData\\Local\\Temp\\ipykernel_7000\\3098301820.py\"><span style=\"color: #7f7f7f; text-decoration-color: #7f7f7f\">3098301820.py</span></a><span style=\"color: #7f7f7f; text-decoration-color: #7f7f7f\">:</span><a href=\"file://C:\\Users\\Gabriele\\AppData\\Local\\Temp\\ipykernel_7000\\3098301820.py#67\"><span style=\"color: #7f7f7f; text-decoration-color: #7f7f7f\">67</span></a>\n",
       "<span style=\"color: #7fbfbf; text-decoration-color: #7fbfbf\">                    </span>         <span style=\"color: #800080; text-decoration-color: #800080; font-weight: bold\">mt5.last_error</span><span style=\"font-weight: bold\">()</span>=<span style=\"font-weight: bold\">(</span><span style=\"color: #008080; text-decoration-color: #008080; font-weight: bold\">1</span>, <span style=\"color: #008000; text-decoration-color: #008000\">'Success'</span><span style=\"font-weight: bold\">)</span>                 <span style=\"color: #7f7f7f; text-decoration-color: #7f7f7f\">                </span>\n",
       "</pre>\n"
      ],
      "text/plain": [
       "\u001b[2;36m                   \u001b[0m\u001b[2;36m \u001b[0m\u001b[32mDEBUG   \u001b[0m \u001b[1;4;35mget_rates\u001b[0m\u001b[1m(\u001b[0m\u001b[1m)\u001b[0m: \u001b[1;35mmt5.copy_rates\u001b[0m\u001b[1m(\u001b[0m\u001b[1m)\u001b[0m returned \u001b[3;35mNone\u001b[0m.    \u001b]8;id=888052;file://C:\\Users\\Gabriele\\AppData\\Local\\Temp\\ipykernel_7000\\3098301820.py\u001b\\\u001b[2m3098301820.py\u001b[0m\u001b]8;;\u001b\\\u001b[2m:\u001b[0m\u001b]8;id=592509;file://C:\\Users\\Gabriele\\AppData\\Local\\Temp\\ipykernel_7000\\3098301820.py#67\u001b\\\u001b[2m67\u001b[0m\u001b]8;;\u001b\\\n",
       "\u001b[2;36m                    \u001b[0m         \u001b[1;35mmt5.last_error\u001b[0m\u001b[1m(\u001b[0m\u001b[1m)\u001b[0m=\u001b[1m(\u001b[0m\u001b[1;36m1\u001b[0m, \u001b[32m'Success'\u001b[0m\u001b[1m)\u001b[0m                 \u001b[2m                \u001b[0m\n"
      ]
     },
     "metadata": {},
     "output_type": "display_data"
    },
    {
     "data": {
      "text/html": [
       "<pre style=\"white-space:pre;overflow-x:auto;line-height:normal;font-family:Menlo,'DejaVu Sans Mono',consolas,'Courier New',monospace\"><span style=\"color: #7fbfbf; text-decoration-color: #7fbfbf\">                    </span><span style=\"color: #008000; text-decoration-color: #008000\">DEBUG   </span> <span style=\"color: #800080; text-decoration-color: #800080; font-weight: bold; text-decoration: underline\">get_rates</span><span style=\"font-weight: bold\">()</span>: <span style=\"color: #800080; text-decoration-color: #800080; font-weight: bold\">mt5.copy_rates</span><span style=\"font-weight: bold\">()</span> returned <span style=\"color: #800080; text-decoration-color: #800080; font-style: italic\">None</span>.    <a href=\"file://C:\\Users\\Gabriele\\AppData\\Local\\Temp\\ipykernel_7000\\3098301820.py\"><span style=\"color: #7f7f7f; text-decoration-color: #7f7f7f\">3098301820.py</span></a><span style=\"color: #7f7f7f; text-decoration-color: #7f7f7f\">:</span><a href=\"file://C:\\Users\\Gabriele\\AppData\\Local\\Temp\\ipykernel_7000\\3098301820.py#67\"><span style=\"color: #7f7f7f; text-decoration-color: #7f7f7f\">67</span></a>\n",
       "<span style=\"color: #7fbfbf; text-decoration-color: #7fbfbf\">                    </span>         <span style=\"color: #800080; text-decoration-color: #800080; font-weight: bold\">mt5.last_error</span><span style=\"font-weight: bold\">()</span>=<span style=\"font-weight: bold\">(</span><span style=\"color: #008080; text-decoration-color: #008080; font-weight: bold\">1</span>, <span style=\"color: #008000; text-decoration-color: #008000\">'Success'</span><span style=\"font-weight: bold\">)</span>                 <span style=\"color: #7f7f7f; text-decoration-color: #7f7f7f\">                </span>\n",
       "</pre>\n"
      ],
      "text/plain": [
       "\u001b[2;36m                   \u001b[0m\u001b[2;36m \u001b[0m\u001b[32mDEBUG   \u001b[0m \u001b[1;4;35mget_rates\u001b[0m\u001b[1m(\u001b[0m\u001b[1m)\u001b[0m: \u001b[1;35mmt5.copy_rates\u001b[0m\u001b[1m(\u001b[0m\u001b[1m)\u001b[0m returned \u001b[3;35mNone\u001b[0m.    \u001b]8;id=800345;file://C:\\Users\\Gabriele\\AppData\\Local\\Temp\\ipykernel_7000\\3098301820.py\u001b\\\u001b[2m3098301820.py\u001b[0m\u001b]8;;\u001b\\\u001b[2m:\u001b[0m\u001b]8;id=369846;file://C:\\Users\\Gabriele\\AppData\\Local\\Temp\\ipykernel_7000\\3098301820.py#67\u001b\\\u001b[2m67\u001b[0m\u001b]8;;\u001b\\\n",
       "\u001b[2;36m                    \u001b[0m         \u001b[1;35mmt5.last_error\u001b[0m\u001b[1m(\u001b[0m\u001b[1m)\u001b[0m=\u001b[1m(\u001b[0m\u001b[1;36m1\u001b[0m, \u001b[32m'Success'\u001b[0m\u001b[1m)\u001b[0m                 \u001b[2m                \u001b[0m\n"
      ]
     },
     "metadata": {},
     "output_type": "display_data"
    },
    {
     "data": {
      "text/html": [
       "<pre style=\"white-space:pre;overflow-x:auto;line-height:normal;font-family:Menlo,'DejaVu Sans Mono',consolas,'Courier New',monospace\"><span style=\"color: #7fbfbf; text-decoration-color: #7fbfbf\">                    </span><span style=\"color: #008000; text-decoration-color: #008000\">DEBUG   </span> <span style=\"color: #800080; text-decoration-color: #800080; font-weight: bold; text-decoration: underline\">get_rates</span><span style=\"font-weight: bold\">()</span>: <span style=\"color: #800080; text-decoration-color: #800080; font-weight: bold\">mt5.copy_rates</span><span style=\"font-weight: bold\">()</span> returned <span style=\"color: #800080; text-decoration-color: #800080; font-style: italic\">None</span>.    <a href=\"file://C:\\Users\\Gabriele\\AppData\\Local\\Temp\\ipykernel_7000\\3098301820.py\"><span style=\"color: #7f7f7f; text-decoration-color: #7f7f7f\">3098301820.py</span></a><span style=\"color: #7f7f7f; text-decoration-color: #7f7f7f\">:</span><a href=\"file://C:\\Users\\Gabriele\\AppData\\Local\\Temp\\ipykernel_7000\\3098301820.py#67\"><span style=\"color: #7f7f7f; text-decoration-color: #7f7f7f\">67</span></a>\n",
       "<span style=\"color: #7fbfbf; text-decoration-color: #7fbfbf\">                    </span>         <span style=\"color: #800080; text-decoration-color: #800080; font-weight: bold\">mt5.last_error</span><span style=\"font-weight: bold\">()</span>=<span style=\"font-weight: bold\">(</span><span style=\"color: #008080; text-decoration-color: #008080; font-weight: bold\">1</span>, <span style=\"color: #008000; text-decoration-color: #008000\">'Success'</span><span style=\"font-weight: bold\">)</span>                 <span style=\"color: #7f7f7f; text-decoration-color: #7f7f7f\">                </span>\n",
       "</pre>\n"
      ],
      "text/plain": [
       "\u001b[2;36m                   \u001b[0m\u001b[2;36m \u001b[0m\u001b[32mDEBUG   \u001b[0m \u001b[1;4;35mget_rates\u001b[0m\u001b[1m(\u001b[0m\u001b[1m)\u001b[0m: \u001b[1;35mmt5.copy_rates\u001b[0m\u001b[1m(\u001b[0m\u001b[1m)\u001b[0m returned \u001b[3;35mNone\u001b[0m.    \u001b]8;id=981291;file://C:\\Users\\Gabriele\\AppData\\Local\\Temp\\ipykernel_7000\\3098301820.py\u001b\\\u001b[2m3098301820.py\u001b[0m\u001b]8;;\u001b\\\u001b[2m:\u001b[0m\u001b]8;id=997929;file://C:\\Users\\Gabriele\\AppData\\Local\\Temp\\ipykernel_7000\\3098301820.py#67\u001b\\\u001b[2m67\u001b[0m\u001b]8;;\u001b\\\n",
       "\u001b[2;36m                    \u001b[0m         \u001b[1;35mmt5.last_error\u001b[0m\u001b[1m(\u001b[0m\u001b[1m)\u001b[0m=\u001b[1m(\u001b[0m\u001b[1;36m1\u001b[0m, \u001b[32m'Success'\u001b[0m\u001b[1m)\u001b[0m                 \u001b[2m                \u001b[0m\n"
      ]
     },
     "metadata": {},
     "output_type": "display_data"
    },
    {
     "data": {
      "text/html": [
       "<pre style=\"white-space:pre;overflow-x:auto;line-height:normal;font-family:Menlo,'DejaVu Sans Mono',consolas,'Courier New',monospace\"><span style=\"color: #7fbfbf; text-decoration-color: #7fbfbf\">                    </span><span style=\"color: #008000; text-decoration-color: #008000\">DEBUG   </span> <span style=\"color: #800080; text-decoration-color: #800080; font-weight: bold; text-decoration: underline\">get_rates</span><span style=\"font-weight: bold\">()</span>: <span style=\"color: #800080; text-decoration-color: #800080; font-weight: bold\">mt5.copy_rates</span><span style=\"font-weight: bold\">()</span> returned <span style=\"color: #800080; text-decoration-color: #800080; font-style: italic\">None</span>.    <a href=\"file://C:\\Users\\Gabriele\\AppData\\Local\\Temp\\ipykernel_7000\\3098301820.py\"><span style=\"color: #7f7f7f; text-decoration-color: #7f7f7f\">3098301820.py</span></a><span style=\"color: #7f7f7f; text-decoration-color: #7f7f7f\">:</span><a href=\"file://C:\\Users\\Gabriele\\AppData\\Local\\Temp\\ipykernel_7000\\3098301820.py#67\"><span style=\"color: #7f7f7f; text-decoration-color: #7f7f7f\">67</span></a>\n",
       "<span style=\"color: #7fbfbf; text-decoration-color: #7fbfbf\">                    </span>         <span style=\"color: #800080; text-decoration-color: #800080; font-weight: bold\">mt5.last_error</span><span style=\"font-weight: bold\">()</span>=<span style=\"font-weight: bold\">(</span><span style=\"color: #008080; text-decoration-color: #008080; font-weight: bold\">1</span>, <span style=\"color: #008000; text-decoration-color: #008000\">'Success'</span><span style=\"font-weight: bold\">)</span>                 <span style=\"color: #7f7f7f; text-decoration-color: #7f7f7f\">                </span>\n",
       "</pre>\n"
      ],
      "text/plain": [
       "\u001b[2;36m                   \u001b[0m\u001b[2;36m \u001b[0m\u001b[32mDEBUG   \u001b[0m \u001b[1;4;35mget_rates\u001b[0m\u001b[1m(\u001b[0m\u001b[1m)\u001b[0m: \u001b[1;35mmt5.copy_rates\u001b[0m\u001b[1m(\u001b[0m\u001b[1m)\u001b[0m returned \u001b[3;35mNone\u001b[0m.    \u001b]8;id=751856;file://C:\\Users\\Gabriele\\AppData\\Local\\Temp\\ipykernel_7000\\3098301820.py\u001b\\\u001b[2m3098301820.py\u001b[0m\u001b]8;;\u001b\\\u001b[2m:\u001b[0m\u001b]8;id=477398;file://C:\\Users\\Gabriele\\AppData\\Local\\Temp\\ipykernel_7000\\3098301820.py#67\u001b\\\u001b[2m67\u001b[0m\u001b]8;;\u001b\\\n",
       "\u001b[2;36m                    \u001b[0m         \u001b[1;35mmt5.last_error\u001b[0m\u001b[1m(\u001b[0m\u001b[1m)\u001b[0m=\u001b[1m(\u001b[0m\u001b[1;36m1\u001b[0m, \u001b[32m'Success'\u001b[0m\u001b[1m)\u001b[0m                 \u001b[2m                \u001b[0m\n"
      ]
     },
     "metadata": {},
     "output_type": "display_data"
    },
    {
     "data": {
      "text/html": [
       "<pre style=\"white-space:pre;overflow-x:auto;line-height:normal;font-family:Menlo,'DejaVu Sans Mono',consolas,'Courier New',monospace\"><span style=\"color: #7fbfbf; text-decoration-color: #7fbfbf\">                    </span><span style=\"color: #008000; text-decoration-color: #008000\">DEBUG   </span> <span style=\"color: #800080; text-decoration-color: #800080; font-weight: bold; text-decoration: underline\">get_rates</span><span style=\"font-weight: bold\">()</span>: <span style=\"color: #800080; text-decoration-color: #800080; font-weight: bold\">mt5.copy_rates</span><span style=\"font-weight: bold\">()</span> returned <span style=\"color: #800080; text-decoration-color: #800080; font-style: italic\">None</span>.    <a href=\"file://C:\\Users\\Gabriele\\AppData\\Local\\Temp\\ipykernel_7000\\3098301820.py\"><span style=\"color: #7f7f7f; text-decoration-color: #7f7f7f\">3098301820.py</span></a><span style=\"color: #7f7f7f; text-decoration-color: #7f7f7f\">:</span><a href=\"file://C:\\Users\\Gabriele\\AppData\\Local\\Temp\\ipykernel_7000\\3098301820.py#67\"><span style=\"color: #7f7f7f; text-decoration-color: #7f7f7f\">67</span></a>\n",
       "<span style=\"color: #7fbfbf; text-decoration-color: #7fbfbf\">                    </span>         <span style=\"color: #800080; text-decoration-color: #800080; font-weight: bold\">mt5.last_error</span><span style=\"font-weight: bold\">()</span>=<span style=\"font-weight: bold\">(</span><span style=\"color: #008080; text-decoration-color: #008080; font-weight: bold\">1</span>, <span style=\"color: #008000; text-decoration-color: #008000\">'Success'</span><span style=\"font-weight: bold\">)</span>                 <span style=\"color: #7f7f7f; text-decoration-color: #7f7f7f\">                </span>\n",
       "</pre>\n"
      ],
      "text/plain": [
       "\u001b[2;36m                   \u001b[0m\u001b[2;36m \u001b[0m\u001b[32mDEBUG   \u001b[0m \u001b[1;4;35mget_rates\u001b[0m\u001b[1m(\u001b[0m\u001b[1m)\u001b[0m: \u001b[1;35mmt5.copy_rates\u001b[0m\u001b[1m(\u001b[0m\u001b[1m)\u001b[0m returned \u001b[3;35mNone\u001b[0m.    \u001b]8;id=427207;file://C:\\Users\\Gabriele\\AppData\\Local\\Temp\\ipykernel_7000\\3098301820.py\u001b\\\u001b[2m3098301820.py\u001b[0m\u001b]8;;\u001b\\\u001b[2m:\u001b[0m\u001b]8;id=134411;file://C:\\Users\\Gabriele\\AppData\\Local\\Temp\\ipykernel_7000\\3098301820.py#67\u001b\\\u001b[2m67\u001b[0m\u001b]8;;\u001b\\\n",
       "\u001b[2;36m                    \u001b[0m         \u001b[1;35mmt5.last_error\u001b[0m\u001b[1m(\u001b[0m\u001b[1m)\u001b[0m=\u001b[1m(\u001b[0m\u001b[1;36m1\u001b[0m, \u001b[32m'Success'\u001b[0m\u001b[1m)\u001b[0m                 \u001b[2m                \u001b[0m\n"
      ]
     },
     "metadata": {},
     "output_type": "display_data"
    },
    {
     "data": {
      "text/html": [
       "<pre style=\"white-space:pre;overflow-x:auto;line-height:normal;font-family:Menlo,'DejaVu Sans Mono',consolas,'Courier New',monospace\"><span style=\"color: #7fbfbf; text-decoration-color: #7fbfbf\">                    </span><span style=\"color: #008000; text-decoration-color: #008000\">DEBUG   </span> <span style=\"color: #800080; text-decoration-color: #800080; font-weight: bold; text-decoration: underline\">get_rates</span><span style=\"font-weight: bold\">()</span>: <span style=\"color: #800080; text-decoration-color: #800080; font-weight: bold\">mt5.copy_rates</span><span style=\"font-weight: bold\">()</span> returned <span style=\"color: #800080; text-decoration-color: #800080; font-style: italic\">None</span>.    <a href=\"file://C:\\Users\\Gabriele\\AppData\\Local\\Temp\\ipykernel_7000\\3098301820.py\"><span style=\"color: #7f7f7f; text-decoration-color: #7f7f7f\">3098301820.py</span></a><span style=\"color: #7f7f7f; text-decoration-color: #7f7f7f\">:</span><a href=\"file://C:\\Users\\Gabriele\\AppData\\Local\\Temp\\ipykernel_7000\\3098301820.py#67\"><span style=\"color: #7f7f7f; text-decoration-color: #7f7f7f\">67</span></a>\n",
       "<span style=\"color: #7fbfbf; text-decoration-color: #7fbfbf\">                    </span>         <span style=\"color: #800080; text-decoration-color: #800080; font-weight: bold\">mt5.last_error</span><span style=\"font-weight: bold\">()</span>=<span style=\"font-weight: bold\">(</span><span style=\"color: #008080; text-decoration-color: #008080; font-weight: bold\">1</span>, <span style=\"color: #008000; text-decoration-color: #008000\">'Success'</span><span style=\"font-weight: bold\">)</span>                 <span style=\"color: #7f7f7f; text-decoration-color: #7f7f7f\">                </span>\n",
       "</pre>\n"
      ],
      "text/plain": [
       "\u001b[2;36m                   \u001b[0m\u001b[2;36m \u001b[0m\u001b[32mDEBUG   \u001b[0m \u001b[1;4;35mget_rates\u001b[0m\u001b[1m(\u001b[0m\u001b[1m)\u001b[0m: \u001b[1;35mmt5.copy_rates\u001b[0m\u001b[1m(\u001b[0m\u001b[1m)\u001b[0m returned \u001b[3;35mNone\u001b[0m.    \u001b]8;id=810792;file://C:\\Users\\Gabriele\\AppData\\Local\\Temp\\ipykernel_7000\\3098301820.py\u001b\\\u001b[2m3098301820.py\u001b[0m\u001b]8;;\u001b\\\u001b[2m:\u001b[0m\u001b]8;id=200810;file://C:\\Users\\Gabriele\\AppData\\Local\\Temp\\ipykernel_7000\\3098301820.py#67\u001b\\\u001b[2m67\u001b[0m\u001b]8;;\u001b\\\n",
       "\u001b[2;36m                    \u001b[0m         \u001b[1;35mmt5.last_error\u001b[0m\u001b[1m(\u001b[0m\u001b[1m)\u001b[0m=\u001b[1m(\u001b[0m\u001b[1;36m1\u001b[0m, \u001b[32m'Success'\u001b[0m\u001b[1m)\u001b[0m                 \u001b[2m                \u001b[0m\n"
      ]
     },
     "metadata": {},
     "output_type": "display_data"
    },
    {
     "data": {
      "text/html": [
       "<pre style=\"white-space:pre;overflow-x:auto;line-height:normal;font-family:Menlo,'DejaVu Sans Mono',consolas,'Courier New',monospace\"><span style=\"color: #7fbfbf; text-decoration-color: #7fbfbf\">                    </span><span style=\"color: #008000; text-decoration-color: #008000\">DEBUG   </span> <span style=\"color: #800080; text-decoration-color: #800080; font-weight: bold; text-decoration: underline\">get_rates</span><span style=\"font-weight: bold\">()</span>: <span style=\"color: #800080; text-decoration-color: #800080; font-weight: bold\">mt5.copy_rates</span><span style=\"font-weight: bold\">()</span> returned <span style=\"color: #800080; text-decoration-color: #800080; font-style: italic\">None</span>.    <a href=\"file://C:\\Users\\Gabriele\\AppData\\Local\\Temp\\ipykernel_7000\\3098301820.py\"><span style=\"color: #7f7f7f; text-decoration-color: #7f7f7f\">3098301820.py</span></a><span style=\"color: #7f7f7f; text-decoration-color: #7f7f7f\">:</span><a href=\"file://C:\\Users\\Gabriele\\AppData\\Local\\Temp\\ipykernel_7000\\3098301820.py#67\"><span style=\"color: #7f7f7f; text-decoration-color: #7f7f7f\">67</span></a>\n",
       "<span style=\"color: #7fbfbf; text-decoration-color: #7fbfbf\">                    </span>         <span style=\"color: #800080; text-decoration-color: #800080; font-weight: bold\">mt5.last_error</span><span style=\"font-weight: bold\">()</span>=<span style=\"font-weight: bold\">(</span><span style=\"color: #008080; text-decoration-color: #008080; font-weight: bold\">1</span>, <span style=\"color: #008000; text-decoration-color: #008000\">'Success'</span><span style=\"font-weight: bold\">)</span>                 <span style=\"color: #7f7f7f; text-decoration-color: #7f7f7f\">                </span>\n",
       "</pre>\n"
      ],
      "text/plain": [
       "\u001b[2;36m                   \u001b[0m\u001b[2;36m \u001b[0m\u001b[32mDEBUG   \u001b[0m \u001b[1;4;35mget_rates\u001b[0m\u001b[1m(\u001b[0m\u001b[1m)\u001b[0m: \u001b[1;35mmt5.copy_rates\u001b[0m\u001b[1m(\u001b[0m\u001b[1m)\u001b[0m returned \u001b[3;35mNone\u001b[0m.    \u001b]8;id=103316;file://C:\\Users\\Gabriele\\AppData\\Local\\Temp\\ipykernel_7000\\3098301820.py\u001b\\\u001b[2m3098301820.py\u001b[0m\u001b]8;;\u001b\\\u001b[2m:\u001b[0m\u001b]8;id=144289;file://C:\\Users\\Gabriele\\AppData\\Local\\Temp\\ipykernel_7000\\3098301820.py#67\u001b\\\u001b[2m67\u001b[0m\u001b]8;;\u001b\\\n",
       "\u001b[2;36m                    \u001b[0m         \u001b[1;35mmt5.last_error\u001b[0m\u001b[1m(\u001b[0m\u001b[1m)\u001b[0m=\u001b[1m(\u001b[0m\u001b[1;36m1\u001b[0m, \u001b[32m'Success'\u001b[0m\u001b[1m)\u001b[0m                 \u001b[2m                \u001b[0m\n"
      ]
     },
     "metadata": {},
     "output_type": "display_data"
    },
    {
     "data": {
      "text/html": [
       "<pre style=\"white-space:pre;overflow-x:auto;line-height:normal;font-family:Menlo,'DejaVu Sans Mono',consolas,'Courier New',monospace\"><span style=\"color: #7fbfbf; text-decoration-color: #7fbfbf\">                    </span><span style=\"color: #008000; text-decoration-color: #008000\">DEBUG   </span> <span style=\"color: #800080; text-decoration-color: #800080; font-weight: bold; text-decoration: underline\">get_rates</span><span style=\"font-weight: bold\">()</span>: <span style=\"color: #800080; text-decoration-color: #800080; font-weight: bold\">mt5.copy_rates</span><span style=\"font-weight: bold\">()</span> returned <span style=\"color: #800080; text-decoration-color: #800080; font-style: italic\">None</span>.    <a href=\"file://C:\\Users\\Gabriele\\AppData\\Local\\Temp\\ipykernel_7000\\3098301820.py\"><span style=\"color: #7f7f7f; text-decoration-color: #7f7f7f\">3098301820.py</span></a><span style=\"color: #7f7f7f; text-decoration-color: #7f7f7f\">:</span><a href=\"file://C:\\Users\\Gabriele\\AppData\\Local\\Temp\\ipykernel_7000\\3098301820.py#67\"><span style=\"color: #7f7f7f; text-decoration-color: #7f7f7f\">67</span></a>\n",
       "<span style=\"color: #7fbfbf; text-decoration-color: #7fbfbf\">                    </span>         <span style=\"color: #800080; text-decoration-color: #800080; font-weight: bold\">mt5.last_error</span><span style=\"font-weight: bold\">()</span>=<span style=\"font-weight: bold\">(</span><span style=\"color: #008080; text-decoration-color: #008080; font-weight: bold\">1</span>, <span style=\"color: #008000; text-decoration-color: #008000\">'Success'</span><span style=\"font-weight: bold\">)</span>                 <span style=\"color: #7f7f7f; text-decoration-color: #7f7f7f\">                </span>\n",
       "</pre>\n"
      ],
      "text/plain": [
       "\u001b[2;36m                   \u001b[0m\u001b[2;36m \u001b[0m\u001b[32mDEBUG   \u001b[0m \u001b[1;4;35mget_rates\u001b[0m\u001b[1m(\u001b[0m\u001b[1m)\u001b[0m: \u001b[1;35mmt5.copy_rates\u001b[0m\u001b[1m(\u001b[0m\u001b[1m)\u001b[0m returned \u001b[3;35mNone\u001b[0m.    \u001b]8;id=82830;file://C:\\Users\\Gabriele\\AppData\\Local\\Temp\\ipykernel_7000\\3098301820.py\u001b\\\u001b[2m3098301820.py\u001b[0m\u001b]8;;\u001b\\\u001b[2m:\u001b[0m\u001b]8;id=195118;file://C:\\Users\\Gabriele\\AppData\\Local\\Temp\\ipykernel_7000\\3098301820.py#67\u001b\\\u001b[2m67\u001b[0m\u001b]8;;\u001b\\\n",
       "\u001b[2;36m                    \u001b[0m         \u001b[1;35mmt5.last_error\u001b[0m\u001b[1m(\u001b[0m\u001b[1m)\u001b[0m=\u001b[1m(\u001b[0m\u001b[1;36m1\u001b[0m, \u001b[32m'Success'\u001b[0m\u001b[1m)\u001b[0m                 \u001b[2m                \u001b[0m\n"
      ]
     },
     "metadata": {},
     "output_type": "display_data"
    },
    {
     "data": {
      "text/html": [
       "<pre style=\"white-space:pre;overflow-x:auto;line-height:normal;font-family:Menlo,'DejaVu Sans Mono',consolas,'Courier New',monospace\"><span style=\"color: #7fbfbf; text-decoration-color: #7fbfbf\">                    </span><span style=\"color: #008000; text-decoration-color: #008000\">DEBUG   </span> <span style=\"color: #800080; text-decoration-color: #800080; font-weight: bold; text-decoration: underline\">get_rates</span><span style=\"font-weight: bold\">()</span>: <span style=\"color: #800080; text-decoration-color: #800080; font-weight: bold\">mt5.copy_rates</span><span style=\"font-weight: bold\">()</span> returned <span style=\"color: #800080; text-decoration-color: #800080; font-style: italic\">None</span>.    <a href=\"file://C:\\Users\\Gabriele\\AppData\\Local\\Temp\\ipykernel_7000\\3098301820.py\"><span style=\"color: #7f7f7f; text-decoration-color: #7f7f7f\">3098301820.py</span></a><span style=\"color: #7f7f7f; text-decoration-color: #7f7f7f\">:</span><a href=\"file://C:\\Users\\Gabriele\\AppData\\Local\\Temp\\ipykernel_7000\\3098301820.py#67\"><span style=\"color: #7f7f7f; text-decoration-color: #7f7f7f\">67</span></a>\n",
       "<span style=\"color: #7fbfbf; text-decoration-color: #7fbfbf\">                    </span>         <span style=\"color: #800080; text-decoration-color: #800080; font-weight: bold\">mt5.last_error</span><span style=\"font-weight: bold\">()</span>=<span style=\"font-weight: bold\">(</span><span style=\"color: #008080; text-decoration-color: #008080; font-weight: bold\">1</span>, <span style=\"color: #008000; text-decoration-color: #008000\">'Success'</span><span style=\"font-weight: bold\">)</span>                 <span style=\"color: #7f7f7f; text-decoration-color: #7f7f7f\">                </span>\n",
       "</pre>\n"
      ],
      "text/plain": [
       "\u001b[2;36m                   \u001b[0m\u001b[2;36m \u001b[0m\u001b[32mDEBUG   \u001b[0m \u001b[1;4;35mget_rates\u001b[0m\u001b[1m(\u001b[0m\u001b[1m)\u001b[0m: \u001b[1;35mmt5.copy_rates\u001b[0m\u001b[1m(\u001b[0m\u001b[1m)\u001b[0m returned \u001b[3;35mNone\u001b[0m.    \u001b]8;id=239407;file://C:\\Users\\Gabriele\\AppData\\Local\\Temp\\ipykernel_7000\\3098301820.py\u001b\\\u001b[2m3098301820.py\u001b[0m\u001b]8;;\u001b\\\u001b[2m:\u001b[0m\u001b]8;id=645338;file://C:\\Users\\Gabriele\\AppData\\Local\\Temp\\ipykernel_7000\\3098301820.py#67\u001b\\\u001b[2m67\u001b[0m\u001b]8;;\u001b\\\n",
       "\u001b[2;36m                    \u001b[0m         \u001b[1;35mmt5.last_error\u001b[0m\u001b[1m(\u001b[0m\u001b[1m)\u001b[0m=\u001b[1m(\u001b[0m\u001b[1;36m1\u001b[0m, \u001b[32m'Success'\u001b[0m\u001b[1m)\u001b[0m                 \u001b[2m                \u001b[0m\n"
      ]
     },
     "metadata": {},
     "output_type": "display_data"
    },
    {
     "data": {
      "text/html": [
       "<pre style=\"white-space:pre;overflow-x:auto;line-height:normal;font-family:Menlo,'DejaVu Sans Mono',consolas,'Courier New',monospace\"><span style=\"color: #7fbfbf; text-decoration-color: #7fbfbf\">                    </span><span style=\"color: #008000; text-decoration-color: #008000\">DEBUG   </span> <span style=\"color: #800080; text-decoration-color: #800080; font-weight: bold; text-decoration: underline\">get_rates</span><span style=\"font-weight: bold\">()</span>: Successfully loaded <span style=\"color: #800080; text-decoration-color: #800080; font-weight: bold\">len</span><span style=\"font-weight: bold\">(</span>rates<span style=\"font-weight: bold\">)</span>=<span style=\"color: #008080; text-decoration-color: #008080; font-weight: bold\">6</span>   <a href=\"file://C:\\Users\\Gabriele\\AppData\\Local\\Temp\\ipykernel_7000\\3098301820.py\"><span style=\"color: #7f7f7f; text-decoration-color: #7f7f7f\">3098301820.py</span></a><span style=\"color: #7f7f7f; text-decoration-color: #7f7f7f\">:</span><a href=\"file://C:\\Users\\Gabriele\\AppData\\Local\\Temp\\ipykernel_7000\\3098301820.py#78\"><span style=\"color: #7f7f7f; text-decoration-color: #7f7f7f\">78</span></a>\n",
       "</pre>\n"
      ],
      "text/plain": [
       "\u001b[2;36m                   \u001b[0m\u001b[2;36m \u001b[0m\u001b[32mDEBUG   \u001b[0m \u001b[1;4;35mget_rates\u001b[0m\u001b[1m(\u001b[0m\u001b[1m)\u001b[0m: Successfully loaded \u001b[1;35mlen\u001b[0m\u001b[1m(\u001b[0mrates\u001b[1m)\u001b[0m=\u001b[1;36m6\u001b[0m   \u001b]8;id=853265;file://C:\\Users\\Gabriele\\AppData\\Local\\Temp\\ipykernel_7000\\3098301820.py\u001b\\\u001b[2m3098301820.py\u001b[0m\u001b]8;;\u001b\\\u001b[2m:\u001b[0m\u001b]8;id=716390;file://C:\\Users\\Gabriele\\AppData\\Local\\Temp\\ipykernel_7000\\3098301820.py#78\u001b\\\u001b[2m78\u001b[0m\u001b]8;;\u001b\\\n"
      ]
     },
     "metadata": {},
     "output_type": "display_data"
    },
    {
     "data": {
      "text/html": [
       "<div>\n",
       "<style scoped>\n",
       "    .dataframe tbody tr th:only-of-type {\n",
       "        vertical-align: middle;\n",
       "    }\n",
       "\n",
       "    .dataframe tbody tr th {\n",
       "        vertical-align: top;\n",
       "    }\n",
       "\n",
       "    .dataframe thead th {\n",
       "        text-align: right;\n",
       "    }\n",
       "</style>\n",
       "<table border=\"1\" class=\"dataframe\">\n",
       "  <thead>\n",
       "    <tr style=\"text-align: right;\">\n",
       "      <th></th>\n",
       "      <th>time</th>\n",
       "      <th>open</th>\n",
       "      <th>high</th>\n",
       "      <th>low</th>\n",
       "      <th>close</th>\n",
       "      <th>dst</th>\n",
       "      <th>var</th>\n",
       "    </tr>\n",
       "  </thead>\n",
       "  <tbody>\n",
       "    <tr>\n",
       "      <th>0</th>\n",
       "      <td>2021-10-21 10:59:00+00:00</td>\n",
       "      <td>157.370</td>\n",
       "      <td>157.719</td>\n",
       "      <td>157.308</td>\n",
       "      <td>157.686</td>\n",
       "      <td>True</td>\n",
       "      <td>-0.450</td>\n",
       "    </tr>\n",
       "    <tr>\n",
       "      <th>0</th>\n",
       "      <td>2021-09-23 10:59:00+00:00</td>\n",
       "      <td>150.297</td>\n",
       "      <td>150.959</td>\n",
       "      <td>150.160</td>\n",
       "      <td>150.936</td>\n",
       "      <td>True</td>\n",
       "      <td>-0.125</td>\n",
       "    </tr>\n",
       "    <tr>\n",
       "      <th>0</th>\n",
       "      <td>2021-05-10 05:59:00+00:00</td>\n",
       "      <td>152.826</td>\n",
       "      <td>153.315</td>\n",
       "      <td>152.816</td>\n",
       "      <td>153.260</td>\n",
       "      <td>True</td>\n",
       "      <td>-0.100</td>\n",
       "    </tr>\n",
       "    <tr>\n",
       "      <th>0</th>\n",
       "      <td>2021-01-26 14:59:00+00:00</td>\n",
       "      <td>142.148</td>\n",
       "      <td>142.456</td>\n",
       "      <td>142.131</td>\n",
       "      <td>142.428</td>\n",
       "      <td>False</td>\n",
       "      <td>-0.675</td>\n",
       "    </tr>\n",
       "    <tr>\n",
       "      <th>0</th>\n",
       "      <td>2020-10-06 14:59:00+00:00</td>\n",
       "      <td>136.981</td>\n",
       "      <td>137.054</td>\n",
       "      <td>136.705</td>\n",
       "      <td>136.740</td>\n",
       "      <td>True</td>\n",
       "      <td>-0.300</td>\n",
       "    </tr>\n",
       "    <tr>\n",
       "      <th>0</th>\n",
       "      <td>2022-02-03 11:59:00+00:00</td>\n",
       "      <td>155.788</td>\n",
       "      <td>156.327</td>\n",
       "      <td>155.552</td>\n",
       "      <td>156.184</td>\n",
       "      <td>False</td>\n",
       "      <td>0.675</td>\n",
       "    </tr>\n",
       "  </tbody>\n",
       "</table>\n",
       "</div>"
      ],
      "text/plain": [
       "                       time     open     high      low    close    dst    var\n",
       "0 2021-10-21 10:59:00+00:00  157.370  157.719  157.308  157.686   True -0.450\n",
       "0 2021-09-23 10:59:00+00:00  150.297  150.959  150.160  150.936   True -0.125\n",
       "0 2021-05-10 05:59:00+00:00  152.826  153.315  152.816  153.260   True -0.100\n",
       "0 2021-01-26 14:59:00+00:00  142.148  142.456  142.131  142.428  False -0.675\n",
       "0 2020-10-06 14:59:00+00:00  136.981  137.054  136.705  136.740   True -0.300\n",
       "0 2022-02-03 11:59:00+00:00  155.788  156.327  155.552  156.184  False  0.675"
      ]
     },
     "execution_count": 159,
     "metadata": {},
     "output_type": "execute_result"
    }
   ],
   "source": [
    "with conn:\n",
    "    result = []\n",
    "    for row in frame.itertuples():\n",
    "        # count (backwards) THIS IS CORRECT\n",
    "        # datetime_to THIS IS ALSO CORRECT\n",
    "        # TICKS\n",
    "        r = get_rates('GBPJPY', TIMEFRAME.M1, from_=row.time, \n",
    "                      to_=row.time+timedelta(minutes=int(row.timeframe)),\n",
    "                      include_first=True, include_last=False)\n",
    "        \n",
    "        '''\n",
    "        r = mt5.copy_ticks_range('GBPJPY', datetime_from=row.time.timestamp(), \n",
    "                                 datetime_to=(\n",
    "                                     row.time+timedelta(\n",
    "                                         seconds=mt5.period_seconds(\n",
    "                                             row.timeframe))).timestamp(), flags=mt5.COPY_TICKS_INFO)\n",
    "        \n",
    "        r = pd.DataFrame(r)'''\n",
    "        r = r.df\n",
    "        f = {}\n",
    "        try:\n",
    "            f['time']  = [r['time'].iloc[0]]\n",
    "            f['open']  = [r['open'].iloc[0]]\n",
    "            f['high']  = [r['high'].max()]\n",
    "            f['low']   = [r['low'].min()]\n",
    "            f['close'] = [r['close'].iloc[-1]]\n",
    "            f['dst'] = bool(row.dst)\n",
    "            f['var'] = ( (f['open'][0]-row.open) +\n",
    "                         (f['high'][0]-row.high) +\n",
    "                         (f['low'][0]-row.low)   +\n",
    "                         (f['close'][0]-row.close) ) * 100 / 4\n",
    "            \n",
    "            result.append(pd.DataFrame(f))\n",
    "        except IndexError: # there no tick data yet\n",
    "            pass\n",
    "\n",
    "pd.concat(result)"
   ]
  },
  {
   "cell_type": "markdown",
   "id": "bd8fd7ad",
   "metadata": {},
   "source": [
    "### Backtest()"
   ]
  },
  {
   "cell_type": "code",
   "execution_count": 29,
   "id": "09358fca",
   "metadata": {
    "ExecuteTime": {
     "end_time": "2022-02-04T14:01:47.281308Z",
     "start_time": "2022-02-04T14:01:47.259323Z"
    }
   },
   "outputs": [
    {
     "ename": "IndentationError",
     "evalue": "expected an indented block (2450419085.py, line 13)",
     "output_type": "error",
     "traceback": [
      "\u001b[1;36m  Input \u001b[1;32mIn [29]\u001b[1;36m\u001b[0m\n\u001b[1;33m    \u001b[0m\n\u001b[1;37m    ^\u001b[0m\n\u001b[1;31mIndentationError\u001b[0m\u001b[1;31m:\u001b[0m expected an indented block\n"
     ]
    }
   ],
   "source": [
    "class Backtest():\n",
    "    \n",
    "    def __init__(self,\n",
    "                 signals_df: pd.DataFrame,\n",
    "                 n: slice, # \n",
    "                 override_tp=None,\n",
    "                 override_be=None,\n",
    "                 sl_coefficient=1,\n",
    "                 partials_array=[1],\n",
    "                 precision=mt5.TIMEFRAME.M1,\n",
    "                 end_of_period='day',\n",
    "                 end_of_day='18:30'):\n",
    "        "
   ]
  },
  {
   "cell_type": "markdown",
   "id": "85b6c228",
   "metadata": {},
   "source": [
    "# Research"
   ]
  },
  {
   "cell_type": "markdown",
   "id": "3578da6a",
   "metadata": {},
   "source": [
    "### Setup"
   ]
  },
  {
   "cell_type": "code",
   "execution_count": 20,
   "id": "ce6db159",
   "metadata": {
    "ExecuteTime": {
     "end_time": "2022-02-04T12:11:43.513597Z",
     "start_time": "2022-02-04T12:11:37.783968Z"
    }
   },
   "outputs": [],
   "source": [
    "msg = clean_json('results_daniel.json')\n",
    "signals_all = get_signals_from_msgs(msg)\n",
    "\n",
    "# only keep market orders and limits\n",
    "signals_df = signals_all[((signals_all['flag'] == 'limit') | (signals_all['flag'] == 'market'))]"
   ]
  },
  {
   "cell_type": "markdown",
   "id": "10730923",
   "metadata": {
    "hide_input": true
   },
   "source": [
    "## Backtest"
   ]
  },
  {
   "cell_type": "code",
   "execution_count": 28,
   "id": "0d8ae325",
   "metadata": {
    "ExecuteTime": {
     "end_time": "2022-02-04T13:56:56.095915Z",
     "start_time": "2022-02-04T13:56:55.594954Z"
    },
    "hide_input": false
   },
   "outputs": [
    {
     "data": {
      "application/vnd.jupyter.widget-view+json": {
       "model_id": "0eacdfbe9a8644cdaf9620d7fe989d9b",
       "version_major": 2,
       "version_minor": 0
      },
      "text/plain": [
       "Output()"
      ]
     },
     "metadata": {},
     "output_type": "display_data"
    },
    {
     "data": {
      "text/html": [
       "<pre style=\"white-space:pre;overflow-x:auto;line-height:normal;font-family:Menlo,'DejaVu Sans Mono',consolas,'Courier New',monospace\"></pre>\n"
      ],
      "text/plain": []
     },
     "metadata": {},
     "output_type": "display_data"
    },
    {
     "data": {
      "text/html": [
       "<pre style=\"white-space:pre;overflow-x:auto;line-height:normal;font-family:Menlo,'DejaVu Sans Mono',consolas,'Courier New',monospace\">\n",
       "</pre>\n"
      ],
      "text/plain": [
       "\n"
      ]
     },
     "metadata": {},
     "output_type": "display_data"
    },
    {
     "data": {
      "text/html": [
       "<pre style=\"white-space:pre;overflow-x:auto;line-height:normal;font-family:Menlo,'DejaVu Sans Mono',consolas,'Courier New',monospace\"><span style=\"color: #7fbfbf; text-decoration-color: #7fbfbf\">[02/04/22 14:56:55] </span><span style=\"background-color: #800000; font-weight: bold\">CRITICAL</span> <span style=\"color: #800080; text-decoration-color: #800080; font-weight: bold; text-decoration: underline\">__exit__</span><span style=\"font-weight: bold\">()</span>: UNCAUGHT EXCEPTION: list index out of <a href=\"file://C:\\Users\\Gabriele\\Desktop\\X\\MoneyBoX\\venv\\lib\\site-packages\\pymt5adapter\\context.py\"><span style=\"color: #7f7f7f; text-decoration-color: #7f7f7f\">context.py</span></a><span style=\"color: #7f7f7f; text-decoration-color: #7f7f7f\">:</span><a href=\"file://C:\\Users\\Gabriele\\Desktop\\X\\MoneyBoX\\venv\\lib\\site-packages\\pymt5adapter\\context.py#190\"><span style=\"color: #7f7f7f; text-decoration-color: #7f7f7f\">190</span></a>\n",
       "<span style=\"color: #7fbfbf; text-decoration-color: #7fbfbf\">                    </span>         range <span style=\"font-weight: bold\">{</span><span style=\"color: #008000; text-decoration-color: #008000\">\"type\"</span>: <span style=\"color: #008000; text-decoration-color: #008000\">\"exception\"</span>, <span style=\"color: #008000; text-decoration-color: #008000\">\"last_error\"</span>: <span style=\"font-weight: bold\">[</span><span style=\"color: #008080; text-decoration-color: #008080; font-weight: bold\">1</span>,     <span style=\"color: #7f7f7f; text-decoration-color: #7f7f7f\">              </span>\n",
       "<span style=\"color: #7fbfbf; text-decoration-color: #7fbfbf\">                    </span>         <span style=\"color: #008000; text-decoration-color: #008000\">\"Success\"</span><span style=\"font-weight: bold\">]</span>, <span style=\"color: #008000; text-decoration-color: #008000\">\"exception\"</span>: <span style=\"font-weight: bold\">{</span><span style=\"color: #008000; text-decoration-color: #008000\">\"type\"</span>: <span style=\"color: #008000; text-decoration-color: #008000\">\"IndexError\"</span>,   <span style=\"color: #7f7f7f; text-decoration-color: #7f7f7f\">              </span>\n",
       "<span style=\"color: #7fbfbf; text-decoration-color: #7fbfbf\">                    </span>         <span style=\"color: #008000; text-decoration-color: #008000\">\"message\"</span>: <span style=\"color: #008000; text-decoration-color: #008000\">\"list index out of range\"</span><span style=\"font-weight: bold\">}}</span>            <span style=\"color: #7f7f7f; text-decoration-color: #7f7f7f\">              </span>\n",
       "</pre>\n"
      ],
      "text/plain": [
       "\u001b[2;36m[02/04/22 14:56:55]\u001b[0m\u001b[2;36m \u001b[0m\u001b[1;7;31mCRITICAL\u001b[0m \u001b[1;4;35m__exit__\u001b[0m\u001b[1m(\u001b[0m\u001b[1m)\u001b[0m: UNCAUGHT EXCEPTION: list index out of \u001b]8;id=71165;file://C:\\Users\\Gabriele\\Desktop\\X\\MoneyBoX\\venv\\lib\\site-packages\\pymt5adapter\\context.py\u001b\\\u001b[2mcontext.py\u001b[0m\u001b]8;;\u001b\\\u001b[2m:\u001b[0m\u001b]8;id=643108;file://C:\\Users\\Gabriele\\Desktop\\X\\MoneyBoX\\venv\\lib\\site-packages\\pymt5adapter\\context.py#190\u001b\\\u001b[2m190\u001b[0m\u001b]8;;\u001b\\\n",
       "\u001b[2;36m                    \u001b[0m         range \u001b[1m{\u001b[0m\u001b[32m\"type\"\u001b[0m: \u001b[32m\"exception\"\u001b[0m, \u001b[32m\"last_error\"\u001b[0m: \u001b[1m[\u001b[0m\u001b[1;36m1\u001b[0m,     \u001b[2m              \u001b[0m\n",
       "\u001b[2;36m                    \u001b[0m         \u001b[32m\"Success\"\u001b[0m\u001b[1m]\u001b[0m, \u001b[32m\"exception\"\u001b[0m: \u001b[1m{\u001b[0m\u001b[32m\"type\"\u001b[0m: \u001b[32m\"IndexError\"\u001b[0m,   \u001b[2m              \u001b[0m\n",
       "\u001b[2;36m                    \u001b[0m         \u001b[32m\"message\"\u001b[0m: \u001b[32m\"list index out of range\"\u001b[0m\u001b[1m}\u001b[0m\u001b[1m}\u001b[0m            \u001b[2m              \u001b[0m\n"
      ]
     },
     "metadata": {},
     "output_type": "display_data"
    },
    {
     "ename": "IndexError",
     "evalue": "list index out of range",
     "output_type": "error",
     "traceback": [
      "\u001b[1;31m---------------------------------------------------------------------------\u001b[0m",
      "\u001b[1;31mIndexError\u001b[0m                                Traceback (most recent call last)",
      "Input \u001b[1;32mIn [28]\u001b[0m, in \u001b[0;36m<module>\u001b[1;34m\u001b[0m\n\u001b[0;32m      4\u001b[0m logging\u001b[38;5;241m.\u001b[39mgetLogger(\u001b[38;5;124m'\u001b[39m\u001b[38;5;124mbacktest\u001b[39m\u001b[38;5;124m'\u001b[39m)\u001b[38;5;241m.\u001b[39msetLevel(logging\u001b[38;5;241m.\u001b[39mINFO)\n\u001b[0;32m      6\u001b[0m \u001b[38;5;28;01mwith\u001b[39;00m conn:\n\u001b[1;32m----> 7\u001b[0m     df \u001b[38;5;241m=\u001b[39m \u001b[43mbacktest\u001b[49m\u001b[43m(\u001b[49m\u001b[43msignals_df\u001b[49m\u001b[43m,\u001b[49m\n\u001b[0;32m      8\u001b[0m \u001b[43m                  \u001b[49m\u001b[43mn\u001b[49m\u001b[38;5;241;43m=\u001b[39;49m\u001b[38;5;28;43mslice\u001b[39;49m\u001b[43m(\u001b[49m\u001b[38;5;241;43m0\u001b[39;49m\u001b[43m,\u001b[49m\u001b[38;5;241;43m300\u001b[39;49m\u001b[43m)\u001b[49m\u001b[43m,\u001b[49m\n\u001b[0;32m      9\u001b[0m \u001b[43m                  \u001b[49m\u001b[43moverride_tp\u001b[49m\u001b[38;5;241;43m=\u001b[39;49m\u001b[38;5;28;43;01mNone\u001b[39;49;00m\u001b[43m,\u001b[49m\n\u001b[0;32m     10\u001b[0m \u001b[43m                  \u001b[49m\u001b[43moverride_be\u001b[49m\u001b[38;5;241;43m=\u001b[39;49m\u001b[38;5;28;43;01mNone\u001b[39;49;00m\u001b[43m,\u001b[49m\n\u001b[0;32m     11\u001b[0m \u001b[43m                  \u001b[49m\u001b[43msl_coefficient\u001b[49m\u001b[38;5;241;43m=\u001b[39;49m\u001b[38;5;241;43m1\u001b[39;49m\u001b[43m,\u001b[49m\n\u001b[0;32m     12\u001b[0m \u001b[43m                  \u001b[49m\u001b[43mpartials_array\u001b[49m\u001b[38;5;241;43m=\u001b[39;49m\u001b[43m[\u001b[49m\u001b[38;5;241;43m1\u001b[39;49m\u001b[43m]\u001b[49m\u001b[43m,\u001b[49m\n\u001b[0;32m     13\u001b[0m \u001b[43m                  \u001b[49m\u001b[43mprecision\u001b[49m\u001b[38;5;241;43m=\u001b[39;49m\u001b[43mmt5\u001b[49m\u001b[38;5;241;43m.\u001b[39;49m\u001b[43mTIMEFRAME\u001b[49m\u001b[38;5;241;43m.\u001b[39;49m\u001b[43mM1\u001b[49m\u001b[43m,\u001b[49m\n\u001b[0;32m     14\u001b[0m \u001b[43m                  \u001b[49m\u001b[43mend_of_period\u001b[49m\u001b[38;5;241;43m=\u001b[39;49m\u001b[38;5;124;43m'\u001b[39;49m\u001b[38;5;124;43mday\u001b[39;49m\u001b[38;5;124;43m'\u001b[39;49m\u001b[43m,\u001b[49m\n\u001b[0;32m     15\u001b[0m \u001b[43m                  \u001b[49m\u001b[43mend_of_day\u001b[49m\u001b[38;5;241;43m=\u001b[39;49m\u001b[38;5;124;43m'\u001b[39;49m\u001b[38;5;124;43m18:30\u001b[39;49m\u001b[38;5;124;43m'\u001b[39;49m\u001b[43m)\u001b[49m\n",
      "Input \u001b[1;32mIn [27]\u001b[0m, in \u001b[0;36mbacktest\u001b[1;34m(signals_df, n, override_tp, partials_array, override_be, sl_coefficient, end_of_period, end_of_day, precision)\u001b[0m\n\u001b[0;32m    287\u001b[0m be_hit \u001b[38;5;241m=\u001b[39m be_hit[\u001b[38;5;124m'\u001b[39m\u001b[38;5;124mtime\u001b[39m\u001b[38;5;124m'\u001b[39m] \u001b[38;5;28;01mif\u001b[39;00m be_hit \u001b[38;5;129;01mis\u001b[39;00m \u001b[38;5;129;01mnot\u001b[39;00m \u001b[38;5;28;01mNone\u001b[39;00m \u001b[38;5;28;01melse\u001b[39;00m \u001b[38;5;28;01mNone\u001b[39;00m\n\u001b[0;32m    289\u001b[0m \u001b[38;5;66;03m#trade close @SL (before tp0_hit and be_hit)\u001b[39;00m\n\u001b[0;32m    290\u001b[0m \u001b[38;5;28;01mif\u001b[39;00m ( (sl_hit \u001b[38;5;129;01mis\u001b[39;00m \u001b[38;5;129;01mnot\u001b[39;00m \u001b[38;5;28;01mNone\u001b[39;00m) \u001b[38;5;129;01mand\u001b[39;00m \n\u001b[1;32m--> 291\u001b[0m       \u001b[38;5;28mall\u001b[39m([sl_hit \u001b[38;5;241m<\u001b[39m x \u001b[38;5;28;01mif\u001b[39;00m x \u001b[38;5;129;01mis\u001b[39;00m \u001b[38;5;129;01mnot\u001b[39;00m \u001b[38;5;28;01mNone\u001b[39;00m \u001b[38;5;28;01melse\u001b[39;00m \u001b[38;5;28;01mTrue\u001b[39;00m \u001b[38;5;28;01mfor\u001b[39;00m x \u001b[38;5;129;01min\u001b[39;00m (\u001b[43mtp_hit\u001b[49m\u001b[43m[\u001b[49m\u001b[38;5;241;43m0\u001b[39;49m\u001b[43m]\u001b[49m, be_hit)]) ):\n\u001b[0;32m    293\u001b[0m     true_sl_delta \u001b[38;5;241m=\u001b[39m \u001b[38;5;28mabs\u001b[39m(signals[n][\u001b[38;5;124m'\u001b[39m\u001b[38;5;124mtrue_entry\u001b[39m\u001b[38;5;124m'\u001b[39m] \u001b[38;5;241m-\u001b[39m signals[n][\u001b[38;5;124m'\u001b[39m\u001b[38;5;124mtrue_sl\u001b[39m\u001b[38;5;124m'\u001b[39m])\n\u001b[0;32m    294\u001b[0m     signals[n][\u001b[38;5;124m'\u001b[39m\u001b[38;5;124mresult_R\u001b[39m\u001b[38;5;124m'\u001b[39m] \u001b[38;5;241m=\u001b[39m \u001b[38;5;241m-\u001b[39m true_sl_delta \u001b[38;5;241m/\u001b[39m sl_delta\n",
      "\u001b[1;31mIndexError\u001b[0m: list index out of range"
     ]
    }
   ],
   "source": [
    "logging.getLogger('signals_manipulation').setLevel(logging.INFO)\n",
    "logging.getLogger('date_manipulation').setLevel(logging.INFO)\n",
    "logging.getLogger('find_hit').setLevel(logging.INFO)\n",
    "logging.getLogger('backtest').setLevel(logging.INFO)\n",
    "\n",
    "with conn:\n",
    "    df = backtest(signals_df,\n",
    "                  n=slice(0,300),\n",
    "                  override_tp=None,\n",
    "                  override_be=None,\n",
    "                  sl_coefficient=1,\n",
    "                  partials_array=[1],\n",
    "                  precision=mt5.TIMEFRAME.M1,\n",
    "                  end_of_period='day',\n",
    "                  end_of_day='18:30')"
   ]
  },
  {
   "cell_type": "code",
   "execution_count": null,
   "id": "3457ff85",
   "metadata": {
    "ExecuteTime": {
     "end_time": "2022-02-04T12:11:45.936198Z",
     "start_time": "2022-02-04T12:11:45.936198Z"
    }
   },
   "outputs": [],
   "source": [
    "df"
   ]
  },
  {
   "cell_type": "code",
   "execution_count": null,
   "id": "daf3b089",
   "metadata": {
    "ExecuteTime": {
     "end_time": "2022-02-04T12:11:45.939194Z",
     "start_time": "2022-02-04T12:11:45.939194Z"
    }
   },
   "outputs": [],
   "source": [
    "df['cumR'] = df['result_R'].cumsum()\n",
    "fig = px.scatter(df, x='activated', y=['result_R'])\n",
    "fig.show()"
   ]
  },
  {
   "cell_type": "markdown",
   "id": "8a3375c7",
   "metadata": {},
   "source": [
    "## Analysis\n",
    "**What do we need to consider?**\n",
    "\n",
    "<u>Overview\n",
    "- Trades (trades/signals)\n",
    "     - di cui limiti (limits/trades)\n",
    "         - di cui eseguiti a mercato (mkt. limits/limits)\n",
    "- Winrate (wins/trades)\n",
    "- Vincita media (pips/R)\n",
    "- Perdita media (pips/R)\n",
    "- Longs vinti (won/longs)\n",
    "- Shorts vinti (won/shorts)\n",
    "- Breakeven (be/trades)\n",
    "    - che avrebbero vinto (h. wins/be)\n",
    "    - che avrebbero perso (h. losses/be)\n",
    "- Saldo/mese (pips/R)\n",
    "- Miglior trade (pips/R)\n",
    "- Peggior trade (pips/R)\n",
    "- Durata media trade (hh:mm)\n",
    "- Coefficiente Profitto\n",
    "- Dev. std. vittorie (pips/R)\n",
    "- Z-Score\n",
    "- Expectancy (pips/R)\n",
    "- AHPR\n",
    "- GHPR\n",
    "- Maximum drawdown\n",
    "\n",
    "<u>Per TP (colonne)\n",
    "- Winrate\n",
    "- Risultato medio (pips/R)\n",
    "- Coefficiente (wr*R)\n",
    "    \n",
    "<u>Altri\n",
    "- distribution of R_min in winning trades by tp\n",
    "- distribution of R_max in losing trades\n",
    "- distribution winrate per weekday\n",
    "- streak analysis\n",
    "- trade matrix?"
   ]
  },
  {
   "cell_type": "markdown",
   "id": "6a9ec9b6",
   "metadata": {},
   "source": [
    "### get_results()"
   ]
  },
  {
   "cell_type": "code",
   "execution_count": null,
   "id": "e75296ff",
   "metadata": {
    "ExecuteTime": {
     "end_time": "2022-02-04T12:11:45.942192Z",
     "start_time": "2022-02-04T12:11:45.942192Z"
    }
   },
   "outputs": [],
   "source": [
    "def determine_trade_length(row):\n",
    "    \n",
    "    start = row['activated']\n",
    "    \n",
    "    if row['tp0_close']:\n",
    "        return row['tp0_hit'] - start\n",
    "    if row['sl_close']:\n",
    "        return row['sl_hit'] - start\n",
    "    if row['be_close']:\n",
    "        return row['be_hit'] - start\n",
    "    return start.replace(hour=18, minute=30) - start\n",
    "\n",
    "    \n",
    "def get_results(sig_df: pd.DataFrame):\n",
    "    \n",
    "    # setting up the table\n",
    "    overview = Table(Column(header=\"Descrizione\", justify=\"left\", ratio=3),\n",
    "                     Column(header=\"Valore\", justify=\"right\", no_wrap=True, ratio=2), \n",
    "                     box=box.SIMPLE, expand=True)\n",
    "    \n",
    "    '''the number of trades is calculating taking the n. of trades that activated and subtracting \n",
    "    those that activated after any closing condition was hit'''\n",
    "    \n",
    "    # trades\n",
    "    close_conditions = ['sl_hit', 'tp0_hit', 'be_hit']\n",
    "    entry_hit = pd.notna(sig_df['true_entry'])\n",
    "    df = sig_df[entry_hit & before('activated', than=close_conditions, df=sig_df)]\n",
    "    trades = df.shape[0]\n",
    "    value = f'({trades}/{sig_df.shape[0]}) {trades/sig_df.shape[0]:.1%}'\n",
    "    overview.add_row('1.   Trades', value)\n",
    "    \n",
    "    # fixes keyerror\n",
    "    if 'be_hit' not in df.columns:\n",
    "        df['be_hit'] = pd.NA\n",
    "        \n",
    "    # add key info to dataframe to make the rest of the calulations easier\n",
    "    df['tp0_close'] = before('tp0_hit', than=['sl_hit', 'be_hit'], df=df)\n",
    "    df['sl_close'] = before('sl_hit', than=['tp0_hit', 'be_hit'], df=df)\n",
    "    df['eop_close'] = pd.isna(df['sl_hit']) & pd.isna(df['tp0_hit']) & pd.isna(df['be_hit'])\n",
    "    df['be_close'] = before('be_hit', than=['tp0_hit', 'sl_hit'], df=df)\n",
    "    df['tp0_pips'] = abs(df['tp'].str[0] - df['true_entry']) / (df['trade_tick_size']*10)\n",
    "    df['sl_pips'] = -abs(df['sl'] - df['true_entry']) / (df['trade_tick_size']*10)\n",
    "    df['eop_pips'] = df['eopR']*abs(df['true_entry']-df['sl']) / (df['trade_tick_size']*10)\n",
    "    df['won'] = ( df['tp0_close'] | (df['eop_close'] & df['eopR']>0) )\n",
    "    \n",
    "    # di cui limiti\n",
    "    only_lims = df[df['flag']=='limit']\n",
    "    lims = only_lims.shape[0]\n",
    "    value = f'({lims}/{trades}) {lims/trades:.1%}'\n",
    "    overview.add_row('1.1  Limiti', value)\n",
    "    \n",
    "    # di cui a mercato\n",
    "    only_lims = df[df['flag']=='limit']\n",
    "    lims = only_lims.shape[0]\n",
    "    value = f'({lims}/{trades}) {lims/trades:.1%}'\n",
    "    overview.add_row('1.2  Limiti eseguiti a mercato (TO-DO)', value)\n",
    "    \n",
    "    # winrate (excluding bes)\n",
    "    wins = df['won'].sum()\n",
    "    bes = df['be_close'].sum()\n",
    "    value = f'({wins}/{trades-bes}) [b][u]{(wins)/(trades-bes):.1%}'\n",
    "    overview.add_row('2.   [u b]Winrate', value)\n",
    "    \n",
    "    # longs vinti\n",
    "    longs_won = df[df['won'] & (df['side']=='buy')].shape[0]\n",
    "    longs = df[(df['side']=='buy')].shape[0]\n",
    "    value = f'({longs_won}/{longs}) {longs_won/longs:.1%}'\n",
    "    overview.add_row('3.   Longs vinti', value)\n",
    "    \n",
    "    # shorts vinti\n",
    "    sells_won = df[df['won'] & (df['side']=='sell')].shape[0]\n",
    "    sells = df[(df['side']=='sell')].shape[0]\n",
    "    try: value = f'({sells_won}/{sells}) {sells_won/sells:.1%}'\n",
    "    except ZeroDivisionError: value = f'({sells_won}/{sells}) -%'\n",
    "    overview.add_row('4.   Shorts vinti', value)\n",
    "    \n",
    "    # breakeven\n",
    "    value = f'({bes}/{trades}) {bes/trades:.1%}'\n",
    "    overview.add_row('5.   Breakeven', value)\n",
    "    \n",
    "    # che avrebbero vinto TO-CHECK\n",
    "    bes_won = df[df['be_close'] & before('tp0_hit', than='sl_hit', df=df)].shape[0]\n",
    "    if bes==0: value = f'({bes_won}/{bes}) -%'\n",
    "    else: value = f'({bes_won}/{bes}) {bes_won/bes:.1%}' \n",
    "    overview.add_row('5.1  Breakeven che avrebbero vinto', value)\n",
    "    \n",
    "    # che avrebbero perso TO-CHECK\n",
    "    bes_lost = df[df['be_close'] & before('sl_hit', than='tp0_hit', df=df)].shape[0]\n",
    "    if bes==0: value = f'({bes_won}/{bes}) -%'\n",
    "    else: value = f'({bes_lost}/{bes}) {bes_lost/bes:.1%}'\n",
    "    overview.add_row('5.2  Breakeven che avrebbero perso', value)\n",
    "    \n",
    "    # vincita media\n",
    "    pips_won_tot = ( df.loc[df['tp0_close'], 'tp0_pips'].sum() +\n",
    "                     df.loc[df['eop_close'] & df['eopR']>0, 'eop_pips'].sum() )\n",
    "    \n",
    "    R_won_tot = ( df.loc[df['tp0_close'], 'R_tp0'].sum() +\n",
    "                  df.loc[df['eop_close'] & df['eopR']>0, 'eopR'].sum() )\n",
    "    \n",
    "    value = f'{pips_won_tot/wins:.1f} pips / [b u]{R_won_tot/wins:.2f}R'\n",
    "    overview.add_row('6.   [b u]Vincita media', value)\n",
    "    \n",
    "    # perdita media\n",
    "    losses = trades-wins\n",
    "    pips_lost_tot = ( df.loc[df['sl_close'], 'sl_pips'].sum() +\n",
    "                      df.loc[df['eop_close'] & df['eopR']<0, 'eop_pips'].sum() )\n",
    "    \n",
    "    R_lost_tot = ( -df[df['sl_close']].shape[0] -\n",
    "                    df.loc[df['eop_close'] & df['eopR']<0, 'eopR'].sum() )\n",
    "    \n",
    "    value = f'(-) {-pips_lost_tot/losses:.1f} pips / {-R_lost_tot/losses:.2f}R'\n",
    "    overview.add_row('7.   Perdita media', value)\n",
    "    \n",
    "    # saldo totale\n",
    "    balance_pips = pips_won_tot + pips_lost_tot\n",
    "    balance_R = R_won_tot + R_lost_tot\n",
    "    value = f'{balance_pips:.1f} pips / {balance_R:.2f}R'\n",
    "    overview.add_row('8.   Saldo totale', value)\n",
    "    \n",
    "    # saldo mensilet\n",
    "    timespan = df['time'].iloc[-1] - df['time'].iloc[0]\n",
    "    mo_factor = 3600*24*30/timespan.total_seconds()\n",
    "    value = f'{balance_pips*mo_factor:.1f} pips / [b u]{balance_R*mo_factor:.2f}R'\n",
    "    overview.add_row('8.1  [b u]Saldo mensile', value)\n",
    "    \n",
    "    # miglior trade (tp0)\n",
    "    best_trade_pips = df.loc[df['tp0_close'], 'tp0_pips'].max()\n",
    "    best_trade_R = df.loc[df['tp0_close'], 'R_tp0'].max()\n",
    "    value = f'{best_trade_pips:.1f} pips / {best_trade_R:.2f}R'\n",
    "    overview.add_row('9.   Miglior trade', value)\n",
    "    \n",
    "    # peggior trade\n",
    "    worst_trade_pips = -df.loc[df['sl_close'], 'sl_pips'].min()\n",
    "    worst_trade_R = 1 # might wanna fix this\n",
    "    value = f'(-) {worst_trade_pips:.1f} pips / {worst_trade_R:.2f}R'\n",
    "    overview.add_row('10.  Peggior trade', value)\n",
    "    \n",
    "    # expectancy\n",
    "    exp_pips = ((pips_won_tot/wins)*(wins/(trades-bes)))+((pips_lost_tot/losses)*(1-(wins/(trades-bes))))\n",
    "    exp_R = ((R_won_tot/wins)*(wins/(trades-bes)))+((R_lost_tot/losses)*(1-(wins/(trades-bes))))\n",
    "    value = f'{exp_pips:.1f} pips / [b u]{exp_R:.2f}R'\n",
    "    overview.add_row('11.  [b u]Expectancy', value)\n",
    "    \n",
    "    # durata media trade\n",
    "    df['trade_length'] = df.apply(lambda x: determine_trade_length(x), axis=1)\n",
    "    avg_trade_length = df['trade_length'].mean()\n",
    "    value = f'{str(timedelta(seconds=int(avg_trade_length.total_seconds())))}'\n",
    "    overview.add_row('12.  Durata media trade', value)\n",
    "    \n",
    "    #display(df)\n",
    "    console.print(overview)"
   ]
  },
  {
   "cell_type": "code",
   "execution_count": null,
   "id": "acf9aa56",
   "metadata": {
    "ExecuteTime": {
     "end_time": "2022-02-04T12:11:45.945189Z",
     "start_time": "2022-02-04T12:11:45.945189Z"
    }
   },
   "outputs": [],
   "source": [
    "get_results(df)"
   ]
  },
  {
   "cell_type": "markdown",
   "id": "29b91cf7",
   "metadata": {},
   "source": [
    "### Results"
   ]
  },
  {
   "cell_type": "code",
   "execution_count": null,
   "id": "53e1b4de",
   "metadata": {
    "ExecuteTime": {
     "end_time": "2022-02-04T12:11:45.948188Z",
     "start_time": "2022-02-04T12:11:45.948188Z"
    }
   },
   "outputs": [],
   "source": [
    "get_results(df)"
   ]
  },
  {
   "cell_type": "code",
   "execution_count": null,
   "id": "5a3b66b1",
   "metadata": {
    "ExecuteTime": {
     "end_time": "2022-02-04T12:11:45.951186Z",
     "start_time": "2022-02-04T12:11:45.951186Z"
    }
   },
   "outputs": [],
   "source": [
    "fig = px.bar(df, y='loaded_ticks')\n",
    "fig.show()"
   ]
  },
  {
   "cell_type": "code",
   "execution_count": null,
   "id": "4c06b9ad",
   "metadata": {
    "ExecuteTime": {
     "end_time": "2022-02-04T12:11:45.953184Z",
     "start_time": "2022-02-04T12:11:45.953184Z"
    }
   },
   "outputs": [],
   "source": [
    "data = df[(df['R_min_tp0']>-1) & (df['R_min_tp0']<0)]\n",
    "fig = px.histogram(df['R_min_tp0'], x=\"R_min_tp0\", nbins=50, marginal=\"box\")\n",
    "fig.show()"
   ]
  },
  {
   "cell_type": "code",
   "execution_count": null,
   "id": "98ce3e90",
   "metadata": {
    "ExecuteTime": {
     "end_time": "2022-02-04T12:11:45.957183Z",
     "start_time": "2022-02-04T12:11:45.957183Z"
    }
   },
   "outputs": [],
   "source": [
    "data = df[pd.isnull(df['sl_hit']) & pd.isnull(df['tp0_hit'])]\n",
    "fig = px.histogram(data, x=\"eopR\", nbins=50, marginal=\"box\", histnorm='percent')\n",
    "fig.show()"
   ]
  }
 ],
 "metadata": {
  "kernelspec": {
   "display_name": "Python 3 (ipykernel)",
   "language": "python",
   "name": "python3"
  },
  "language_info": {
   "codemirror_mode": {
    "name": "ipython",
    "version": 3
   },
   "file_extension": ".py",
   "mimetype": "text/x-python",
   "name": "python",
   "nbconvert_exporter": "python",
   "pygments_lexer": "ipython3",
   "version": "3.9.10"
  },
  "toc": {
   "base_numbering": "1.",
   "nav_menu": {},
   "number_sections": true,
   "sideBar": true,
   "skip_h1_title": false,
   "title_cell": "Table of Contents",
   "title_sidebar": "Contents",
   "toc_cell": false,
   "toc_position": {
    "height": "442px",
    "left": "52px",
    "top": "137.125px",
    "width": "300px"
   },
   "toc_section_display": true,
   "toc_window_display": true
  },
  "varInspector": {
   "cols": {
    "lenName": 16,
    "lenType": 16,
    "lenVar": 40
   },
   "kernels_config": {
    "python": {
     "delete_cmd_postfix": "",
     "delete_cmd_prefix": "del ",
     "library": "var_list.py",
     "varRefreshCmd": "print(var_dic_list())"
    },
    "r": {
     "delete_cmd_postfix": ") ",
     "delete_cmd_prefix": "rm(",
     "library": "var_list.r",
     "varRefreshCmd": "cat(var_dic_list()) "
    }
   },
   "oldHeight": 271.844,
   "position": {
    "height": "293.835px",
    "left": "517.994px",
    "right": "20px",
    "top": "125.997px",
    "width": "645.98px"
   },
   "types_to_exclude": [
    "module",
    "function",
    "builtin_function_or_method",
    "instance",
    "_Feature"
   ],
   "varInspector_section_display": "block",
   "window_display": false
  }
 },
 "nbformat": 4,
 "nbformat_minor": 5
}
